{
 "cells": [
  {
   "cell_type": "markdown",
   "id": "b3798734-306b-423b-b147-f9b3bb936df8",
   "metadata": {},
   "source": [
    "# Наумкин Владимир, С01-119.\n",
    "# Домашнее задание 1."
   ]
  },
  {
   "cell_type": "markdown",
   "id": "17303f9a-1be9-4f63-bef8-e79a8df8c631",
   "metadata": {},
   "source": [
    "## Сгенерируем вариант"
   ]
  },
  {
   "cell_type": "code",
   "execution_count": 18,
   "id": "43c782ae-f077-4b32-b538-27f99c78eedf",
   "metadata": {},
   "outputs": [
    {
     "data": {
      "text/plain": [
       "{'mail': 'naumkin.vp@phystech.edu',\n",
       " 'id': 2913198394,\n",
       " 'type': np.str_('classification'),\n",
       " 'dataset': {'name': 'MNIST', 'url': 'http://yann.lecun.com/exdb/mnist/'},\n",
       " 'method': ['k-ближайших соседей',\n",
       "  'Метод потенциальных функций',\n",
       "  'Перцептрон']}"
      ]
     },
     "execution_count": 18,
     "metadata": {},
     "output_type": "execute_result"
    }
   ],
   "source": [
    "from zlib import crc32\n",
    "import numpy as np\n",
    "\n",
    "types = ['regression', 'classification']\n",
    "datasets = {'regression': [{'name': 'Servo Data Set',\n",
    "                            'url': 'https://archive.ics.uci.edu/ml/datasets/Servo'}, \n",
    "                           {'name': 'Forest Fires Data Set',\n",
    "                            'url': 'https://archive.ics.uci.edu/ml/datasets/Forest+Fires'},\n",
    "                           {'name': 'Boston Housing Data Set',\n",
    "                            'url': 'https://scikit-learn.org/stable/modules/generated/sklearn.datasets.load_boston.html#sklearn.datasets.load_boston'}, \n",
    "                           {'name': 'Diabetes Data Set',\n",
    "                            'url': 'https://scikit-learn.org/stable/modules/generated/sklearn.datasets.load_diabetes.html#sklearn.datasets.load_diabetes'}],\n",
    "            'classification': [{'name': 'Spambase Data Set',\n",
    "                                'url': 'https://archive.ics.uci.edu/ml/datasets/Spambase'}, \n",
    "                               {'name': 'Wine Data Set',\n",
    "                                'url': 'https://scikit-learn.org/stable/modules/generated/sklearn.datasets.load_wine.html#sklearn.datasets.load_wine'}, \n",
    "                               {'name': 'Breast Cancer Data Set',\n",
    "                                'url': 'https://scikit-learn.org/stable/modules/generated/sklearn.datasets.load_breast_cancer.html#sklearn.datasets.load_breast_cancer'}, \n",
    "                               {'name': 'MNIST',\n",
    "                                'url': 'http://yann.lecun.com/exdb/mnist/'}]}\n",
    "methods = {'regression': ['Линейная регрессия', \n",
    "                          'Перцептрон', \n",
    "                          'Надарая-Ватсона',\n",
    "                          'SVR'],\n",
    "           'classification': ['Логистическая регрессия', \n",
    "                              'Перцептрон', \n",
    "                              'k-ближайших соседей',\n",
    "                              'Метод потенциальных функций',\n",
    "                              'Метод Парзеновского окна', \n",
    "                              'SVM']}\n",
    "task = dict()\n",
    "task['mail'] = 'naumkin.vp@phystech.edu'\n",
    "task['id'] = crc32(task['mail'].encode('utf-8'))\n",
    "np.random.seed(task['id'])\n",
    "task['type'] = np.random.choice(types)\n",
    "task['dataset'] = np.random.choice(datasets[task['type']])\n",
    "task['method'] = np.random.choice(\n",
    "    methods[task['type']], size=3, replace=False).tolist()\n",
    "\n",
    "\n",
    "task"
   ]
  },
  {
   "cell_type": "markdown",
   "id": "53d651a0-c665-4a9e-af53-c6d7f92470e9",
   "metadata": {},
   "source": [
    "## Возьмём датасет из torchvision и подключим остальные библиотеки"
   ]
  },
  {
   "cell_type": "code",
   "execution_count": 19,
   "id": "7ed088d4-3fb5-487a-9a36-b932f9d6b22d",
   "metadata": {},
   "outputs": [],
   "source": [
    "import torch\n",
    "from torchvision import datasets\n",
    "from torchvision import transforms\n",
    "\n",
    "MNIST_train = datasets.MNIST('./mnist', train=True, download=True, \n",
    "                             transform=transforms.ToTensor())\n",
    "\n",
    "MNIST_test = datasets.MNIST('./mnist', train=False, download=True,\n",
    "                            transform=transforms.ToTensor())\n",
    "\n",
    "\n",
    "import matplotlib.pyplot as plt\n",
    "from matplotlib import gridspec\n",
    "from sklearn.metrics import classification_report\n",
    "import IProgress\n",
    "from tqdm.notebook import tqdm\n",
    "from sklearn.model_selection import KFold\n",
    "from sklearn.model_selection import ParameterGrid\n",
    "from sklearn.model_selection import GridSearchCV\n",
    "from sklearn.neighbors import KNeighborsClassifier\n",
    "from scipy.spatial.distance import cdist"
   ]
  },
  {
   "cell_type": "markdown",
   "id": "b3f16f95-c3a4-4ae8-9312-c866c278556e",
   "metadata": {},
   "source": [
    "## И убедимся, что в датасете находятся рукописные цифры"
   ]
  },
  {
   "cell_type": "code",
   "execution_count": 20,
   "id": "ea94cab5-eed0-4278-a0ef-49eaa27bfc00",
   "metadata": {},
   "outputs": [
    {
     "name": "stderr",
     "output_type": "stream",
     "text": [
      "C:\\Users\\BOBA\\AppData\\Local\\Temp\\ipykernel_7944\\2398159416.py:12: DeprecationWarning: __array__ implementation doesn't accept a copy keyword, so passing copy=False failed. __array__ must implement 'dtype' and 'copy' keyword arguments.\n",
      "  ax[i].imshow(np.array(MNIST_train[i][0][0]), 'gray')\n"
     ]
    },
    {
     "data": {
      "image/png": "[encoded data removed]",
      "text/plain": [
       "<Figure size 1900x400 with 4 Axes>"
      ]
     },
     "metadata": {},
     "output_type": "display_data"
    }
   ],
   "source": [
    "'''\n",
    "import warnings\n",
    "warnings.filterwarnings(\"ignore\")\n",
    "'''\n",
    "\n",
    "fig, gs = plt.figure(figsize=(19,4)), gridspec.GridSpec(1, 4)\n",
    "\n",
    "ax = []\n",
    "\n",
    "for i in range(4):\n",
    "    ax.append(fig.add_subplot(gs[i]))\n",
    "    ax[i].imshow(np.array(MNIST_train[i][0][0]), 'gray')\n",
    "\n",
    "plt.show()"
   ]
  },
  {
   "cell_type": "markdown",
   "id": "980fd67e-b797-4cff-b152-88104832337d",
   "metadata": {},
   "source": [
    "## Посмотрим, в каком виде даны элементы"
   ]
  },
  {
   "cell_type": "code",
   "execution_count": 21,
   "id": "6e88a6cf-587b-41c9-83a9-c2322e23bc99",
   "metadata": {},
   "outputs": [
    {
     "data": {
      "text/plain": [
       "Dataset MNIST\n",
       "    Number of datapoints: 60000\n",
       "    Root location: ./mnist\n",
       "    Split: Train\n",
       "    StandardTransform\n",
       "Transform: ToTensor()"
      ]
     },
     "execution_count": 21,
     "metadata": {},
     "output_type": "execute_result"
    }
   ],
   "source": [
    "MNIST_train"
   ]
  },
  {
   "cell_type": "code",
   "execution_count": 22,
   "id": "c8e7db1d-d830-4b69-b474-aa0ce4fe5108",
   "metadata": {},
   "outputs": [
    {
     "data": {
      "text/plain": [
       "tuple"
      ]
     },
     "execution_count": 22,
     "metadata": {},
     "output_type": "execute_result"
    }
   ],
   "source": [
    "type(MNIST_train[0])"
   ]
  },
  {
   "cell_type": "code",
   "execution_count": 23,
   "id": "39d289ab-bd8d-4a0c-bba7-87358da58219",
   "metadata": {},
   "outputs": [
    {
     "data": {
      "text/plain": [
       "torch.Size([1, 28, 28])"
      ]
     },
     "execution_count": 23,
     "metadata": {},
     "output_type": "execute_result"
    }
   ],
   "source": [
    "MNIST_train[0][0].shape"
   ]
  },
  {
   "cell_type": "code",
   "execution_count": 24,
   "id": "a0ac26fe-4bb7-4a13-911a-3d88e15f980d",
   "metadata": {},
   "outputs": [
    {
     "data": {
      "text/plain": [
       "5"
      ]
     },
     "execution_count": 24,
     "metadata": {},
     "output_type": "execute_result"
    }
   ],
   "source": [
    "MNIST_train[0][1]"
   ]
  },
  {
   "cell_type": "code",
   "execution_count": 25,
   "id": "d90126d8-c3f2-4074-81eb-e64054513d3b",
   "metadata": {},
   "outputs": [
    {
     "data": {
      "text/plain": [
       "tensor(1.)"
      ]
     },
     "execution_count": 25,
     "metadata": {},
     "output_type": "execute_result"
    }
   ],
   "source": [
    "torch.max(MNIST_train[0][0])"
   ]
  },
  {
   "cell_type": "code",
   "execution_count": 26,
   "id": "47b94dd5-b78a-4942-b104-1bf4b14a11e1",
   "metadata": {},
   "outputs": [
    {
     "data": {
      "text/plain": [
       "tensor(0.)"
      ]
     },
     "execution_count": 26,
     "metadata": {},
     "output_type": "execute_result"
    }
   ],
   "source": [
    "torch.min(MNIST_train[0][0])"
   ]
  },
  {
   "cell_type": "code",
   "execution_count": 27,
   "id": "c1121eb7-9e5b-44d6-b9e7-d164e4fb4d06",
   "metadata": {},
   "outputs": [
    {
     "data": {
      "text/plain": [
       "Dataset MNIST\n",
       "    Number of datapoints: 10000\n",
       "    Root location: ./mnist\n",
       "    Split: Test\n",
       "    StandardTransform\n",
       "Transform: ToTensor()"
      ]
     },
     "execution_count": 27,
     "metadata": {},
     "output_type": "execute_result"
    }
   ],
   "source": [
    "MNIST_test"
   ]
  },
  {
   "cell_type": "markdown",
   "id": "8cfd1ecb-d778-4e24-a0b9-a981c3c8c6bc",
   "metadata": {},
   "source": [
    "Выборка для тренировки имеет 60000 элементов, для проверки - 10000.\n",
    "Элемент - это картинка в виде матрицы 28x28 интенсивности пикселей от 0 до 1 (от полностью чёрного нуля до полностью белой единицы - можно убедиться, если вывести MNIST_train[0], для компактности это не попало в финальный отчёт) и цифра, изображённая на картинке."
   ]
  },
  {
   "cell_type": "markdown",
   "id": "aea636b8-8487-41db-8a4b-177bda1bd467",
   "metadata": {
    "jp-MarkdownHeadingCollapsed": true
   },
   "source": [
    "Таким образом, признаки - это 784 вещественных числа от 0 до 1, обозначающие интенсивность пикселей. Целевой признак - цифра от 0 до 9. Поэтому никакого дополнительного преобразования признаков и их нормировки не требуется, кроме трансформации в тензор на этапе загрузки датасета. Единственное, что нужно будет сделать для тренировки моделей - преобразовать матрицу в вектор, но это будет проделано ниже.\n",
    "### ВНИМАНИЕ: название переменной X_train используется как в перцептроне, так и в остальных двух методах. Но этой переменной присваиваются разные значения! Возможно переиспользование некоторых переменных и дальше. Поэтому во избежание ошибок при попытке провести вычисления заново надо запускать клетки jupyter notebook в порядке их следования."
   ]
  },
  {
   "cell_type": "markdown",
   "id": "a06a9025-13b6-4a6a-b5f8-d7a186405d77",
   "metadata": {},
   "source": [
    "## Посмотрим, как выглядит каждая цифра в среднем"
   ]
  },
  {
   "cell_type": "code",
   "execution_count": 28,
   "id": "5d973ecb-c7e9-480f-99f0-18378bb2f7ef",
   "metadata": {},
   "outputs": [
    {
     "data": {
      "image/png": "[encoded data removed]",
      "text/plain": [
       "<Figure size 1500x500 with 10 Axes>"
      ]
     },
     "metadata": {},
     "output_type": "display_data"
    }
   ],
   "source": [
    "average = np.zeros((10, 28, 28), dtype = np.float64)\n",
    "count = np.bincount(MNIST_train.targets, minlength = 10)\n",
    "np.add.at(average, MNIST_train.targets, MNIST_train.data)\n",
    "average /= count[:, None, None]\n",
    "plt.figure(figsize = (15, 5))\n",
    "for i in range(10):\n",
    "    plt.subplot(2, 5, i + 1)\n",
    "    plt.imshow(average[i], cmap='gray')\n",
    "    plt.title(f'Number: {i}')\n",
    "    plt.axis('off')\n",
    "plt.show()"
   ]
  },
  {
   "cell_type": "markdown",
   "id": "17aad34d-42ae-4b91-a49c-22f82cbc0640",
   "metadata": {},
   "source": [
    "Можно сделать вывод о том, что рукописные цифры в датасете хорошо центрированы (правда, это было и так написано на официальном сайте датесета). Также, несмотря на различное написание цифр, их усреднённые картинки хорошо отличимы друг от друга и действительно соответствуют правильным ответам. Например, на самой первой картинке датасета изображена цифра 5 (см. выше), причём написание этой цифры доаольно небрежное. А усреднённое написание пятёрки очень хорошее, сразу понятно, какая цифра изображена."
   ]
  },
  {
   "cell_type": "markdown",
   "id": "907602ca-a669-4e56-8f44-95529cde038b",
   "metadata": {},
   "source": [
    "Кстати, нелишним будет проверить, что доли каждой цифры в датасете примерно одинаковые. Выразим доли в процентах и убедимся, что на каждая из 10 цифр занимает примено 10 процентов выборки:"
   ]
  },
  {
   "cell_type": "code",
   "execution_count": 29,
   "id": "197aab87-7eef-4a77-8d33-d8f5ad8590f6",
   "metadata": {},
   "outputs": [
    {
     "data": {
      "text/plain": [
       "array([ 9.87166667, 11.23666667,  9.93      , 10.21833333,  9.73666667,\n",
       "        9.035     ,  9.86333333, 10.44166667,  9.75166667,  9.915     ])"
      ]
     },
     "execution_count": 29,
     "metadata": {},
     "output_type": "execute_result"
    }
   ],
   "source": [
    "count * 100 / sum (count)"
   ]
  },
  {
   "cell_type": "markdown",
   "id": "e5ae4a9b-263f-44c6-9617-a492dc3aeb34",
   "metadata": {},
   "source": [
    "Итак, в силу особенностей исходных данных, как-то дополнительно их изменять, можно сказать, не требуется. Рисовать таблицу 784x784 графиков со всеми возможными парами осей для 10 видов цифр для данного датасета не имеет смысла. Зато нагядно можно показать, что в среднем каждая цифра пишется более-менее одинаково и отличимо от других цифр. Перейдём к реализации методов."
   ]
  },
  {
   "cell_type": "markdown",
   "id": "555e55fe-6245-4633-8850-ee3ccbc55188",
   "metadata": {},
   "source": [
    "## Перцептрон"
   ]
  },
  {
   "cell_type": "markdown",
   "id": "0bdb9ecd-dd13-4d4a-b545-cd6eb929324a",
   "metadata": {},
   "source": [
    "Начнём с последнего метода из сгенерированного списка. Перцептрон для этого датасета был разобран в 3 семинаре."
   ]
  },
  {
   "cell_type": "code",
   "execution_count": 30,
   "id": "d1663e4d-6ef4-4c81-a8ba-f5ee5b124f49",
   "metadata": {},
   "outputs": [],
   "source": [
    "class Perceptron(torch.nn.Module):\n",
    "    @property\n",
    "    def device(self):\n",
    "        for p in self.parameters():\n",
    "            return p.device\n",
    "\n",
    "    def __init__(self, input_dim=784, num_layers=0, \n",
    "                 hidden_dim=64, output_dim=10, p=0.0):\n",
    "        super(Perceptron, self).__init__()\n",
    "        \n",
    "        self.layers = torch.nn.Sequential()\n",
    "        \n",
    "        prev_size = input_dim\n",
    "        for i in range(num_layers):\n",
    "            self.layers.add_module('layer{}'.format(i), \n",
    "                                  torch.nn.Linear(prev_size, hidden_dim))\n",
    "            self.layers.add_module('relu{}'.format(i), torch.nn.ReLU())\n",
    "            self.layers.add_module('dropout{}'.format(i), torch.nn.Dropout(p=p))\n",
    "            prev_size = hidden_dim\n",
    "        \n",
    "        self.layers.add_module('classifier', \n",
    "                               torch.nn.Linear(prev_size, output_dim))        \n",
    "        \n",
    "    def forward(self, input):\n",
    "        return self.layers(input)"
   ]
  },
  {
   "cell_type": "code",
   "execution_count": 31,
   "id": "9b39a370-7015-4fdc-8f8a-3a51696db36c",
   "metadata": {},
   "outputs": [
    {
     "data": {
      "text/plain": [
       "device(type='cpu')"
      ]
     },
     "execution_count": 31,
     "metadata": {},
     "output_type": "execute_result"
    }
   ],
   "source": [
    "device = torch.device(\"cuda\" if torch.cuda.is_available() else \"cpu\")\n",
    "device"
   ]
  },
  {
   "cell_type": "code",
   "execution_count": 32,
   "id": "698cb068-b081-4991-bb86-8bbcf6196be6",
   "metadata": {},
   "outputs": [
    {
     "data": {
      "text/plain": [
       "Perceptron(\n",
       "  (layers): Sequential(\n",
       "    (classifier): Linear(in_features=784, out_features=10, bias=True)\n",
       "  )\n",
       ")"
      ]
     },
     "execution_count": 32,
     "metadata": {},
     "output_type": "execute_result"
    }
   ],
   "source": [
    "model = Perceptron()\n",
    "model.to(device)"
   ]
  },
  {
   "cell_type": "code",
   "execution_count": 33,
   "id": "345c3c56-e6d9-48e7-a2a6-7723b88ca9d1",
   "metadata": {},
   "outputs": [
    {
     "data": {
      "text/plain": [
       "Perceptron(\n",
       "  (layers): Sequential(\n",
       "    (layer0): Linear(in_features=784, out_features=64, bias=True)\n",
       "    (relu0): ReLU()\n",
       "    (dropout0): Dropout(p=0.0, inplace=False)\n",
       "    (classifier): Linear(in_features=64, out_features=10, bias=True)\n",
       "  )\n",
       ")"
      ]
     },
     "execution_count": 33,
     "metadata": {},
     "output_type": "execute_result"
    }
   ],
   "source": [
    "model = Perceptron(num_layers=1)\n",
    "model.to(device)"
   ]
  },
  {
   "cell_type": "code",
   "execution_count": 34,
   "id": "6ef697c0-4811-4b48-bcf5-7fabd3a7118a",
   "metadata": {},
   "outputs": [
    {
     "data": {
      "text/plain": [
       "Perceptron(\n",
       "  (layers): Sequential(\n",
       "    (layer0): Linear(in_features=784, out_features=64, bias=True)\n",
       "    (relu0): ReLU()\n",
       "    (dropout0): Dropout(p=0.0, inplace=False)\n",
       "    (layer1): Linear(in_features=64, out_features=64, bias=True)\n",
       "    (relu1): ReLU()\n",
       "    (dropout1): Dropout(p=0.0, inplace=False)\n",
       "    (classifier): Linear(in_features=64, out_features=10, bias=True)\n",
       "  )\n",
       ")"
      ]
     },
     "execution_count": 34,
     "metadata": {},
     "output_type": "execute_result"
    }
   ],
   "source": [
    "model = Perceptron(num_layers=2)\n",
    "model.to(device)"
   ]
  },
  {
   "cell_type": "code",
   "execution_count": 35,
   "id": "06259ccd-a462-4d83-847a-1bff6c998aae",
   "metadata": {},
   "outputs": [],
   "source": [
    "def testing(model, dataset):\n",
    "    generator = torch.utils.data.DataLoader(dataset, batch_size=64)\n",
    "\n",
    "    pred = []\n",
    "    real = []\n",
    "    for x, y in generator:\n",
    "        x = x.view([-1, 784]).to(device)\n",
    "        y = y.to(device)\n",
    "\n",
    "        pred.extend(torch.argmax(model(x), dim=-1).cpu().numpy().tolist())\n",
    "        real.extend(y.cpu().numpy().tolist())\n",
    "\n",
    "    return np.mean(np.array(real) == np.array(pred)), \\\n",
    "           classification_report(real, pred)"
   ]
  },
  {
   "cell_type": "code",
   "execution_count": 36,
   "id": "e8cd6d06-2c8e-4ba5-b495-82c584fc2528",
   "metadata": {},
   "outputs": [],
   "source": [
    "def trainer(model, dataset, loss_function, optimizer, epochs):\n",
    "    for epoch in tqdm(range(epochs), leave=False):\n",
    "        generator = torch.utils.data.DataLoader(dataset, batch_size=64, \n",
    "                                              shuffle=True)\n",
    "        for x, y in tqdm(generator, leave=False):\n",
    "            optimizer.zero_grad()\n",
    "            x = x.view([-1, 784]).to(device)\n",
    "            y = y.to(device)\n",
    "\n",
    "            output = model(x)\n",
    "            loss = loss_function(output, y)\n",
    "            loss.backward()\n",
    "            optimizer.step()"
   ]
  },
  {
   "cell_type": "code",
   "execution_count": 37,
   "id": "2defa477-83f3-4785-a757-2af251af5d0e",
   "metadata": {},
   "outputs": [],
   "source": [
    "def draw_table(data, title=['ACCURACY'], width=[60, 11]):    \n",
    "    row_format = '|' + '|'.join([(\"{:>\"+str(w)+\"}\") for w in width]) + '|'\n",
    "    row_format_bet = '+' + '+'.join([(\"{:>\"+str(w)+\"}\") for w in width]) + '+'\n",
    "    \n",
    "    print(row_format_bet.format(\n",
    "        \"-\"*width[0], *[\"-\"*width[i+1] for i, _ in enumerate(title)]))\n",
    "    print(row_format.format(\"\", *title))\n",
    "    print(row_format_bet.format(\n",
    "        \"-\"*width[0], *[\"-\"*width[i+1] for i, _ in enumerate(title)]))\n",
    "    for key in data:\n",
    "        if len(key) > width[0]:\n",
    "            row_name = '...' + key[len(key)-width[0]+3:]\n",
    "        else:\n",
    "            row_name = key\n",
    "        print(row_format.format(row_name, *[round(x, 2) for x in data[key]]))\n",
    "        print(row_format_bet.format(\n",
    "            \"-\"*width[0], *[\"-\"*width[i+1] for i, _ in enumerate(title)]))"
   ]
  },
  {
   "cell_type": "markdown",
   "id": "7ed862df-3dc7-4487-9b34-09320b71699a",
   "metadata": {},
   "source": [
    "Для теста создадим перцептрон без скрытых слоёв:"
   ]
  },
  {
   "cell_type": "code",
   "execution_count": 39,
   "id": "edf75019-ec3e-401e-a0a2-3c39112cc629",
   "metadata": {},
   "outputs": [
    {
     "data": {
      "text/plain": [
       "Perceptron(\n",
       "  (layers): Sequential(\n",
       "    (classifier): Linear(in_features=784, out_features=10, bias=True)\n",
       "  )\n",
       ")"
      ]
     },
     "execution_count": 39,
     "metadata": {},
     "output_type": "execute_result"
    }
   ],
   "source": [
    "model = Perceptron(num_layers=0)\n",
    "model.to(device)"
   ]
  },
  {
   "cell_type": "code",
   "execution_count": 40,
   "id": "68e50625-4a01-4a50-b34b-78732f1aaf3d",
   "metadata": {},
   "outputs": [
    {
     "name": "stdout",
     "output_type": "stream",
     "text": [
      "              precision    recall  f1-score   support\n",
      "\n",
      "           0       0.02      0.00      0.00       980\n",
      "           1       0.00      0.00      0.00      1135\n",
      "           2       0.24      0.06      0.09      1032\n",
      "           3       0.19      0.02      0.04      1010\n",
      "           4       0.00      0.00      0.00       982\n",
      "           5       0.00      0.00      0.00       892\n",
      "           6       0.33      0.01      0.01       958\n",
      "           7       0.10      0.82      0.17      1028\n",
      "           8       0.05      0.04      0.05       974\n",
      "           9       0.00      0.00      0.00      1009\n",
      "\n",
      "    accuracy                           0.10     10000\n",
      "   macro avg       0.09      0.09      0.04     10000\n",
      "weighted avg       0.09      0.10      0.04     10000\n",
      "\n"
     ]
    }
   ],
   "source": [
    "_ = model.eval()\n",
    "acc, report = testing(model, MNIST_test)\n",
    "print(report)"
   ]
  },
  {
   "cell_type": "markdown",
   "id": "bbd4da44-c0c2-4733-870b-197ef6c5367c",
   "metadata": {},
   "source": [
    "Очевидно, модель не обучена. Обучим перцептрон:"
   ]
  },
  {
   "cell_type": "code",
   "execution_count": 41,
   "id": "db2a560f-52e6-4390-85b6-6446ca969454",
   "metadata": {},
   "outputs": [
    {
     "data": {
      "application/vnd.jupyter.widget-view+json": {
       "model_id": "1a990805bf0c4b429ffb49985e996773",
       "version_major": 2,
       "version_minor": 0
      },
      "text/plain": [
       "  0%|          | 0/4 [00:00<?, ?it/s]"
      ]
     },
     "metadata": {},
     "output_type": "display_data"
    },
    {
     "data": {
      "application/vnd.jupyter.widget-view+json": {
       "model_id": "367929f81d7741f8bb4241d7e7f30257",
       "version_major": 2,
       "version_minor": 0
      },
      "text/plain": [
       "  0%|          | 0/938 [00:00<?, ?it/s]"
      ]
     },
     "metadata": {},
     "output_type": "display_data"
    },
    {
     "data": {
      "application/vnd.jupyter.widget-view+json": {
       "model_id": "0bb15d58e5824d33b07c3712977fc37b",
       "version_major": 2,
       "version_minor": 0
      },
      "text/plain": [
       "  0%|          | 0/938 [00:00<?, ?it/s]"
      ]
     },
     "metadata": {},
     "output_type": "display_data"
    },
    {
     "data": {
      "application/vnd.jupyter.widget-view+json": {
       "model_id": "b986f1dae6df4c89a723dc85410f9c13",
       "version_major": 2,
       "version_minor": 0
      },
      "text/plain": [
       "  0%|          | 0/938 [00:00<?, ?it/s]"
      ]
     },
     "metadata": {},
     "output_type": "display_data"
    },
    {
     "data": {
      "application/vnd.jupyter.widget-view+json": {
       "model_id": "734fc51a63a64eeabd4f2119b1c83d7a",
       "version_major": 2,
       "version_minor": 0
      },
      "text/plain": [
       "  0%|          | 0/938 [00:00<?, ?it/s]"
      ]
     },
     "metadata": {},
     "output_type": "display_data"
    }
   ],
   "source": [
    "_ = model.train()\n",
    "trainer(model=model, \n",
    "        dataset=MNIST_train, \n",
    "        loss_function=torch.nn.CrossEntropyLoss(), \n",
    "        optimizer=torch.optim.Adam(model.parameters(), lr=0.001), \n",
    "        epochs=4)"
   ]
  },
  {
   "cell_type": "code",
   "execution_count": 43,
   "id": "3c3161c5-f618-4d82-98b6-7d258703909d",
   "metadata": {},
   "outputs": [
    {
     "name": "stdout",
     "output_type": "stream",
     "text": [
      "              precision    recall  f1-score   support\n",
      "\n",
      "           0       0.95      0.98      0.96       980\n",
      "           1       0.97      0.98      0.97      1135\n",
      "           2       0.92      0.89      0.91      1032\n",
      "           3       0.90      0.91      0.91      1010\n",
      "           4       0.92      0.94      0.93       982\n",
      "           5       0.91      0.86      0.88       892\n",
      "           6       0.95      0.94      0.95       958\n",
      "           7       0.94      0.91      0.92      1028\n",
      "           8       0.86      0.90      0.88       974\n",
      "           9       0.90      0.91      0.90      1009\n",
      "\n",
      "    accuracy                           0.92     10000\n",
      "   macro avg       0.92      0.92      0.92     10000\n",
      "weighted avg       0.92      0.92      0.92     10000\n",
      "\n"
     ]
    }
   ],
   "source": [
    "_ = model.eval()\n",
    "acc, report = testing(model, MNIST_test)\n",
    "print(report)"
   ]
  },
  {
   "cell_type": "markdown",
   "id": "86dc304a-85ec-4f30-91a0-6f77fb8250b6",
   "metadata": {},
   "source": [
    "Это был перцептрон без скрытых слоёв (линейная модель - частный случай полносвязного персептрона), и он уже даёт точность около 90 процентов. Подберём гиперпараметры (cross validation): количество скрытых слоёв, их размерность, а также параметр p, отвечающий за dropout. Скорость обучения трогать не будем."
   ]
  },
  {
   "cell_type": "code",
   "execution_count": 44,
   "id": "246185ca-95e8-4885-a40d-90f4e54708f6",
   "metadata": {},
   "outputs": [],
   "source": [
    "cross_val = KFold(3)\n",
    "number_of_batch = cross_val.get_n_splits(MNIST_train)\n",
    "\n",
    "grid = ParameterGrid({'num_layers': [0, 1, 2], \n",
    "                      'hidden_dim': [8, 64],\n",
    "                      'p': [0.1, 0.3, 0.7],\n",
    "                      'lr': [0.001]})\n",
    "\n",
    "X_train = MNIST_train.transform(MNIST_train.data.numpy()).transpose(0,1)\n",
    "Y_train = MNIST_train.targets.data"
   ]
  },
  {
   "cell_type": "code",
   "execution_count": 45,
   "id": "e33eff22-9289-41f7-a04e-cddd5bc32c3f",
   "metadata": {},
   "outputs": [
    {
     "data": {
      "application/vnd.jupyter.widget-view+json": {
       "model_id": "790a3492013e40e38523e0a2a98c8090",
       "version_major": 2,
       "version_minor": 0
      },
      "text/plain": [
       "  0%|          | 0/18 [00:00<?, ?it/s]"
      ]
     },
     "metadata": {},
     "output_type": "display_data"
    },
    {
     "data": {
      "application/vnd.jupyter.widget-view+json": {
       "model_id": "9dc962b2af7a41839daeef4a23b9ec76",
       "version_major": 2,
       "version_minor": 0
      },
      "text/plain": [
       "  0%|          | 0/3 [00:00<?, ?it/s]"
      ]
     },
     "metadata": {},
     "output_type": "display_data"
    },
    {
     "data": {
      "application/vnd.jupyter.widget-view+json": {
       "model_id": "f3a8169e248e45aa932299720415f997",
       "version_major": 2,
       "version_minor": 0
      },
      "text/plain": [
       "  0%|          | 0/4 [00:00<?, ?it/s]"
      ]
     },
     "metadata": {},
     "output_type": "display_data"
    },
    {
     "data": {
      "application/vnd.jupyter.widget-view+json": {
       "model_id": "5c0cf7fdd320429f881ebfb239e5a08d",
       "version_major": 2,
       "version_minor": 0
      },
      "text/plain": [
       "  0%|          | 0/625 [00:00<?, ?it/s]"
      ]
     },
     "metadata": {},
     "output_type": "display_data"
    },
    {
     "data": {
      "application/vnd.jupyter.widget-view+json": {
       "model_id": "785e00b22fe449f59f228650e2a9b6ac",
       "version_major": 2,
       "version_minor": 0
      },
      "text/plain": [
       "  0%|          | 0/625 [00:00<?, ?it/s]"
      ]
     },
     "metadata": {},
     "output_type": "display_data"
    },
    {
     "data": {
      "application/vnd.jupyter.widget-view+json": {
       "model_id": "d2a1119243e7409ab642486355ca7dd5",
       "version_major": 2,
       "version_minor": 0
      },
      "text/plain": [
       "  0%|          | 0/625 [00:00<?, ?it/s]"
      ]
     },
     "metadata": {},
     "output_type": "display_data"
    },
    {
     "data": {
      "application/vnd.jupyter.widget-view+json": {
       "model_id": "37e1d11edb09457dadf5a412c65a2bd1",
       "version_major": 2,
       "version_minor": 0
      },
      "text/plain": [
       "  0%|          | 0/625 [00:00<?, ?it/s]"
      ]
     },
     "metadata": {},
     "output_type": "display_data"
    },
    {
     "data": {
      "application/vnd.jupyter.widget-view+json": {
       "model_id": "7df5c1f861a044b6a3bc26109783c174",
       "version_major": 2,
       "version_minor": 0
      },
      "text/plain": [
       "  0%|          | 0/4 [00:00<?, ?it/s]"
      ]
     },
     "metadata": {},
     "output_type": "display_data"
    },
    {
     "data": {
      "application/vnd.jupyter.widget-view+json": {
       "model_id": "9c409ed4aa7b439caa19cd10e90c4c87",
       "version_major": 2,
       "version_minor": 0
      },
      "text/plain": [
       "  0%|          | 0/625 [00:00<?, ?it/s]"
      ]
     },
     "metadata": {},
     "output_type": "display_data"
    },
    {
     "data": {
      "application/vnd.jupyter.widget-view+json": {
       "model_id": "a0e426e066b345e6a6b5db7adc16f346",
       "version_major": 2,
       "version_minor": 0
      },
      "text/plain": [
       "  0%|          | 0/625 [00:00<?, ?it/s]"
      ]
     },
     "metadata": {},
     "output_type": "display_data"
    },
    {
     "data": {
      "application/vnd.jupyter.widget-view+json": {
       "model_id": "94eb203ca40b48dd9f980d19bc17d838",
       "version_major": 2,
       "version_minor": 0
      },
      "text/plain": [
       "  0%|          | 0/625 [00:00<?, ?it/s]"
      ]
     },
     "metadata": {},
     "output_type": "display_data"
    },
    {
     "data": {
      "application/vnd.jupyter.widget-view+json": {
       "model_id": "4e3b6966157c40b38167f02e55b8c21c",
       "version_major": 2,
       "version_minor": 0
      },
      "text/plain": [
       "  0%|          | 0/625 [00:00<?, ?it/s]"
      ]
     },
     "metadata": {},
     "output_type": "display_data"
    },
    {
     "data": {
      "application/vnd.jupyter.widget-view+json": {
       "model_id": "988ead386bfb402cacfdc3961ddd5557",
       "version_major": 2,
       "version_minor": 0
      },
      "text/plain": [
       "  0%|          | 0/4 [00:00<?, ?it/s]"
      ]
     },
     "metadata": {},
     "output_type": "display_data"
    },
    {
     "data": {
      "application/vnd.jupyter.widget-view+json": {
       "model_id": "7b1c3c0bfdc144668750cf2137909b92",
       "version_major": 2,
       "version_minor": 0
      },
      "text/plain": [
       "  0%|          | 0/625 [00:00<?, ?it/s]"
      ]
     },
     "metadata": {},
     "output_type": "display_data"
    },
    {
     "data": {
      "application/vnd.jupyter.widget-view+json": {
       "model_id": "b7a36a1c59204a878c8524b452616013",
       "version_major": 2,
       "version_minor": 0
      },
      "text/plain": [
       "  0%|          | 0/625 [00:00<?, ?it/s]"
      ]
     },
     "metadata": {},
     "output_type": "display_data"
    },
    {
     "data": {
      "application/vnd.jupyter.widget-view+json": {
       "model_id": "95ca928902f14ef9b65b8fe2839464e9",
       "version_major": 2,
       "version_minor": 0
      },
      "text/plain": [
       "  0%|          | 0/625 [00:00<?, ?it/s]"
      ]
     },
     "metadata": {},
     "output_type": "display_data"
    },
    {
     "data": {
      "application/vnd.jupyter.widget-view+json": {
       "model_id": "986d9a9babb948b7a118ef8666f2d308",
       "version_major": 2,
       "version_minor": 0
      },
      "text/plain": [
       "  0%|          | 0/625 [00:00<?, ?it/s]"
      ]
     },
     "metadata": {},
     "output_type": "display_data"
    },
    {
     "data": {
      "application/vnd.jupyter.widget-view+json": {
       "model_id": "35ccc86c3d9048ba84873a1980e91bc1",
       "version_major": 2,
       "version_minor": 0
      },
      "text/plain": [
       "  0%|          | 0/3 [00:00<?, ?it/s]"
      ]
     },
     "metadata": {},
     "output_type": "display_data"
    },
    {
     "data": {
      "application/vnd.jupyter.widget-view+json": {
       "model_id": "95a8effffb1142d9af7f11dd1016b43d",
       "version_major": 2,
       "version_minor": 0
      },
      "text/plain": [
       "  0%|          | 0/4 [00:00<?, ?it/s]"
      ]
     },
     "metadata": {},
     "output_type": "display_data"
    },
    {
     "data": {
      "application/vnd.jupyter.widget-view+json": {
       "model_id": "ccdbd56789b142fbbb499f123d682157",
       "version_major": 2,
       "version_minor": 0
      },
      "text/plain": [
       "  0%|          | 0/625 [00:00<?, ?it/s]"
      ]
     },
     "metadata": {},
     "output_type": "display_data"
    },
    {
     "data": {
      "application/vnd.jupyter.widget-view+json": {
       "model_id": "4b201d3bd9ff4903aef96ff431a71a2a",
       "version_major": 2,
       "version_minor": 0
      },
      "text/plain": [
       "  0%|          | 0/625 [00:00<?, ?it/s]"
      ]
     },
     "metadata": {},
     "output_type": "display_data"
    },
    {
     "data": {
      "application/vnd.jupyter.widget-view+json": {
       "model_id": "4c02208a255847eb86e64bd816555ac0",
       "version_major": 2,
       "version_minor": 0
      },
      "text/plain": [
       "  0%|          | 0/625 [00:00<?, ?it/s]"
      ]
     },
     "metadata": {},
     "output_type": "display_data"
    },
    {
     "data": {
      "application/vnd.jupyter.widget-view+json": {
       "model_id": "df7b08caaf214b7bb69861b1eadeb382",
       "version_major": 2,
       "version_minor": 0
      },
      "text/plain": [
       "  0%|          | 0/625 [00:00<?, ?it/s]"
      ]
     },
     "metadata": {},
     "output_type": "display_data"
    },
    {
     "data": {
      "application/vnd.jupyter.widget-view+json": {
       "model_id": "93ab7650694841b693cf107eb4dd60bc",
       "version_major": 2,
       "version_minor": 0
      },
      "text/plain": [
       "  0%|          | 0/4 [00:00<?, ?it/s]"
      ]
     },
     "metadata": {},
     "output_type": "display_data"
    },
    {
     "data": {
      "application/vnd.jupyter.widget-view+json": {
       "model_id": "519a7aadd32b4c3bb223942282156d51",
       "version_major": 2,
       "version_minor": 0
      },
      "text/plain": [
       "  0%|          | 0/625 [00:00<?, ?it/s]"
      ]
     },
     "metadata": {},
     "output_type": "display_data"
    },
    {
     "data": {
      "application/vnd.jupyter.widget-view+json": {
       "model_id": "522d3d9f34a54941863ad1a2331c4cfd",
       "version_major": 2,
       "version_minor": 0
      },
      "text/plain": [
       "  0%|          | 0/625 [00:00<?, ?it/s]"
      ]
     },
     "metadata": {},
     "output_type": "display_data"
    },
    {
     "data": {
      "application/vnd.jupyter.widget-view+json": {
       "model_id": "6cb372fb576544bfaae71a59f627b102",
       "version_major": 2,
       "version_minor": 0
      },
      "text/plain": [
       "  0%|          | 0/625 [00:00<?, ?it/s]"
      ]
     },
     "metadata": {},
     "output_type": "display_data"
    },
    {
     "data": {
      "application/vnd.jupyter.widget-view+json": {
       "model_id": "ef545b5257b34706bb388b396cf75dec",
       "version_major": 2,
       "version_minor": 0
      },
      "text/plain": [
       "  0%|          | 0/625 [00:00<?, ?it/s]"
      ]
     },
     "metadata": {},
     "output_type": "display_data"
    },
    {
     "data": {
      "application/vnd.jupyter.widget-view+json": {
       "model_id": "3a0a4d82ddfd4017a90e584f57261ce3",
       "version_major": 2,
       "version_minor": 0
      },
      "text/plain": [
       "  0%|          | 0/4 [00:00<?, ?it/s]"
      ]
     },
     "metadata": {},
     "output_type": "display_data"
    },
    {
     "data": {
      "application/vnd.jupyter.widget-view+json": {
       "model_id": "ff604ec07fee46f89f3a3674e2d441b6",
       "version_major": 2,
       "version_minor": 0
      },
      "text/plain": [
       "  0%|          | 0/625 [00:00<?, ?it/s]"
      ]
     },
     "metadata": {},
     "output_type": "display_data"
    },
    {
     "data": {
      "application/vnd.jupyter.widget-view+json": {
       "model_id": "20deabc446c447a486250c7cf6503944",
       "version_major": 2,
       "version_minor": 0
      },
      "text/plain": [
       "  0%|          | 0/625 [00:00<?, ?it/s]"
      ]
     },
     "metadata": {},
     "output_type": "display_data"
    },
    {
     "data": {
      "application/vnd.jupyter.widget-view+json": {
       "model_id": "91f56ad8744b4ce3b37a5b2dcf828e97",
       "version_major": 2,
       "version_minor": 0
      },
      "text/plain": [
       "  0%|          | 0/625 [00:00<?, ?it/s]"
      ]
     },
     "metadata": {},
     "output_type": "display_data"
    },
    {
     "data": {
      "application/vnd.jupyter.widget-view+json": {
       "model_id": "db056670cda044c9b845dd5fc9c4b52d",
       "version_major": 2,
       "version_minor": 0
      },
      "text/plain": [
       "  0%|          | 0/625 [00:00<?, ?it/s]"
      ]
     },
     "metadata": {},
     "output_type": "display_data"
    },
    {
     "data": {
      "application/vnd.jupyter.widget-view+json": {
       "model_id": "18dbcc10adac45bba5b4b04b56f4b108",
       "version_major": 2,
       "version_minor": 0
      },
      "text/plain": [
       "  0%|          | 0/3 [00:00<?, ?it/s]"
      ]
     },
     "metadata": {},
     "output_type": "display_data"
    },
    {
     "data": {
      "application/vnd.jupyter.widget-view+json": {
       "model_id": "850d45446ca844a5b6131b39fa824774",
       "version_major": 2,
       "version_minor": 0
      },
      "text/plain": [
       "  0%|          | 0/4 [00:00<?, ?it/s]"
      ]
     },
     "metadata": {},
     "output_type": "display_data"
    },
    {
     "data": {
      "application/vnd.jupyter.widget-view+json": {
       "model_id": "e33c9e63ba92464da3495643e03798d0",
       "version_major": 2,
       "version_minor": 0
      },
      "text/plain": [
       "  0%|          | 0/625 [00:00<?, ?it/s]"
      ]
     },
     "metadata": {},
     "output_type": "display_data"
    },
    {
     "data": {
      "application/vnd.jupyter.widget-view+json": {
       "model_id": "416c3953810245449de32d0d16ff28b3",
       "version_major": 2,
       "version_minor": 0
      },
      "text/plain": [
       "  0%|          | 0/625 [00:00<?, ?it/s]"
      ]
     },
     "metadata": {},
     "output_type": "display_data"
    },
    {
     "data": {
      "application/vnd.jupyter.widget-view+json": {
       "model_id": "ba3b5f395cf34cfebe867251d803620b",
       "version_major": 2,
       "version_minor": 0
      },
      "text/plain": [
       "  0%|          | 0/625 [00:00<?, ?it/s]"
      ]
     },
     "metadata": {},
     "output_type": "display_data"
    },
    {
     "data": {
      "application/vnd.jupyter.widget-view+json": {
       "model_id": "278e923adfe14e5987bf779b44d89011",
       "version_major": 2,
       "version_minor": 0
      },
      "text/plain": [
       "  0%|          | 0/625 [00:00<?, ?it/s]"
      ]
     },
     "metadata": {},
     "output_type": "display_data"
    },
    {
     "data": {
      "application/vnd.jupyter.widget-view+json": {
       "model_id": "329763a5c2d94f04b9c753e8a69504c4",
       "version_major": 2,
       "version_minor": 0
      },
      "text/plain": [
       "  0%|          | 0/4 [00:00<?, ?it/s]"
      ]
     },
     "metadata": {},
     "output_type": "display_data"
    },
    {
     "data": {
      "application/vnd.jupyter.widget-view+json": {
       "model_id": "e12f99fd381b40ebbedf3b2fa24fc7a6",
       "version_major": 2,
       "version_minor": 0
      },
      "text/plain": [
       "  0%|          | 0/625 [00:00<?, ?it/s]"
      ]
     },
     "metadata": {},
     "output_type": "display_data"
    },
    {
     "data": {
      "application/vnd.jupyter.widget-view+json": {
       "model_id": "64724c5509644b3cbc95ffc3327c853e",
       "version_major": 2,
       "version_minor": 0
      },
      "text/plain": [
       "  0%|          | 0/625 [00:00<?, ?it/s]"
      ]
     },
     "metadata": {},
     "output_type": "display_data"
    },
    {
     "data": {
      "application/vnd.jupyter.widget-view+json": {
       "model_id": "5f9c009f530a4545a9d730d6c86102b9",
       "version_major": 2,
       "version_minor": 0
      },
      "text/plain": [
       "  0%|          | 0/625 [00:00<?, ?it/s]"
      ]
     },
     "metadata": {},
     "output_type": "display_data"
    },
    {
     "data": {
      "application/vnd.jupyter.widget-view+json": {
       "model_id": "a5ec616ac84f40b88efba95695858e9a",
       "version_major": 2,
       "version_minor": 0
      },
      "text/plain": [
       "  0%|          | 0/625 [00:00<?, ?it/s]"
      ]
     },
     "metadata": {},
     "output_type": "display_data"
    },
    {
     "data": {
      "application/vnd.jupyter.widget-view+json": {
       "model_id": "762ab7a5bb3247a8b8214e6bf9f541e2",
       "version_major": 2,
       "version_minor": 0
      },
      "text/plain": [
       "  0%|          | 0/4 [00:00<?, ?it/s]"
      ]
     },
     "metadata": {},
     "output_type": "display_data"
    },
    {
     "data": {
      "application/vnd.jupyter.widget-view+json": {
       "model_id": "d099296cc8184a6c80c3a5a3b9e247f2",
       "version_major": 2,
       "version_minor": 0
      },
      "text/plain": [
       "  0%|          | 0/625 [00:00<?, ?it/s]"
      ]
     },
     "metadata": {},
     "output_type": "display_data"
    },
    {
     "data": {
      "application/vnd.jupyter.widget-view+json": {
       "model_id": "013e114f52bd4508be389e3eb5300917",
       "version_major": 2,
       "version_minor": 0
      },
      "text/plain": [
       "  0%|          | 0/625 [00:00<?, ?it/s]"
      ]
     },
     "metadata": {},
     "output_type": "display_data"
    },
    {
     "data": {
      "application/vnd.jupyter.widget-view+json": {
       "model_id": "30e5e04fb4194f14bf979eb7f7e87b56",
       "version_major": 2,
       "version_minor": 0
      },
      "text/plain": [
       "  0%|          | 0/625 [00:00<?, ?it/s]"
      ]
     },
     "metadata": {},
     "output_type": "display_data"
    },
    {
     "data": {
      "application/vnd.jupyter.widget-view+json": {
       "model_id": "ff9c90784e384494a184cfa069eaabd8",
       "version_major": 2,
       "version_minor": 0
      },
      "text/plain": [
       "  0%|          | 0/625 [00:00<?, ?it/s]"
      ]
     },
     "metadata": {},
     "output_type": "display_data"
    },
    {
     "data": {
      "application/vnd.jupyter.widget-view+json": {
       "model_id": "aabc4aa1b7c744a0b76eea9c0e40dbeb",
       "version_major": 2,
       "version_minor": 0
      },
      "text/plain": [
       "  0%|          | 0/3 [00:00<?, ?it/s]"
      ]
     },
     "metadata": {},
     "output_type": "display_data"
    },
    {
     "data": {
      "application/vnd.jupyter.widget-view+json": {
       "model_id": "494c63c2a6224f42afb4cd8d51110f56",
       "version_major": 2,
       "version_minor": 0
      },
      "text/plain": [
       "  0%|          | 0/4 [00:00<?, ?it/s]"
      ]
     },
     "metadata": {},
     "output_type": "display_data"
    },
    {
     "data": {
      "application/vnd.jupyter.widget-view+json": {
       "model_id": "58f88ea6cae94ddc82f5cfcd6f69debf",
       "version_major": 2,
       "version_minor": 0
      },
      "text/plain": [
       "  0%|          | 0/625 [00:00<?, ?it/s]"
      ]
     },
     "metadata": {},
     "output_type": "display_data"
    },
    {
     "data": {
      "application/vnd.jupyter.widget-view+json": {
       "model_id": "688aa00cd0ba405eb7ad06b703bb9495",
       "version_major": 2,
       "version_minor": 0
      },
      "text/plain": [
       "  0%|          | 0/625 [00:00<?, ?it/s]"
      ]
     },
     "metadata": {},
     "output_type": "display_data"
    },
    {
     "data": {
      "application/vnd.jupyter.widget-view+json": {
       "model_id": "aa895e10501249648abd221888ed0a93",
       "version_major": 2,
       "version_minor": 0
      },
      "text/plain": [
       "  0%|          | 0/625 [00:00<?, ?it/s]"
      ]
     },
     "metadata": {},
     "output_type": "display_data"
    },
    {
     "data": {
      "application/vnd.jupyter.widget-view+json": {
       "model_id": "69a54acf458649d7866cd65a0a5f93a2",
       "version_major": 2,
       "version_minor": 0
      },
      "text/plain": [
       "  0%|          | 0/625 [00:00<?, ?it/s]"
      ]
     },
     "metadata": {},
     "output_type": "display_data"
    },
    {
     "data": {
      "application/vnd.jupyter.widget-view+json": {
       "model_id": "1daeeb0156214430ad40971b2ef4f160",
       "version_major": 2,
       "version_minor": 0
      },
      "text/plain": [
       "  0%|          | 0/4 [00:00<?, ?it/s]"
      ]
     },
     "metadata": {},
     "output_type": "display_data"
    },
    {
     "data": {
      "application/vnd.jupyter.widget-view+json": {
       "model_id": "abce69ac2ad9411dad651b38fe8f9c7c",
       "version_major": 2,
       "version_minor": 0
      },
      "text/plain": [
       "  0%|          | 0/625 [00:00<?, ?it/s]"
      ]
     },
     "metadata": {},
     "output_type": "display_data"
    },
    {
     "data": {
      "application/vnd.jupyter.widget-view+json": {
       "model_id": "bee044e89a0541f299b4695409ce74a9",
       "version_major": 2,
       "version_minor": 0
      },
      "text/plain": [
       "  0%|          | 0/625 [00:00<?, ?it/s]"
      ]
     },
     "metadata": {},
     "output_type": "display_data"
    },
    {
     "data": {
      "application/vnd.jupyter.widget-view+json": {
       "model_id": "257c8673e3434dada41bc114de768ad8",
       "version_major": 2,
       "version_minor": 0
      },
      "text/plain": [
       "  0%|          | 0/625 [00:00<?, ?it/s]"
      ]
     },
     "metadata": {},
     "output_type": "display_data"
    },
    {
     "data": {
      "application/vnd.jupyter.widget-view+json": {
       "model_id": "b19dc778e9284a77941469f8604c4618",
       "version_major": 2,
       "version_minor": 0
      },
      "text/plain": [
       "  0%|          | 0/625 [00:00<?, ?it/s]"
      ]
     },
     "metadata": {},
     "output_type": "display_data"
    },
    {
     "data": {
      "application/vnd.jupyter.widget-view+json": {
       "model_id": "d96f1885d5904c14a03f961825a0f25e",
       "version_major": 2,
       "version_minor": 0
      },
      "text/plain": [
       "  0%|          | 0/4 [00:00<?, ?it/s]"
      ]
     },
     "metadata": {},
     "output_type": "display_data"
    },
    {
     "data": {
      "application/vnd.jupyter.widget-view+json": {
       "model_id": "a696965c1fc34fbe83a8e95f6348fb63",
       "version_major": 2,
       "version_minor": 0
      },
      "text/plain": [
       "  0%|          | 0/625 [00:00<?, ?it/s]"
      ]
     },
     "metadata": {},
     "output_type": "display_data"
    },
    {
     "data": {
      "application/vnd.jupyter.widget-view+json": {
       "model_id": "b2f7ae412ab849f6bafd41117d8085cc",
       "version_major": 2,
       "version_minor": 0
      },
      "text/plain": [
       "  0%|          | 0/625 [00:00<?, ?it/s]"
      ]
     },
     "metadata": {},
     "output_type": "display_data"
    },
    {
     "data": {
      "application/vnd.jupyter.widget-view+json": {
       "model_id": "d068d99587a74f63bf1669da8d287dd2",
       "version_major": 2,
       "version_minor": 0
      },
      "text/plain": [
       "  0%|          | 0/625 [00:00<?, ?it/s]"
      ]
     },
     "metadata": {},
     "output_type": "display_data"
    },
    {
     "data": {
      "application/vnd.jupyter.widget-view+json": {
       "model_id": "3c04c571cd6a43ce9de1ad22f65a4364",
       "version_major": 2,
       "version_minor": 0
      },
      "text/plain": [
       "  0%|          | 0/625 [00:00<?, ?it/s]"
      ]
     },
     "metadata": {},
     "output_type": "display_data"
    },
    {
     "data": {
      "application/vnd.jupyter.widget-view+json": {
       "model_id": "ae7ff2d070734e5198779085d3a3b033",
       "version_major": 2,
       "version_minor": 0
      },
      "text/plain": [
       "  0%|          | 0/3 [00:00<?, ?it/s]"
      ]
     },
     "metadata": {},
     "output_type": "display_data"
    },
    {
     "data": {
      "application/vnd.jupyter.widget-view+json": {
       "model_id": "94e71ae1b4934d778f4661ffa9a9fbf3",
       "version_major": 2,
       "version_minor": 0
      },
      "text/plain": [
       "  0%|          | 0/4 [00:00<?, ?it/s]"
      ]
     },
     "metadata": {},
     "output_type": "display_data"
    },
    {
     "data": {
      "application/vnd.jupyter.widget-view+json": {
       "model_id": "38014e202fba43208f75354e898c8dee",
       "version_major": 2,
       "version_minor": 0
      },
      "text/plain": [
       "  0%|          | 0/625 [00:00<?, ?it/s]"
      ]
     },
     "metadata": {},
     "output_type": "display_data"
    },
    {
     "data": {
      "application/vnd.jupyter.widget-view+json": {
       "model_id": "a634199ef8a1471081c733f3830984bc",
       "version_major": 2,
       "version_minor": 0
      },
      "text/plain": [
       "  0%|          | 0/625 [00:00<?, ?it/s]"
      ]
     },
     "metadata": {},
     "output_type": "display_data"
    },
    {
     "data": {
      "application/vnd.jupyter.widget-view+json": {
       "model_id": "4a5aa5d0e2c040d98f82abe99a7bdafb",
       "version_major": 2,
       "version_minor": 0
      },
      "text/plain": [
       "  0%|          | 0/625 [00:00<?, ?it/s]"
      ]
     },
     "metadata": {},
     "output_type": "display_data"
    },
    {
     "data": {
      "application/vnd.jupyter.widget-view+json": {
       "model_id": "27bac4d6208c4e08bcb6dc106eca9bdf",
       "version_major": 2,
       "version_minor": 0
      },
      "text/plain": [
       "  0%|          | 0/625 [00:00<?, ?it/s]"
      ]
     },
     "metadata": {},
     "output_type": "display_data"
    },
    {
     "data": {
      "application/vnd.jupyter.widget-view+json": {
       "model_id": "aa63852e6b354dafbd5bac00b559c014",
       "version_major": 2,
       "version_minor": 0
      },
      "text/plain": [
       "  0%|          | 0/4 [00:00<?, ?it/s]"
      ]
     },
     "metadata": {},
     "output_type": "display_data"
    },
    {
     "data": {
      "application/vnd.jupyter.widget-view+json": {
       "model_id": "43a159284c22487d9156871e787f45ea",
       "version_major": 2,
       "version_minor": 0
      },
      "text/plain": [
       "  0%|          | 0/625 [00:00<?, ?it/s]"
      ]
     },
     "metadata": {},
     "output_type": "display_data"
    },
    {
     "data": {
      "application/vnd.jupyter.widget-view+json": {
       "model_id": "39e113f599204b649c60d02313169498",
       "version_major": 2,
       "version_minor": 0
      },
      "text/plain": [
       "  0%|          | 0/625 [00:00<?, ?it/s]"
      ]
     },
     "metadata": {},
     "output_type": "display_data"
    },
    {
     "data": {
      "application/vnd.jupyter.widget-view+json": {
       "model_id": "b44052a42c734e98aa7fa4cb39d55439",
       "version_major": 2,
       "version_minor": 0
      },
      "text/plain": [
       "  0%|          | 0/625 [00:00<?, ?it/s]"
      ]
     },
     "metadata": {},
     "output_type": "display_data"
    },
    {
     "data": {
      "application/vnd.jupyter.widget-view+json": {
       "model_id": "cb194bba575c4db685fe105c331c5323",
       "version_major": 2,
       "version_minor": 0
      },
      "text/plain": [
       "  0%|          | 0/625 [00:00<?, ?it/s]"
      ]
     },
     "metadata": {},
     "output_type": "display_data"
    },
    {
     "data": {
      "application/vnd.jupyter.widget-view+json": {
       "model_id": "22663f48361a4c2fbfd5402c96d1254c",
       "version_major": 2,
       "version_minor": 0
      },
      "text/plain": [
       "  0%|          | 0/4 [00:00<?, ?it/s]"
      ]
     },
     "metadata": {},
     "output_type": "display_data"
    },
    {
     "data": {
      "application/vnd.jupyter.widget-view+json": {
       "model_id": "63c68755d4fd4f769f50ac638d8559a1",
       "version_major": 2,
       "version_minor": 0
      },
      "text/plain": [
       "  0%|          | 0/625 [00:00<?, ?it/s]"
      ]
     },
     "metadata": {},
     "output_type": "display_data"
    },
    {
     "data": {
      "application/vnd.jupyter.widget-view+json": {
       "model_id": "a172f648172548d680d327bc9b25cbc2",
       "version_major": 2,
       "version_minor": 0
      },
      "text/plain": [
       "  0%|          | 0/625 [00:00<?, ?it/s]"
      ]
     },
     "metadata": {},
     "output_type": "display_data"
    },
    {
     "data": {
      "application/vnd.jupyter.widget-view+json": {
       "model_id": "f6f73c1885cb433e8a0572ba0ee751bd",
       "version_major": 2,
       "version_minor": 0
      },
      "text/plain": [
       "  0%|          | 0/625 [00:00<?, ?it/s]"
      ]
     },
     "metadata": {},
     "output_type": "display_data"
    },
    {
     "data": {
      "application/vnd.jupyter.widget-view+json": {
       "model_id": "425027a3a05d45078702d3b51b1a261b",
       "version_major": 2,
       "version_minor": 0
      },
      "text/plain": [
       "  0%|          | 0/625 [00:00<?, ?it/s]"
      ]
     },
     "metadata": {},
     "output_type": "display_data"
    },
    {
     "data": {
      "application/vnd.jupyter.widget-view+json": {
       "model_id": "dad61d1da09749c0a55b52c45a1fcee2",
       "version_major": 2,
       "version_minor": 0
      },
      "text/plain": [
       "  0%|          | 0/3 [00:00<?, ?it/s]"
      ]
     },
     "metadata": {},
     "output_type": "display_data"
    },
    {
     "data": {
      "application/vnd.jupyter.widget-view+json": {
       "model_id": "c5eaddec16154bc5bcd5225e055da909",
       "version_major": 2,
       "version_minor": 0
      },
      "text/plain": [
       "  0%|          | 0/4 [00:00<?, ?it/s]"
      ]
     },
     "metadata": {},
     "output_type": "display_data"
    },
    {
     "data": {
      "application/vnd.jupyter.widget-view+json": {
       "model_id": "f8eb67ac41da46d08bf9ea2008023f9c",
       "version_major": 2,
       "version_minor": 0
      },
      "text/plain": [
       "  0%|          | 0/625 [00:00<?, ?it/s]"
      ]
     },
     "metadata": {},
     "output_type": "display_data"
    },
    {
     "data": {
      "application/vnd.jupyter.widget-view+json": {
       "model_id": "0a68e288f5384a66ae22039acd022058",
       "version_major": 2,
       "version_minor": 0
      },
      "text/plain": [
       "  0%|          | 0/625 [00:00<?, ?it/s]"
      ]
     },
     "metadata": {},
     "output_type": "display_data"
    },
    {
     "data": {
      "application/vnd.jupyter.widget-view+json": {
       "model_id": "2c4f0512e79a4712921cc9b917646f8d",
       "version_major": 2,
       "version_minor": 0
      },
      "text/plain": [
       "  0%|          | 0/625 [00:00<?, ?it/s]"
      ]
     },
     "metadata": {},
     "output_type": "display_data"
    },
    {
     "data": {
      "application/vnd.jupyter.widget-view+json": {
       "model_id": "0384244466554cdaaf4e056ed89b2107",
       "version_major": 2,
       "version_minor": 0
      },
      "text/plain": [
       "  0%|          | 0/625 [00:00<?, ?it/s]"
      ]
     },
     "metadata": {},
     "output_type": "display_data"
    },
    {
     "data": {
      "application/vnd.jupyter.widget-view+json": {
       "model_id": "b3e816df51ad482a8ce90aff1544c172",
       "version_major": 2,
       "version_minor": 0
      },
      "text/plain": [
       "  0%|          | 0/4 [00:00<?, ?it/s]"
      ]
     },
     "metadata": {},
     "output_type": "display_data"
    },
    {
     "data": {
      "application/vnd.jupyter.widget-view+json": {
       "model_id": "d90c8efdf82143bdae2a945fdd38cf2c",
       "version_major": 2,
       "version_minor": 0
      },
      "text/plain": [
       "  0%|          | 0/625 [00:00<?, ?it/s]"
      ]
     },
     "metadata": {},
     "output_type": "display_data"
    },
    {
     "data": {
      "application/vnd.jupyter.widget-view+json": {
       "model_id": "f5b376a5caad47699554eea17bcd9da8",
       "version_major": 2,
       "version_minor": 0
      },
      "text/plain": [
       "  0%|          | 0/625 [00:00<?, ?it/s]"
      ]
     },
     "metadata": {},
     "output_type": "display_data"
    },
    {
     "data": {
      "application/vnd.jupyter.widget-view+json": {
       "model_id": "baf9dfd495e14e39b81d5ef919818736",
       "version_major": 2,
       "version_minor": 0
      },
      "text/plain": [
       "  0%|          | 0/625 [00:00<?, ?it/s]"
      ]
     },
     "metadata": {},
     "output_type": "display_data"
    },
    {
     "data": {
      "application/vnd.jupyter.widget-view+json": {
       "model_id": "2c020a7f985a4854869aa9ebcc838214",
       "version_major": 2,
       "version_minor": 0
      },
      "text/plain": [
       "  0%|          | 0/625 [00:00<?, ?it/s]"
      ]
     },
     "metadata": {},
     "output_type": "display_data"
    },
    {
     "data": {
      "application/vnd.jupyter.widget-view+json": {
       "model_id": "970c4357bf234002ad4f481cca168178",
       "version_major": 2,
       "version_minor": 0
      },
      "text/plain": [
       "  0%|          | 0/4 [00:00<?, ?it/s]"
      ]
     },
     "metadata": {},
     "output_type": "display_data"
    },
    {
     "data": {
      "application/vnd.jupyter.widget-view+json": {
       "model_id": "623813f5754e47df9f9fb6c7b76867ba",
       "version_major": 2,
       "version_minor": 0
      },
      "text/plain": [
       "  0%|          | 0/625 [00:00<?, ?it/s]"
      ]
     },
     "metadata": {},
     "output_type": "display_data"
    },
    {
     "data": {
      "application/vnd.jupyter.widget-view+json": {
       "model_id": "17f096c207054f9ca707f3d8c7691fde",
       "version_major": 2,
       "version_minor": 0
      },
      "text/plain": [
       "  0%|          | 0/625 [00:00<?, ?it/s]"
      ]
     },
     "metadata": {},
     "output_type": "display_data"
    },
    {
     "data": {
      "application/vnd.jupyter.widget-view+json": {
       "model_id": "e0e654b00ec84a0fbbed26c3ade10861",
       "version_major": 2,
       "version_minor": 0
      },
      "text/plain": [
       "  0%|          | 0/625 [00:00<?, ?it/s]"
      ]
     },
     "metadata": {},
     "output_type": "display_data"
    },
    {
     "data": {
      "application/vnd.jupyter.widget-view+json": {
       "model_id": "56bd3416627f4ab8ae2c1f36518123d1",
       "version_major": 2,
       "version_minor": 0
      },
      "text/plain": [
       "  0%|          | 0/625 [00:00<?, ?it/s]"
      ]
     },
     "metadata": {},
     "output_type": "display_data"
    },
    {
     "data": {
      "application/vnd.jupyter.widget-view+json": {
       "model_id": "f75e1c694e5145af8cac26dae674f33b",
       "version_major": 2,
       "version_minor": 0
      },
      "text/plain": [
       "  0%|          | 0/3 [00:00<?, ?it/s]"
      ]
     },
     "metadata": {},
     "output_type": "display_data"
    },
    {
     "data": {
      "application/vnd.jupyter.widget-view+json": {
       "model_id": "e92187f0d362474b9640edc917d963fd",
       "version_major": 2,
       "version_minor": 0
      },
      "text/plain": [
       "  0%|          | 0/4 [00:00<?, ?it/s]"
      ]
     },
     "metadata": {},
     "output_type": "display_data"
    },
    {
     "data": {
      "application/vnd.jupyter.widget-view+json": {
       "model_id": "991a3889cb7b4c89b83f3448cccad254",
       "version_major": 2,
       "version_minor": 0
      },
      "text/plain": [
       "  0%|          | 0/625 [00:00<?, ?it/s]"
      ]
     },
     "metadata": {},
     "output_type": "display_data"
    },
    {
     "data": {
      "application/vnd.jupyter.widget-view+json": {
       "model_id": "5ff43ebc1e524e7997943fab6c5b6f11",
       "version_major": 2,
       "version_minor": 0
      },
      "text/plain": [
       "  0%|          | 0/625 [00:00<?, ?it/s]"
      ]
     },
     "metadata": {},
     "output_type": "display_data"
    },
    {
     "data": {
      "application/vnd.jupyter.widget-view+json": {
       "model_id": "82c6b764643f46ce906630f51c07b2ec",
       "version_major": 2,
       "version_minor": 0
      },
      "text/plain": [
       "  0%|          | 0/625 [00:00<?, ?it/s]"
      ]
     },
     "metadata": {},
     "output_type": "display_data"
    },
    {
     "data": {
      "application/vnd.jupyter.widget-view+json": {
       "model_id": "63121f024c7e4e9f81850f1e33a9546f",
       "version_major": 2,
       "version_minor": 0
      },
      "text/plain": [
       "  0%|          | 0/625 [00:00<?, ?it/s]"
      ]
     },
     "metadata": {},
     "output_type": "display_data"
    },
    {
     "data": {
      "application/vnd.jupyter.widget-view+json": {
       "model_id": "a2fdebcdf9ce407492f43814b22c15cb",
       "version_major": 2,
       "version_minor": 0
      },
      "text/plain": [
       "  0%|          | 0/4 [00:00<?, ?it/s]"
      ]
     },
     "metadata": {},
     "output_type": "display_data"
    },
    {
     "data": {
      "application/vnd.jupyter.widget-view+json": {
       "model_id": "57afe44afb8b420ea3f8d89d411ab600",
       "version_major": 2,
       "version_minor": 0
      },
      "text/plain": [
       "  0%|          | 0/625 [00:00<?, ?it/s]"
      ]
     },
     "metadata": {},
     "output_type": "display_data"
    },
    {
     "data": {
      "application/vnd.jupyter.widget-view+json": {
       "model_id": "88c157dc181749efbad011bffa17b354",
       "version_major": 2,
       "version_minor": 0
      },
      "text/plain": [
       "  0%|          | 0/625 [00:00<?, ?it/s]"
      ]
     },
     "metadata": {},
     "output_type": "display_data"
    },
    {
     "data": {
      "application/vnd.jupyter.widget-view+json": {
       "model_id": "2f54daa52947482eb896dfd3e2847c03",
       "version_major": 2,
       "version_minor": 0
      },
      "text/plain": [
       "  0%|          | 0/625 [00:00<?, ?it/s]"
      ]
     },
     "metadata": {},
     "output_type": "display_data"
    },
    {
     "data": {
      "application/vnd.jupyter.widget-view+json": {
       "model_id": "ef9dcbee6c0c443085b2f04d6ebb1a8b",
       "version_major": 2,
       "version_minor": 0
      },
      "text/plain": [
       "  0%|          | 0/625 [00:00<?, ?it/s]"
      ]
     },
     "metadata": {},
     "output_type": "display_data"
    },
    {
     "data": {
      "application/vnd.jupyter.widget-view+json": {
       "model_id": "b360319c9e3b4a7bb6945d3cd72bcf8e",
       "version_major": 2,
       "version_minor": 0
      },
      "text/plain": [
       "  0%|          | 0/4 [00:00<?, ?it/s]"
      ]
     },
     "metadata": {},
     "output_type": "display_data"
    },
    {
     "data": {
      "application/vnd.jupyter.widget-view+json": {
       "model_id": "096ddde1161d44cfb8f1f5599601a48f",
       "version_major": 2,
       "version_minor": 0
      },
      "text/plain": [
       "  0%|          | 0/625 [00:00<?, ?it/s]"
      ]
     },
     "metadata": {},
     "output_type": "display_data"
    },
    {
     "data": {
      "application/vnd.jupyter.widget-view+json": {
       "model_id": "0f032e798a0743f2976b043371fa3c35",
       "version_major": 2,
       "version_minor": 0
      },
      "text/plain": [
       "  0%|          | 0/625 [00:00<?, ?it/s]"
      ]
     },
     "metadata": {},
     "output_type": "display_data"
    },
    {
     "data": {
      "application/vnd.jupyter.widget-view+json": {
       "model_id": "ace763dd13744082b3db1a053ae3e01b",
       "version_major": 2,
       "version_minor": 0
      },
      "text/plain": [
       "  0%|          | 0/625 [00:00<?, ?it/s]"
      ]
     },
     "metadata": {},
     "output_type": "display_data"
    },
    {
     "data": {
      "application/vnd.jupyter.widget-view+json": {
       "model_id": "bf0272e27d3142f9af6a6fc1fcbd4d3c",
       "version_major": 2,
       "version_minor": 0
      },
      "text/plain": [
       "  0%|          | 0/625 [00:00<?, ?it/s]"
      ]
     },
     "metadata": {},
     "output_type": "display_data"
    },
    {
     "data": {
      "application/vnd.jupyter.widget-view+json": {
       "model_id": "94fd0490a31c4dc9827ab3f8a555c26a",
       "version_major": 2,
       "version_minor": 0
      },
      "text/plain": [
       "  0%|          | 0/3 [00:00<?, ?it/s]"
      ]
     },
     "metadata": {},
     "output_type": "display_data"
    },
    {
     "data": {
      "application/vnd.jupyter.widget-view+json": {
       "model_id": "0d4d760fac9c48b3aa4c8aade77b071b",
       "version_major": 2,
       "version_minor": 0
      },
      "text/plain": [
       "  0%|          | 0/4 [00:00<?, ?it/s]"
      ]
     },
     "metadata": {},
     "output_type": "display_data"
    },
    {
     "data": {
      "application/vnd.jupyter.widget-view+json": {
       "model_id": "f4d93bbc71bb4161b66123dc23dfe6b9",
       "version_major": 2,
       "version_minor": 0
      },
      "text/plain": [
       "  0%|          | 0/625 [00:00<?, ?it/s]"
      ]
     },
     "metadata": {},
     "output_type": "display_data"
    },
    {
     "data": {
      "application/vnd.jupyter.widget-view+json": {
       "model_id": "12121e4fbf0d42dba918e71741715787",
       "version_major": 2,
       "version_minor": 0
      },
      "text/plain": [
       "  0%|          | 0/625 [00:00<?, ?it/s]"
      ]
     },
     "metadata": {},
     "output_type": "display_data"
    },
    {
     "data": {
      "application/vnd.jupyter.widget-view+json": {
       "model_id": "c0a3766a99de4be38748d7ce727c4033",
       "version_major": 2,
       "version_minor": 0
      },
      "text/plain": [
       "  0%|          | 0/625 [00:00<?, ?it/s]"
      ]
     },
     "metadata": {},
     "output_type": "display_data"
    },
    {
     "data": {
      "application/vnd.jupyter.widget-view+json": {
       "model_id": "53b0e74cc0ee4c8aa9941077c25b9be0",
       "version_major": 2,
       "version_minor": 0
      },
      "text/plain": [
       "  0%|          | 0/625 [00:00<?, ?it/s]"
      ]
     },
     "metadata": {},
     "output_type": "display_data"
    },
    {
     "data": {
      "application/vnd.jupyter.widget-view+json": {
       "model_id": "e67715c3dd47473bbb83288fe42162ac",
       "version_major": 2,
       "version_minor": 0
      },
      "text/plain": [
       "  0%|          | 0/4 [00:00<?, ?it/s]"
      ]
     },
     "metadata": {},
     "output_type": "display_data"
    },
    {
     "data": {
      "application/vnd.jupyter.widget-view+json": {
       "model_id": "f844ddb5b3e441919db2ea6bf46298e4",
       "version_major": 2,
       "version_minor": 0
      },
      "text/plain": [
       "  0%|          | 0/625 [00:00<?, ?it/s]"
      ]
     },
     "metadata": {},
     "output_type": "display_data"
    },
    {
     "data": {
      "application/vnd.jupyter.widget-view+json": {
       "model_id": "f76c7cd17cf64069861e7628ae35430f",
       "version_major": 2,
       "version_minor": 0
      },
      "text/plain": [
       "  0%|          | 0/625 [00:00<?, ?it/s]"
      ]
     },
     "metadata": {},
     "output_type": "display_data"
    },
    {
     "data": {
      "application/vnd.jupyter.widget-view+json": {
       "model_id": "efc8eaac95a14ac4bd907b994f44c737",
       "version_major": 2,
       "version_minor": 0
      },
      "text/plain": [
       "  0%|          | 0/625 [00:00<?, ?it/s]"
      ]
     },
     "metadata": {},
     "output_type": "display_data"
    },
    {
     "data": {
      "application/vnd.jupyter.widget-view+json": {
       "model_id": "76d01c6baaa246628aa0fe6c7a37dc8e",
       "version_major": 2,
       "version_minor": 0
      },
      "text/plain": [
       "  0%|          | 0/625 [00:00<?, ?it/s]"
      ]
     },
     "metadata": {},
     "output_type": "display_data"
    },
    {
     "data": {
      "application/vnd.jupyter.widget-view+json": {
       "model_id": "5807631b77f9440a8e5b1b05cd6f41ee",
       "version_major": 2,
       "version_minor": 0
      },
      "text/plain": [
       "  0%|          | 0/4 [00:00<?, ?it/s]"
      ]
     },
     "metadata": {},
     "output_type": "display_data"
    },
    {
     "data": {
      "application/vnd.jupyter.widget-view+json": {
       "model_id": "aecdc558cf4640ce943a15875897f43b",
       "version_major": 2,
       "version_minor": 0
      },
      "text/plain": [
       "  0%|          | 0/625 [00:00<?, ?it/s]"
      ]
     },
     "metadata": {},
     "output_type": "display_data"
    },
    {
     "data": {
      "application/vnd.jupyter.widget-view+json": {
       "model_id": "01a2b6c610f645ffb75b3ae2f2f4c402",
       "version_major": 2,
       "version_minor": 0
      },
      "text/plain": [
       "  0%|          | 0/625 [00:00<?, ?it/s]"
      ]
     },
     "metadata": {},
     "output_type": "display_data"
    },
    {
     "data": {
      "application/vnd.jupyter.widget-view+json": {
       "model_id": "9a4ae90fa09444fd96e2fbed65da8dcb",
       "version_major": 2,
       "version_minor": 0
      },
      "text/plain": [
       "  0%|          | 0/625 [00:00<?, ?it/s]"
      ]
     },
     "metadata": {},
     "output_type": "display_data"
    },
    {
     "data": {
      "application/vnd.jupyter.widget-view+json": {
       "model_id": "15104e08674d4990b3721fb86648ed8f",
       "version_major": 2,
       "version_minor": 0
      },
      "text/plain": [
       "  0%|          | 0/625 [00:00<?, ?it/s]"
      ]
     },
     "metadata": {},
     "output_type": "display_data"
    },
    {
     "data": {
      "application/vnd.jupyter.widget-view+json": {
       "model_id": "d537216e25cc476cbdfd15869ddc8e40",
       "version_major": 2,
       "version_minor": 0
      },
      "text/plain": [
       "  0%|          | 0/3 [00:00<?, ?it/s]"
      ]
     },
     "metadata": {},
     "output_type": "display_data"
    },
    {
     "data": {
      "application/vnd.jupyter.widget-view+json": {
       "model_id": "242ac040c35d45acab2bc823413d9359",
       "version_major": 2,
       "version_minor": 0
      },
      "text/plain": [
       "  0%|          | 0/4 [00:00<?, ?it/s]"
      ]
     },
     "metadata": {},
     "output_type": "display_data"
    },
    {
     "data": {
      "application/vnd.jupyter.widget-view+json": {
       "model_id": "c3d878665baa49ae838bc0e789681577",
       "version_major": 2,
       "version_minor": 0
      },
      "text/plain": [
       "  0%|          | 0/625 [00:00<?, ?it/s]"
      ]
     },
     "metadata": {},
     "output_type": "display_data"
    },
    {
     "data": {
      "application/vnd.jupyter.widget-view+json": {
       "model_id": "a74cbee14abb4a69b4ff3c14cf257849",
       "version_major": 2,
       "version_minor": 0
      },
      "text/plain": [
       "  0%|          | 0/625 [00:00<?, ?it/s]"
      ]
     },
     "metadata": {},
     "output_type": "display_data"
    },
    {
     "data": {
      "application/vnd.jupyter.widget-view+json": {
       "model_id": "32df6946be0146b9980488c0803542cf",
       "version_major": 2,
       "version_minor": 0
      },
      "text/plain": [
       "  0%|          | 0/625 [00:00<?, ?it/s]"
      ]
     },
     "metadata": {},
     "output_type": "display_data"
    },
    {
     "data": {
      "application/vnd.jupyter.widget-view+json": {
       "model_id": "702b63fecb9e435ba0476f8b02efe99a",
       "version_major": 2,
       "version_minor": 0
      },
      "text/plain": [
       "  0%|          | 0/625 [00:00<?, ?it/s]"
      ]
     },
     "metadata": {},
     "output_type": "display_data"
    },
    {
     "name": "stderr",
     "output_type": "stream",
     "text": [
      "C:\\Users\\BOBA\\AppData\\Local\\Programs\\Python\\Python312\\Lib\\site-packages\\sklearn\\metrics\\_classification.py:1531: UndefinedMetricWarning: Precision is ill-defined and being set to 0.0 in labels with no predicted samples. Use `zero_division` parameter to control this behavior.\n",
      "  _warn_prf(average, modifier, f\"{metric.capitalize()} is\", len(result))\n",
      "C:\\Users\\BOBA\\AppData\\Local\\Programs\\Python\\Python312\\Lib\\site-packages\\sklearn\\metrics\\_classification.py:1531: UndefinedMetricWarning: Precision is ill-defined and being set to 0.0 in labels with no predicted samples. Use `zero_division` parameter to control this behavior.\n",
      "  _warn_prf(average, modifier, f\"{metric.capitalize()} is\", len(result))\n",
      "C:\\Users\\BOBA\\AppData\\Local\\Programs\\Python\\Python312\\Lib\\site-packages\\sklearn\\metrics\\_classification.py:1531: UndefinedMetricWarning: Precision is ill-defined and being set to 0.0 in labels with no predicted samples. Use `zero_division` parameter to control this behavior.\n",
      "  _warn_prf(average, modifier, f\"{metric.capitalize()} is\", len(result))\n"
     ]
    },
    {
     "data": {
      "application/vnd.jupyter.widget-view+json": {
       "model_id": "1da1df40142c40be8d30a47b3f31340a",
       "version_major": 2,
       "version_minor": 0
      },
      "text/plain": [
       "  0%|          | 0/4 [00:00<?, ?it/s]"
      ]
     },
     "metadata": {},
     "output_type": "display_data"
    },
    {
     "data": {
      "application/vnd.jupyter.widget-view+json": {
       "model_id": "3b986ec7135543f8bd6bbac55c57fa53",
       "version_major": 2,
       "version_minor": 0
      },
      "text/plain": [
       "  0%|          | 0/625 [00:00<?, ?it/s]"
      ]
     },
     "metadata": {},
     "output_type": "display_data"
    },
    {
     "data": {
      "application/vnd.jupyter.widget-view+json": {
       "model_id": "3fce279e375242738bfd0231f4fccd60",
       "version_major": 2,
       "version_minor": 0
      },
      "text/plain": [
       "  0%|          | 0/625 [00:00<?, ?it/s]"
      ]
     },
     "metadata": {},
     "output_type": "display_data"
    },
    {
     "data": {
      "application/vnd.jupyter.widget-view+json": {
       "model_id": "c7ba1a164c354aaba520f636448e6dc4",
       "version_major": 2,
       "version_minor": 0
      },
      "text/plain": [
       "  0%|          | 0/625 [00:00<?, ?it/s]"
      ]
     },
     "metadata": {},
     "output_type": "display_data"
    },
    {
     "data": {
      "application/vnd.jupyter.widget-view+json": {
       "model_id": "201308dba233404d859248cf22e1412f",
       "version_major": 2,
       "version_minor": 0
      },
      "text/plain": [
       "  0%|          | 0/625 [00:00<?, ?it/s]"
      ]
     },
     "metadata": {},
     "output_type": "display_data"
    },
    {
     "name": "stderr",
     "output_type": "stream",
     "text": [
      "C:\\Users\\BOBA\\AppData\\Local\\Programs\\Python\\Python312\\Lib\\site-packages\\sklearn\\metrics\\_classification.py:1531: UndefinedMetricWarning: Precision is ill-defined and being set to 0.0 in labels with no predicted samples. Use `zero_division` parameter to control this behavior.\n",
      "  _warn_prf(average, modifier, f\"{metric.capitalize()} is\", len(result))\n",
      "C:\\Users\\BOBA\\AppData\\Local\\Programs\\Python\\Python312\\Lib\\site-packages\\sklearn\\metrics\\_classification.py:1531: UndefinedMetricWarning: Precision is ill-defined and being set to 0.0 in labels with no predicted samples. Use `zero_division` parameter to control this behavior.\n",
      "  _warn_prf(average, modifier, f\"{metric.capitalize()} is\", len(result))\n",
      "C:\\Users\\BOBA\\AppData\\Local\\Programs\\Python\\Python312\\Lib\\site-packages\\sklearn\\metrics\\_classification.py:1531: UndefinedMetricWarning: Precision is ill-defined and being set to 0.0 in labels with no predicted samples. Use `zero_division` parameter to control this behavior.\n",
      "  _warn_prf(average, modifier, f\"{metric.capitalize()} is\", len(result))\n"
     ]
    },
    {
     "data": {
      "application/vnd.jupyter.widget-view+json": {
       "model_id": "ccd0515c950a4801be243b395eba0f01",
       "version_major": 2,
       "version_minor": 0
      },
      "text/plain": [
       "  0%|          | 0/4 [00:00<?, ?it/s]"
      ]
     },
     "metadata": {},
     "output_type": "display_data"
    },
    {
     "data": {
      "application/vnd.jupyter.widget-view+json": {
       "model_id": "15a8f0c3574341e7bc6cbb7c88cc4be7",
       "version_major": 2,
       "version_minor": 0
      },
      "text/plain": [
       "  0%|          | 0/625 [00:00<?, ?it/s]"
      ]
     },
     "metadata": {},
     "output_type": "display_data"
    },
    {
     "data": {
      "application/vnd.jupyter.widget-view+json": {
       "model_id": "dca73e0b2f8d46ff98176354e18770e5",
       "version_major": 2,
       "version_minor": 0
      },
      "text/plain": [
       "  0%|          | 0/625 [00:00<?, ?it/s]"
      ]
     },
     "metadata": {},
     "output_type": "display_data"
    },
    {
     "data": {
      "application/vnd.jupyter.widget-view+json": {
       "model_id": "993414ab44074a10bd2ffdcf0e066f07",
       "version_major": 2,
       "version_minor": 0
      },
      "text/plain": [
       "  0%|          | 0/625 [00:00<?, ?it/s]"
      ]
     },
     "metadata": {},
     "output_type": "display_data"
    },
    {
     "data": {
      "application/vnd.jupyter.widget-view+json": {
       "model_id": "9e2e79cb10a14367a3410aab3be3c2d2",
       "version_major": 2,
       "version_minor": 0
      },
      "text/plain": [
       "  0%|          | 0/625 [00:00<?, ?it/s]"
      ]
     },
     "metadata": {},
     "output_type": "display_data"
    },
    {
     "data": {
      "application/vnd.jupyter.widget-view+json": {
       "model_id": "7ecd63633a7b4dc0a64849f98a21a611",
       "version_major": 2,
       "version_minor": 0
      },
      "text/plain": [
       "  0%|          | 0/3 [00:00<?, ?it/s]"
      ]
     },
     "metadata": {},
     "output_type": "display_data"
    },
    {
     "data": {
      "application/vnd.jupyter.widget-view+json": {
       "model_id": "a7785313db6842f48a17a91d0392964f",
       "version_major": 2,
       "version_minor": 0
      },
      "text/plain": [
       "  0%|          | 0/4 [00:00<?, ?it/s]"
      ]
     },
     "metadata": {},
     "output_type": "display_data"
    },
    {
     "data": {
      "application/vnd.jupyter.widget-view+json": {
       "model_id": "8ba0790a163141ff906a87a260346fa4",
       "version_major": 2,
       "version_minor": 0
      },
      "text/plain": [
       "  0%|          | 0/625 [00:00<?, ?it/s]"
      ]
     },
     "metadata": {},
     "output_type": "display_data"
    },
    {
     "data": {
      "application/vnd.jupyter.widget-view+json": {
       "model_id": "7f5a3faa68c7427bbf7ba4a571adc0c1",
       "version_major": 2,
       "version_minor": 0
      },
      "text/plain": [
       "  0%|          | 0/625 [00:00<?, ?it/s]"
      ]
     },
     "metadata": {},
     "output_type": "display_data"
    },
    {
     "data": {
      "application/vnd.jupyter.widget-view+json": {
       "model_id": "d057a3e16a764ad3a825f5015799ddc0",
       "version_major": 2,
       "version_minor": 0
      },
      "text/plain": [
       "  0%|          | 0/625 [00:00<?, ?it/s]"
      ]
     },
     "metadata": {},
     "output_type": "display_data"
    },
    {
     "data": {
      "application/vnd.jupyter.widget-view+json": {
       "model_id": "06789a6b25b640c3a65e3805798004dd",
       "version_major": 2,
       "version_minor": 0
      },
      "text/plain": [
       "  0%|          | 0/625 [00:00<?, ?it/s]"
      ]
     },
     "metadata": {},
     "output_type": "display_data"
    },
    {
     "data": {
      "application/vnd.jupyter.widget-view+json": {
       "model_id": "82ec69e932374d6d9ccfbc57ba33053e",
       "version_major": 2,
       "version_minor": 0
      },
      "text/plain": [
       "  0%|          | 0/4 [00:00<?, ?it/s]"
      ]
     },
     "metadata": {},
     "output_type": "display_data"
    },
    {
     "data": {
      "application/vnd.jupyter.widget-view+json": {
       "model_id": "898d36b41f6d4e48a59176a062a1e44a",
       "version_major": 2,
       "version_minor": 0
      },
      "text/plain": [
       "  0%|          | 0/625 [00:00<?, ?it/s]"
      ]
     },
     "metadata": {},
     "output_type": "display_data"
    },
    {
     "data": {
      "application/vnd.jupyter.widget-view+json": {
       "model_id": "8f33cdfebd75481d94335f506f457412",
       "version_major": 2,
       "version_minor": 0
      },
      "text/plain": [
       "  0%|          | 0/625 [00:00<?, ?it/s]"
      ]
     },
     "metadata": {},
     "output_type": "display_data"
    },
    {
     "data": {
      "application/vnd.jupyter.widget-view+json": {
       "model_id": "de00b87d65724323a82cc2eb95c69648",
       "version_major": 2,
       "version_minor": 0
      },
      "text/plain": [
       "  0%|          | 0/625 [00:00<?, ?it/s]"
      ]
     },
     "metadata": {},
     "output_type": "display_data"
    },
    {
     "data": {
      "application/vnd.jupyter.widget-view+json": {
       "model_id": "49cae2129ac54b6ab14d90650a404482",
       "version_major": 2,
       "version_minor": 0
      },
      "text/plain": [
       "  0%|          | 0/625 [00:00<?, ?it/s]"
      ]
     },
     "metadata": {},
     "output_type": "display_data"
    },
    {
     "data": {
      "application/vnd.jupyter.widget-view+json": {
       "model_id": "b24310360144463eab608e1eff30b96f",
       "version_major": 2,
       "version_minor": 0
      },
      "text/plain": [
       "  0%|          | 0/4 [00:00<?, ?it/s]"
      ]
     },
     "metadata": {},
     "output_type": "display_data"
    },
    {
     "data": {
      "application/vnd.jupyter.widget-view+json": {
       "model_id": "de33f19aa55e4307b7869ed2e3c42c5a",
       "version_major": 2,
       "version_minor": 0
      },
      "text/plain": [
       "  0%|          | 0/625 [00:00<?, ?it/s]"
      ]
     },
     "metadata": {},
     "output_type": "display_data"
    },
    {
     "data": {
      "application/vnd.jupyter.widget-view+json": {
       "model_id": "23436eb947b14d8db23645b71c220b82",
       "version_major": 2,
       "version_minor": 0
      },
      "text/plain": [
       "  0%|          | 0/625 [00:00<?, ?it/s]"
      ]
     },
     "metadata": {},
     "output_type": "display_data"
    },
    {
     "data": {
      "application/vnd.jupyter.widget-view+json": {
       "model_id": "3eccc299a45740fe9980b9d50cfc5085",
       "version_major": 2,
       "version_minor": 0
      },
      "text/plain": [
       "  0%|          | 0/625 [00:00<?, ?it/s]"
      ]
     },
     "metadata": {},
     "output_type": "display_data"
    },
    {
     "data": {
      "application/vnd.jupyter.widget-view+json": {
       "model_id": "833a459a4807402e80f7ba264f2aa35a",
       "version_major": 2,
       "version_minor": 0
      },
      "text/plain": [
       "  0%|          | 0/625 [00:00<?, ?it/s]"
      ]
     },
     "metadata": {},
     "output_type": "display_data"
    },
    {
     "data": {
      "application/vnd.jupyter.widget-view+json": {
       "model_id": "0ebbae92f93c4416b58228a07706a71c",
       "version_major": 2,
       "version_minor": 0
      },
      "text/plain": [
       "  0%|          | 0/3 [00:00<?, ?it/s]"
      ]
     },
     "metadata": {},
     "output_type": "display_data"
    },
    {
     "data": {
      "application/vnd.jupyter.widget-view+json": {
       "model_id": "6cb0955a2d5d45c1afdb5c11f847a2ca",
       "version_major": 2,
       "version_minor": 0
      },
      "text/plain": [
       "  0%|          | 0/4 [00:00<?, ?it/s]"
      ]
     },
     "metadata": {},
     "output_type": "display_data"
    },
    {
     "data": {
      "application/vnd.jupyter.widget-view+json": {
       "model_id": "190eae3a83ae4fa29aba218ed8b07a89",
       "version_major": 2,
       "version_minor": 0
      },
      "text/plain": [
       "  0%|          | 0/625 [00:00<?, ?it/s]"
      ]
     },
     "metadata": {},
     "output_type": "display_data"
    },
    {
     "data": {
      "application/vnd.jupyter.widget-view+json": {
       "model_id": "80175b0ab07b4485a3d3c528dea4dd06",
       "version_major": 2,
       "version_minor": 0
      },
      "text/plain": [
       "  0%|          | 0/625 [00:00<?, ?it/s]"
      ]
     },
     "metadata": {},
     "output_type": "display_data"
    },
    {
     "data": {
      "application/vnd.jupyter.widget-view+json": {
       "model_id": "c100480818a0417fa2b00013133c96d5",
       "version_major": 2,
       "version_minor": 0
      },
      "text/plain": [
       "  0%|          | 0/625 [00:00<?, ?it/s]"
      ]
     },
     "metadata": {},
     "output_type": "display_data"
    },
    {
     "data": {
      "application/vnd.jupyter.widget-view+json": {
       "model_id": "5b687483dfc44565907a03aa4382c3e7",
       "version_major": 2,
       "version_minor": 0
      },
      "text/plain": [
       "  0%|          | 0/625 [00:00<?, ?it/s]"
      ]
     },
     "metadata": {},
     "output_type": "display_data"
    },
    {
     "data": {
      "application/vnd.jupyter.widget-view+json": {
       "model_id": "93d91fc94a6d47b69035898cc97e3059",
       "version_major": 2,
       "version_minor": 0
      },
      "text/plain": [
       "  0%|          | 0/4 [00:00<?, ?it/s]"
      ]
     },
     "metadata": {},
     "output_type": "display_data"
    },
    {
     "data": {
      "application/vnd.jupyter.widget-view+json": {
       "model_id": "731ffcba742b462496672be5b3321c88",
       "version_major": 2,
       "version_minor": 0
      },
      "text/plain": [
       "  0%|          | 0/625 [00:00<?, ?it/s]"
      ]
     },
     "metadata": {},
     "output_type": "display_data"
    },
    {
     "data": {
      "application/vnd.jupyter.widget-view+json": {
       "model_id": "ec9da23d05f245d984faccbdc334560c",
       "version_major": 2,
       "version_minor": 0
      },
      "text/plain": [
       "  0%|          | 0/625 [00:00<?, ?it/s]"
      ]
     },
     "metadata": {},
     "output_type": "display_data"
    },
    {
     "data": {
      "application/vnd.jupyter.widget-view+json": {
       "model_id": "f717fce6e04149169f3557d0c0ccc9ab",
       "version_major": 2,
       "version_minor": 0
      },
      "text/plain": [
       "  0%|          | 0/625 [00:00<?, ?it/s]"
      ]
     },
     "metadata": {},
     "output_type": "display_data"
    },
    {
     "data": {
      "application/vnd.jupyter.widget-view+json": {
       "model_id": "c89353c95d844551b290f235c01767ea",
       "version_major": 2,
       "version_minor": 0
      },
      "text/plain": [
       "  0%|          | 0/625 [00:00<?, ?it/s]"
      ]
     },
     "metadata": {},
     "output_type": "display_data"
    },
    {
     "data": {
      "application/vnd.jupyter.widget-view+json": {
       "model_id": "5e9488c4c9624105bd9f34c204eccb10",
       "version_major": 2,
       "version_minor": 0
      },
      "text/plain": [
       "  0%|          | 0/4 [00:00<?, ?it/s]"
      ]
     },
     "metadata": {},
     "output_type": "display_data"
    },
    {
     "data": {
      "application/vnd.jupyter.widget-view+json": {
       "model_id": "62879ee095cf434fb5eec7bb0ab0736b",
       "version_major": 2,
       "version_minor": 0
      },
      "text/plain": [
       "  0%|          | 0/625 [00:00<?, ?it/s]"
      ]
     },
     "metadata": {},
     "output_type": "display_data"
    },
    {
     "data": {
      "application/vnd.jupyter.widget-view+json": {
       "model_id": "df73db1bf5104f5cbbb86724c63ff828",
       "version_major": 2,
       "version_minor": 0
      },
      "text/plain": [
       "  0%|          | 0/625 [00:00<?, ?it/s]"
      ]
     },
     "metadata": {},
     "output_type": "display_data"
    },
    {
     "data": {
      "application/vnd.jupyter.widget-view+json": {
       "model_id": "0465c4ea4b344414b4c8a8991b60c937",
       "version_major": 2,
       "version_minor": 0
      },
      "text/plain": [
       "  0%|          | 0/625 [00:00<?, ?it/s]"
      ]
     },
     "metadata": {},
     "output_type": "display_data"
    },
    {
     "data": {
      "application/vnd.jupyter.widget-view+json": {
       "model_id": "3e91384c398c44439d60ca7ff7fb09c2",
       "version_major": 2,
       "version_minor": 0
      },
      "text/plain": [
       "  0%|          | 0/625 [00:00<?, ?it/s]"
      ]
     },
     "metadata": {},
     "output_type": "display_data"
    },
    {
     "data": {
      "application/vnd.jupyter.widget-view+json": {
       "model_id": "a75238376c3a40ec9e71a3e7cd9300ec",
       "version_major": 2,
       "version_minor": 0
      },
      "text/plain": [
       "  0%|          | 0/3 [00:00<?, ?it/s]"
      ]
     },
     "metadata": {},
     "output_type": "display_data"
    },
    {
     "data": {
      "application/vnd.jupyter.widget-view+json": {
       "model_id": "5ae7b554f2c14d55b54ca2d0217e6a14",
       "version_major": 2,
       "version_minor": 0
      },
      "text/plain": [
       "  0%|          | 0/4 [00:00<?, ?it/s]"
      ]
     },
     "metadata": {},
     "output_type": "display_data"
    },
    {
     "data": {
      "application/vnd.jupyter.widget-view+json": {
       "model_id": "10a4084139f34fb6b64ebc93a2babfb9",
       "version_major": 2,
       "version_minor": 0
      },
      "text/plain": [
       "  0%|          | 0/625 [00:00<?, ?it/s]"
      ]
     },
     "metadata": {},
     "output_type": "display_data"
    },
    {
     "data": {
      "application/vnd.jupyter.widget-view+json": {
       "model_id": "74c524f2ac634421b5fbb739af11f3ee",
       "version_major": 2,
       "version_minor": 0
      },
      "text/plain": [
       "  0%|          | 0/625 [00:00<?, ?it/s]"
      ]
     },
     "metadata": {},
     "output_type": "display_data"
    },
    {
     "data": {
      "application/vnd.jupyter.widget-view+json": {
       "model_id": "00fa4e1223b7477d91f3c90308173840",
       "version_major": 2,
       "version_minor": 0
      },
      "text/plain": [
       "  0%|          | 0/625 [00:00<?, ?it/s]"
      ]
     },
     "metadata": {},
     "output_type": "display_data"
    },
    {
     "data": {
      "application/vnd.jupyter.widget-view+json": {
       "model_id": "d03637a144ff49db8ac3980b732f6732",
       "version_major": 2,
       "version_minor": 0
      },
      "text/plain": [
       "  0%|          | 0/625 [00:00<?, ?it/s]"
      ]
     },
     "metadata": {},
     "output_type": "display_data"
    },
    {
     "data": {
      "application/vnd.jupyter.widget-view+json": {
       "model_id": "123519292a42448582671a2f6899ba84",
       "version_major": 2,
       "version_minor": 0
      },
      "text/plain": [
       "  0%|          | 0/4 [00:00<?, ?it/s]"
      ]
     },
     "metadata": {},
     "output_type": "display_data"
    },
    {
     "data": {
      "application/vnd.jupyter.widget-view+json": {
       "model_id": "0a8f0a25d8774e5aac9eb5b6f1fdb54b",
       "version_major": 2,
       "version_minor": 0
      },
      "text/plain": [
       "  0%|          | 0/625 [00:00<?, ?it/s]"
      ]
     },
     "metadata": {},
     "output_type": "display_data"
    },
    {
     "data": {
      "application/vnd.jupyter.widget-view+json": {
       "model_id": "e78b991d3d3d432892960ce14f242a5b",
       "version_major": 2,
       "version_minor": 0
      },
      "text/plain": [
       "  0%|          | 0/625 [00:00<?, ?it/s]"
      ]
     },
     "metadata": {},
     "output_type": "display_data"
    },
    {
     "data": {
      "application/vnd.jupyter.widget-view+json": {
       "model_id": "c25f6d84553b4148908f625e113bea9e",
       "version_major": 2,
       "version_minor": 0
      },
      "text/plain": [
       "  0%|          | 0/625 [00:00<?, ?it/s]"
      ]
     },
     "metadata": {},
     "output_type": "display_data"
    },
    {
     "data": {
      "application/vnd.jupyter.widget-view+json": {
       "model_id": "d6aa16f095b54b27bb26b7a1c974536e",
       "version_major": 2,
       "version_minor": 0
      },
      "text/plain": [
       "  0%|          | 0/625 [00:00<?, ?it/s]"
      ]
     },
     "metadata": {},
     "output_type": "display_data"
    },
    {
     "data": {
      "application/vnd.jupyter.widget-view+json": {
       "model_id": "f7535b9549ae48e99972759bb53291be",
       "version_major": 2,
       "version_minor": 0
      },
      "text/plain": [
       "  0%|          | 0/4 [00:00<?, ?it/s]"
      ]
     },
     "metadata": {},
     "output_type": "display_data"
    },
    {
     "data": {
      "application/vnd.jupyter.widget-view+json": {
       "model_id": "a65947034ee8421e8b04b6ec6f7b1a04",
       "version_major": 2,
       "version_minor": 0
      },
      "text/plain": [
       "  0%|          | 0/625 [00:00<?, ?it/s]"
      ]
     },
     "metadata": {},
     "output_type": "display_data"
    },
    {
     "data": {
      "application/vnd.jupyter.widget-view+json": {
       "model_id": "c8c8f75f42f047f39a0b6833d461436d",
       "version_major": 2,
       "version_minor": 0
      },
      "text/plain": [
       "  0%|          | 0/625 [00:00<?, ?it/s]"
      ]
     },
     "metadata": {},
     "output_type": "display_data"
    },
    {
     "data": {
      "application/vnd.jupyter.widget-view+json": {
       "model_id": "18f58458982a418e9afc073480dbd48d",
       "version_major": 2,
       "version_minor": 0
      },
      "text/plain": [
       "  0%|          | 0/625 [00:00<?, ?it/s]"
      ]
     },
     "metadata": {},
     "output_type": "display_data"
    },
    {
     "data": {
      "application/vnd.jupyter.widget-view+json": {
       "model_id": "dbcbf96a0427457e9e0211242907a2a1",
       "version_major": 2,
       "version_minor": 0
      },
      "text/plain": [
       "  0%|          | 0/625 [00:00<?, ?it/s]"
      ]
     },
     "metadata": {},
     "output_type": "display_data"
    },
    {
     "data": {
      "application/vnd.jupyter.widget-view+json": {
       "model_id": "f37c05c0461f4c0aa25d828dfeb67c5b",
       "version_major": 2,
       "version_minor": 0
      },
      "text/plain": [
       "  0%|          | 0/3 [00:00<?, ?it/s]"
      ]
     },
     "metadata": {},
     "output_type": "display_data"
    },
    {
     "data": {
      "application/vnd.jupyter.widget-view+json": {
       "model_id": "1f44fe5f82d9407fa96bc8c9a9c16b6b",
       "version_major": 2,
       "version_minor": 0
      },
      "text/plain": [
       "  0%|          | 0/4 [00:00<?, ?it/s]"
      ]
     },
     "metadata": {},
     "output_type": "display_data"
    },
    {
     "data": {
      "application/vnd.jupyter.widget-view+json": {
       "model_id": "a2c95368067a462ba1c8091867350771",
       "version_major": 2,
       "version_minor": 0
      },
      "text/plain": [
       "  0%|          | 0/625 [00:00<?, ?it/s]"
      ]
     },
     "metadata": {},
     "output_type": "display_data"
    },
    {
     "data": {
      "application/vnd.jupyter.widget-view+json": {
       "model_id": "0f34447e979b4d8fb428cea97bda46a2",
       "version_major": 2,
       "version_minor": 0
      },
      "text/plain": [
       "  0%|          | 0/625 [00:00<?, ?it/s]"
      ]
     },
     "metadata": {},
     "output_type": "display_data"
    },
    {
     "data": {
      "application/vnd.jupyter.widget-view+json": {
       "model_id": "3e6312e7997048d183053d21a04638f0",
       "version_major": 2,
       "version_minor": 0
      },
      "text/plain": [
       "  0%|          | 0/625 [00:00<?, ?it/s]"
      ]
     },
     "metadata": {},
     "output_type": "display_data"
    },
    {
     "data": {
      "application/vnd.jupyter.widget-view+json": {
       "model_id": "dcab2fba46174df4beb5d50a6aaa661c",
       "version_major": 2,
       "version_minor": 0
      },
      "text/plain": [
       "  0%|          | 0/625 [00:00<?, ?it/s]"
      ]
     },
     "metadata": {},
     "output_type": "display_data"
    },
    {
     "data": {
      "application/vnd.jupyter.widget-view+json": {
       "model_id": "8f4454e89e6f40b9819f83a664071270",
       "version_major": 2,
       "version_minor": 0
      },
      "text/plain": [
       "  0%|          | 0/4 [00:00<?, ?it/s]"
      ]
     },
     "metadata": {},
     "output_type": "display_data"
    },
    {
     "data": {
      "application/vnd.jupyter.widget-view+json": {
       "model_id": "6efc8c8de5694eb5ba964548e53646f2",
       "version_major": 2,
       "version_minor": 0
      },
      "text/plain": [
       "  0%|          | 0/625 [00:00<?, ?it/s]"
      ]
     },
     "metadata": {},
     "output_type": "display_data"
    },
    {
     "data": {
      "application/vnd.jupyter.widget-view+json": {
       "model_id": "fb6a84e8d425499bb29b8ce4cb5c063e",
       "version_major": 2,
       "version_minor": 0
      },
      "text/plain": [
       "  0%|          | 0/625 [00:00<?, ?it/s]"
      ]
     },
     "metadata": {},
     "output_type": "display_data"
    },
    {
     "data": {
      "application/vnd.jupyter.widget-view+json": {
       "model_id": "67de5db390e946c9832722f6e054c082",
       "version_major": 2,
       "version_minor": 0
      },
      "text/plain": [
       "  0%|          | 0/625 [00:00<?, ?it/s]"
      ]
     },
     "metadata": {},
     "output_type": "display_data"
    },
    {
     "data": {
      "application/vnd.jupyter.widget-view+json": {
       "model_id": "72b3b60611dd4b06b6c47bec97add43f",
       "version_major": 2,
       "version_minor": 0
      },
      "text/plain": [
       "  0%|          | 0/625 [00:00<?, ?it/s]"
      ]
     },
     "metadata": {},
     "output_type": "display_data"
    },
    {
     "data": {
      "application/vnd.jupyter.widget-view+json": {
       "model_id": "c2bdce07f008402ca952b33d676cef41",
       "version_major": 2,
       "version_minor": 0
      },
      "text/plain": [
       "  0%|          | 0/4 [00:00<?, ?it/s]"
      ]
     },
     "metadata": {},
     "output_type": "display_data"
    },
    {
     "data": {
      "application/vnd.jupyter.widget-view+json": {
       "model_id": "3d6870cfe8b34d978e40e86c353667c8",
       "version_major": 2,
       "version_minor": 0
      },
      "text/plain": [
       "  0%|          | 0/625 [00:00<?, ?it/s]"
      ]
     },
     "metadata": {},
     "output_type": "display_data"
    },
    {
     "data": {
      "application/vnd.jupyter.widget-view+json": {
       "model_id": "c0ceec4279a144e3bd11b209fbee5a84",
       "version_major": 2,
       "version_minor": 0
      },
      "text/plain": [
       "  0%|          | 0/625 [00:00<?, ?it/s]"
      ]
     },
     "metadata": {},
     "output_type": "display_data"
    },
    {
     "data": {
      "application/vnd.jupyter.widget-view+json": {
       "model_id": "eb29b4c7a0e64f1b9bd2d34dfcf9f6ba",
       "version_major": 2,
       "version_minor": 0
      },
      "text/plain": [
       "  0%|          | 0/625 [00:00<?, ?it/s]"
      ]
     },
     "metadata": {},
     "output_type": "display_data"
    },
    {
     "data": {
      "application/vnd.jupyter.widget-view+json": {
       "model_id": "44aa4f1818354c09a695e7fa1d53f83c",
       "version_major": 2,
       "version_minor": 0
      },
      "text/plain": [
       "  0%|          | 0/625 [00:00<?, ?it/s]"
      ]
     },
     "metadata": {},
     "output_type": "display_data"
    },
    {
     "data": {
      "application/vnd.jupyter.widget-view+json": {
       "model_id": "7194c9c5dcc846969c5c3dfe01ad13c9",
       "version_major": 2,
       "version_minor": 0
      },
      "text/plain": [
       "  0%|          | 0/3 [00:00<?, ?it/s]"
      ]
     },
     "metadata": {},
     "output_type": "display_data"
    },
    {
     "data": {
      "application/vnd.jupyter.widget-view+json": {
       "model_id": "ac553d9a64a34e2dbd1b5efb6f6bf5a4",
       "version_major": 2,
       "version_minor": 0
      },
      "text/plain": [
       "  0%|          | 0/4 [00:00<?, ?it/s]"
      ]
     },
     "metadata": {},
     "output_type": "display_data"
    },
    {
     "data": {
      "application/vnd.jupyter.widget-view+json": {
       "model_id": "bbede3d275ce46a5ac0176dd336e09ce",
       "version_major": 2,
       "version_minor": 0
      },
      "text/plain": [
       "  0%|          | 0/625 [00:00<?, ?it/s]"
      ]
     },
     "metadata": {},
     "output_type": "display_data"
    },
    {
     "data": {
      "application/vnd.jupyter.widget-view+json": {
       "model_id": "2b2586ef3cf547508c5dedc8df86ddf1",
       "version_major": 2,
       "version_minor": 0
      },
      "text/plain": [
       "  0%|          | 0/625 [00:00<?, ?it/s]"
      ]
     },
     "metadata": {},
     "output_type": "display_data"
    },
    {
     "data": {
      "application/vnd.jupyter.widget-view+json": {
       "model_id": "32b4c9e4ccf64546b79583472053a281",
       "version_major": 2,
       "version_minor": 0
      },
      "text/plain": [
       "  0%|          | 0/625 [00:00<?, ?it/s]"
      ]
     },
     "metadata": {},
     "output_type": "display_data"
    },
    {
     "data": {
      "application/vnd.jupyter.widget-view+json": {
       "model_id": "c503f0edbdb54eb289ca82bcbb6780f6",
       "version_major": 2,
       "version_minor": 0
      },
      "text/plain": [
       "  0%|          | 0/625 [00:00<?, ?it/s]"
      ]
     },
     "metadata": {},
     "output_type": "display_data"
    },
    {
     "data": {
      "application/vnd.jupyter.widget-view+json": {
       "model_id": "372eece884af4125a69a63496f7f539c",
       "version_major": 2,
       "version_minor": 0
      },
      "text/plain": [
       "  0%|          | 0/4 [00:00<?, ?it/s]"
      ]
     },
     "metadata": {},
     "output_type": "display_data"
    },
    {
     "data": {
      "application/vnd.jupyter.widget-view+json": {
       "model_id": "e9058da7ea744e019787328714cacd26",
       "version_major": 2,
       "version_minor": 0
      },
      "text/plain": [
       "  0%|          | 0/625 [00:00<?, ?it/s]"
      ]
     },
     "metadata": {},
     "output_type": "display_data"
    },
    {
     "data": {
      "application/vnd.jupyter.widget-view+json": {
       "model_id": "dc7f6556a2a94d3e91ca78bdca0ac203",
       "version_major": 2,
       "version_minor": 0
      },
      "text/plain": [
       "  0%|          | 0/625 [00:00<?, ?it/s]"
      ]
     },
     "metadata": {},
     "output_type": "display_data"
    },
    {
     "data": {
      "application/vnd.jupyter.widget-view+json": {
       "model_id": "7057a59c27f547d6b3fd76da8e94a824",
       "version_major": 2,
       "version_minor": 0
      },
      "text/plain": [
       "  0%|          | 0/625 [00:00<?, ?it/s]"
      ]
     },
     "metadata": {},
     "output_type": "display_data"
    },
    {
     "data": {
      "application/vnd.jupyter.widget-view+json": {
       "model_id": "431b39111f7848e5a73e75fdee372b33",
       "version_major": 2,
       "version_minor": 0
      },
      "text/plain": [
       "  0%|          | 0/625 [00:00<?, ?it/s]"
      ]
     },
     "metadata": {},
     "output_type": "display_data"
    },
    {
     "data": {
      "application/vnd.jupyter.widget-view+json": {
       "model_id": "4fc4995ddb8e4058a1fef63b560ac7b4",
       "version_major": 2,
       "version_minor": 0
      },
      "text/plain": [
       "  0%|          | 0/4 [00:00<?, ?it/s]"
      ]
     },
     "metadata": {},
     "output_type": "display_data"
    },
    {
     "data": {
      "application/vnd.jupyter.widget-view+json": {
       "model_id": "5378fb8fe53246af824a00df0611b08f",
       "version_major": 2,
       "version_minor": 0
      },
      "text/plain": [
       "  0%|          | 0/625 [00:00<?, ?it/s]"
      ]
     },
     "metadata": {},
     "output_type": "display_data"
    },
    {
     "data": {
      "application/vnd.jupyter.widget-view+json": {
       "model_id": "078727ea0001429fa79ce6df29eb90d2",
       "version_major": 2,
       "version_minor": 0
      },
      "text/plain": [
       "  0%|          | 0/625 [00:00<?, ?it/s]"
      ]
     },
     "metadata": {},
     "output_type": "display_data"
    },
    {
     "data": {
      "application/vnd.jupyter.widget-view+json": {
       "model_id": "d6dabd6eca04411ab5ad198f26165bf7",
       "version_major": 2,
       "version_minor": 0
      },
      "text/plain": [
       "  0%|          | 0/625 [00:00<?, ?it/s]"
      ]
     },
     "metadata": {},
     "output_type": "display_data"
    },
    {
     "data": {
      "application/vnd.jupyter.widget-view+json": {
       "model_id": "6003981442a640a3af424fef18292eba",
       "version_major": 2,
       "version_minor": 0
      },
      "text/plain": [
       "  0%|          | 0/625 [00:00<?, ?it/s]"
      ]
     },
     "metadata": {},
     "output_type": "display_data"
    },
    {
     "data": {
      "application/vnd.jupyter.widget-view+json": {
       "model_id": "9eac95a042214f96b2b9fc9ea5769384",
       "version_major": 2,
       "version_minor": 0
      },
      "text/plain": [
       "  0%|          | 0/3 [00:00<?, ?it/s]"
      ]
     },
     "metadata": {},
     "output_type": "display_data"
    },
    {
     "data": {
      "application/vnd.jupyter.widget-view+json": {
       "model_id": "c08c3312bfa14856a31f56b51f1192f8",
       "version_major": 2,
       "version_minor": 0
      },
      "text/plain": [
       "  0%|          | 0/4 [00:00<?, ?it/s]"
      ]
     },
     "metadata": {},
     "output_type": "display_data"
    },
    {
     "data": {
      "application/vnd.jupyter.widget-view+json": {
       "model_id": "d59dacf7b8234d2ab2aff55221222489",
       "version_major": 2,
       "version_minor": 0
      },
      "text/plain": [
       "  0%|          | 0/625 [00:00<?, ?it/s]"
      ]
     },
     "metadata": {},
     "output_type": "display_data"
    },
    {
     "data": {
      "application/vnd.jupyter.widget-view+json": {
       "model_id": "c0707c91fc9e4176a05cd2856ae092cf",
       "version_major": 2,
       "version_minor": 0
      },
      "text/plain": [
       "  0%|          | 0/625 [00:00<?, ?it/s]"
      ]
     },
     "metadata": {},
     "output_type": "display_data"
    },
    {
     "data": {
      "application/vnd.jupyter.widget-view+json": {
       "model_id": "aec1e8640f9a4e54996c0fc8341a13b9",
       "version_major": 2,
       "version_minor": 0
      },
      "text/plain": [
       "  0%|          | 0/625 [00:00<?, ?it/s]"
      ]
     },
     "metadata": {},
     "output_type": "display_data"
    },
    {
     "data": {
      "application/vnd.jupyter.widget-view+json": {
       "model_id": "ab3c803c34b9433bb0099ce2954157ac",
       "version_major": 2,
       "version_minor": 0
      },
      "text/plain": [
       "  0%|          | 0/625 [00:00<?, ?it/s]"
      ]
     },
     "metadata": {},
     "output_type": "display_data"
    },
    {
     "data": {
      "application/vnd.jupyter.widget-view+json": {
       "model_id": "e93de50e59fd436088c83bc92bf6c03a",
       "version_major": 2,
       "version_minor": 0
      },
      "text/plain": [
       "  0%|          | 0/4 [00:00<?, ?it/s]"
      ]
     },
     "metadata": {},
     "output_type": "display_data"
    },
    {
     "data": {
      "application/vnd.jupyter.widget-view+json": {
       "model_id": "a14ba29ed2dc47539e5302da836f8652",
       "version_major": 2,
       "version_minor": 0
      },
      "text/plain": [
       "  0%|          | 0/625 [00:00<?, ?it/s]"
      ]
     },
     "metadata": {},
     "output_type": "display_data"
    },
    {
     "data": {
      "application/vnd.jupyter.widget-view+json": {
       "model_id": "4373569086df4340b7aba8a4839aa289",
       "version_major": 2,
       "version_minor": 0
      },
      "text/plain": [
       "  0%|          | 0/625 [00:00<?, ?it/s]"
      ]
     },
     "metadata": {},
     "output_type": "display_data"
    },
    {
     "data": {
      "application/vnd.jupyter.widget-view+json": {
       "model_id": "7204519efdd349f68477aee3681ee999",
       "version_major": 2,
       "version_minor": 0
      },
      "text/plain": [
       "  0%|          | 0/625 [00:00<?, ?it/s]"
      ]
     },
     "metadata": {},
     "output_type": "display_data"
    },
    {
     "data": {
      "application/vnd.jupyter.widget-view+json": {
       "model_id": "73829242a7b44ce4a56421684d52582e",
       "version_major": 2,
       "version_minor": 0
      },
      "text/plain": [
       "  0%|          | 0/625 [00:00<?, ?it/s]"
      ]
     },
     "metadata": {},
     "output_type": "display_data"
    },
    {
     "data": {
      "application/vnd.jupyter.widget-view+json": {
       "model_id": "c83a44ef5d2747cb900e21ac5af20994",
       "version_major": 2,
       "version_minor": 0
      },
      "text/plain": [
       "  0%|          | 0/4 [00:00<?, ?it/s]"
      ]
     },
     "metadata": {},
     "output_type": "display_data"
    },
    {
     "data": {
      "application/vnd.jupyter.widget-view+json": {
       "model_id": "20ea4e9752b042a9b5fc63c6ba5d9836",
       "version_major": 2,
       "version_minor": 0
      },
      "text/plain": [
       "  0%|          | 0/625 [00:00<?, ?it/s]"
      ]
     },
     "metadata": {},
     "output_type": "display_data"
    },
    {
     "data": {
      "application/vnd.jupyter.widget-view+json": {
       "model_id": "a282a7535f4849209230681a013090c7",
       "version_major": 2,
       "version_minor": 0
      },
      "text/plain": [
       "  0%|          | 0/625 [00:00<?, ?it/s]"
      ]
     },
     "metadata": {},
     "output_type": "display_data"
    },
    {
     "data": {
      "application/vnd.jupyter.widget-view+json": {
       "model_id": "3878121880ff46fdb7286371592c159f",
       "version_major": 2,
       "version_minor": 0
      },
      "text/plain": [
       "  0%|          | 0/625 [00:00<?, ?it/s]"
      ]
     },
     "metadata": {},
     "output_type": "display_data"
    },
    {
     "data": {
      "application/vnd.jupyter.widget-view+json": {
       "model_id": "8ac3ab6731484ebdb33aa8065b9eecc9",
       "version_major": 2,
       "version_minor": 0
      },
      "text/plain": [
       "  0%|          | 0/625 [00:00<?, ?it/s]"
      ]
     },
     "metadata": {},
     "output_type": "display_data"
    },
    {
     "data": {
      "application/vnd.jupyter.widget-view+json": {
       "model_id": "b401a202aab7401f8899229d92a3648c",
       "version_major": 2,
       "version_minor": 0
      },
      "text/plain": [
       "  0%|          | 0/3 [00:00<?, ?it/s]"
      ]
     },
     "metadata": {},
     "output_type": "display_data"
    },
    {
     "data": {
      "application/vnd.jupyter.widget-view+json": {
       "model_id": "86338684643b4127a3c689013f44988b",
       "version_major": 2,
       "version_minor": 0
      },
      "text/plain": [
       "  0%|          | 0/4 [00:00<?, ?it/s]"
      ]
     },
     "metadata": {},
     "output_type": "display_data"
    },
    {
     "data": {
      "application/vnd.jupyter.widget-view+json": {
       "model_id": "469a6f0defc444c3b1da3bd86200dfd5",
       "version_major": 2,
       "version_minor": 0
      },
      "text/plain": [
       "  0%|          | 0/625 [00:00<?, ?it/s]"
      ]
     },
     "metadata": {},
     "output_type": "display_data"
    },
    {
     "data": {
      "application/vnd.jupyter.widget-view+json": {
       "model_id": "400df88b10724197a40eae41a28cd2ca",
       "version_major": 2,
       "version_minor": 0
      },
      "text/plain": [
       "  0%|          | 0/625 [00:00<?, ?it/s]"
      ]
     },
     "metadata": {},
     "output_type": "display_data"
    },
    {
     "data": {
      "application/vnd.jupyter.widget-view+json": {
       "model_id": "015daffd480b4136b73a63f771c3c313",
       "version_major": 2,
       "version_minor": 0
      },
      "text/plain": [
       "  0%|          | 0/625 [00:00<?, ?it/s]"
      ]
     },
     "metadata": {},
     "output_type": "display_data"
    },
    {
     "data": {
      "application/vnd.jupyter.widget-view+json": {
       "model_id": "26f399c374bb4cff83a5a210e111a782",
       "version_major": 2,
       "version_minor": 0
      },
      "text/plain": [
       "  0%|          | 0/625 [00:00<?, ?it/s]"
      ]
     },
     "metadata": {},
     "output_type": "display_data"
    },
    {
     "data": {
      "application/vnd.jupyter.widget-view+json": {
       "model_id": "fef91b447ad34fee82da9f7caa067476",
       "version_major": 2,
       "version_minor": 0
      },
      "text/plain": [
       "  0%|          | 0/4 [00:00<?, ?it/s]"
      ]
     },
     "metadata": {},
     "output_type": "display_data"
    },
    {
     "data": {
      "application/vnd.jupyter.widget-view+json": {
       "model_id": "113670cd664d4eef94ba8c28c7b54638",
       "version_major": 2,
       "version_minor": 0
      },
      "text/plain": [
       "  0%|          | 0/625 [00:00<?, ?it/s]"
      ]
     },
     "metadata": {},
     "output_type": "display_data"
    },
    {
     "data": {
      "application/vnd.jupyter.widget-view+json": {
       "model_id": "5f3c1683559d47f981cffd8be6af3f1f",
       "version_major": 2,
       "version_minor": 0
      },
      "text/plain": [
       "  0%|          | 0/625 [00:00<?, ?it/s]"
      ]
     },
     "metadata": {},
     "output_type": "display_data"
    },
    {
     "data": {
      "application/vnd.jupyter.widget-view+json": {
       "model_id": "626d58f46c1f43e997e175eca50f58bb",
       "version_major": 2,
       "version_minor": 0
      },
      "text/plain": [
       "  0%|          | 0/625 [00:00<?, ?it/s]"
      ]
     },
     "metadata": {},
     "output_type": "display_data"
    },
    {
     "data": {
      "application/vnd.jupyter.widget-view+json": {
       "model_id": "155a222351964917ba9c723eda6a943f",
       "version_major": 2,
       "version_minor": 0
      },
      "text/plain": [
       "  0%|          | 0/625 [00:00<?, ?it/s]"
      ]
     },
     "metadata": {},
     "output_type": "display_data"
    },
    {
     "data": {
      "application/vnd.jupyter.widget-view+json": {
       "model_id": "f92e4b6562d74aeaa85786ccd49755ad",
       "version_major": 2,
       "version_minor": 0
      },
      "text/plain": [
       "  0%|          | 0/4 [00:00<?, ?it/s]"
      ]
     },
     "metadata": {},
     "output_type": "display_data"
    },
    {
     "data": {
      "application/vnd.jupyter.widget-view+json": {
       "model_id": "f0d30feb23814321b012aab4ed0377f4",
       "version_major": 2,
       "version_minor": 0
      },
      "text/plain": [
       "  0%|          | 0/625 [00:00<?, ?it/s]"
      ]
     },
     "metadata": {},
     "output_type": "display_data"
    },
    {
     "data": {
      "application/vnd.jupyter.widget-view+json": {
       "model_id": "a398dab18f9d461a8ec5080fb2afe76f",
       "version_major": 2,
       "version_minor": 0
      },
      "text/plain": [
       "  0%|          | 0/625 [00:00<?, ?it/s]"
      ]
     },
     "metadata": {},
     "output_type": "display_data"
    },
    {
     "data": {
      "application/vnd.jupyter.widget-view+json": {
       "model_id": "fbdd99880b854e7783bdfa606c37849a",
       "version_major": 2,
       "version_minor": 0
      },
      "text/plain": [
       "  0%|          | 0/625 [00:00<?, ?it/s]"
      ]
     },
     "metadata": {},
     "output_type": "display_data"
    },
    {
     "data": {
      "application/vnd.jupyter.widget-view+json": {
       "model_id": "87ffcbb42fc544888c2d9f6049da6e79",
       "version_major": 2,
       "version_minor": 0
      },
      "text/plain": [
       "  0%|          | 0/625 [00:00<?, ?it/s]"
      ]
     },
     "metadata": {},
     "output_type": "display_data"
    },
    {
     "data": {
      "application/vnd.jupyter.widget-view+json": {
       "model_id": "a6c4b475019540f3a5659a75e0f053e7",
       "version_major": 2,
       "version_minor": 0
      },
      "text/plain": [
       "  0%|          | 0/3 [00:00<?, ?it/s]"
      ]
     },
     "metadata": {},
     "output_type": "display_data"
    },
    {
     "data": {
      "application/vnd.jupyter.widget-view+json": {
       "model_id": "d2b0c5353d624c68b755e1e046b78b9b",
       "version_major": 2,
       "version_minor": 0
      },
      "text/plain": [
       "  0%|          | 0/4 [00:00<?, ?it/s]"
      ]
     },
     "metadata": {},
     "output_type": "display_data"
    },
    {
     "data": {
      "application/vnd.jupyter.widget-view+json": {
       "model_id": "dba9fe9cdfba4d51a3b2e6dba13f951b",
       "version_major": 2,
       "version_minor": 0
      },
      "text/plain": [
       "  0%|          | 0/625 [00:00<?, ?it/s]"
      ]
     },
     "metadata": {},
     "output_type": "display_data"
    },
    {
     "data": {
      "application/vnd.jupyter.widget-view+json": {
       "model_id": "f1c5786a2604466e8a08b22b79f6dd11",
       "version_major": 2,
       "version_minor": 0
      },
      "text/plain": [
       "  0%|          | 0/625 [00:00<?, ?it/s]"
      ]
     },
     "metadata": {},
     "output_type": "display_data"
    },
    {
     "data": {
      "application/vnd.jupyter.widget-view+json": {
       "model_id": "fa591a7151dd4d0684bc4422aea4bfff",
       "version_major": 2,
       "version_minor": 0
      },
      "text/plain": [
       "  0%|          | 0/625 [00:00<?, ?it/s]"
      ]
     },
     "metadata": {},
     "output_type": "display_data"
    },
    {
     "data": {
      "application/vnd.jupyter.widget-view+json": {
       "model_id": "b35fe7b18f584824ba66a02bae475ebb",
       "version_major": 2,
       "version_minor": 0
      },
      "text/plain": [
       "  0%|          | 0/625 [00:00<?, ?it/s]"
      ]
     },
     "metadata": {},
     "output_type": "display_data"
    },
    {
     "data": {
      "application/vnd.jupyter.widget-view+json": {
       "model_id": "60307eccfc9b452db2a74ab776216d53",
       "version_major": 2,
       "version_minor": 0
      },
      "text/plain": [
       "  0%|          | 0/4 [00:00<?, ?it/s]"
      ]
     },
     "metadata": {},
     "output_type": "display_data"
    },
    {
     "data": {
      "application/vnd.jupyter.widget-view+json": {
       "model_id": "20e238d4d2e347d59a35e27bb8a0b0e0",
       "version_major": 2,
       "version_minor": 0
      },
      "text/plain": [
       "  0%|          | 0/625 [00:00<?, ?it/s]"
      ]
     },
     "metadata": {},
     "output_type": "display_data"
    },
    {
     "data": {
      "application/vnd.jupyter.widget-view+json": {
       "model_id": "29d6e1117aa540ce9f6d329d45e4b080",
       "version_major": 2,
       "version_minor": 0
      },
      "text/plain": [
       "  0%|          | 0/625 [00:00<?, ?it/s]"
      ]
     },
     "metadata": {},
     "output_type": "display_data"
    },
    {
     "data": {
      "application/vnd.jupyter.widget-view+json": {
       "model_id": "9148a928739b4d8a87887c189d154e43",
       "version_major": 2,
       "version_minor": 0
      },
      "text/plain": [
       "  0%|          | 0/625 [00:00<?, ?it/s]"
      ]
     },
     "metadata": {},
     "output_type": "display_data"
    },
    {
     "data": {
      "application/vnd.jupyter.widget-view+json": {
       "model_id": "ec26b715466f48ebbbe1d11238b99e0c",
       "version_major": 2,
       "version_minor": 0
      },
      "text/plain": [
       "  0%|          | 0/625 [00:00<?, ?it/s]"
      ]
     },
     "metadata": {},
     "output_type": "display_data"
    },
    {
     "data": {
      "application/vnd.jupyter.widget-view+json": {
       "model_id": "2277456ecd7c4c76884f8ca9522baca3",
       "version_major": 2,
       "version_minor": 0
      },
      "text/plain": [
       "  0%|          | 0/4 [00:00<?, ?it/s]"
      ]
     },
     "metadata": {},
     "output_type": "display_data"
    },
    {
     "data": {
      "application/vnd.jupyter.widget-view+json": {
       "model_id": "7333ee67dbb14edba44adb51d756a0ad",
       "version_major": 2,
       "version_minor": 0
      },
      "text/plain": [
       "  0%|          | 0/625 [00:00<?, ?it/s]"
      ]
     },
     "metadata": {},
     "output_type": "display_data"
    },
    {
     "data": {
      "application/vnd.jupyter.widget-view+json": {
       "model_id": "6898021baa7b4bfab1f29f859656215e",
       "version_major": 2,
       "version_minor": 0
      },
      "text/plain": [
       "  0%|          | 0/625 [00:00<?, ?it/s]"
      ]
     },
     "metadata": {},
     "output_type": "display_data"
    },
    {
     "data": {
      "application/vnd.jupyter.widget-view+json": {
       "model_id": "665ab8fa70504d49bf3f22f66f9de08e",
       "version_major": 2,
       "version_minor": 0
      },
      "text/plain": [
       "  0%|          | 0/625 [00:00<?, ?it/s]"
      ]
     },
     "metadata": {},
     "output_type": "display_data"
    },
    {
     "data": {
      "application/vnd.jupyter.widget-view+json": {
       "model_id": "27aae36629e74150b87f618a6d5b3eb7",
       "version_major": 2,
       "version_minor": 0
      },
      "text/plain": [
       "  0%|          | 0/625 [00:00<?, ?it/s]"
      ]
     },
     "metadata": {},
     "output_type": "display_data"
    },
    {
     "data": {
      "application/vnd.jupyter.widget-view+json": {
       "model_id": "1a9240c616d04bc59177e5a96b3ce2eb",
       "version_major": 2,
       "version_minor": 0
      },
      "text/plain": [
       "  0%|          | 0/3 [00:00<?, ?it/s]"
      ]
     },
     "metadata": {},
     "output_type": "display_data"
    },
    {
     "data": {
      "application/vnd.jupyter.widget-view+json": {
       "model_id": "285d3f2f254f4f67a2f236376a4e1035",
       "version_major": 2,
       "version_minor": 0
      },
      "text/plain": [
       "  0%|          | 0/4 [00:00<?, ?it/s]"
      ]
     },
     "metadata": {},
     "output_type": "display_data"
    },
    {
     "data": {
      "application/vnd.jupyter.widget-view+json": {
       "model_id": "5765c251a3c44e65ba0f7c3efdf0a2ce",
       "version_major": 2,
       "version_minor": 0
      },
      "text/plain": [
       "  0%|          | 0/625 [00:00<?, ?it/s]"
      ]
     },
     "metadata": {},
     "output_type": "display_data"
    },
    {
     "data": {
      "application/vnd.jupyter.widget-view+json": {
       "model_id": "9c6139cb161a4628a0d588843a51f64f",
       "version_major": 2,
       "version_minor": 0
      },
      "text/plain": [
       "  0%|          | 0/625 [00:00<?, ?it/s]"
      ]
     },
     "metadata": {},
     "output_type": "display_data"
    },
    {
     "data": {
      "application/vnd.jupyter.widget-view+json": {
       "model_id": "dc7f482728e44baa9e9974b55b66feea",
       "version_major": 2,
       "version_minor": 0
      },
      "text/plain": [
       "  0%|          | 0/625 [00:00<?, ?it/s]"
      ]
     },
     "metadata": {},
     "output_type": "display_data"
    },
    {
     "data": {
      "application/vnd.jupyter.widget-view+json": {
       "model_id": "9b8444f957064b838d86502d5d9da11d",
       "version_major": 2,
       "version_minor": 0
      },
      "text/plain": [
       "  0%|          | 0/625 [00:00<?, ?it/s]"
      ]
     },
     "metadata": {},
     "output_type": "display_data"
    },
    {
     "data": {
      "application/vnd.jupyter.widget-view+json": {
       "model_id": "6036bae092424a81a3ee08f9270ae279",
       "version_major": 2,
       "version_minor": 0
      },
      "text/plain": [
       "  0%|          | 0/4 [00:00<?, ?it/s]"
      ]
     },
     "metadata": {},
     "output_type": "display_data"
    },
    {
     "data": {
      "application/vnd.jupyter.widget-view+json": {
       "model_id": "43b0221f787c45a2ae2a831383a282f5",
       "version_major": 2,
       "version_minor": 0
      },
      "text/plain": [
       "  0%|          | 0/625 [00:00<?, ?it/s]"
      ]
     },
     "metadata": {},
     "output_type": "display_data"
    },
    {
     "data": {
      "application/vnd.jupyter.widget-view+json": {
       "model_id": "ab7fdf17828442b88991d0b8025b0b48",
       "version_major": 2,
       "version_minor": 0
      },
      "text/plain": [
       "  0%|          | 0/625 [00:00<?, ?it/s]"
      ]
     },
     "metadata": {},
     "output_type": "display_data"
    },
    {
     "data": {
      "application/vnd.jupyter.widget-view+json": {
       "model_id": "52c072ecce0b43cfb5dc597d3e7aa892",
       "version_major": 2,
       "version_minor": 0
      },
      "text/plain": [
       "  0%|          | 0/625 [00:00<?, ?it/s]"
      ]
     },
     "metadata": {},
     "output_type": "display_data"
    },
    {
     "data": {
      "application/vnd.jupyter.widget-view+json": {
       "model_id": "32ead74fc99246308961ec759391c091",
       "version_major": 2,
       "version_minor": 0
      },
      "text/plain": [
       "  0%|          | 0/625 [00:00<?, ?it/s]"
      ]
     },
     "metadata": {},
     "output_type": "display_data"
    },
    {
     "data": {
      "application/vnd.jupyter.widget-view+json": {
       "model_id": "6384f64bb95c4cde974d667666556638",
       "version_major": 2,
       "version_minor": 0
      },
      "text/plain": [
       "  0%|          | 0/4 [00:00<?, ?it/s]"
      ]
     },
     "metadata": {},
     "output_type": "display_data"
    },
    {
     "data": {
      "application/vnd.jupyter.widget-view+json": {
       "model_id": "f6e2791bc741475683fa9da216b4def9",
       "version_major": 2,
       "version_minor": 0
      },
      "text/plain": [
       "  0%|          | 0/625 [00:00<?, ?it/s]"
      ]
     },
     "metadata": {},
     "output_type": "display_data"
    },
    {
     "data": {
      "application/vnd.jupyter.widget-view+json": {
       "model_id": "b4f2541457d1401dadb50da16996dccd",
       "version_major": 2,
       "version_minor": 0
      },
      "text/plain": [
       "  0%|          | 0/625 [00:00<?, ?it/s]"
      ]
     },
     "metadata": {},
     "output_type": "display_data"
    },
    {
     "data": {
      "application/vnd.jupyter.widget-view+json": {
       "model_id": "d0aae1c44b1a4f89a5dcb378e263139e",
       "version_major": 2,
       "version_minor": 0
      },
      "text/plain": [
       "  0%|          | 0/625 [00:00<?, ?it/s]"
      ]
     },
     "metadata": {},
     "output_type": "display_data"
    },
    {
     "data": {
      "application/vnd.jupyter.widget-view+json": {
       "model_id": "47f2b1fc05db4c9183e4f919c0f2e959",
       "version_major": 2,
       "version_minor": 0
      },
      "text/plain": [
       "  0%|          | 0/625 [00:00<?, ?it/s]"
      ]
     },
     "metadata": {},
     "output_type": "display_data"
    }
   ],
   "source": [
    "scores = dict()\n",
    "for item in tqdm(grid):\n",
    "    list_of_scores = []\n",
    "    for train_index, test_index in tqdm(cross_val.split(X_train), \n",
    "                                        total=number_of_batch, leave=False):\n",
    "        x_train_fold = X_train[train_index]\n",
    "        x_test_fold = X_train[test_index]\n",
    "        y_train_fold = Y_train[train_index]\n",
    "        y_test_fold = Y_train[test_index]\n",
    "\n",
    "        traindata = torch.utils.data.TensorDataset(x_train_fold, y_train_fold)\n",
    "        testdata = torch.utils.data.TensorDataset(x_test_fold, y_test_fold)\n",
    "\n",
    "        model = Perceptron(num_layers=item['num_layers'], p=item['p'],\n",
    "                           hidden_dim=item['hidden_dim'])\n",
    "        model.to(device)\n",
    "        _ = model.train()\n",
    "        trainer(model=model, \n",
    "                dataset=traindata, \n",
    "                loss_function=torch.nn.CrossEntropyLoss(), \n",
    "                optimizer=torch.optim.Adam(model.parameters(), lr=item['lr']), \n",
    "                epochs=4)\n",
    "        \n",
    "        _ = model.eval()\n",
    "        acc, report = testing(model, testdata)\n",
    "        list_of_scores.append(acc)\n",
    "    scores[str(item)] = [np.mean(list_of_scores)]"
   ]
  },
  {
   "cell_type": "code",
   "execution_count": 46,
   "id": "827ff6e9-c08a-4372-80eb-181791e4fc14",
   "metadata": {},
   "outputs": [
    {
     "name": "stdout",
     "output_type": "stream",
     "text": [
      "+------------------------------------------------------------+-----------+\n",
      "|                                                            |   ACCURACY|\n",
      "+------------------------------------------------------------+-----------+\n",
      "|   {'hidden_dim': 8, 'lr': 0.001, 'num_layers': 0, 'p': 0.1}|       0.91|\n",
      "+------------------------------------------------------------+-----------+\n",
      "|   {'hidden_dim': 8, 'lr': 0.001, 'num_layers': 0, 'p': 0.3}|       0.92|\n",
      "+------------------------------------------------------------+-----------+\n",
      "|   {'hidden_dim': 8, 'lr': 0.001, 'num_layers': 0, 'p': 0.7}|       0.92|\n",
      "+------------------------------------------------------------+-----------+\n",
      "|   {'hidden_dim': 8, 'lr': 0.001, 'num_layers': 1, 'p': 0.1}|        0.9|\n",
      "+------------------------------------------------------------+-----------+\n",
      "|   {'hidden_dim': 8, 'lr': 0.001, 'num_layers': 1, 'p': 0.3}|       0.88|\n",
      "+------------------------------------------------------------+-----------+\n",
      "|   {'hidden_dim': 8, 'lr': 0.001, 'num_layers': 1, 'p': 0.7}|       0.83|\n",
      "+------------------------------------------------------------+-----------+\n",
      "|   {'hidden_dim': 8, 'lr': 0.001, 'num_layers': 2, 'p': 0.1}|       0.86|\n",
      "+------------------------------------------------------------+-----------+\n",
      "|   {'hidden_dim': 8, 'lr': 0.001, 'num_layers': 2, 'p': 0.3}|       0.84|\n",
      "+------------------------------------------------------------+-----------+\n",
      "|   {'hidden_dim': 8, 'lr': 0.001, 'num_layers': 2, 'p': 0.7}|       0.45|\n",
      "+------------------------------------------------------------+-----------+\n",
      "|  {'hidden_dim': 64, 'lr': 0.001, 'num_layers': 0, 'p': 0.1}|       0.92|\n",
      "+------------------------------------------------------------+-----------+\n",
      "|  {'hidden_dim': 64, 'lr': 0.001, 'num_layers': 0, 'p': 0.3}|       0.92|\n",
      "+------------------------------------------------------------+-----------+\n",
      "|  {'hidden_dim': 64, 'lr': 0.001, 'num_layers': 0, 'p': 0.7}|       0.92|\n",
      "+------------------------------------------------------------+-----------+\n",
      "|  {'hidden_dim': 64, 'lr': 0.001, 'num_layers': 1, 'p': 0.1}|       0.96|\n",
      "+------------------------------------------------------------+-----------+\n",
      "|  {'hidden_dim': 64, 'lr': 0.001, 'num_layers': 1, 'p': 0.3}|       0.95|\n",
      "+------------------------------------------------------------+-----------+\n",
      "|  {'hidden_dim': 64, 'lr': 0.001, 'num_layers': 1, 'p': 0.7}|       0.93|\n",
      "+------------------------------------------------------------+-----------+\n",
      "|  {'hidden_dim': 64, 'lr': 0.001, 'num_layers': 2, 'p': 0.1}|       0.96|\n",
      "+------------------------------------------------------------+-----------+\n",
      "|  {'hidden_dim': 64, 'lr': 0.001, 'num_layers': 2, 'p': 0.3}|       0.95|\n",
      "+------------------------------------------------------------+-----------+\n",
      "|  {'hidden_dim': 64, 'lr': 0.001, 'num_layers': 2, 'p': 0.7}|       0.91|\n",
      "+------------------------------------------------------------+-----------+\n"
     ]
    }
   ],
   "source": [
    "draw_table(scores)"
   ]
  },
  {
   "cell_type": "markdown",
   "id": "0c26b306-464c-4812-baf8-6fa0b79b8d59",
   "metadata": {},
   "source": [
    "Проанализируем полученные результаты. Размерность скрытого слоя 64 при прочих равных всегда как миниимум не хуже, чем 8. Значит, рассмотрим только размерности 64. Среди них точность наибольшая при добавлении только одного скрытого слоя, а если добавить второй, то ничего не улучшится и даже ухудшится в одном случае (в отличие от размерностей 8, где рост числа слоёв ведёт только к ухудшению качества классификации). Наконец, чем меньше параметр p, тем больше точность, поэтому возьмём p = 0.1. В такой конфигурации перцептрон даёт точность 96 процентов.\n",
    "\n",
    "Исходя из результатов можно сказать, что лучше выбирать параметр p поменьше, а также предположить, что размерность скрытого слоя лучше взять побольше (но нужно не забывать про размерность пространства признаков; в данном случае она равна 784 и ощутимо больше, чем анализируемые размерности скрытого слоя 8 и 64; вероятно, слишком большую размерность скрытого слоя, приближающуся к размерности пространства признаков, брать не стоит), и количество скрытых слоёв тоже можно увеличить (опять же, увеличивать не сильно, ориентируясь на размерность скрытого слоя).\n",
    "\n",
    "Несколько теоретических слов про скорость обучения. Высокая скорость обучения может привести к нестабильности в процессе обучения, а маленькая - к слишком медленной сходимости. В данном анализе скорость обучения не изменялась и оставалась равной значению по умолчанию."
   ]
  },
  {
   "cell_type": "markdown",
   "id": "3595723c-8e5c-4152-8d1c-81e87e5150a9",
   "metadata": {},
   "source": [
    "# k-ближайших соседей"
   ]
  },
  {
   "cell_type": "code",
   "execution_count": 47,
   "id": "4654c7d3-658b-4889-998e-cf9973526d02",
   "metadata": {},
   "outputs": [
    {
     "name": "stderr",
     "output_type": "stream",
     "text": [
      "C:\\Users\\BOBA\\AppData\\Local\\Temp\\ipykernel_7944\\3483597813.py:5: DeprecationWarning: __array__ implementation doesn't accept a copy keyword, so passing copy=False failed. __array__ must implement 'dtype' and 'copy' keyword arguments.\n",
      "  X_train = np.array([np.array(MNIST_train[i][0][0]) for i in range(len(MNIST_train))]).reshape(-1, 28 * 28)\n",
      "C:\\Users\\BOBA\\AppData\\Local\\Temp\\ipykernel_7944\\3483597813.py:6: DeprecationWarning: __array__ implementation doesn't accept a copy keyword, so passing copy=False failed. __array__ must implement 'dtype' and 'copy' keyword arguments.\n",
      "  y_train = np.array(MNIST_train.targets)\n",
      "C:\\Users\\BOBA\\AppData\\Local\\Temp\\ipykernel_7944\\3483597813.py:7: DeprecationWarning: __array__ implementation doesn't accept a copy keyword, so passing copy=False failed. __array__ must implement 'dtype' and 'copy' keyword arguments.\n",
      "  X_test = np.array([np.array(MNIST_test[i][0][0]) for i in range(len(MNIST_test))]).reshape(-1, 28 * 28)\n",
      "C:\\Users\\BOBA\\AppData\\Local\\Temp\\ipykernel_7944\\3483597813.py:8: DeprecationWarning: __array__ implementation doesn't accept a copy keyword, so passing copy=False failed. __array__ must implement 'dtype' and 'copy' keyword arguments.\n",
      "  y_test = np.array(MNIST_test.targets)\n"
     ]
    }
   ],
   "source": [
    "kNN_grid = {\n",
    "    'n_neighbors': [3, 5, 7, 9],\n",
    "    'leaf_size': [3, 15, 30, 45]}\n",
    "\n",
    "X_train = np.array([np.array(MNIST_train[i][0][0]) for i in range(len(MNIST_train))]).reshape(-1, 28 * 28)\n",
    "y_train = np.array(MNIST_train.targets)\n",
    "X_test = np.array([np.array(MNIST_test[i][0][0]) for i in range(len(MNIST_test))]).reshape(-1, 28 * 28)\n",
    "y_test = np.array(MNIST_test.targets)"
   ]
  },
  {
   "cell_type": "markdown",
   "id": "306240f3-e8b6-47bb-92e9-35da62dce922",
   "metadata": {},
   "source": [
    "### Замечание: код ниже отрабатывает за 1133 секунд (почти 20 минут) на 8 процессах полностью загруженного ЦП AMD Ryzen 5 3400G with Radeon Vega Graphics, по 200 МБ ОЗУ на каждый процесс."
   ]
  },
  {
   "cell_type": "code",
   "execution_count": 48,
   "id": "463fb836-3f92-43bf-9344-d9c0ef5e4bd7",
   "metadata": {},
   "outputs": [
    {
     "name": "stdout",
     "output_type": "stream",
     "text": [
      "Fitting 5 folds for each of 16 candidates, totalling 80 fits\n",
      "The best hyperparameters (accuracy: 0.970):\n",
      "{'leaf_size': 3, 'n_neighbors': 3}\n"
     ]
    }
   ],
   "source": [
    "gr_s = GridSearchCV(KNeighborsClassifier(), kNN_grid, n_jobs = -1, verbose = 2)\n",
    "gr_s.fit(X_train, y_train)\n",
    "print(f'The best hyperparameters (accuracy: {gr_s.best_score_:.3f}):')\n",
    "print(gr_s.best_params_)\n",
    "kNN = gr_s.best_estimator_"
   ]
  },
  {
   "cell_type": "code",
   "execution_count": 49,
   "id": "2802f55e-f351-4b86-b83d-e5cad8b575e0",
   "metadata": {},
   "outputs": [
    {
     "name": "stdout",
     "output_type": "stream",
     "text": [
      "              precision    recall  f1-score   support\n",
      "\n",
      "           0       0.97      0.99      0.98       980\n",
      "           1       0.96      1.00      0.98      1135\n",
      "           2       0.98      0.97      0.97      1032\n",
      "           3       0.96      0.97      0.96      1010\n",
      "           4       0.98      0.97      0.97       982\n",
      "           5       0.97      0.96      0.96       892\n",
      "           6       0.98      0.99      0.98       958\n",
      "           7       0.96      0.96      0.96      1028\n",
      "           8       0.99      0.94      0.96       974\n",
      "           9       0.96      0.96      0.96      1009\n",
      "\n",
      "    accuracy                           0.97     10000\n",
      "   macro avg       0.97      0.97      0.97     10000\n",
      "weighted avg       0.97      0.97      0.97     10000\n",
      "\n"
     ]
    }
   ],
   "source": [
    "kNN_predict = kNN.predict(X_test)\n",
    "print(classification_report(y_test, kNN_predict))"
   ]
  },
  {
   "cell_type": "markdown",
   "id": "2d9de9f0-cdc6-47c0-90d8-44250ce522fe",
   "metadata": {},
   "source": [
    "Итак, для метода k-ближайших соседей из перебираемых вариантов гиперпараметров наилучшими оказались количество соседей и параметр leaf_size равными 3. Такая модель даёт точность 97 процентов, что лучше, чем получилось в перцептроне. Отмечу, что и подбор гиперпараметров (вместе с обучением) занял больше вычислительного времени (чем перцептрон), причём ЦП был загружен на 100 процентов."
   ]
  },
  {
   "cell_type": "markdown",
   "id": "47a77e0a-fcf4-49a3-8e07-ceed348601ed",
   "metadata": {},
   "source": [
    "## Метод потенциальных функций"
   ]
  },
  {
   "cell_type": "markdown",
   "id": "fb29275e-388e-472b-b9db-6671947c6fee",
   "metadata": {},
   "source": [
    "### Обучение этой модели идёт ОЧЕНЬ долго, перезапускать не рекомендуется (см. комментарии сколько времени занял каждый этап обучения)"
   ]
  },
  {
   "cell_type": "markdown",
   "id": "f6dedde1-1260-426a-bbf0-834a056cafc4",
   "metadata": {},
   "source": [
    "Подсмотрим реализацию метода в 4 семинаре, только увеличим количество классов с 2 до 10:"
   ]
  },
  {
   "cell_type": "code",
   "execution_count": 50,
   "id": "a433c89d-4998-4391-ae37-c87fe62fad05",
   "metadata": {},
   "outputs": [],
   "source": [
    "class PFM(object):\n",
    "    def __init__(self, kernel=None):\n",
    "        self.X, self.Y, self.gams = None, None, None\n",
    "        self.kernel = lambda x: np.ones_like(x)\n",
    "        if kernel is not None:\n",
    "            self.kernel = kernel\n",
    "    def scores(self, X):\n",
    "        features = self.gams*self.kernel(cdist(X, self.X))\n",
    "        scores = np.vstack(\n",
    "            [np.sum(features.T[np.where(self.Y==i)[0]].T, axis=-1) for i in range(10)]).T\n",
    "        return scores\n",
    "    def predict(self, X):\n",
    "        return np.argmax(self.scores(X), axis=-1)\n",
    "    def fit(self, X, Y, epoch=10):\n",
    "        self.X, self.Y, self.gams = np.array(X), np.array(Y), np.zeros_like(Y)\n",
    "        for _ in range(epoch):\n",
    "            for i, (x, y) in enumerate(zip(self.X, self.Y)):\n",
    "                if self.predict(np.array([x]))[0] != y:\n",
    "                    self.gams[i] += 1"
   ]
  },
  {
   "cell_type": "code",
   "execution_count": 51,
   "id": "99e7a240-4a27-4a63-8151-d9b9ece5f364",
   "metadata": {},
   "outputs": [],
   "source": [
    "def K(distance, h=0.05):\n",
    "    ret = np.array(distance)/h\n",
    "    return (1 - ret**2) * (np.abs(ret) <= 1)"
   ]
  },
  {
   "cell_type": "markdown",
   "id": "1b2aa90e-0e1b-429f-9abc-b33879dd5dc8",
   "metadata": {},
   "source": [
    "Выберем из 60000 тренировочных данных первую тысячу для обучения и вторую тысячу для проверки, чтобы прикинуть, в каком районе надо подбирать h. Для каждого варианта h обучение на 1000 объектов происходит примерно за 30 секунд."
   ]
  },
  {
   "cell_type": "code",
   "execution_count": 57,
   "id": "ceacce4d-677e-434d-a65d-8a4a4936a631",
   "metadata": {},
   "outputs": [
    {
     "name": "stdout",
     "output_type": "stream",
     "text": [
      "h = 0.05\n",
      "{np.int64(0)}\n",
      "              precision    recall  f1-score   support\n",
      "\n",
      "           0       0.09      1.00      0.17        94\n",
      "           1       0.00      0.00      0.00       104\n",
      "           2       0.00      0.00      0.00        99\n",
      "           3       0.00      0.00      0.00        98\n",
      "           4       0.00      0.00      0.00       109\n",
      "           5       0.00      0.00      0.00        88\n",
      "           6       0.00      0.00      0.00       106\n",
      "           7       0.00      0.00      0.00       107\n",
      "           8       0.00      0.00      0.00        85\n",
      "           9       0.00      0.00      0.00       110\n",
      "\n",
      "    accuracy                           0.09      1000\n",
      "   macro avg       0.01      0.10      0.02      1000\n",
      "weighted avg       0.01      0.09      0.02      1000\n",
      "\n"
     ]
    },
    {
     "name": "stderr",
     "output_type": "stream",
     "text": [
      "C:\\Users\\BOBA\\AppData\\Local\\Programs\\Python\\Python312\\Lib\\site-packages\\sklearn\\metrics\\_classification.py:1531: UndefinedMetricWarning: Precision is ill-defined and being set to 0.0 in labels with no predicted samples. Use `zero_division` parameter to control this behavior.\n",
      "  _warn_prf(average, modifier, f\"{metric.capitalize()} is\", len(result))\n",
      "C:\\Users\\BOBA\\AppData\\Local\\Programs\\Python\\Python312\\Lib\\site-packages\\sklearn\\metrics\\_classification.py:1531: UndefinedMetricWarning: Precision is ill-defined and being set to 0.0 in labels with no predicted samples. Use `zero_division` parameter to control this behavior.\n",
      "  _warn_prf(average, modifier, f\"{metric.capitalize()} is\", len(result))\n",
      "C:\\Users\\BOBA\\AppData\\Local\\Programs\\Python\\Python312\\Lib\\site-packages\\sklearn\\metrics\\_classification.py:1531: UndefinedMetricWarning: Precision is ill-defined and being set to 0.0 in labels with no predicted samples. Use `zero_division` parameter to control this behavior.\n",
      "  _warn_prf(average, modifier, f\"{metric.capitalize()} is\", len(result))\n"
     ]
    },
    {
     "name": "stdout",
     "output_type": "stream",
     "text": [
      "h = 1\n",
      "{np.int64(0)}\n",
      "              precision    recall  f1-score   support\n",
      "\n",
      "           0       0.09      1.00      0.17        94\n",
      "           1       0.00      0.00      0.00       104\n",
      "           2       0.00      0.00      0.00        99\n",
      "           3       0.00      0.00      0.00        98\n",
      "           4       0.00      0.00      0.00       109\n",
      "           5       0.00      0.00      0.00        88\n",
      "           6       0.00      0.00      0.00       106\n",
      "           7       0.00      0.00      0.00       107\n",
      "           8       0.00      0.00      0.00        85\n",
      "           9       0.00      0.00      0.00       110\n",
      "\n",
      "    accuracy                           0.09      1000\n",
      "   macro avg       0.01      0.10      0.02      1000\n",
      "weighted avg       0.01      0.09      0.02      1000\n",
      "\n"
     ]
    },
    {
     "name": "stderr",
     "output_type": "stream",
     "text": [
      "C:\\Users\\BOBA\\AppData\\Local\\Programs\\Python\\Python312\\Lib\\site-packages\\sklearn\\metrics\\_classification.py:1531: UndefinedMetricWarning: Precision is ill-defined and being set to 0.0 in labels with no predicted samples. Use `zero_division` parameter to control this behavior.\n",
      "  _warn_prf(average, modifier, f\"{metric.capitalize()} is\", len(result))\n",
      "C:\\Users\\BOBA\\AppData\\Local\\Programs\\Python\\Python312\\Lib\\site-packages\\sklearn\\metrics\\_classification.py:1531: UndefinedMetricWarning: Precision is ill-defined and being set to 0.0 in labels with no predicted samples. Use `zero_division` parameter to control this behavior.\n",
      "  _warn_prf(average, modifier, f\"{metric.capitalize()} is\", len(result))\n",
      "C:\\Users\\BOBA\\AppData\\Local\\Programs\\Python\\Python312\\Lib\\site-packages\\sklearn\\metrics\\_classification.py:1531: UndefinedMetricWarning: Precision is ill-defined and being set to 0.0 in labels with no predicted samples. Use `zero_division` parameter to control this behavior.\n",
      "  _warn_prf(average, modifier, f\"{metric.capitalize()} is\", len(result))\n"
     ]
    },
    {
     "name": "stdout",
     "output_type": "stream",
     "text": [
      "h = 10\n",
      "{np.int64(0), np.int64(1), np.int64(2), np.int64(3), np.int64(4), np.int64(5), np.int64(6), np.int64(7), np.int64(8), np.int64(9)}\n",
      "              precision    recall  f1-score   support\n",
      "\n",
      "           0       0.97      0.74      0.84        94\n",
      "           1       0.94      0.85      0.89       104\n",
      "           2       0.72      0.77      0.75        99\n",
      "           3       0.93      0.64      0.76        98\n",
      "           4       0.83      0.78      0.81       109\n",
      "           5       0.68      0.78      0.73        88\n",
      "           6       0.89      0.93      0.91       106\n",
      "           7       0.88      0.88      0.88       107\n",
      "           8       0.76      0.79      0.77        85\n",
      "           9       0.65      0.90      0.76       110\n",
      "\n",
      "    accuracy                           0.81      1000\n",
      "   macro avg       0.83      0.81      0.81      1000\n",
      "weighted avg       0.83      0.81      0.81      1000\n",
      "\n",
      "h = 50\n",
      "{np.int64(0), np.int64(1), np.int64(2), np.int64(3), np.int64(4), np.int64(5), np.int64(6), np.int64(7), np.int64(8), np.int64(9)}\n",
      "              precision    recall  f1-score   support\n",
      "\n",
      "           0       0.97      0.83      0.90        94\n",
      "           1       0.96      0.78      0.86       104\n",
      "           2       0.69      0.76      0.72        99\n",
      "           3       0.50      0.85      0.63        98\n",
      "           4       0.82      0.77      0.79       109\n",
      "           5       0.69      0.28      0.40        88\n",
      "           6       0.97      0.84      0.90       106\n",
      "           7       0.40      0.96      0.56       107\n",
      "           8       1.00      0.31      0.47        85\n",
      "           9       0.73      0.29      0.42       110\n",
      "\n",
      "    accuracy                           0.68      1000\n",
      "   macro avg       0.77      0.67      0.66      1000\n",
      "weighted avg       0.77      0.68      0.67      1000\n",
      "\n"
     ]
    }
   ],
   "source": [
    "for h in [0.05, 1, 10, 50]:\n",
    "    model = PFM(kernel=lambda x: K(x, h=h))\n",
    "    model.fit(X_train[:1000:], y_train[:1000:])\n",
    "    y_pred = model.predict(X_train[1000:2000:])\n",
    "    print('h = ' + str(h))\n",
    "    print(set(y_pred))\n",
    "    print(classification_report(y_train[1000:2000:], y_pred))"
   ]
  },
  {
   "cell_type": "markdown",
   "id": "a2545dd7-a589-4a9b-8f09-105337083e18",
   "metadata": {},
   "source": [
    "Итак, слишком малым h брать нельзя (например, 0.05 или 1), иначе модель всегда предсказывает единственную цифру 0. Слишком большим (например, 50) - тоже, т.к. результат ухудшается. А вот выбрать h около 10 показалось наилучшим решением. Попробуем для выбранных (расположенных около 10) h поварьировать параметр epoch. Снова используем только 1000 первых объектов для обучения и следующую 1000 для проверки. Попытаемся распараллелить на потоки для ускорения обучения, которое заняло в сумме около 3 минут."
   ]
  },
  {
   "cell_type": "code",
   "execution_count": 59,
   "id": "9ebf2058-6966-4ff4-9da8-f6880e8d9d15",
   "metadata": {},
   "outputs": [
    {
     "name": "stdout",
     "output_type": "stream",
     "text": [
      "h = 5, epoch = 5\n",
      "              precision    recall  f1-score   support\n",
      "\n",
      "           0       0.12      1.00      0.22        94\n",
      "           1       0.99      0.88      0.93       104\n",
      "           2       1.00      0.04      0.08        99\n",
      "           3       1.00      0.06      0.12        98\n",
      "           4       1.00      0.11      0.20       109\n",
      "           5       1.00      0.07      0.13        88\n",
      "           6       1.00      0.16      0.28       106\n",
      "           7       0.98      0.45      0.62       107\n",
      "           8       1.00      0.08      0.15        85\n",
      "           9       0.97      0.31      0.47       110\n",
      "\n",
      "    accuracy                           0.32      1000\n",
      "   macro avg       0.91      0.32      0.32      1000\n",
      "weighted avg       0.91      0.32      0.33      1000\n",
      "\n",
      "h = 15, epoch = 5\n",
      "              precision    recall  f1-score   support\n",
      "\n",
      "           0       0.96      0.72      0.82        94\n",
      "           1       0.99      0.79      0.88       104\n",
      "           2       0.76      0.79      0.78        99\n",
      "           3       0.80      0.70      0.75        98\n",
      "           4       0.87      0.79      0.83       109\n",
      "           5       0.51      0.81      0.62        88\n",
      "           6       0.93      0.92      0.92       106\n",
      "           7       0.80      0.91      0.85       107\n",
      "           8       0.79      0.71      0.75        85\n",
      "           9       0.77      0.83      0.80       110\n",
      "\n",
      "    accuracy                           0.80      1000\n",
      "   macro avg       0.82      0.80      0.80      1000\n",
      "weighted avg       0.82      0.80      0.80      1000\n",
      "\n",
      "h = 10, epoch = 5\n",
      "              precision    recall  f1-score   support\n",
      "\n",
      "           0       0.96      0.81      0.88        94\n",
      "           1       0.94      0.85      0.89       104\n",
      "           2       0.77      0.82      0.79        99\n",
      "           3       0.94      0.69      0.80        98\n",
      "           4       0.85      0.83      0.84       109\n",
      "           5       0.70      0.84      0.77        88\n",
      "           6       0.92      0.92      0.92       106\n",
      "           7       0.84      0.89      0.86       107\n",
      "           8       0.85      0.81      0.83        85\n",
      "           9       0.72      0.90      0.80       110\n",
      "\n",
      "    accuracy                           0.84      1000\n",
      "   macro avg       0.85      0.84      0.84      1000\n",
      "weighted avg       0.85      0.84      0.84      1000\n",
      "\n",
      "h = 15, epoch = 10\n",
      "              precision    recall  f1-score   support\n",
      "\n",
      "           0       0.97      0.70      0.81        94\n",
      "           1       0.99      0.69      0.81       104\n",
      "           2       0.72      0.82      0.76        99\n",
      "           3       0.86      0.62      0.72        98\n",
      "           4       0.83      0.81      0.82       109\n",
      "           5       0.52      0.85      0.65        88\n",
      "           6       0.93      0.92      0.92       106\n",
      "           7       0.90      0.84      0.87       107\n",
      "           8       0.71      0.79      0.75        85\n",
      "           9       0.74      0.85      0.79       110\n",
      "\n",
      "    accuracy                           0.79      1000\n",
      "   macro avg       0.82      0.79      0.79      1000\n",
      "weighted avg       0.82      0.79      0.80      1000\n",
      "\n",
      "h = 10, epoch = 10\n",
      "              precision    recall  f1-score   support\n",
      "\n",
      "           0       0.97      0.74      0.84        94\n",
      "           1       0.94      0.85      0.89       104\n",
      "           2       0.72      0.77      0.75        99\n",
      "           3       0.93      0.64      0.76        98\n",
      "           4       0.83      0.78      0.81       109\n",
      "           5       0.68      0.78      0.73        88\n",
      "           6       0.89      0.93      0.91       106\n",
      "           7       0.88      0.88      0.88       107\n",
      "           8       0.76      0.79      0.77        85\n",
      "           9       0.65      0.90      0.76       110\n",
      "\n",
      "    accuracy                           0.81      1000\n",
      "   macro avg       0.83      0.81      0.81      1000\n",
      "weighted avg       0.83      0.81      0.81      1000\n",
      "\n",
      "h = 5, epoch = 10\n",
      "              precision    recall  f1-score   support\n",
      "\n",
      "           0       0.12      1.00      0.22        94\n",
      "           1       0.99      0.88      0.93       104\n",
      "           2       1.00      0.04      0.08        99\n",
      "           3       1.00      0.06      0.12        98\n",
      "           4       1.00      0.11      0.20       109\n",
      "           5       1.00      0.07      0.13        88\n",
      "           6       1.00      0.16      0.28       106\n",
      "           7       0.98      0.45      0.62       107\n",
      "           8       1.00      0.08      0.15        85\n",
      "           9       0.97      0.31      0.47       110\n",
      "\n",
      "    accuracy                           0.32      1000\n",
      "   macro avg       0.91      0.32      0.32      1000\n",
      "weighted avg       0.91      0.32      0.33      1000\n",
      "\n",
      "h = 5, epoch = 15\n",
      "              precision    recall  f1-score   support\n",
      "\n",
      "           0       0.12      1.00      0.22        94\n",
      "           1       0.99      0.88      0.93       104\n",
      "           2       1.00      0.04      0.08        99\n",
      "           3       1.00      0.06      0.12        98\n",
      "           4       1.00      0.11      0.20       109\n",
      "           5       1.00      0.07      0.13        88\n",
      "           6       1.00      0.16      0.28       106\n",
      "           7       0.98      0.45      0.62       107\n",
      "           8       1.00      0.08      0.15        85\n",
      "           9       0.97      0.31      0.47       110\n",
      "\n",
      "    accuracy                           0.32      1000\n",
      "   macro avg       0.91      0.32      0.32      1000\n",
      "weighted avg       0.91      0.32      0.33      1000\n",
      "\n",
      "h = 15, epoch = 15\n",
      "              precision    recall  f1-score   support\n",
      "\n",
      "           0       0.97      0.74      0.84        94\n",
      "           1       0.99      0.71      0.83       104\n",
      "           2       0.65      0.82      0.72        99\n",
      "           3       0.86      0.60      0.71        98\n",
      "           4       0.88      0.72      0.79       109\n",
      "           5       0.54      0.84      0.65        88\n",
      "           6       0.94      0.91      0.92       106\n",
      "           7       0.93      0.84      0.88       107\n",
      "           8       0.73      0.78      0.75        85\n",
      "           9       0.70      0.90      0.79       110\n",
      "\n",
      "    accuracy                           0.79      1000\n",
      "   macro avg       0.82      0.79      0.79      1000\n",
      "weighted avg       0.82      0.79      0.79      1000\n",
      "\n",
      "h = 10, epoch = 15\n",
      "              precision    recall  f1-score   support\n",
      "\n",
      "           0       0.95      0.81      0.87        94\n",
      "           1       0.90      0.88      0.89       104\n",
      "           2       0.78      0.77      0.77        99\n",
      "           3       0.96      0.65      0.78        98\n",
      "           4       0.84      0.81      0.82       109\n",
      "           5       0.68      0.82      0.74        88\n",
      "           6       0.90      0.92      0.91       106\n",
      "           7       0.84      0.88      0.86       107\n",
      "           8       0.75      0.80      0.77        85\n",
      "           9       0.72      0.85      0.78       110\n",
      "\n",
      "    accuracy                           0.82      1000\n",
      "   macro avg       0.83      0.82      0.82      1000\n",
      "weighted avg       0.83      0.82      0.82      1000\n",
      "\n"
     ]
    }
   ],
   "source": [
    "import concurrent.futures\n",
    "\n",
    "def my_func(e, h):\n",
    "    model = PFM(kernel=lambda x: K(x, h=h))\n",
    "    model.fit(X_train[:1000:], y_train[:1000:], e)\n",
    "    y_pred = model.predict(X_train[1000:2000:])\n",
    "    print('h = ' + str(h) + ', epoch = ' + str(e) + '\\n' + classification_report(y_train[1000:2000:], y_pred))\n",
    "\n",
    "with concurrent.futures.ThreadPoolExecutor() as executor:\n",
    "    futures = []\n",
    "    for e in [5, 10, 15]:\n",
    "        for h in [5, 10, 15]:\n",
    "            futures.append(executor.submit(my_func, e, h))\n",
    "    for future in concurrent.futures.as_completed(futures):\n",
    "        future.result()"
   ]
  },
  {
   "cell_type": "markdown",
   "id": "c21834ca-86ee-4632-9b0d-b3bb22a34d6c",
   "metadata": {},
   "source": [
    "Видим, что при h = 5 точность определения цифры 0 очень низкая - всего лишь 12 процентов. Поэтому исключим этот вариант из рассмотрения. Обучение идёт очень долго, поэтому сделаем финальный подбор параметров, обучив каждую модель на 5000 первых объектов и проверив на следующих 5000 объектов (изначально была попытка проверить на всех остальных тренировочных данных, но через час работы не хватило ОЗУ для предсказания оставшихся 55000 объектов). По результатам будет выбрана наилучшая комбинация h и epoch, итоговая модель будет обучена на большем количестве тренировочных данных и проверена на тестовых."
   ]
  },
  {
   "cell_type": "code",
   "execution_count": 61,
   "id": "4ddafb8c-39ba-46f9-b935-5dd65ac9ba77",
   "metadata": {},
   "outputs": [
    {
     "name": "stdout",
     "output_type": "stream",
     "text": [
      "h = 15, epoch = 5\n",
      "              precision    recall  f1-score   support\n",
      "\n",
      "           0       0.97      0.79      0.87       522\n",
      "           1       0.97      0.91      0.94       564\n",
      "           2       0.78      0.86      0.82       503\n",
      "           3       0.76      0.84      0.80       539\n",
      "           4       0.90      0.85      0.87       445\n",
      "           5       0.65      0.86      0.74       429\n",
      "           6       0.97      0.84      0.90       513\n",
      "           7       0.91      0.86      0.88       520\n",
      "           8       0.78      0.82      0.80       482\n",
      "           9       0.83      0.81      0.82       483\n",
      "\n",
      "    accuracy                           0.84      5000\n",
      "   macro avg       0.85      0.84      0.84      5000\n",
      "weighted avg       0.86      0.84      0.85      5000\n",
      "\n",
      "h = 10, epoch = 5\n",
      "              precision    recall  f1-score   support\n",
      "\n",
      "           0       0.96      0.88      0.92       522\n",
      "           1       0.86      0.95      0.90       564\n",
      "           2       0.90      0.83      0.87       503\n",
      "           3       0.91      0.85      0.88       539\n",
      "           4       0.84      0.91      0.87       445\n",
      "           5       0.76      0.87      0.81       429\n",
      "           6       0.92      0.92      0.92       513\n",
      "           7       0.94      0.83      0.88       520\n",
      "           8       0.89      0.81      0.85       482\n",
      "           9       0.79      0.90      0.84       483\n",
      "\n",
      "    accuracy                           0.88      5000\n",
      "   macro avg       0.88      0.87      0.87      5000\n",
      "weighted avg       0.88      0.88      0.88      5000\n",
      "\n",
      "h = 15, epoch = 10\n",
      "              precision    recall  f1-score   support\n",
      "\n",
      "           0       0.97      0.81      0.88       522\n",
      "           1       0.98      0.90      0.94       564\n",
      "           2       0.77      0.85      0.81       503\n",
      "           3       0.79      0.83      0.81       539\n",
      "           4       0.87      0.88      0.87       445\n",
      "           5       0.70      0.82      0.75       429\n",
      "           6       0.97      0.84      0.90       513\n",
      "           7       0.93      0.84      0.88       520\n",
      "           8       0.73      0.84      0.79       482\n",
      "           9       0.81      0.84      0.83       483\n",
      "\n",
      "    accuracy                           0.85      5000\n",
      "   macro avg       0.85      0.85      0.85      5000\n",
      "weighted avg       0.86      0.85      0.85      5000\n",
      "\n",
      "h = 10, epoch = 10\n",
      "              precision    recall  f1-score   support\n",
      "\n",
      "           0       0.96      0.88      0.91       522\n",
      "           1       0.87      0.94      0.90       564\n",
      "           2       0.90      0.83      0.86       503\n",
      "           3       0.89      0.86      0.87       539\n",
      "           4       0.87      0.89      0.88       445\n",
      "           5       0.77      0.86      0.81       429\n",
      "           6       0.92      0.93      0.92       513\n",
      "           7       0.93      0.84      0.88       520\n",
      "           8       0.88      0.81      0.84       482\n",
      "           9       0.77      0.90      0.83       483\n",
      "\n",
      "    accuracy                           0.87      5000\n",
      "   macro avg       0.87      0.87      0.87      5000\n",
      "weighted avg       0.88      0.87      0.87      5000\n",
      "\n",
      "h = 10, epoch = 15\n",
      "              precision    recall  f1-score   support\n",
      "\n",
      "           0       0.95      0.87      0.91       522\n",
      "           1       0.87      0.93      0.90       564\n",
      "           2       0.88      0.83      0.86       503\n",
      "           3       0.89      0.84      0.87       539\n",
      "           4       0.86      0.89      0.88       445\n",
      "           5       0.77      0.85      0.81       429\n",
      "           6       0.92      0.92      0.92       513\n",
      "           7       0.92      0.82      0.87       520\n",
      "           8       0.88      0.81      0.84       482\n",
      "           9       0.76      0.90      0.82       483\n",
      "\n",
      "    accuracy                           0.87      5000\n",
      "   macro avg       0.87      0.87      0.87      5000\n",
      "weighted avg       0.87      0.87      0.87      5000\n",
      "\n",
      "h = 15, epoch = 15\n",
      "              precision    recall  f1-score   support\n",
      "\n",
      "           0       0.97      0.82      0.89       522\n",
      "           1       0.98      0.89      0.93       564\n",
      "           2       0.75      0.86      0.81       503\n",
      "           3       0.81      0.83      0.82       539\n",
      "           4       0.86      0.88      0.87       445\n",
      "           5       0.70      0.82      0.75       429\n",
      "           6       0.97      0.83      0.90       513\n",
      "           7       0.92      0.83      0.88       520\n",
      "           8       0.75      0.84      0.79       482\n",
      "           9       0.80      0.85      0.83       483\n",
      "\n",
      "    accuracy                           0.85      5000\n",
      "   macro avg       0.85      0.85      0.85      5000\n",
      "weighted avg       0.86      0.85      0.85      5000\n",
      "\n"
     ]
    }
   ],
   "source": [
    "def my_func(e, h):\n",
    "    model = PFM(kernel=lambda x: K(x, h=h))\n",
    "    model.fit(X_train[:5000:], y_train[:5000:], e)\n",
    "    y_pred = model.predict(X_train[5000:10000:])\n",
    "    print('h = ' + str(h) + ', epoch = ' + str(e) + '\\n' + classification_report(y_train[5000:10000:], y_pred))\n",
    "\n",
    "with concurrent.futures.ThreadPoolExecutor() as executor:\n",
    "    futures = []\n",
    "    for e in [5, 10, 15]:\n",
    "        for h in [10, 15]:\n",
    "            futures.append(executor.submit(my_func, e, h))\n",
    "    for future in concurrent.futures.as_completed(futures):\n",
    "        future.result()"
   ]
  },
  {
   "cell_type": "markdown",
   "id": "7f5d2e20-c65c-492c-b494-e2e6fc84ec71",
   "metadata": {},
   "source": [
    "Результаты были получены через час. Наилучшего результата удалось добиться при h = 10, epoch = 5. Обучим окончательно именно эту модель и проверим на тестовой выборке. Если за ночь (за 12 часов) модель не закончит обучение на всей тренировочной выборке, будет опять взята какая-то её часть.\n",
    "\n",
    "#### Я из будущего говорю, что в целом всё получилось, так что не обращаем внимания на сообщение об ошибке ниже и смотрим дальше."
   ]
  },
  {
   "cell_type": "code",
   "execution_count": 69,
   "id": "8e945b48-6da5-4a8d-855d-d1470e8e113c",
   "metadata": {},
   "outputs": [
    {
     "ename": "MemoryError",
     "evalue": "Unable to allocate 4.47 GiB for an array with shape (10000, 60000) and data type float64",
     "output_type": "error",
     "traceback": [
      "\u001b[1;31m---------------------------------------------------------------------------\u001b[0m",
      "\u001b[1;31mMemoryError\u001b[0m                               Traceback (most recent call last)",
      "Cell \u001b[1;32mIn[69], line 5\u001b[0m\n\u001b[0;32m      3\u001b[0m final \u001b[38;5;241m=\u001b[39m PFM(kernel\u001b[38;5;241m=\u001b[39m\u001b[38;5;28;01mlambda\u001b[39;00m x: K(x, h\u001b[38;5;241m=\u001b[39mh))\n\u001b[0;32m      4\u001b[0m final\u001b[38;5;241m.\u001b[39mfit(X_train, y_train, e)\n\u001b[1;32m----> 5\u001b[0m y_pred \u001b[38;5;241m=\u001b[39m \u001b[43mfinal\u001b[49m\u001b[38;5;241;43m.\u001b[39;49m\u001b[43mpredict\u001b[49m\u001b[43m(\u001b[49m\u001b[43mX_test\u001b[49m\u001b[43m)\u001b[49m\n\u001b[0;32m      6\u001b[0m \u001b[38;5;28mprint\u001b[39m(\u001b[38;5;124m'\u001b[39m\u001b[38;5;124mh = \u001b[39m\u001b[38;5;124m'\u001b[39m \u001b[38;5;241m+\u001b[39m \u001b[38;5;28mstr\u001b[39m(h) \u001b[38;5;241m+\u001b[39m \u001b[38;5;124m'\u001b[39m\u001b[38;5;124m, epoch = \u001b[39m\u001b[38;5;124m'\u001b[39m \u001b[38;5;241m+\u001b[39m \u001b[38;5;28mstr\u001b[39m(e) \u001b[38;5;241m+\u001b[39m \u001b[38;5;124m'\u001b[39m\u001b[38;5;130;01m\\n\u001b[39;00m\u001b[38;5;124m'\u001b[39m \u001b[38;5;241m+\u001b[39m classification_report(y_test, y_pred))\n",
      "Cell \u001b[1;32mIn[50], line 13\u001b[0m, in \u001b[0;36mPFM.predict\u001b[1;34m(self, X)\u001b[0m\n\u001b[0;32m     12\u001b[0m \u001b[38;5;28;01mdef\u001b[39;00m \u001b[38;5;21mpredict\u001b[39m(\u001b[38;5;28mself\u001b[39m, X):\n\u001b[1;32m---> 13\u001b[0m     \u001b[38;5;28;01mreturn\u001b[39;00m np\u001b[38;5;241m.\u001b[39margmax(\u001b[38;5;28;43mself\u001b[39;49m\u001b[38;5;241;43m.\u001b[39;49m\u001b[43mscores\u001b[49m\u001b[43m(\u001b[49m\u001b[43mX\u001b[49m\u001b[43m)\u001b[49m, axis\u001b[38;5;241m=\u001b[39m\u001b[38;5;241m-\u001b[39m\u001b[38;5;241m1\u001b[39m)\n",
      "Cell \u001b[1;32mIn[50], line 8\u001b[0m, in \u001b[0;36mPFM.scores\u001b[1;34m(self, X)\u001b[0m\n\u001b[0;32m      7\u001b[0m \u001b[38;5;28;01mdef\u001b[39;00m \u001b[38;5;21mscores\u001b[39m(\u001b[38;5;28mself\u001b[39m, X):\n\u001b[1;32m----> 8\u001b[0m     features \u001b[38;5;241m=\u001b[39m \u001b[38;5;28mself\u001b[39m\u001b[38;5;241m.\u001b[39mgams\u001b[38;5;241m*\u001b[39m\u001b[38;5;28;43mself\u001b[39;49m\u001b[38;5;241;43m.\u001b[39;49m\u001b[43mkernel\u001b[49m\u001b[43m(\u001b[49m\u001b[43mcdist\u001b[49m\u001b[43m(\u001b[49m\u001b[43mX\u001b[49m\u001b[43m,\u001b[49m\u001b[43m \u001b[49m\u001b[38;5;28;43mself\u001b[39;49m\u001b[38;5;241;43m.\u001b[39;49m\u001b[43mX\u001b[49m\u001b[43m)\u001b[49m\u001b[43m)\u001b[49m\n\u001b[0;32m      9\u001b[0m     scores \u001b[38;5;241m=\u001b[39m np\u001b[38;5;241m.\u001b[39mvstack(\n\u001b[0;32m     10\u001b[0m         [np\u001b[38;5;241m.\u001b[39msum(features\u001b[38;5;241m.\u001b[39mT[np\u001b[38;5;241m.\u001b[39mwhere(\u001b[38;5;28mself\u001b[39m\u001b[38;5;241m.\u001b[39mY\u001b[38;5;241m==\u001b[39mi)[\u001b[38;5;241m0\u001b[39m]]\u001b[38;5;241m.\u001b[39mT, axis\u001b[38;5;241m=\u001b[39m\u001b[38;5;241m-\u001b[39m\u001b[38;5;241m1\u001b[39m) \u001b[38;5;28;01mfor\u001b[39;00m i \u001b[38;5;129;01min\u001b[39;00m \u001b[38;5;28mrange\u001b[39m(\u001b[38;5;241m10\u001b[39m)])\u001b[38;5;241m.\u001b[39mT\n\u001b[0;32m     11\u001b[0m     \u001b[38;5;28;01mreturn\u001b[39;00m scores\n",
      "Cell \u001b[1;32mIn[69], line 3\u001b[0m, in \u001b[0;36m<lambda>\u001b[1;34m(x)\u001b[0m\n\u001b[0;32m      1\u001b[0m e \u001b[38;5;241m=\u001b[39m \u001b[38;5;241m5\u001b[39m\n\u001b[0;32m      2\u001b[0m h \u001b[38;5;241m=\u001b[39m \u001b[38;5;241m10\u001b[39m\n\u001b[1;32m----> 3\u001b[0m final \u001b[38;5;241m=\u001b[39m PFM(kernel\u001b[38;5;241m=\u001b[39m\u001b[38;5;28;01mlambda\u001b[39;00m x: \u001b[43mK\u001b[49m\u001b[43m(\u001b[49m\u001b[43mx\u001b[49m\u001b[43m,\u001b[49m\u001b[43m \u001b[49m\u001b[43mh\u001b[49m\u001b[38;5;241;43m=\u001b[39;49m\u001b[43mh\u001b[49m\u001b[43m)\u001b[49m)\n\u001b[0;32m      4\u001b[0m final\u001b[38;5;241m.\u001b[39mfit(X_train, y_train, e)\n\u001b[0;32m      5\u001b[0m y_pred \u001b[38;5;241m=\u001b[39m final\u001b[38;5;241m.\u001b[39mpredict(X_test)\n",
      "Cell \u001b[1;32mIn[51], line 2\u001b[0m, in \u001b[0;36mK\u001b[1;34m(distance, h)\u001b[0m\n\u001b[0;32m      1\u001b[0m \u001b[38;5;28;01mdef\u001b[39;00m \u001b[38;5;21mK\u001b[39m(distance, h\u001b[38;5;241m=\u001b[39m\u001b[38;5;241m0.05\u001b[39m):\n\u001b[1;32m----> 2\u001b[0m     ret \u001b[38;5;241m=\u001b[39m \u001b[43mnp\u001b[49m\u001b[38;5;241;43m.\u001b[39;49m\u001b[43marray\u001b[49m\u001b[43m(\u001b[49m\u001b[43mdistance\u001b[49m\u001b[43m)\u001b[49m\u001b[38;5;241;43m/\u001b[39;49m\u001b[43mh\u001b[49m\n\u001b[0;32m      3\u001b[0m     \u001b[38;5;28;01mreturn\u001b[39;00m (\u001b[38;5;241m1\u001b[39m \u001b[38;5;241m-\u001b[39m ret\u001b[38;5;241m*\u001b[39m\u001b[38;5;241m*\u001b[39m\u001b[38;5;241m2\u001b[39m) \u001b[38;5;241m*\u001b[39m (np\u001b[38;5;241m.\u001b[39mabs(ret) \u001b[38;5;241m<\u001b[39m\u001b[38;5;241m=\u001b[39m \u001b[38;5;241m1\u001b[39m)\n",
      "\u001b[1;31mMemoryError\u001b[0m: Unable to allocate 4.47 GiB for an array with shape (10000, 60000) and data type float64"
     ]
    }
   ],
   "source": [
    "e = 5\n",
    "h = 10\n",
    "final = PFM(kernel=lambda x: K(x, h=h))\n",
    "final.fit(X_train, y_train, e)\n",
    "y_pred = final.predict(X_test)\n",
    "print('h = ' + str(h) + ', epoch = ' + str(e) + '\\n' + classification_report(y_test, y_pred))"
   ]
  },
  {
   "cell_type": "markdown",
   "id": "7d2c443d-9f94-41a6-b641-ad898bb59b21",
   "metadata": {},
   "source": [
    "Модель обучилась за 14 часов, но на этапе проверки не хватило ОЗУ для проверки всей тренировочной выборки. Проверим несколько первых объектов тестовой выборки:"
   ]
  },
  {
   "cell_type": "code",
   "execution_count": 73,
   "id": "6424f856-ef34-442c-a996-f8ffc1665745",
   "metadata": {},
   "outputs": [
    {
     "data": {
      "text/plain": [
       "array([7, 2, 1, 0, 4, 1, 4, 9, 6, 9])"
      ]
     },
     "execution_count": 73,
     "metadata": {},
     "output_type": "execute_result"
    }
   ],
   "source": [
    "final.predict(X_test[0:10:])"
   ]
  },
  {
   "cell_type": "code",
   "execution_count": 74,
   "id": "9a41a5a3-761c-446f-92ba-13ab12e53b37",
   "metadata": {},
   "outputs": [
    {
     "data": {
      "text/plain": [
       "array([7, 2, 1, 0, 4, 1, 4, 9, 5, 9])"
      ]
     },
     "execution_count": 74,
     "metadata": {},
     "output_type": "execute_result"
    }
   ],
   "source": [
    "y_test[0:10:]"
   ]
  },
  {
   "cell_type": "markdown",
   "id": "d85d1ad2-309a-4346-a8d2-01a33fcd6ed7",
   "metadata": {},
   "source": [
    "На первых 10 объектах только одна ошибка: перепутали 5 с 6. Выглядит не очень страшно. Попытаемся ещё раз проверить всю тестовую выборку, может быть память не успела освободиться (не пугаемся ошибки и читаем её - на самом деле не хватает места только для 784 из 10000 элементов):"
   ]
  },
  {
   "cell_type": "code",
   "execution_count": 79,
   "id": "7492cca1-98ee-49ca-ad86-26adecf0ee5c",
   "metadata": {},
   "outputs": [
    {
     "ename": "MemoryError",
     "evalue": "Unable to allocate 359. MiB for an array with shape (60000, 784) and data type float64",
     "output_type": "error",
     "traceback": [
      "\u001b[1;31m---------------------------------------------------------------------------\u001b[0m",
      "\u001b[1;31mMemoryError\u001b[0m                               Traceback (most recent call last)",
      "Cell \u001b[1;32mIn[79], line 1\u001b[0m\n\u001b[1;32m----> 1\u001b[0m \u001b[38;5;28mprint\u001b[39m(\u001b[38;5;124m'\u001b[39m\u001b[38;5;124mh = \u001b[39m\u001b[38;5;124m'\u001b[39m \u001b[38;5;241m+\u001b[39m \u001b[38;5;28mstr\u001b[39m(h) \u001b[38;5;241m+\u001b[39m \u001b[38;5;124m'\u001b[39m\u001b[38;5;124m, epoch = \u001b[39m\u001b[38;5;124m'\u001b[39m \u001b[38;5;241m+\u001b[39m \u001b[38;5;28mstr\u001b[39m(e) \u001b[38;5;241m+\u001b[39m \u001b[38;5;124m'\u001b[39m\u001b[38;5;130;01m\\n\u001b[39;00m\u001b[38;5;124m'\u001b[39m \u001b[38;5;241m+\u001b[39m classification_report(y_test, \u001b[43mfinal\u001b[49m\u001b[38;5;241;43m.\u001b[39;49m\u001b[43mpredict\u001b[49m\u001b[43m(\u001b[49m\u001b[43mX_test\u001b[49m\u001b[43m)\u001b[49m))\n",
      "Cell \u001b[1;32mIn[50], line 13\u001b[0m, in \u001b[0;36mPFM.predict\u001b[1;34m(self, X)\u001b[0m\n\u001b[0;32m     12\u001b[0m \u001b[38;5;28;01mdef\u001b[39;00m \u001b[38;5;21mpredict\u001b[39m(\u001b[38;5;28mself\u001b[39m, X):\n\u001b[1;32m---> 13\u001b[0m     \u001b[38;5;28;01mreturn\u001b[39;00m np\u001b[38;5;241m.\u001b[39margmax(\u001b[38;5;28;43mself\u001b[39;49m\u001b[38;5;241;43m.\u001b[39;49m\u001b[43mscores\u001b[49m\u001b[43m(\u001b[49m\u001b[43mX\u001b[49m\u001b[43m)\u001b[49m, axis\u001b[38;5;241m=\u001b[39m\u001b[38;5;241m-\u001b[39m\u001b[38;5;241m1\u001b[39m)\n",
      "Cell \u001b[1;32mIn[50], line 8\u001b[0m, in \u001b[0;36mPFM.scores\u001b[1;34m(self, X)\u001b[0m\n\u001b[0;32m      7\u001b[0m \u001b[38;5;28;01mdef\u001b[39;00m \u001b[38;5;21mscores\u001b[39m(\u001b[38;5;28mself\u001b[39m, X):\n\u001b[1;32m----> 8\u001b[0m     features \u001b[38;5;241m=\u001b[39m \u001b[38;5;28mself\u001b[39m\u001b[38;5;241m.\u001b[39mgams\u001b[38;5;241m*\u001b[39m\u001b[38;5;28mself\u001b[39m\u001b[38;5;241m.\u001b[39mkernel(\u001b[43mcdist\u001b[49m\u001b[43m(\u001b[49m\u001b[43mX\u001b[49m\u001b[43m,\u001b[49m\u001b[43m \u001b[49m\u001b[38;5;28;43mself\u001b[39;49m\u001b[38;5;241;43m.\u001b[39;49m\u001b[43mX\u001b[49m\u001b[43m)\u001b[49m)\n\u001b[0;32m      9\u001b[0m     scores \u001b[38;5;241m=\u001b[39m np\u001b[38;5;241m.\u001b[39mvstack(\n\u001b[0;32m     10\u001b[0m         [np\u001b[38;5;241m.\u001b[39msum(features\u001b[38;5;241m.\u001b[39mT[np\u001b[38;5;241m.\u001b[39mwhere(\u001b[38;5;28mself\u001b[39m\u001b[38;5;241m.\u001b[39mY\u001b[38;5;241m==\u001b[39mi)[\u001b[38;5;241m0\u001b[39m]]\u001b[38;5;241m.\u001b[39mT, axis\u001b[38;5;241m=\u001b[39m\u001b[38;5;241m-\u001b[39m\u001b[38;5;241m1\u001b[39m) \u001b[38;5;28;01mfor\u001b[39;00m i \u001b[38;5;129;01min\u001b[39;00m \u001b[38;5;28mrange\u001b[39m(\u001b[38;5;241m10\u001b[39m)])\u001b[38;5;241m.\u001b[39mT\n\u001b[0;32m     11\u001b[0m     \u001b[38;5;28;01mreturn\u001b[39;00m scores\n",
      "File \u001b[1;32m~\\AppData\\Local\\Programs\\Python\\Python312\\Lib\\site-packages\\scipy\\spatial\\distance.py:2980\u001b[0m, in \u001b[0;36mcdist\u001b[1;34m(XA, XB, metric, out, **kwargs)\u001b[0m\n\u001b[0;32m   2978\u001b[0m \u001b[38;5;28;01mif\u001b[39;00m metric_info \u001b[38;5;129;01mis\u001b[39;00m \u001b[38;5;129;01mnot\u001b[39;00m \u001b[38;5;28;01mNone\u001b[39;00m:\n\u001b[0;32m   2979\u001b[0m     cdist_fn \u001b[38;5;241m=\u001b[39m metric_info\u001b[38;5;241m.\u001b[39mcdist_func\n\u001b[1;32m-> 2980\u001b[0m     \u001b[38;5;28;01mreturn\u001b[39;00m \u001b[43mcdist_fn\u001b[49m\u001b[43m(\u001b[49m\u001b[43mXA\u001b[49m\u001b[43m,\u001b[49m\u001b[43m \u001b[49m\u001b[43mXB\u001b[49m\u001b[43m,\u001b[49m\u001b[43m \u001b[49m\u001b[43mout\u001b[49m\u001b[38;5;241;43m=\u001b[39;49m\u001b[43mout\u001b[49m\u001b[43m,\u001b[49m\u001b[43m \u001b[49m\u001b[38;5;241;43m*\u001b[39;49m\u001b[38;5;241;43m*\u001b[39;49m\u001b[43mkwargs\u001b[49m\u001b[43m)\u001b[49m\n\u001b[0;32m   2981\u001b[0m \u001b[38;5;28;01melif\u001b[39;00m mstr\u001b[38;5;241m.\u001b[39mstartswith(\u001b[38;5;124m\"\u001b[39m\u001b[38;5;124mtest_\u001b[39m\u001b[38;5;124m\"\u001b[39m):\n\u001b[0;32m   2982\u001b[0m     metric_info \u001b[38;5;241m=\u001b[39m _TEST_METRICS\u001b[38;5;241m.\u001b[39mget(mstr, \u001b[38;5;28;01mNone\u001b[39;00m)\n",
      "\u001b[1;31mMemoryError\u001b[0m: Unable to allocate 359. MiB for an array with shape (60000, 784) and data type float64"
     ]
    }
   ],
   "source": [
    "print('h = ' + str(h) + ', epoch = ' + str(e) + '\\n' + classification_report(y_test, final.predict(X_test)))"
   ]
  },
  {
   "cell_type": "markdown",
   "id": "6c3e24a2-e47e-414e-9408-d78bed9f04bc",
   "metadata": {},
   "source": [
    "Странно, что при 9000 объектах ошибка сохраняется (не попало в итоговый отчёт). Проверим сначала 100 тестовых объектов:"
   ]
  },
  {
   "cell_type": "code",
   "execution_count": 83,
   "id": "ea2046ec-233e-4ac7-ac17-f4b943fc2c3f",
   "metadata": {},
   "outputs": [
    {
     "name": "stdout",
     "output_type": "stream",
     "text": [
      "h = 10, epoch = 5\n",
      "              precision    recall  f1-score   support\n",
      "\n",
      "           0       0.89      1.00      0.94         8\n",
      "           1       0.93      0.93      0.93        14\n",
      "           2       1.00      0.88      0.93         8\n",
      "           3       1.00      1.00      1.00        11\n",
      "           4       1.00      0.79      0.88        14\n",
      "           5       0.75      0.86      0.80         7\n",
      "           6       0.90      0.90      0.90        10\n",
      "           7       0.93      0.93      0.93        15\n",
      "           8       1.00      1.00      1.00         2\n",
      "           9       0.85      1.00      0.92        11\n",
      "\n",
      "    accuracy                           0.92       100\n",
      "   macro avg       0.92      0.93      0.92       100\n",
      "weighted avg       0.93      0.92      0.92       100\n",
      "\n"
     ]
    }
   ],
   "source": [
    "print('h = ' + str(h) + ', epoch = ' + str(e) + '\\n' + classification_report(y_test[:100:], final.predict(X_test[:100:])))"
   ]
  },
  {
   "cell_type": "markdown",
   "id": "e93620ad-83d8-46bd-ae0c-d232e2f05725",
   "metadata": {},
   "source": [
    "Потом 1000:"
   ]
  },
  {
   "cell_type": "code",
   "execution_count": 86,
   "id": "18c4b499-d65b-432c-8515-93f8fb1915a4",
   "metadata": {},
   "outputs": [
    {
     "name": "stdout",
     "output_type": "stream",
     "text": [
      "h = 10, epoch = 5\n",
      "              precision    recall  f1-score   support\n",
      "\n",
      "           0       0.92      0.92      0.92        85\n",
      "           1       0.93      0.90      0.92       126\n",
      "           2       0.91      0.83      0.86       116\n",
      "           3       0.91      0.89      0.90       107\n",
      "           4       0.89      0.87      0.88       110\n",
      "           5       0.75      0.87      0.81        87\n",
      "           6       0.90      0.91      0.90        87\n",
      "           7       0.87      0.86      0.86        99\n",
      "           8       0.83      0.79      0.81        89\n",
      "           9       0.83      0.90      0.86        94\n",
      "\n",
      "    accuracy                           0.87      1000\n",
      "   macro avg       0.87      0.87      0.87      1000\n",
      "weighted avg       0.88      0.87      0.87      1000\n",
      "\n"
     ]
    }
   ],
   "source": [
    "print('h = ' + str(h) + ', epoch = ' + str(e) + '\\n' + classification_report(y_test[:1000:], final.predict(X_test[:1000:])))"
   ]
  },
  {
   "cell_type": "markdown",
   "id": "ad1a26c8-f2d5-461f-8cd7-55e6769807a1",
   "metadata": {},
   "source": [
    "К сожалению, цифра 5 плохо определяется. Это было видно с самого начала. Всё же получим итоговый результат, разбив тестовую выборку на 10 кусков по 1000 объектов."
   ]
  },
  {
   "cell_type": "code",
   "execution_count": 93,
   "id": "34a8de51-b9b0-4038-b864-9f23e7f696e6",
   "metadata": {},
   "outputs": [
    {
     "name": "stdout",
     "output_type": "stream",
     "text": [
      "Processing part number 1 2 3 4 5 6 7 8 9 10 . Done!\n"
     ]
    }
   ],
   "source": [
    "finally_predict = np.ndarray(0)\n",
    "print(\"Processing part number \", end = '')\n",
    "for i in range(10):\n",
    "    print(i + 1, end = ' ')\n",
    "    finally_predict = np.concatenate((finally_predict, final.predict(X_test[i * 1000 : (i + 1) * 1000 :])), axis = None)\n",
    "print(\". Done!\")"
   ]
  },
  {
   "cell_type": "code",
   "execution_count": 95,
   "id": "971d641d-ce44-4842-ba54-f62ff2492e07",
   "metadata": {},
   "outputs": [
    {
     "name": "stdout",
     "output_type": "stream",
     "text": [
      "              precision    recall  f1-score   support\n",
      "\n",
      "           0       0.96      0.94      0.95       980\n",
      "           1       0.92      0.94      0.93      1135\n",
      "           2       0.93      0.88      0.90      1032\n",
      "           3       0.92      0.91      0.92      1010\n",
      "           4       0.90      0.92      0.91       982\n",
      "           5       0.83      0.86      0.84       892\n",
      "           6       0.94      0.92      0.93       958\n",
      "           7       0.94      0.90      0.92      1028\n",
      "           8       0.88      0.88      0.88       974\n",
      "           9       0.88      0.92      0.90      1009\n",
      "\n",
      "    accuracy                           0.91     10000\n",
      "   macro avg       0.91      0.91      0.91     10000\n",
      "weighted avg       0.91      0.91      0.91     10000\n",
      "\n"
     ]
    }
   ],
   "source": [
    "print(classification_report(y_test, finally_predict))"
   ]
  },
  {
   "cell_type": "markdown",
   "id": "8815fc1e-f2d9-4ac9-907c-3a8254365786",
   "metadata": {},
   "source": [
    "Итак, точность итоговой модели равна 91 проценту. Последний метод реализован, перейдём к выводам."
   ]
  },
  {
   "cell_type": "markdown",
   "id": "7bdee8b8-c1f4-4659-8800-f3557dcc0be8",
   "metadata": {},
   "source": [
    "# Результаты"
   ]
  },
  {
   "cell_type": "markdown",
   "id": "5a830122-5c17-446f-9fee-dcc66f305f40",
   "metadata": {},
   "source": [
    "Повторим основные моменты работы. Датасет MNIST рукописных цифр содержит матрицы интенсивностей размером 28 на 28. Поэтому почти никаких преобразований исходных данных не потребовалось, все признаки и так числовые и нормализуются банальным делением на максимальную интенсивность 255 (для выполнения работы достаточно было преобразовать в тензор на этапе загрузки датасета). Понадобилось только превратить матрицы в векторы для обучения моделей. Также было показано \"среднее\" написание цифр.\n",
    "\n",
    "Перейдём к обсуждению моделей. Для перцептрона и kNN с помощью кросс-валидации были получены итоговые модели с отличной точностью - 96 и 97 процентов соответственно. Суммарно было затрачено менее часа вычислительного времени на получение итоговых моделей этих двух методов. Перцептрон обучился немного быстрее, но точность чуть-чуть хуже, чем kNN.\n",
    "\n",
    "Отдельного внимания заслуживает метод потенциальных функций. Из-за отсутствия библиотечного варианта он был написан вручную. В силу очень долгого обучения подбор гиперпараметров происходил только на части тренировочной выборки в несколько этапов, ни о какой кросс-валидации речи не шло (но проверялось по-честному без использования тестовой выборки). В итоге самый перспективный вариант окончательно обучался на всей тренировочной выборке 14 часов, а для проверки результата тестовую выборку пришлось разделить на 10 частей. И всё ради 91 процента точности, что на 1 процент меньше простейшего перцептрона, обученного за пару минут. Напоследок отмечу, что почему-то цифра 5 определяется этой моделью заметно хуже остальных цифр (вероятно, часто путается с 6), цифры 8 и 9 тоже показывают плохой результат (вероятно, путаются между собой).\n",
    "Итак, метод потенциальных функций показал себя очень и очень плохо во всём. В лекции 4 говорилось, что этот метод не сходится для большого количества признаков, а у нас их аж 28 * 28 = 784 штуки, поэтому такой плохой результат ожидаем. Всё же удалось получить точность 91 процент.\n",
    "\n",
    "Перцептрон и kNN показали себя отлично. Быстрое обучение, высокая точность предсказаний, кросс-валидация, готовая библиотечная реализация - всё это про эти модели. Если всё же сравнивать эти методы, то перцептрон оказался немного хуже - как по точности, так и по сложности реализации (использовался torch и свой класс в отличие от kNN через sklearn). И раз уж в отчёте про kNN было написано меньше всего, то закончу работу именно словами об этом методе. Он объективно показал себя точнее остальных методов и субъективно понравился мне больше всего простотой реализации. Лучше бы время, потраченное на обучения метода потенциальных функций, я уделил на более тщательный подбор гиперпараметров модели kNN."
   ]
  }
 ],
 "metadata": {
  "kernelspec": {
   "display_name": "Python 3 (ipykernel)",
   "language": "python",
   "name": "python3"
  },
  "language_info": {
   "codemirror_mode": {
    "name": "ipython",
    "version": 3
   },
   "file_extension": ".py",
   "mimetype": "text/x-python",
   "name": "python",
   "nbconvert_exporter": "python",
   "pygments_lexer": "ipython3",
   "version": "3.12.6"
  }
 },
 "nbformat": 4,
 "nbformat_minor": 5
}
