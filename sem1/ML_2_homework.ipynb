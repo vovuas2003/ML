{
 "cells": [
  {
   "cell_type": "markdown",
   "id": "4296d0d0-b28d-4e0b-83d1-cbbaf18ba81b",
   "metadata": {},
   "source": [
    "# Наумкин Владимир, С01-119.\n",
    "# Домашнее задание 2."
   ]
  },
  {
   "cell_type": "markdown",
   "id": "83a8e4a4-0e35-4832-9157-e092cfd71e69",
   "metadata": {},
   "source": [
    "## Подключим библиотеки"
   ]
  },
  {
   "cell_type": "code",
   "execution_count": 1,
   "id": "84266b7a-8839-4d0b-93df-7a3c4b3a6442",
   "metadata": {},
   "outputs": [],
   "source": [
    "import numpy as np\n",
    "import seaborn as sns\n",
    "import pandas as pd\n",
    "from sklearn.model_selection import train_test_split"
   ]
  },
  {
   "cell_type": "markdown",
   "id": "0ee23f71-b71a-4db2-b7d1-154c4d026796",
   "metadata": {},
   "source": [
    "## Загрузка и анализ тренировочной выборки"
   ]
  },
  {
   "cell_type": "code",
   "execution_count": 2,
   "id": "ae4c9750-7212-44f8-9605-df54c344ef78",
   "metadata": {},
   "outputs": [
    {
     "data": {
      "text/html": [
       "<div>\n",
       "<style scoped>\n",
       "    .dataframe tbody tr th:only-of-type {\n",
       "        vertical-align: middle;\n",
       "    }\n",
       "\n",
       "    .dataframe tbody tr th {\n",
       "        vertical-align: top;\n",
       "    }\n",
       "\n",
       "    .dataframe thead th {\n",
       "        text-align: right;\n",
       "    }\n",
       "</style>\n",
       "<table border=\"1\" class=\"dataframe\">\n",
       "  <thead>\n",
       "    <tr style=\"text-align: right;\">\n",
       "      <th></th>\n",
       "      <th>index</th>\n",
       "      <th>y</th>\n",
       "      <th>x1</th>\n",
       "      <th>x2</th>\n",
       "      <th>x3</th>\n",
       "      <th>x4</th>\n",
       "      <th>x5</th>\n",
       "      <th>x6</th>\n",
       "      <th>x7</th>\n",
       "      <th>x8</th>\n",
       "      <th>x9</th>\n",
       "      <th>x10</th>\n",
       "      <th>x11</th>\n",
       "      <th>x12</th>\n",
       "      <th>x13</th>\n",
       "      <th>x14</th>\n",
       "      <th>x15</th>\n",
       "      <th>x16</th>\n",
       "      <th>x17</th>\n",
       "      <th>x18</th>\n",
       "    </tr>\n",
       "  </thead>\n",
       "  <tbody>\n",
       "    <tr>\n",
       "      <th>0</th>\n",
       "      <td>0</td>\n",
       "      <td>495.67</td>\n",
       "      <td>17.0</td>\n",
       "      <td>1</td>\n",
       "      <td>22</td>\n",
       "      <td>0</td>\n",
       "      <td>1</td>\n",
       "      <td>0.0</td>\n",
       "      <td>0.0</td>\n",
       "      <td>185.18</td>\n",
       "      <td>287.05</td>\n",
       "      <td>0.85</td>\n",
       "      <td>6.33</td>\n",
       "      <td>54.38</td>\n",
       "      <td>0.0</td>\n",
       "      <td>0.0</td>\n",
       "      <td>0.00</td>\n",
       "      <td>30.54</td>\n",
       "      <td>0.0</td>\n",
       "      <td>509.94</td>\n",
       "    </tr>\n",
       "    <tr>\n",
       "      <th>1</th>\n",
       "      <td>1</td>\n",
       "      <td>595.67</td>\n",
       "      <td>21.0</td>\n",
       "      <td>1</td>\n",
       "      <td>32</td>\n",
       "      <td>0</td>\n",
       "      <td>1</td>\n",
       "      <td>0.0</td>\n",
       "      <td>0.0</td>\n",
       "      <td>76.28</td>\n",
       "      <td>522.28</td>\n",
       "      <td>0.00</td>\n",
       "      <td>7.96</td>\n",
       "      <td>190.97</td>\n",
       "      <td>0.0</td>\n",
       "      <td>0.0</td>\n",
       "      <td>0.00</td>\n",
       "      <td>0.00</td>\n",
       "      <td>0.0</td>\n",
       "      <td>606.52</td>\n",
       "    </tr>\n",
       "    <tr>\n",
       "      <th>2</th>\n",
       "      <td>2</td>\n",
       "      <td>786.37</td>\n",
       "      <td>10.0</td>\n",
       "      <td>1</td>\n",
       "      <td>45</td>\n",
       "      <td>1</td>\n",
       "      <td>2</td>\n",
       "      <td>0.0</td>\n",
       "      <td>0.0</td>\n",
       "      <td>131.27</td>\n",
       "      <td>566.15</td>\n",
       "      <td>0.00</td>\n",
       "      <td>20.23</td>\n",
       "      <td>328.13</td>\n",
       "      <td>0.0</td>\n",
       "      <td>0.0</td>\n",
       "      <td>8.85</td>\n",
       "      <td>0.00</td>\n",
       "      <td>0.0</td>\n",
       "      <td>726.50</td>\n",
       "    </tr>\n",
       "    <tr>\n",
       "      <th>3</th>\n",
       "      <td>3</td>\n",
       "      <td>1142.63</td>\n",
       "      <td>10.0</td>\n",
       "      <td>1</td>\n",
       "      <td>41</td>\n",
       "      <td>0</td>\n",
       "      <td>2</td>\n",
       "      <td>0.0</td>\n",
       "      <td>0.0</td>\n",
       "      <td>307.49</td>\n",
       "      <td>926.55</td>\n",
       "      <td>0.00</td>\n",
       "      <td>8.08</td>\n",
       "      <td>351.38</td>\n",
       "      <td>0.0</td>\n",
       "      <td>0.0</td>\n",
       "      <td>0.00</td>\n",
       "      <td>5.05</td>\n",
       "      <td>0.0</td>\n",
       "      <td>1247.17</td>\n",
       "    </tr>\n",
       "    <tr>\n",
       "      <th>4</th>\n",
       "      <td>4</td>\n",
       "      <td>567.47</td>\n",
       "      <td>19.0</td>\n",
       "      <td>1</td>\n",
       "      <td>36</td>\n",
       "      <td>0</td>\n",
       "      <td>1</td>\n",
       "      <td>0.0</td>\n",
       "      <td>0.0</td>\n",
       "      <td>4.18</td>\n",
       "      <td>529.77</td>\n",
       "      <td>0.00</td>\n",
       "      <td>0.00</td>\n",
       "      <td>0.00</td>\n",
       "      <td>0.0</td>\n",
       "      <td>0.0</td>\n",
       "      <td>0.00</td>\n",
       "      <td>0.00</td>\n",
       "      <td>0.0</td>\n",
       "      <td>533.95</td>\n",
       "    </tr>\n",
       "  </tbody>\n",
       "</table>\n",
       "</div>"
      ],
      "text/plain": [
       "   index        y    x1  x2  x3  x4  x5   x6   x7      x8      x9   x10  \\\n",
       "0      0   495.67  17.0   1  22   0   1  0.0  0.0  185.18  287.05  0.85   \n",
       "1      1   595.67  21.0   1  32   0   1  0.0  0.0   76.28  522.28  0.00   \n",
       "2      2   786.37  10.0   1  45   1   2  0.0  0.0  131.27  566.15  0.00   \n",
       "3      3  1142.63  10.0   1  41   0   2  0.0  0.0  307.49  926.55  0.00   \n",
       "4      4   567.47  19.0   1  36   0   1  0.0  0.0    4.18  529.77  0.00   \n",
       "\n",
       "     x11     x12  x13  x14   x15    x16  x17      x18  \n",
       "0   6.33   54.38  0.0  0.0  0.00  30.54  0.0   509.94  \n",
       "1   7.96  190.97  0.0  0.0  0.00   0.00  0.0   606.52  \n",
       "2  20.23  328.13  0.0  0.0  8.85   0.00  0.0   726.50  \n",
       "3   8.08  351.38  0.0  0.0  0.00   5.05  0.0  1247.17  \n",
       "4   0.00    0.00  0.0  0.0  0.00   0.00  0.0   533.95  "
      ]
     },
     "execution_count": 2,
     "metadata": {},
     "output_type": "execute_result"
    }
   ],
   "source": [
    "sample = pd.read_csv('train.csv')\n",
    "sample.head()"
   ]
  },
  {
   "cell_type": "markdown",
   "id": "31f29b9b-fcb5-422e-9035-a1df2b1b51cf",
   "metadata": {},
   "source": [
    "Как и было обещано, у нас 18 признаков, не считая целевого. Посмотрим на распределение целевого признака, для которого нам надо решить задачу регресии."
   ]
  },
  {
   "cell_type": "code",
   "execution_count": 3,
   "id": "5279c6de-964f-436e-9021-b8e420e658bf",
   "metadata": {},
   "outputs": [
    {
     "data": {
      "text/plain": [
       "<Axes: xlabel='y', ylabel='Density'>"
      ]
     },
     "execution_count": 3,
     "metadata": {},
     "output_type": "execute_result"
    },
    {
     "data": {
      "image/png": "[encoded data removed]",
      "text/plain": [
       "<Figure size 640x480 with 1 Axes>"
      ]
     },
     "metadata": {},
     "output_type": "display_data"
    }
   ],
   "source": [
    "sns.kdeplot(sample.y)"
   ]
  },
  {
   "cell_type": "markdown",
   "id": "48b1b313-6436-441e-a682-9e569ed397e4",
   "metadata": {},
   "source": [
    "Можно также вычислить его среднее. Максимум распределения приходится не на него, т.к. есть достаточно много объектов с большим целевым значением, что сильно влияет на среднее значение."
   ]
  },
  {
   "cell_type": "code",
   "execution_count": 4,
   "id": "154469bb-ce73-49d0-a38c-8a79e638f890",
   "metadata": {},
   "outputs": [
    {
     "data": {
      "text/plain": [
       "np.float64(471.28077)"
      ]
     },
     "execution_count": 4,
     "metadata": {},
     "output_type": "execute_result"
    }
   ],
   "source": [
    "sample.y.mean()"
   ]
  },
  {
   "cell_type": "markdown",
   "id": "c8c6225d-67bd-4fae-913d-5228098f5210",
   "metadata": {},
   "source": [
    "Отделим целевую переменную, а также возьмём 20% тренировочной выборки для проверки модели."
   ]
  },
  {
   "cell_type": "code",
   "execution_count": 5,
   "id": "6bab944e-fad6-4e26-b7c6-8f78d622739f",
   "metadata": {},
   "outputs": [],
   "source": [
    "X = sample.drop(columns=['y'])\n",
    "y = sample['y']\n",
    "\n",
    "X_train, X_test, y_train, y_test = train_test_split(X, y, test_size=0.2, random_state=777)"
   ]
  },
  {
   "cell_type": "markdown",
   "id": "2a32a4a5-1aba-4380-8f48-3c3a77f64267",
   "metadata": {},
   "source": [
    "## Используем линейную регрессию"
   ]
  },
  {
   "cell_type": "code",
   "execution_count": 6,
   "id": "d6e8a415-7148-4086-91f9-2c8b6202c531",
   "metadata": {},
   "outputs": [],
   "source": [
    "from sklearn.linear_model import LinearRegression\n",
    "\n",
    "lin_model = LinearRegression().fit(X_train, y_train)"
   ]
  },
  {
   "cell_type": "markdown",
   "id": "a7cf06e5-db1d-4729-adef-c0bd859bcc6e",
   "metadata": {},
   "source": [
    "Проверим значение метрики MAPE на отложенных для проверки данных."
   ]
  },
  {
   "cell_type": "code",
   "execution_count": 7,
   "id": "0c6643df-a70b-4e04-86ea-1dc5b827bd8d",
   "metadata": {},
   "outputs": [
    {
     "name": "stdout",
     "output_type": "stream",
     "text": [
      "0.35180995547420596\n"
     ]
    }
   ],
   "source": [
    "from sklearn.metrics import mean_absolute_percentage_error\n",
    "\n",
    "y_pred = lin_model.predict(X_test)\n",
    "mape = mean_absolute_percentage_error(y_test, y_pred)\n",
    "print(mape)"
   ]
  },
  {
   "cell_type": "markdown",
   "id": "5077ce19-0212-4806-b514-dce38de1bbec",
   "metadata": {},
   "source": [
    "## Попробуем использовать именно метрику MAPE для обучения модели"
   ]
  },
  {
   "cell_type": "code",
   "execution_count": 8,
   "id": "eeb6c90a-7db6-40dc-b364-3a0b3ee93bcf",
   "metadata": {},
   "outputs": [],
   "source": [
    "from scipy.optimize import minimize\n",
    "\n",
    "def mape_loss(params, X, y):\n",
    "    intercept = params[0]\n",
    "    coefficients = params[1:]\n",
    "    y_pred = X.dot(coefficients) + intercept\n",
    "    return np.mean(np.abs((y - y_pred) / y))\n",
    "\n",
    "initial_params = np.zeros(X_train.shape[1] + 1)\n",
    "result = minimize(mape_loss, initial_params, args=(X_train, y_train))\n",
    "optimal_params = result.x\n",
    "\n",
    "mape_model = LinearRegression()\n",
    "mape_model.coef_ = optimal_params[1:]\n",
    "mape_model.intercept_ = optimal_params[0]"
   ]
  },
  {
   "cell_type": "markdown",
   "id": "1ac99321-5271-4a3a-9479-00bfccdd1838",
   "metadata": {},
   "source": [
    "Посмотрим, улучшилось ли предсказание."
   ]
  },
  {
   "cell_type": "code",
   "execution_count": 12,
   "id": "c694623d-7a88-4f00-b906-01db592aa2ca",
   "metadata": {},
   "outputs": [
    {
     "name": "stdout",
     "output_type": "stream",
     "text": [
      "0.24316555833242298\n"
     ]
    }
   ],
   "source": [
    "y_pred = mape_model.predict(X_test.values)\n",
    "mape = mean_absolute_percentage_error(y_test, y_pred)\n",
    "print(mape)"
   ]
  },
  {
   "cell_type": "markdown",
   "id": "79b08631-6fa6-4d15-a54d-16204e4bf300",
   "metadata": {},
   "source": [
    "### Результат однозначно лучше, поэтому попробуем вернуть 20% тренировочной выборки, ещё раз обучить модель и проверить её на тестовой выборке (получить предсказание и отправить на kaggle)."
   ]
  },
  {
   "cell_type": "code",
   "execution_count": 24,
   "id": "23989fdd-6a56-458e-b89e-a84528992270",
   "metadata": {},
   "outputs": [],
   "source": [
    "initial_params = np.zeros(X.shape[1] + 1)\n",
    "result = minimize(mape_loss, initial_params, args=(X, y))\n",
    "optimal_params = result.x\n",
    "\n",
    "mape_model = LinearRegression()\n",
    "mape_model.coef_ = optimal_params[1:]\n",
    "mape_model.intercept_ = optimal_params[0]"
   ]
  },
  {
   "cell_type": "markdown",
   "id": "b2f60672-ceda-43d1-8c11-b5aa9395e06f",
   "metadata": {},
   "source": [
    "Для успокоения сначала проверим предсказание всех данных, уже и так использованных для обучения."
   ]
  },
  {
   "cell_type": "code",
   "execution_count": 25,
   "id": "9f9fdab9-3dfc-4c39-a536-2d79bd034823",
   "metadata": {},
   "outputs": [
    {
     "name": "stdout",
     "output_type": "stream",
     "text": [
      "0.24212251473274665\n"
     ]
    }
   ],
   "source": [
    "y_pred = mape_model.predict(X.values)\n",
    "mape = mean_absolute_percentage_error(y, y_pred)\n",
    "print(mape)"
   ]
  },
  {
   "cell_type": "markdown",
   "id": "4b1028c6-7cfa-4511-affd-f833bb302a97",
   "metadata": {},
   "source": [
    "Точность совсем чуть-чуть увеличилась, видимо это предел модели при таком решении \"в лоб\".\n",
    "\n",
    "Теперь загружаем тестовую выборку, получаем предсказание, сохраняем и отправляем его на kaggle."
   ]
  },
  {
   "cell_type": "code",
   "execution_count": 26,
   "id": "6f480afe-5147-479c-a8fb-af8b77f821f9",
   "metadata": {},
   "outputs": [
    {
     "data": {
      "text/html": [
       "<div>\n",
       "<style scoped>\n",
       "    .dataframe tbody tr th:only-of-type {\n",
       "        vertical-align: middle;\n",
       "    }\n",
       "\n",
       "    .dataframe tbody tr th {\n",
       "        vertical-align: top;\n",
       "    }\n",
       "\n",
       "    .dataframe thead th {\n",
       "        text-align: right;\n",
       "    }\n",
       "</style>\n",
       "<table border=\"1\" class=\"dataframe\">\n",
       "  <thead>\n",
       "    <tr style=\"text-align: right;\">\n",
       "      <th></th>\n",
       "      <th>index</th>\n",
       "      <th>x1</th>\n",
       "      <th>x2</th>\n",
       "      <th>x3</th>\n",
       "      <th>x4</th>\n",
       "      <th>x5</th>\n",
       "      <th>x6</th>\n",
       "      <th>x7</th>\n",
       "      <th>x8</th>\n",
       "      <th>x9</th>\n",
       "      <th>x10</th>\n",
       "      <th>x11</th>\n",
       "      <th>x12</th>\n",
       "      <th>x13</th>\n",
       "      <th>x14</th>\n",
       "      <th>x15</th>\n",
       "      <th>x16</th>\n",
       "      <th>x17</th>\n",
       "      <th>x18</th>\n",
       "    </tr>\n",
       "  </thead>\n",
       "  <tbody>\n",
       "    <tr>\n",
       "      <th>0</th>\n",
       "      <td>0</td>\n",
       "      <td>14.0</td>\n",
       "      <td>1</td>\n",
       "      <td>30</td>\n",
       "      <td>1</td>\n",
       "      <td>1</td>\n",
       "      <td>0.00</td>\n",
       "      <td>0.0</td>\n",
       "      <td>209.29</td>\n",
       "      <td>358.34</td>\n",
       "      <td>0.0</td>\n",
       "      <td>1.49</td>\n",
       "      <td>33.67</td>\n",
       "      <td>0.0</td>\n",
       "      <td>0.0</td>\n",
       "      <td>0.00</td>\n",
       "      <td>1.60</td>\n",
       "      <td>0.00</td>\n",
       "      <td>570.72</td>\n",
       "    </tr>\n",
       "    <tr>\n",
       "      <th>1</th>\n",
       "      <td>1</td>\n",
       "      <td>14.0</td>\n",
       "      <td>0</td>\n",
       "      <td>26</td>\n",
       "      <td>0</td>\n",
       "      <td>1</td>\n",
       "      <td>154.91</td>\n",
       "      <td>0.0</td>\n",
       "      <td>19.08</td>\n",
       "      <td>146.38</td>\n",
       "      <td>0.0</td>\n",
       "      <td>0.00</td>\n",
       "      <td>96.97</td>\n",
       "      <td>0.0</td>\n",
       "      <td>0.0</td>\n",
       "      <td>0.00</td>\n",
       "      <td>0.00</td>\n",
       "      <td>0.00</td>\n",
       "      <td>165.45</td>\n",
       "    </tr>\n",
       "    <tr>\n",
       "      <th>2</th>\n",
       "      <td>2</td>\n",
       "      <td>10.0</td>\n",
       "      <td>1</td>\n",
       "      <td>32</td>\n",
       "      <td>0</td>\n",
       "      <td>1</td>\n",
       "      <td>0.00</td>\n",
       "      <td>0.0</td>\n",
       "      <td>121.21</td>\n",
       "      <td>428.18</td>\n",
       "      <td>0.0</td>\n",
       "      <td>17.90</td>\n",
       "      <td>62.89</td>\n",
       "      <td>0.0</td>\n",
       "      <td>0.0</td>\n",
       "      <td>18.12</td>\n",
       "      <td>0.00</td>\n",
       "      <td>0.00</td>\n",
       "      <td>585.42</td>\n",
       "    </tr>\n",
       "    <tr>\n",
       "      <th>3</th>\n",
       "      <td>3</td>\n",
       "      <td>15.0</td>\n",
       "      <td>1</td>\n",
       "      <td>42</td>\n",
       "      <td>1</td>\n",
       "      <td>1</td>\n",
       "      <td>1244.46</td>\n",
       "      <td>0.0</td>\n",
       "      <td>407.67</td>\n",
       "      <td>804.93</td>\n",
       "      <td>0.0</td>\n",
       "      <td>9.98</td>\n",
       "      <td>932.81</td>\n",
       "      <td>0.0</td>\n",
       "      <td>0.0</td>\n",
       "      <td>20.65</td>\n",
       "      <td>2.73</td>\n",
       "      <td>2.28</td>\n",
       "      <td>1250.52</td>\n",
       "    </tr>\n",
       "    <tr>\n",
       "      <th>4</th>\n",
       "      <td>4</td>\n",
       "      <td>19.0</td>\n",
       "      <td>1</td>\n",
       "      <td>33</td>\n",
       "      <td>0</td>\n",
       "      <td>2</td>\n",
       "      <td>1284.48</td>\n",
       "      <td>0.0</td>\n",
       "      <td>196.50</td>\n",
       "      <td>874.94</td>\n",
       "      <td>0.0</td>\n",
       "      <td>9.17</td>\n",
       "      <td>828.86</td>\n",
       "      <td>0.0</td>\n",
       "      <td>0.0</td>\n",
       "      <td>0.00</td>\n",
       "      <td>0.21</td>\n",
       "      <td>0.37</td>\n",
       "      <td>1081.56</td>\n",
       "    </tr>\n",
       "  </tbody>\n",
       "</table>\n",
       "</div>"
      ],
      "text/plain": [
       "   index    x1  x2  x3  x4  x5       x6   x7      x8      x9  x10    x11  \\\n",
       "0      0  14.0   1  30   1   1     0.00  0.0  209.29  358.34  0.0   1.49   \n",
       "1      1  14.0   0  26   0   1   154.91  0.0   19.08  146.38  0.0   0.00   \n",
       "2      2  10.0   1  32   0   1     0.00  0.0  121.21  428.18  0.0  17.90   \n",
       "3      3  15.0   1  42   1   1  1244.46  0.0  407.67  804.93  0.0   9.98   \n",
       "4      4  19.0   1  33   0   2  1284.48  0.0  196.50  874.94  0.0   9.17   \n",
       "\n",
       "      x12  x13  x14    x15   x16   x17      x18  \n",
       "0   33.67  0.0  0.0   0.00  1.60  0.00   570.72  \n",
       "1   96.97  0.0  0.0   0.00  0.00  0.00   165.45  \n",
       "2   62.89  0.0  0.0  18.12  0.00  0.00   585.42  \n",
       "3  932.81  0.0  0.0  20.65  2.73  2.28  1250.52  \n",
       "4  828.86  0.0  0.0   0.00  0.21  0.37  1081.56  "
      ]
     },
     "execution_count": 26,
     "metadata": {},
     "output_type": "execute_result"
    }
   ],
   "source": [
    "test = pd.read_csv('test.csv')\n",
    "test.head()"
   ]
  },
  {
   "cell_type": "code",
   "execution_count": 28,
   "id": "6da56acf-bc2e-4c39-9b09-7553e6eb0191",
   "metadata": {},
   "outputs": [
    {
     "data": {
      "text/html": [
       "<div>\n",
       "<style scoped>\n",
       "    .dataframe tbody tr th:only-of-type {\n",
       "        vertical-align: middle;\n",
       "    }\n",
       "\n",
       "    .dataframe tbody tr th {\n",
       "        vertical-align: top;\n",
       "    }\n",
       "\n",
       "    .dataframe thead th {\n",
       "        text-align: right;\n",
       "    }\n",
       "</style>\n",
       "<table border=\"1\" class=\"dataframe\">\n",
       "  <thead>\n",
       "    <tr style=\"text-align: right;\">\n",
       "      <th></th>\n",
       "      <th>y</th>\n",
       "    </tr>\n",
       "    <tr>\n",
       "      <th>index</th>\n",
       "      <th></th>\n",
       "    </tr>\n",
       "  </thead>\n",
       "  <tbody>\n",
       "    <tr>\n",
       "      <th>0</th>\n",
       "      <td>618.322825</td>\n",
       "    </tr>\n",
       "    <tr>\n",
       "      <th>1</th>\n",
       "      <td>180.345062</td>\n",
       "    </tr>\n",
       "    <tr>\n",
       "      <th>2</th>\n",
       "      <td>622.410491</td>\n",
       "    </tr>\n",
       "    <tr>\n",
       "      <th>3</th>\n",
       "      <td>1277.544145</td>\n",
       "    </tr>\n",
       "    <tr>\n",
       "      <th>4</th>\n",
       "      <td>1101.857499</td>\n",
       "    </tr>\n",
       "  </tbody>\n",
       "</table>\n",
       "</div>"
      ],
      "text/plain": [
       "                 y\n",
       "index             \n",
       "0       618.322825\n",
       "1       180.345062\n",
       "2       622.410491\n",
       "3      1277.544145\n",
       "4      1101.857499"
      ]
     },
     "execution_count": 28,
     "metadata": {},
     "output_type": "execute_result"
    }
   ],
   "source": [
    "res = pd.DataFrame({'index': test.index, 'y': mape_model.predict(test.values)}).set_index('index')\n",
    "res.head()"
   ]
  },
  {
   "cell_type": "code",
   "execution_count": 29,
   "id": "26625455-35f1-402d-8235-467e960f9a4e",
   "metadata": {},
   "outputs": [],
   "source": [
    "res.to_csv('result_1.csv')"
   ]
  },
  {
   "cell_type": "code",
   "execution_count": null,
   "id": "003c51b4-9ada-47b5-a357-eedece11de76",
   "metadata": {},
   "outputs": [],
   "source": []
  }
 ],
 "metadata": {
  "kernelspec": {
   "display_name": "Python 3 (ipykernel)",
   "language": "python",
   "name": "python3"
  },
  "language_info": {
   "codemirror_mode": {
    "name": "ipython",
    "version": 3
   },
   "file_extension": ".py",
   "mimetype": "text/x-python",
   "name": "python",
   "nbconvert_exporter": "python",
   "pygments_lexer": "ipython3",
   "version": "3.12.6"
  }
 },
 "nbformat": 4,
 "nbformat_minor": 5
}
