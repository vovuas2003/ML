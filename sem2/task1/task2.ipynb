{
 "cells": [
  {
   "cell_type": "markdown",
   "id": "8ea0d8a5-fa72-411c-88d1-b516b8a0ea8c",
   "metadata": {},
   "source": [
    "# Наумкин Владимир, С01-119."
   ]
  },
  {
   "cell_type": "markdown",
   "id": "5e780bd3-a767-4e45-9eba-21e7b4313086",
   "metadata": {},
   "source": [
    "## Задание 2. Анализ модели LSTM."
   ]
  },
  {
   "cell_type": "markdown",
   "id": "20fe3017-b60a-42d8-9865-020d22f0e314",
   "metadata": {},
   "source": [
    "### Подключим библиотеки"
   ]
  },
  {
   "cell_type": "code",
   "execution_count": 1,
   "id": "a6711cab-1585-4bb7-912b-eb2c8dd7dc05",
   "metadata": {},
   "outputs": [],
   "source": [
    "from tqdm.notebook import tqdm\n",
    "import numpy as np\n",
    "import torch\n",
    "from torch.utils.data import Dataset\n",
    "from torch.utils.tensorboard import SummaryWriter\n",
    "from prettytable import PrettyTable\n",
    "from nerus import load_nerus"
   ]
  },
  {
   "cell_type": "markdown",
   "id": "f345f47f-6b3d-41f9-90aa-222dcc6ec366",
   "metadata": {},
   "source": [
    "### Уберём предупреждения"
   ]
  },
  {
   "cell_type": "code",
   "execution_count": 2,
   "id": "aa19bfed-5827-46c6-b28b-cad183e3743f",
   "metadata": {},
   "outputs": [],
   "source": [
    "import warnings\n",
    "warnings.filterwarnings(\"ignore\")"
   ]
  },
  {
   "cell_type": "markdown",
   "id": "4c894b2b-ef6d-4e7b-bea6-5ddd27f0eb18",
   "metadata": {},
   "source": [
    "### Зададим устройство исполнения кода (вычисления провожу на своём ПК)"
   ]
  },
  {
   "cell_type": "code",
   "execution_count": 3,
   "id": "a50ab4c1-a732-4892-a07e-6c5d02667515",
   "metadata": {},
   "outputs": [
    {
     "data": {
      "text/plain": [
       "device(type='cpu')"
      ]
     },
     "execution_count": 3,
     "metadata": {},
     "output_type": "execute_result"
    }
   ],
   "source": [
    "device = torch.device(\"cuda\" if torch.cuda.is_available() else \"cpu\")\n",
    "device"
   ]
  },
  {
   "cell_type": "markdown",
   "id": "b7b609b0-f07f-495f-92f8-419409735811",
   "metadata": {},
   "source": [
    "### Функции для работы с датасетом"
   ]
  },
  {
   "cell_type": "code",
   "execution_count": 4,
   "id": "641c18be-a7a7-40bd-a8b6-98b239e36cce",
   "metadata": {},
   "outputs": [],
   "source": [
    "def get_sent_tags(docs, size=10000):\n",
    "    list_of_sent = []\n",
    "    list_of_tags = []\n",
    "    for doc in tqdm(docs):\n",
    "        for sent in doc.sents:\n",
    "            list_of_sent_toks = []\n",
    "            list_of_sent_tags = []\n",
    "            for tok in sent.tokens:\n",
    "                list_of_sent_toks.append(tok.text)\n",
    "                list_of_sent_tags.append(tok.pos)\n",
    "        list_of_sent.append(list_of_sent_toks)\n",
    "        list_of_tags.append(list_of_sent_tags)\n",
    "        if len(list_of_sent) > size:\n",
    "            break\n",
    "    return list_of_sent, list_of_tags"
   ]
  },
  {
   "cell_type": "code",
   "execution_count": 5,
   "id": "d9494d82-4d28-46af-9645-4051cdea6f84",
   "metadata": {},
   "outputs": [],
   "source": [
    "def pos_dict(list_of_tags, test_size=100):\n",
    "    pos2idx = {'<PAD>' : 0}\n",
    "    idx2pos = ['<PAD>']\n",
    "    for tags in list_of_tags[:-test_size]:\n",
    "        for word in tags:\n",
    "            if word not in pos2idx:\n",
    "                pos2idx[word] = len(idx2pos)\n",
    "                idx2pos.append(word)\n",
    "    return pos2idx, idx2pos"
   ]
  },
  {
   "cell_type": "code",
   "execution_count": 6,
   "id": "7126f0b1-e77b-4146-bc8d-37465c59a734",
   "metadata": {},
   "outputs": [],
   "source": [
    "def word_dict(list_of_tags, test_size=100):\n",
    "    word2idx = {'<PAD>': 0, '<UNK>': 1}\n",
    "    idx2word = ['<PAD>', '<UNK>']\n",
    "    for sent in list_of_sent[:-test_size]:\n",
    "        for word in sent:\n",
    "            if word not in word2idx:\n",
    "                word2idx[word] = len(idx2word)\n",
    "                idx2word.append(word)\n",
    "    return word2idx, idx2word"
   ]
  },
  {
   "cell_type": "code",
   "execution_count": 7,
   "id": "4020e255-cda5-4baf-b4cd-dcfaab91a08f",
   "metadata": {},
   "outputs": [],
   "source": [
    "class NerusDataset(Dataset):\n",
    "    def __init__(self, list_of_sent, list_of_tags, word2idx, pos2idx, train=True, test_size=100):\n",
    "        self.X = []\n",
    "        self.y = []\n",
    "        if train:\n",
    "            for sent in list_of_sent[:-test_size]:\n",
    "                data = []\n",
    "                for word in sent:\n",
    "                    data.append(word2idx.get(word, 0))\n",
    "                self.X.append(data)\n",
    "            for tags in list_of_tags[:-test_size]:\n",
    "                data = []\n",
    "                for word in tags:\n",
    "                    data.append(pos2idx.get(word, 0))\n",
    "                self.y.append(data)\n",
    "        else:\n",
    "            for sent in list_of_sent[-test_size:]:\n",
    "                data = []\n",
    "                for word in sent:\n",
    "                    data.append(word2idx.get(word, 0))\n",
    "                self.X.append(data)\n",
    "            for tags in list_of_tags[-test_size:]:\n",
    "                data = []\n",
    "                for word in tags:\n",
    "                    data.append(pos2idx.get(word, 0))\n",
    "                self.y.append(data)\n",
    "    def __len__(self):\n",
    "        return len(self.y)\n",
    "    def __getitem__(self, idx):\n",
    "        return torch.Tensor(self.X[idx]), torch.Tensor(self.y[idx])"
   ]
  },
  {
   "cell_type": "code",
   "execution_count": 8,
   "id": "ba588ba5-d2a4-4c55-a61f-6b33b066659c",
   "metadata": {},
   "outputs": [],
   "source": [
    "def collate_fn(data):\n",
    "    X, Y = [], []\n",
    "    for x, y in data:\n",
    "        X.append(x)\n",
    "        Y.append(y)\n",
    "    x_batch = torch.zeros((len(X), max(list(map(len, X)))), dtype=torch.long)\n",
    "    y_batch = torch.zeros((len(Y), max(list(map(len, Y)))), dtype=torch.long)\n",
    "    for i, sent in enumerate(X):\n",
    "        x_batch[i, :len(sent)] = sent\n",
    "    for i, sent in enumerate(Y):\n",
    "        y_batch[i, :len(sent)] = sent\n",
    "    return x_batch, y_batch"
   ]
  },
  {
   "cell_type": "markdown",
   "id": "21a2ff8f-4944-4072-b4b7-8322027126d7",
   "metadata": {},
   "source": [
    "### Функция проверки качества модели"
   ]
  },
  {
   "cell_type": "code",
   "execution_count": 9,
   "id": "028ac32b-85ed-492e-82f6-81ed03619897",
   "metadata": {},
   "outputs": [],
   "source": [
    "def check_model(batch_size, dataset, model, loss_function, idx2word, idx2pos):\n",
    "    model.eval()\n",
    "    batch_generator = torch.utils.data.DataLoader(dataset=dataset, batch_size=batch_size, collate_fn=collate_fn)\n",
    "    test_acc = 0\n",
    "    test_loss = 0\n",
    "    count = 0\n",
    "    for it, (x_batch, y_batch) in enumerate(batch_generator):\n",
    "        x_batch = x_batch.to(model.device)\n",
    "        y_batch = y_batch.to(model.device)\n",
    "        mask = (y_batch != 0)\n",
    "        count += mask.sum()\n",
    "        with torch.no_grad():\n",
    "            output = model(x_batch)\n",
    "        test_loss += loss_function(output.transpose(1,2), y_batch).cpu().item()*len(x_batch)\n",
    "        test_acc += (torch.argmax(output, dim=-1).cpu() == y_batch)[mask].sum().item()\n",
    "    test_loss /= len(dataset)\n",
    "    test_acc /= count\n",
    "    print(f'loss: {test_loss}, acc: {test_acc}')\n",
    "    dataloader = torch.utils.data.DataLoader(dataset=dataset, batch_size=batch_size, shuffle=True, collate_fn=collate_fn)\n",
    "    x, y = next(iter(dataloader))\n",
    "    x = x.to(device)\n",
    "    y = y.to(device)\n",
    "    with torch.no_grad():\n",
    "        outputs = model(x)\n",
    "    one_x = x[0].cpu().numpy()\n",
    "    one_y = y[0].cpu().numpy()\n",
    "    one_output = outputs[0].argmax(dim=-1).cpu().numpy()\n",
    "    words = [idx2word[idx] for idx in one_x]\n",
    "    true_tags = [idx2pos[idx] for idx in one_y]\n",
    "    pred_tags = [idx2pos[idx] for idx in one_output]\n",
    "    table = PrettyTable([\"Word\", \"True tag\", \"Predicted tag\"])\n",
    "    table.align[\"Word\"], table.align[\"True tag\"], table.align[\"Predicted tag\"] = \"l\", \"l\", \"l\"\n",
    "    for word, true_tag, pred_tag in zip(words, true_tags, pred_tags):\n",
    "        if word != idx2word[word2idx['<PAD>']]:\n",
    "            table.add_row([word, true_tag, pred_tag])\n",
    "    print(table)\n",
    "    return test_loss, test_acc"
   ]
  },
  {
   "cell_type": "markdown",
   "id": "30798f4c-c4b2-4567-94ff-cb1262cbe34e",
   "metadata": {},
   "source": [
    "### Код для обучения модели"
   ]
  },
  {
   "cell_type": "code",
   "execution_count": 10,
   "id": "be10e475-4ff7-49fe-92e7-b105cc68fcd8",
   "metadata": {},
   "outputs": [],
   "source": [
    "def train_on_batch(model, x_batch, y_batch, optimizer, loss_function):\n",
    "    model.train()\n",
    "    model.zero_grad()\n",
    "    output = model(x_batch.to(device))\n",
    "    loss = loss_function(output.transpose(1, 2), y_batch.to(device))\n",
    "    loss.backward()\n",
    "    optimizer.step()\n",
    "    return loss.cpu().item()"
   ]
  },
  {
   "cell_type": "code",
   "execution_count": 11,
   "id": "4aa5869d-9318-4db5-b62b-c838d71da00c",
   "metadata": {},
   "outputs": [],
   "source": [
    "def train_epoch(train_generator, model, loss_function, optimizer, callback = None):\n",
    "    epoch_loss = 0\n",
    "    total = 0\n",
    "    for it, (batch_of_x, batch_of_y) in enumerate(train_generator):\n",
    "        batch_loss = train_on_batch(model, batch_of_x.to(device), batch_of_y.to(device), optimizer, loss_function)\n",
    "        train_generator.set_postfix({'train batch loss': batch_loss})\n",
    "        if callback is not None:\n",
    "            callback(model, batch_loss)\n",
    "        epoch_loss += batch_loss*len(batch_of_x)\n",
    "        total += len(batch_of_x)\n",
    "    return epoch_loss/total"
   ]
  },
  {
   "cell_type": "code",
   "execution_count": 12,
   "id": "68b659b3-ca3d-4d46-bf20-3796a8f0c01d",
   "metadata": {},
   "outputs": [],
   "source": [
    "def trainer(count_of_epoch, \n",
    "            batch_size, \n",
    "            dataset,\n",
    "            model, \n",
    "            loss_function,\n",
    "            optimizer,\n",
    "            lr = 0.001,\n",
    "            callback = None):\n",
    "    optima = optimizer(model.parameters(), lr=lr)\n",
    "    iterations = tqdm(range(count_of_epoch), desc='epoch')\n",
    "    iterations.set_postfix({'train epoch loss': np.nan})\n",
    "    for it in iterations:\n",
    "        batch_generator = tqdm(\n",
    "            torch.utils.data.DataLoader(dataset=dataset, batch_size=batch_size, shuffle=True, collate_fn=collate_fn), \n",
    "            leave=False, total=len(dataset)//batch_size+(len(dataset)%batch_size> 0))\n",
    "        epoch_loss = train_epoch(\n",
    "                    train_generator=batch_generator, \n",
    "                    model=model, \n",
    "                    loss_function=loss_function, \n",
    "                    optimizer=optima, \n",
    "                    callback=callback)\n",
    "        iterations.set_postfix({'train epoch loss': epoch_loss})"
   ]
  },
  {
   "cell_type": "markdown",
   "id": "bfbe25bf-622f-4a34-a64e-80ff3e11910b",
   "metadata": {},
   "source": [
    "### Отслеживание обучения"
   ]
  },
  {
   "cell_type": "code",
   "execution_count": 13,
   "id": "771d96b1-56fd-4315-b861-b019b9bf5f64",
   "metadata": {},
   "outputs": [],
   "source": [
    "class callback():\n",
    "    def __init__(self, writer, dataset, loss_function, delimeter = 300, batch_size=64):\n",
    "        self.step = 0\n",
    "        self.writer = writer\n",
    "        self.delimeter = delimeter\n",
    "        self.loss_function = loss_function\n",
    "        self.batch_size = batch_size\n",
    "        self.dataset = dataset\n",
    "    def forward(self, model, loss):\n",
    "        self.step += 1\n",
    "        self.writer.add_scalar('LOSS/train', loss, self.step)\n",
    "        if self.step % self.delimeter == 0:\n",
    "            model.eval()\n",
    "            batch_generator = torch.utils.data.DataLoader(dataset=self.dataset,\n",
    "                                                          batch_size=self.batch_size,\n",
    "                                                          collate_fn=collate_fn)\n",
    "            test_acc = 0\n",
    "            test_loss = 0\n",
    "            count = 0\n",
    "            for it, (x_batch, y_batch) in enumerate(batch_generator):\n",
    "                x_batch = x_batch.to(model.device)\n",
    "                y_batch = y_batch.to(model.device)\n",
    "                mask = (y_batch != 0)\n",
    "                count += mask.sum()\n",
    "                with torch.no_grad():\n",
    "                    output = model(x_batch)\n",
    "                test_loss += self.loss_function(output.transpose(1,2), y_batch).cpu().item()*len(x_batch)\n",
    "                test_acc += (torch.argmax(output, dim=-1).cpu() == y_batch)[mask].sum().item()\n",
    "            test_loss /= len(self.dataset)\n",
    "            test_acc /= count\n",
    "            print(f\"\\t step={self.step}, train_loss={loss}, val_loss={test_loss}, val_acc={test_acc}\")\n",
    "            self.writer.add_scalar('LOSS/test', test_loss, self.step)\n",
    "            self.writer.add_scalar('ACC/test', test_acc, self.step)\n",
    "    def __call__(self, model, loss):\n",
    "        return self.forward(model, loss)"
   ]
  },
  {
   "cell_type": "markdown",
   "id": "d5328d7b-6f11-4158-bac4-b9afb50b31c3",
   "metadata": {},
   "source": [
    "## Модель LSTM"
   ]
  },
  {
   "cell_type": "code",
   "execution_count": 14,
   "id": "d5857958-4fb9-4936-ac31-4ba20e1d3a4b",
   "metadata": {},
   "outputs": [],
   "source": [
    "class LSTM(torch.nn.Module):\n",
    "    @property\n",
    "    def device(self):\n",
    "        return next(self.parameters()).device\n",
    "    def __init__(self,\n",
    "                 vocab_dim,\n",
    "                 output_dim = 18,\n",
    "                 emb_dim = 10, \n",
    "                 hidden_dim = 10,\n",
    "                 num_layers = 3,\n",
    "                 dropout = 0,\n",
    "                 batch_norm = False,\n",
    "                 bidirectional = False):\n",
    "        super(LSTM, self).__init__()\n",
    "        self.embedding = torch.nn.Embedding(vocab_dim, emb_dim, padding_idx=0)\n",
    "        self.encoder = torch.nn.LSTM(emb_dim, hidden_dim, num_layers, bidirectional = bidirectional, batch_first=True)\n",
    "        if batch_norm:\n",
    "            self.batch_norm = torch.nn.BatchNorm1d(hidden_dim)\n",
    "        else:\n",
    "            self.batch_norm = None\n",
    "        self.dropout = torch.nn.Dropout(p=dropout)\n",
    "        self.linear = torch.nn.Linear(hidden_dim, output_dim)\n",
    "    def forward(self, input):\n",
    "        out = self.embedding(input)\n",
    "        out, _ = self.encoder(out)\n",
    "        if self.batch_norm is not None:\n",
    "            out = self.batch_norm(out.transpose(1, 2)).transpose(1, 2)\n",
    "        out = self.dropout(out)\n",
    "        out = self.linear(out)\n",
    "        return out"
   ]
  },
  {
   "cell_type": "markdown",
   "id": "3c79b855-1a75-4069-8fdc-d1773240f4ae",
   "metadata": {},
   "source": [
    "### Загрузка датасета (предварительно скачаем сам архив)"
   ]
  },
  {
   "cell_type": "code",
   "execution_count": 18,
   "id": "fd022cd2-894b-4555-80de-3827993d5cef",
   "metadata": {},
   "outputs": [],
   "source": [
    "docs = load_nerus(\"nerus_lenta.conllu.gz\")"
   ]
  },
  {
   "cell_type": "code",
   "execution_count": 19,
   "id": "a6cad37e-1d1e-460f-8c39-9039a105d7f1",
   "metadata": {},
   "outputs": [
    {
     "data": {
      "application/vnd.jupyter.widget-view+json": {
       "model_id": "7c5977185bbd46a9a683e41f13948ef8",
       "version_major": 2,
       "version_minor": 0
      },
      "text/plain": [
       "0it [00:00, ?it/s]"
      ]
     },
     "metadata": {},
     "output_type": "display_data"
    }
   ],
   "source": [
    "list_of_sent, list_of_tags = get_sent_tags(docs, 10000)"
   ]
  },
  {
   "cell_type": "code",
   "execution_count": 20,
   "id": "c7c0fcdb-43a8-4662-b9b4-442c69f84176",
   "metadata": {},
   "outputs": [],
   "source": [
    "pos2idx, idx2pos = pos_dict(list_of_tags)"
   ]
  },
  {
   "cell_type": "code",
   "execution_count": 21,
   "id": "039bed6e-6f07-4ffc-a30a-f0683d80be32",
   "metadata": {},
   "outputs": [],
   "source": [
    "word2idx, idx2word = word_dict(list_of_sent)"
   ]
  },
  {
   "cell_type": "code",
   "execution_count": 22,
   "id": "7207fe87-4d7e-4e62-ab64-12f136d6a993",
   "metadata": {},
   "outputs": [],
   "source": [
    "train_data = NerusDataset(list_of_sent, list_of_tags, word2idx, pos2idx, train=True)\n",
    "test_data = NerusDataset(list_of_sent, list_of_tags, word2idx, pos2idx, train=False)"
   ]
  },
  {
   "cell_type": "markdown",
   "id": "00e135a4-cfd4-4c80-bf07-c7549f63d2c7",
   "metadata": {},
   "source": [
    "### Обучение модели"
   ]
  },
  {
   "cell_type": "code",
   "execution_count": 23,
   "id": "7e371a13-549a-44a9-ac17-da094e7bc2b6",
   "metadata": {},
   "outputs": [],
   "source": [
    "loss_function = torch.nn.CrossEntropyLoss(ignore_index=0)\n",
    "optimizer = torch.optim.Adam"
   ]
  },
  {
   "cell_type": "markdown",
   "id": "9b422d7d-99e8-4316-8f3a-730cfe038a2d",
   "metadata": {},
   "source": [
    "Перебираемые параметры для анализа зависимости модели от них:"
   ]
  },
  {
   "cell_type": "code",
   "execution_count": 30,
   "id": "b74cfcd0-e0f4-4e88-8d63-4b873e7c749a",
   "metadata": {},
   "outputs": [],
   "source": [
    "dim_layers_params = [10, 15, 20]\n",
    "num_layers_params = [3, 5, 7]\n",
    "dropout_params = [0, 0.25, 0.5]\n",
    "batch_norm_params = [False, True]\n",
    "len_dict_params = [10000, 25000, 50000]"
   ]
  },
  {
   "cell_type": "markdown",
   "id": "795613ec-6fe5-440e-ae34-4312c25103c8",
   "metadata": {},
   "source": [
    "Разные размеры слоя:"
   ]
  },
  {
   "cell_type": "code",
   "execution_count": 29,
   "id": "fedc9785-f091-4c89-9251-4a55786f3809",
   "metadata": {},
   "outputs": [
    {
     "name": "stdout",
     "output_type": "stream",
     "text": [
      "dim = 10\n",
      "loss: 2.9790517902374267, acc: 0.022016221657395363\n",
      "+----------+----------+---------------+\n",
      "| Word     | True tag | Predicted tag |\n",
      "+----------+----------+---------------+\n",
      "| За       | ADP      | ADV           |\n",
      "| семь     | NUM      | ADV           |\n",
      "| месяцев  | NOUN     | ADV           |\n",
      "| с        | ADP      | ADV           |\n",
      "| начала   | NOUN     | ADV           |\n",
      "| акции    | NOUN     | ADV           |\n",
      "| в        | ADP      | ADV           |\n",
      "| ней      | PRON     | ADV           |\n",
      "| приняли  | VERB     | ADV           |\n",
      "| участие  | NOUN     | ADV           |\n",
      "| человек  | NOUN     | ADV           |\n",
      "| в        | ADP      | ADV           |\n",
      "| 52       | NUM      | ADV           |\n",
      "| городах  | NOUN     | ADV           |\n",
      "| России   | PROPN    | ADV           |\n",
      "| ,        | PUNCT    | ADV           |\n",
      "| они      | PRON     | ADV           |\n",
      "| посетили | VERB     | ADV           |\n",
      "| ,        | PUNCT    | ADV           |\n",
      "| и        | CCONJ    | ADV           |\n",
      "| детей    | NOUN     | ADV           |\n",
      "| войны    | NOUN     | ADV           |\n",
      "| .        | PUNCT    | ADV           |\n",
      "+----------+----------+---------------+\n"
     ]
    },
    {
     "data": {
      "application/vnd.jupyter.widget-view+json": {
       "model_id": "783f3c33339e4388a347b5c9a84975c9",
       "version_major": 2,
       "version_minor": 0
      },
      "text/plain": [
       "epoch:   0%|          | 0/10 [00:00<?, ?it/s]"
      ]
     },
     "metadata": {},
     "output_type": "display_data"
    },
    {
     "data": {
      "application/vnd.jupyter.widget-view+json": {
       "model_id": "",
       "version_major": 2,
       "version_minor": 0
      },
      "text/plain": [
       "  0%|          | 0/155 [00:00<?, ?it/s]"
      ]
     },
     "metadata": {},
     "output_type": "display_data"
    },
    {
     "data": {
      "application/vnd.jupyter.widget-view+json": {
       "model_id": "",
       "version_major": 2,
       "version_minor": 0
      },
      "text/plain": [
       "  0%|          | 0/155 [00:00<?, ?it/s]"
      ]
     },
     "metadata": {},
     "output_type": "display_data"
    },
    {
     "name": "stdout",
     "output_type": "stream",
     "text": [
      "\t step=300, train_loss=2.2013754844665527, val_loss=2.248526210784912, val_acc=0.2665121555328369\n"
     ]
    },
    {
     "data": {
      "application/vnd.jupyter.widget-view+json": {
       "model_id": "",
       "version_major": 2,
       "version_minor": 0
      },
      "text/plain": [
       "  0%|          | 0/155 [00:00<?, ?it/s]"
      ]
     },
     "metadata": {},
     "output_type": "display_data"
    },
    {
     "data": {
      "application/vnd.jupyter.widget-view+json": {
       "model_id": "",
       "version_major": 2,
       "version_minor": 0
      },
      "text/plain": [
       "  0%|          | 0/155 [00:00<?, ?it/s]"
      ]
     },
     "metadata": {},
     "output_type": "display_data"
    },
    {
     "name": "stdout",
     "output_type": "stream",
     "text": [
      "\t step=600, train_loss=2.19882869720459, val_loss=2.2273713970184326, val_acc=0.26940903067588806\n"
     ]
    },
    {
     "data": {
      "application/vnd.jupyter.widget-view+json": {
       "model_id": "",
       "version_major": 2,
       "version_minor": 0
      },
      "text/plain": [
       "  0%|          | 0/155 [00:00<?, ?it/s]"
      ]
     },
     "metadata": {},
     "output_type": "display_data"
    },
    {
     "data": {
      "application/vnd.jupyter.widget-view+json": {
       "model_id": "",
       "version_major": 2,
       "version_minor": 0
      },
      "text/plain": [
       "  0%|          | 0/155 [00:00<?, ?it/s]"
      ]
     },
     "metadata": {},
     "output_type": "display_data"
    },
    {
     "name": "stdout",
     "output_type": "stream",
     "text": [
      "\t step=900, train_loss=1.9736965894699097, val_loss=1.9875718402862548, val_acc=0.26940903067588806\n"
     ]
    },
    {
     "data": {
      "application/vnd.jupyter.widget-view+json": {
       "model_id": "",
       "version_major": 2,
       "version_minor": 0
      },
      "text/plain": [
       "  0%|          | 0/155 [00:00<?, ?it/s]"
      ]
     },
     "metadata": {},
     "output_type": "display_data"
    },
    {
     "data": {
      "application/vnd.jupyter.widget-view+json": {
       "model_id": "",
       "version_major": 2,
       "version_minor": 0
      },
      "text/plain": [
       "  0%|          | 0/155 [00:00<?, ?it/s]"
      ]
     },
     "metadata": {},
     "output_type": "display_data"
    },
    {
     "name": "stdout",
     "output_type": "stream",
     "text": [
      "\t step=1200, train_loss=1.4881247282028198, val_loss=1.5253090810775758, val_acc=0.47392815351486206\n"
     ]
    },
    {
     "data": {
      "application/vnd.jupyter.widget-view+json": {
       "model_id": "",
       "version_major": 2,
       "version_minor": 0
      },
      "text/plain": [
       "  0%|          | 0/155 [00:00<?, ?it/s]"
      ]
     },
     "metadata": {},
     "output_type": "display_data"
    },
    {
     "data": {
      "application/vnd.jupyter.widget-view+json": {
       "model_id": "",
       "version_major": 2,
       "version_minor": 0
      },
      "text/plain": [
       "  0%|          | 0/155 [00:00<?, ?it/s]"
      ]
     },
     "metadata": {},
     "output_type": "display_data"
    },
    {
     "name": "stdout",
     "output_type": "stream",
     "text": [
      "\t step=1500, train_loss=1.144326090812683, val_loss=1.260096125602722, val_acc=0.6031286120414734\n",
      "loss: 1.2126078701019287, acc: 0.6512166857719421\n",
      "+-----------+----------+---------------+\n",
      "| Word      | True tag | Predicted tag |\n",
      "+-----------+----------+---------------+\n",
      "| В         | ADP      | ADP           |\n",
      "| 2018      | ADJ      | ADJ           |\n",
      "| году      | NOUN     | NOUN          |\n",
      "| Forbes    | PROPN    | VERB          |\n",
      "| оценил    | VERB     | VERB          |\n",
      "| состояние | NOUN     | NOUN          |\n",
      "| в         | ADP      | ADP           |\n",
      "| 2,2       | NUM      | ADJ           |\n",
      "| миллиарда | NOUN     | NOUN          |\n",
      "| долларов  | NOUN     | NOUN          |\n",
      "| .         | PUNCT    | PUNCT         |\n",
      "+-----------+----------+---------------+\n",
      "dim = 15\n",
      "loss: 2.9377783489227296, acc: 0.06546929478645325\n",
      "+--------------+----------+---------------+\n",
      "| Word         | True tag | Predicted tag |\n",
      "+--------------+----------+---------------+\n",
      "| На           | ADP      | ADP           |\n",
      "| нем          | PRON     | ADP           |\n",
      "| присутствует | VERB     | ADP           |\n",
      "| инспектор    | NOUN     | ADP           |\n",
      "| отдела       | NOUN     | ADP           |\n",
      "| безопасности | NOUN     | ADP           |\n",
      "| ИК-7         | PROPN    | PRON          |\n",
      "| Василий      | PROPN    | PRON          |\n",
      "| Трофимов     | PROPN    | PRON          |\n",
      "| ,            | PUNCT    | ADP           |\n",
      "| который      | PRON     | ADP           |\n",
      "| ранее        | ADV      | PRON          |\n",
      "| был          | AUX      | PRON          |\n",
      "| осужден      | VERB     | PRON          |\n",
      "| за           | ADP      | PRON          |\n",
      "| превышение   | NOUN     | PRON          |\n",
      "| полномочий   | NOUN     | ADP           |\n",
      "| .            | PUNCT    | PRON          |\n",
      "+--------------+----------+---------------+\n"
     ]
    },
    {
     "data": {
      "application/vnd.jupyter.widget-view+json": {
       "model_id": "40a69ad89e7746d98f49224005284015",
       "version_major": 2,
       "version_minor": 0
      },
      "text/plain": [
       "epoch:   0%|          | 0/10 [00:00<?, ?it/s]"
      ]
     },
     "metadata": {},
     "output_type": "display_data"
    },
    {
     "data": {
      "application/vnd.jupyter.widget-view+json": {
       "model_id": "",
       "version_major": 2,
       "version_minor": 0
      },
      "text/plain": [
       "  0%|          | 0/155 [00:00<?, ?it/s]"
      ]
     },
     "metadata": {},
     "output_type": "display_data"
    },
    {
     "data": {
      "application/vnd.jupyter.widget-view+json": {
       "model_id": "",
       "version_major": 2,
       "version_minor": 0
      },
      "text/plain": [
       "  0%|          | 0/155 [00:00<?, ?it/s]"
      ]
     },
     "metadata": {},
     "output_type": "display_data"
    },
    {
     "name": "stdout",
     "output_type": "stream",
     "text": [
      "\t step=300, train_loss=2.126230478286743, val_loss=2.2228517150878906, val_acc=0.26998841762542725\n"
     ]
    },
    {
     "data": {
      "application/vnd.jupyter.widget-view+json": {
       "model_id": "",
       "version_major": 2,
       "version_minor": 0
      },
      "text/plain": [
       "  0%|          | 0/155 [00:00<?, ?it/s]"
      ]
     },
     "metadata": {},
     "output_type": "display_data"
    },
    {
     "data": {
      "application/vnd.jupyter.widget-view+json": {
       "model_id": "",
       "version_major": 2,
       "version_minor": 0
      },
      "text/plain": [
       "  0%|          | 0/155 [00:00<?, ?it/s]"
      ]
     },
     "metadata": {},
     "output_type": "display_data"
    },
    {
     "name": "stdout",
     "output_type": "stream",
     "text": [
      "\t step=600, train_loss=2.0409188270568848, val_loss=2.107631492614746, val_acc=0.3342989385128021\n"
     ]
    },
    {
     "data": {
      "application/vnd.jupyter.widget-view+json": {
       "model_id": "",
       "version_major": 2,
       "version_minor": 0
      },
      "text/plain": [
       "  0%|          | 0/155 [00:00<?, ?it/s]"
      ]
     },
     "metadata": {},
     "output_type": "display_data"
    },
    {
     "data": {
      "application/vnd.jupyter.widget-view+json": {
       "model_id": "",
       "version_major": 2,
       "version_minor": 0
      },
      "text/plain": [
       "  0%|          | 0/155 [00:00<?, ?it/s]"
      ]
     },
     "metadata": {},
     "output_type": "display_data"
    },
    {
     "name": "stdout",
     "output_type": "stream",
     "text": [
      "\t step=900, train_loss=1.5555475950241089, val_loss=1.5580001163482666, val_acc=0.5098493695259094\n"
     ]
    },
    {
     "data": {
      "application/vnd.jupyter.widget-view+json": {
       "model_id": "",
       "version_major": 2,
       "version_minor": 0
      },
      "text/plain": [
       "  0%|          | 0/155 [00:00<?, ?it/s]"
      ]
     },
     "metadata": {},
     "output_type": "display_data"
    },
    {
     "data": {
      "application/vnd.jupyter.widget-view+json": {
       "model_id": "",
       "version_major": 2,
       "version_minor": 0
      },
      "text/plain": [
       "  0%|          | 0/155 [00:00<?, ?it/s]"
      ]
     },
     "metadata": {},
     "output_type": "display_data"
    },
    {
     "name": "stdout",
     "output_type": "stream",
     "text": [
      "\t step=1200, train_loss=1.1254302263259888, val_loss=1.1919739055633545, val_acc=0.6181923151016235\n"
     ]
    },
    {
     "data": {
      "application/vnd.jupyter.widget-view+json": {
       "model_id": "",
       "version_major": 2,
       "version_minor": 0
      },
      "text/plain": [
       "  0%|          | 0/155 [00:00<?, ?it/s]"
      ]
     },
     "metadata": {},
     "output_type": "display_data"
    },
    {
     "data": {
      "application/vnd.jupyter.widget-view+json": {
       "model_id": "",
       "version_major": 2,
       "version_minor": 0
      },
      "text/plain": [
       "  0%|          | 0/155 [00:00<?, ?it/s]"
      ]
     },
     "metadata": {},
     "output_type": "display_data"
    },
    {
     "name": "stdout",
     "output_type": "stream",
     "text": [
      "\t step=1500, train_loss=0.9431555867195129, val_loss=0.9833147573471069, val_acc=0.6906141042709351\n",
      "loss: 0.9498584222793579, acc: 0.6998841166496277\n",
      "+-------------+----------+---------------+\n",
      "| Word        | True tag | Predicted tag |\n",
      "+-------------+----------+---------------+\n",
      "| После       | ADP      | ADP           |\n",
      "| этого       | PRON     | PRON          |\n",
      "| в           | ADP      | ADP           |\n",
      "| Госдуме     | PROPN    | VERB          |\n",
      "| заявили     | VERB     | VERB          |\n",
      "| ,           | PUNCT    | PUNCT         |\n",
      "| что         | SCONJ    | SCONJ         |\n",
      "| возможность | NOUN     | NOUN          |\n",
      "| оплаты      | NOUN     | NOUN          |\n",
      "| расходов    | NOUN     | VERB          |\n",
      "| .           | PUNCT    | PUNCT         |\n",
      "+-------------+----------+---------------+\n",
      "dim = 20\n",
      "loss: 2.904795389175415, acc: 0.010428736917674541\n",
      "+-------------+----------+---------------+\n",
      "| Word        | True tag | Predicted tag |\n",
      "+-------------+----------+---------------+\n",
      "| После       | ADP      | PART          |\n",
      "| этого       | PRON     | PART          |\n",
      "| в           | ADP      | PART          |\n",
      "| Госдуме     | PROPN    | PART          |\n",
      "| заявили     | VERB     | PART          |\n",
      "| ,           | PUNCT    | PART          |\n",
      "| что         | SCONJ    | PART          |\n",
      "| возможность | NOUN     | PART          |\n",
      "| оплаты      | NOUN     | PART          |\n",
      "| расходов    | NOUN     | PART          |\n",
      "| .           | PUNCT    | PART          |\n",
      "+-------------+----------+---------------+\n"
     ]
    },
    {
     "data": {
      "application/vnd.jupyter.widget-view+json": {
       "model_id": "7e057c4ed5564fcbaae7a85b3505aaad",
       "version_major": 2,
       "version_minor": 0
      },
      "text/plain": [
       "epoch:   0%|          | 0/10 [00:00<?, ?it/s]"
      ]
     },
     "metadata": {},
     "output_type": "display_data"
    },
    {
     "data": {
      "application/vnd.jupyter.widget-view+json": {
       "model_id": "",
       "version_major": 2,
       "version_minor": 0
      },
      "text/plain": [
       "  0%|          | 0/155 [00:00<?, ?it/s]"
      ]
     },
     "metadata": {},
     "output_type": "display_data"
    },
    {
     "data": {
      "application/vnd.jupyter.widget-view+json": {
       "model_id": "",
       "version_major": 2,
       "version_minor": 0
      },
      "text/plain": [
       "  0%|          | 0/155 [00:00<?, ?it/s]"
      ]
     },
     "metadata": {},
     "output_type": "display_data"
    },
    {
     "name": "stdout",
     "output_type": "stream",
     "text": [
      "\t step=300, train_loss=1.9229785203933716, val_loss=1.982489700317383, val_acc=0.41193509101867676\n"
     ]
    },
    {
     "data": {
      "application/vnd.jupyter.widget-view+json": {
       "model_id": "",
       "version_major": 2,
       "version_minor": 0
      },
      "text/plain": [
       "  0%|          | 0/155 [00:00<?, ?it/s]"
      ]
     },
     "metadata": {},
     "output_type": "display_data"
    },
    {
     "data": {
      "application/vnd.jupyter.widget-view+json": {
       "model_id": "",
       "version_major": 2,
       "version_minor": 0
      },
      "text/plain": [
       "  0%|          | 0/155 [00:00<?, ?it/s]"
      ]
     },
     "metadata": {},
     "output_type": "display_data"
    },
    {
     "name": "stdout",
     "output_type": "stream",
     "text": [
      "\t step=600, train_loss=1.53652024269104, val_loss=1.5905735683441162, val_acc=0.47566625475883484\n"
     ]
    },
    {
     "data": {
      "application/vnd.jupyter.widget-view+json": {
       "model_id": "",
       "version_major": 2,
       "version_minor": 0
      },
      "text/plain": [
       "  0%|          | 0/155 [00:00<?, ?it/s]"
      ]
     },
     "metadata": {},
     "output_type": "display_data"
    },
    {
     "data": {
      "application/vnd.jupyter.widget-view+json": {
       "model_id": "",
       "version_major": 2,
       "version_minor": 0
      },
      "text/plain": [
       "  0%|          | 0/155 [00:00<?, ?it/s]"
      ]
     },
     "metadata": {},
     "output_type": "display_data"
    },
    {
     "name": "stdout",
     "output_type": "stream",
     "text": [
      "\t step=900, train_loss=1.1539238691329956, val_loss=1.1943800163269043, val_acc=0.6263035535812378\n"
     ]
    },
    {
     "data": {
      "application/vnd.jupyter.widget-view+json": {
       "model_id": "",
       "version_major": 2,
       "version_minor": 0
      },
      "text/plain": [
       "  0%|          | 0/155 [00:00<?, ?it/s]"
      ]
     },
     "metadata": {},
     "output_type": "display_data"
    },
    {
     "data": {
      "application/vnd.jupyter.widget-view+json": {
       "model_id": "",
       "version_major": 2,
       "version_minor": 0
      },
      "text/plain": [
       "  0%|          | 0/155 [00:00<?, ?it/s]"
      ]
     },
     "metadata": {},
     "output_type": "display_data"
    },
    {
     "name": "stdout",
     "output_type": "stream",
     "text": [
      "\t step=1200, train_loss=0.9579474329948425, val_loss=0.9585205030441284, val_acc=0.7161065936088562\n"
     ]
    },
    {
     "data": {
      "application/vnd.jupyter.widget-view+json": {
       "model_id": "",
       "version_major": 2,
       "version_minor": 0
      },
      "text/plain": [
       "  0%|          | 0/155 [00:00<?, ?it/s]"
      ]
     },
     "metadata": {},
     "output_type": "display_data"
    },
    {
     "data": {
      "application/vnd.jupyter.widget-view+json": {
       "model_id": "",
       "version_major": 2,
       "version_minor": 0
      },
      "text/plain": [
       "  0%|          | 0/155 [00:00<?, ?it/s]"
      ]
     },
     "metadata": {},
     "output_type": "display_data"
    },
    {
     "name": "stdout",
     "output_type": "stream",
     "text": [
      "\t step=1500, train_loss=0.6939226984977722, val_loss=0.7853385519981384, val_acc=0.7757821083068848\n",
      "loss: 0.7838173341751099, acc: 0.7850521206855774\n",
      "+----------------+----------+---------------+\n",
      "| Word           | True tag | Predicted tag |\n",
      "+----------------+----------+---------------+\n",
      "| Российский     | ADJ      | ADJ           |\n",
      "| министр        | NOUN     | NOUN          |\n",
      "| финансов       | NOUN     | NOUN          |\n",
      "| и              | CCONJ    | CCONJ         |\n",
      "| вице-премьер   | NOUN     | NOUN          |\n",
      "| Антон          | PROPN    | PROPN         |\n",
      "| Силуанов       | PROPN    | PROPN         |\n",
      "| пообещал       | VERB     | VERB          |\n",
      "| обратиться     | VERB     | VERB          |\n",
      "| в              | ADP      | ADP           |\n",
      "| Верховный      | ADJ      | ADJ           |\n",
      "| суд            | NOUN     | NOUN          |\n",
      "| Великобритании | PROPN    | PROPN         |\n",
      "| .              | PUNCT    | PUNCT         |\n",
      "+----------------+----------+---------------+\n"
     ]
    }
   ],
   "source": [
    "for dim in dim_layers_params:\n",
    "    print(f'dim = {dim}')\n",
    "    model = LSTM(vocab_dim=len(word2idx), emb_dim=dim, hidden_dim=dim, output_dim=len(pos2idx))\n",
    "    model.to(device)\n",
    "    writer = SummaryWriter(log_dir=f'tensorboard2/dim_{dim}')\n",
    "    call = callback(writer, test_data, loss_function)\n",
    "    check_model(64, test_data, model, loss_function, idx2word, idx2pos)\n",
    "    trainer(count_of_epoch=10, \n",
    "            batch_size=64, \n",
    "            dataset=train_data,\n",
    "            model=model, \n",
    "            loss_function=loss_function,\n",
    "            optimizer = optimizer,\n",
    "            callback=call)\n",
    "    check_model(64, test_data, model, loss_function, idx2word, idx2pos)"
   ]
  },
  {
   "cell_type": "markdown",
   "id": "e49278f3-5b13-4117-a114-7e08888f12a2",
   "metadata": {},
   "source": [
    "Чем больше размер слоя, тем лучше."
   ]
  },
  {
   "cell_type": "markdown",
   "id": "eb39cc64-dcd1-40e7-8555-b877a1a843a6",
   "metadata": {},
   "source": [
    "Разное число слоёв:"
   ]
  },
  {
   "cell_type": "code",
   "execution_count": 31,
   "id": "7e124d14-caf1-4c5f-85e7-03f5ea244608",
   "metadata": {},
   "outputs": [
    {
     "name": "stdout",
     "output_type": "stream",
     "text": [
      "num_layers = 3\n",
      "loss: 2.852248439788818, acc: 0.05446118116378784\n",
      "+-------------+----------+---------------+\n",
      "| Word        | True tag | Predicted tag |\n",
      "+-------------+----------+---------------+\n",
      "| Игра        | NOUN     | ADJ           |\n",
      "| начнется    | VERB     | ADJ           |\n",
      "| в           | ADP      | ADJ           |\n",
      "| 22          | NUM      | ADJ           |\n",
      "| :           | PUNCT    | PART          |\n",
      "| 00          | NUM      | PART          |\n",
      "| по          | ADP      | PART          |\n",
      "| московскому | ADJ      | PART          |\n",
      "| времени     | NOUN     | PART          |\n",
      "| .           | PUNCT    | PART          |\n",
      "+-------------+----------+---------------+\n"
     ]
    },
    {
     "data": {
      "application/vnd.jupyter.widget-view+json": {
       "model_id": "44e2eeda3be94869913bd5db7f27234d",
       "version_major": 2,
       "version_minor": 0
      },
      "text/plain": [
       "epoch:   0%|          | 0/10 [00:00<?, ?it/s]"
      ]
     },
     "metadata": {},
     "output_type": "display_data"
    },
    {
     "data": {
      "application/vnd.jupyter.widget-view+json": {
       "model_id": "",
       "version_major": 2,
       "version_minor": 0
      },
      "text/plain": [
       "  0%|          | 0/155 [00:00<?, ?it/s]"
      ]
     },
     "metadata": {},
     "output_type": "display_data"
    },
    {
     "data": {
      "application/vnd.jupyter.widget-view+json": {
       "model_id": "",
       "version_major": 2,
       "version_minor": 0
      },
      "text/plain": [
       "  0%|          | 0/155 [00:00<?, ?it/s]"
      ]
     },
     "metadata": {},
     "output_type": "display_data"
    },
    {
     "name": "stdout",
     "output_type": "stream",
     "text": [
      "\t step=300, train_loss=2.2201104164123535, val_loss=2.2465128803253176, val_acc=0.26998841762542725\n"
     ]
    },
    {
     "data": {
      "application/vnd.jupyter.widget-view+json": {
       "model_id": "",
       "version_major": 2,
       "version_minor": 0
      },
      "text/plain": [
       "  0%|          | 0/155 [00:00<?, ?it/s]"
      ]
     },
     "metadata": {},
     "output_type": "display_data"
    },
    {
     "data": {
      "application/vnd.jupyter.widget-view+json": {
       "model_id": "",
       "version_major": 2,
       "version_minor": 0
      },
      "text/plain": [
       "  0%|          | 0/155 [00:00<?, ?it/s]"
      ]
     },
     "metadata": {},
     "output_type": "display_data"
    },
    {
     "name": "stdout",
     "output_type": "stream",
     "text": [
      "\t step=600, train_loss=2.057480573654175, val_loss=2.093374423980713, val_acc=0.4090382158756256\n"
     ]
    },
    {
     "data": {
      "application/vnd.jupyter.widget-view+json": {
       "model_id": "",
       "version_major": 2,
       "version_minor": 0
      },
      "text/plain": [
       "  0%|          | 0/155 [00:00<?, ?it/s]"
      ]
     },
     "metadata": {},
     "output_type": "display_data"
    },
    {
     "data": {
      "application/vnd.jupyter.widget-view+json": {
       "model_id": "",
       "version_major": 2,
       "version_minor": 0
      },
      "text/plain": [
       "  0%|          | 0/155 [00:00<?, ?it/s]"
      ]
     },
     "metadata": {},
     "output_type": "display_data"
    },
    {
     "name": "stdout",
     "output_type": "stream",
     "text": [
      "\t step=900, train_loss=1.8026366233825684, val_loss=1.788724045753479, val_acc=0.42931631207466125\n"
     ]
    },
    {
     "data": {
      "application/vnd.jupyter.widget-view+json": {
       "model_id": "",
       "version_major": 2,
       "version_minor": 0
      },
      "text/plain": [
       "  0%|          | 0/155 [00:00<?, ?it/s]"
      ]
     },
     "metadata": {},
     "output_type": "display_data"
    },
    {
     "data": {
      "application/vnd.jupyter.widget-view+json": {
       "model_id": "",
       "version_major": 2,
       "version_minor": 0
      },
      "text/plain": [
       "  0%|          | 0/155 [00:00<?, ?it/s]"
      ]
     },
     "metadata": {},
     "output_type": "display_data"
    },
    {
     "name": "stdout",
     "output_type": "stream",
     "text": [
      "\t step=1200, train_loss=1.5593254566192627, val_loss=1.6113996601104736, val_acc=0.42989569902420044\n"
     ]
    },
    {
     "data": {
      "application/vnd.jupyter.widget-view+json": {
       "model_id": "",
       "version_major": 2,
       "version_minor": 0
      },
      "text/plain": [
       "  0%|          | 0/155 [00:00<?, ?it/s]"
      ]
     },
     "metadata": {},
     "output_type": "display_data"
    },
    {
     "data": {
      "application/vnd.jupyter.widget-view+json": {
       "model_id": "",
       "version_major": 2,
       "version_minor": 0
      },
      "text/plain": [
       "  0%|          | 0/155 [00:00<?, ?it/s]"
      ]
     },
     "metadata": {},
     "output_type": "display_data"
    },
    {
     "name": "stdout",
     "output_type": "stream",
     "text": [
      "\t step=1500, train_loss=1.3253298997879028, val_loss=1.3785790634155273, val_acc=0.57184237241745\n",
      "loss: 1.3360270595550536, acc: 0.5782155394554138\n",
      "+--------+----------+---------------+\n",
      "| Word   | True tag | Predicted tag |\n",
      "+--------+----------+---------------+\n",
      "| Первое | ADJ      | NOUN          |\n",
      "| место  | NOUN     | NOUN          |\n",
      "| в      | ADP      | ADP           |\n",
      "| 450    | NUM      | NOUN          |\n",
      "| тысяч  | NOUN     | NOUN          |\n",
      "| рублей | NOUN     | NOUN          |\n",
      "| .      | PUNCT    | PUNCT         |\n",
      "+--------+----------+---------------+\n",
      "num_layers = 5\n",
      "loss: 2.9009469413757323, acc: 0.10196986794471741\n",
      "+-------------+----------+---------------+\n",
      "| Word        | True tag | Predicted tag |\n",
      "+-------------+----------+---------------+\n",
      "| В           | ADP      | VERB          |\n",
      "| частности   | NOUN     | VERB          |\n",
      "| ,           | PUNCT    | VERB          |\n",
      "| в           | ADP      | VERB          |\n",
      "| 2018        | ADJ      | VERB          |\n",
      "| году        | NOUN     | VERB          |\n",
      "| предприятие | NOUN     | VERB          |\n",
      "| планирует   | VERB     | VERB          |\n",
      "| поставить   | VERB     | VERB          |\n",
      "| трех        | NUM      | VERB          |\n",
      "| типов       | NOUN     | VERB          |\n",
      "| —           | PUNCT    | VERB          |\n",
      "| 11          | NUM      | VERB          |\n",
      "| двигателей  | NOUN     | VERB          |\n",
      "| 6           | NUM      | VERB          |\n",
      "| двигателей  | NOUN     | VERB          |\n",
      "| и           | CCONJ    | VERB          |\n",
      "| 2           | NUM      | VERB          |\n",
      "| ,           | PUNCT    | VERB          |\n",
      "| то          | PRON     | VERB          |\n",
      "| есть        | VERB     | VERB          |\n",
      "| из          | ADP      | VERB          |\n",
      "| 19          | NUM      | VERB          |\n",
      "| силовых     | ADJ      | VERB          |\n",
      "| установок   | NOUN     | VERB          |\n",
      "| 17          | NUM      | VERB          |\n",
      "| для         | ADP      | VERB          |\n",
      "| США         | PROPN    | VERB          |\n",
      "| ,           | PUNCT    | VERB          |\n",
      "| тогда       | ADV      | VERB          |\n",
      "| как         | SCONJ    | VERB          |\n",
      "| России      | PROPN    | VERB          |\n",
      "| требуется   | VERB     | VERB          |\n",
      "| всего       | PART     | VERB          |\n",
      "| две         | NUM      | VERB          |\n",
      "| .           | PUNCT    | VERB          |\n",
      "+-------------+----------+---------------+\n"
     ]
    },
    {
     "data": {
      "application/vnd.jupyter.widget-view+json": {
       "model_id": "e3b6f022290940568eec057088cf0f77",
       "version_major": 2,
       "version_minor": 0
      },
      "text/plain": [
       "epoch:   0%|          | 0/10 [00:00<?, ?it/s]"
      ]
     },
     "metadata": {},
     "output_type": "display_data"
    },
    {
     "data": {
      "application/vnd.jupyter.widget-view+json": {
       "model_id": "",
       "version_major": 2,
       "version_minor": 0
      },
      "text/plain": [
       "  0%|          | 0/155 [00:00<?, ?it/s]"
      ]
     },
     "metadata": {},
     "output_type": "display_data"
    },
    {
     "data": {
      "application/vnd.jupyter.widget-view+json": {
       "model_id": "",
       "version_major": 2,
       "version_minor": 0
      },
      "text/plain": [
       "  0%|          | 0/155 [00:00<?, ?it/s]"
      ]
     },
     "metadata": {},
     "output_type": "display_data"
    },
    {
     "name": "stdout",
     "output_type": "stream",
     "text": [
      "\t step=300, train_loss=2.219787120819092, val_loss=2.2424987888336183, val_acc=0.26940903067588806\n"
     ]
    },
    {
     "data": {
      "application/vnd.jupyter.widget-view+json": {
       "model_id": "",
       "version_major": 2,
       "version_minor": 0
      },
      "text/plain": [
       "  0%|          | 0/155 [00:00<?, ?it/s]"
      ]
     },
     "metadata": {},
     "output_type": "display_data"
    },
    {
     "data": {
      "application/vnd.jupyter.widget-view+json": {
       "model_id": "",
       "version_major": 2,
       "version_minor": 0
      },
      "text/plain": [
       "  0%|          | 0/155 [00:00<?, ?it/s]"
      ]
     },
     "metadata": {},
     "output_type": "display_data"
    },
    {
     "name": "stdout",
     "output_type": "stream",
     "text": [
      "\t step=600, train_loss=2.2401657104492188, val_loss=2.218400115966797, val_acc=0.26998841762542725\n"
     ]
    },
    {
     "data": {
      "application/vnd.jupyter.widget-view+json": {
       "model_id": "",
       "version_major": 2,
       "version_minor": 0
      },
      "text/plain": [
       "  0%|          | 0/155 [00:00<?, ?it/s]"
      ]
     },
     "metadata": {},
     "output_type": "display_data"
    },
    {
     "data": {
      "application/vnd.jupyter.widget-view+json": {
       "model_id": "",
       "version_major": 2,
       "version_minor": 0
      },
      "text/plain": [
       "  0%|          | 0/155 [00:00<?, ?it/s]"
      ]
     },
     "metadata": {},
     "output_type": "display_data"
    },
    {
     "name": "stdout",
     "output_type": "stream",
     "text": [
      "\t step=900, train_loss=2.1815345287323, val_loss=2.2044293308258056, val_acc=0.27056777477264404\n"
     ]
    },
    {
     "data": {
      "application/vnd.jupyter.widget-view+json": {
       "model_id": "",
       "version_major": 2,
       "version_minor": 0
      },
      "text/plain": [
       "  0%|          | 0/155 [00:00<?, ?it/s]"
      ]
     },
     "metadata": {},
     "output_type": "display_data"
    },
    {
     "data": {
      "application/vnd.jupyter.widget-view+json": {
       "model_id": "",
       "version_major": 2,
       "version_minor": 0
      },
      "text/plain": [
       "  0%|          | 0/155 [00:00<?, ?it/s]"
      ]
     },
     "metadata": {},
     "output_type": "display_data"
    },
    {
     "name": "stdout",
     "output_type": "stream",
     "text": [
      "\t step=1200, train_loss=2.1702799797058105, val_loss=2.1949933338165284, val_acc=0.2711471617221832\n"
     ]
    },
    {
     "data": {
      "application/vnd.jupyter.widget-view+json": {
       "model_id": "",
       "version_major": 2,
       "version_minor": 0
      },
      "text/plain": [
       "  0%|          | 0/155 [00:00<?, ?it/s]"
      ]
     },
     "metadata": {},
     "output_type": "display_data"
    },
    {
     "data": {
      "application/vnd.jupyter.widget-view+json": {
       "model_id": "",
       "version_major": 2,
       "version_minor": 0
      },
      "text/plain": [
       "  0%|          | 0/155 [00:00<?, ?it/s]"
      ]
     },
     "metadata": {},
     "output_type": "display_data"
    },
    {
     "name": "stdout",
     "output_type": "stream",
     "text": [
      "\t step=1500, train_loss=1.9356715679168701, val_loss=1.9356672525405885, val_acc=0.4258400797843933\n",
      "loss: 1.8596412706375123, acc: 0.43568944931030273\n",
      "+--------------+----------+---------------+\n",
      "| Word         | True tag | Predicted tag |\n",
      "+--------------+----------+---------------+\n",
      "| В            | ADP      | ADP           |\n",
      "| мае          | NOUN     | NOUN          |\n",
      "| The          | X        | NOUN          |\n",
      "| National     | X        | PUNCT         |\n",
      "| Interest     | X        | NOUN          |\n",
      "| отмечал      | VERB     | NOUN          |\n",
      "| ,            | PUNCT    | PUNCT         |\n",
      "| что          | SCONJ    | PUNCT         |\n",
      "| системы      | NOUN     | NOUN          |\n",
      "| поиска       | NOUN     | NOUN          |\n",
      "| и            | CCONJ    | PUNCT         |\n",
      "| ,            | PUNCT    | PUNCT         |\n",
      "| в            | ADP      | NOUN          |\n",
      "| области      | NOUN     | NOUN          |\n",
      "| излучения    | NOUN     | NOUN          |\n",
      "| ,            | PUNCT    | PUNCT         |\n",
      "| Китаем       | PROPN    | NOUN          |\n",
      "| и            | CCONJ    | PUNCT         |\n",
      "| Россией      | PROPN    | NOUN          |\n",
      "| ,            | PUNCT    | PUNCT         |\n",
      "| в            | ADP      | NOUN          |\n",
      "| 2020-х       | ADJ      | NOUN          |\n",
      "| годах        | NOUN     | NOUN          |\n",
      "| будут        | AUX      | NOUN          |\n",
      "| способны     | ADJ      | NOUN          |\n",
      "| американские | ADJ      | NOUN          |\n",
      "| истребители  | NOUN     | NOUN          |\n",
      "| F-22         | PROPN    | NOUN          |\n",
      "| и            | CCONJ    | PUNCT         |\n",
      "| F-35         | PROPN    | PUNCT         |\n",
      "| Lightning    | X        | NOUN          |\n",
      "| II           | X        | NOUN          |\n",
      "| .            | PUNCT    | PUNCT         |\n",
      "+--------------+----------+---------------+\n",
      "num_layers = 7\n",
      "loss: 2.884800148010254, acc: 0.015643104910850525\n",
      "+--------+----------+---------------+\n",
      "| Word   | True tag | Predicted tag |\n",
      "+--------+----------+---------------+\n",
      "| этого  | DET      | SCONJ         |\n",
      "| вида   | NOUN     | SCONJ         |\n",
      "| семи   | NUM      | SCONJ         |\n",
      "| метров | NOUN     | SCONJ         |\n",
      "| в      | ADP      | SCONJ         |\n",
      "| длину  | NOUN     | SCONJ         |\n",
      "| и      | CCONJ    | SCONJ         |\n",
      "| могут  | VERB     | SCONJ         |\n",
      "| до     | ADP      | SCONJ         |\n",
      "| двух   | NUM      | SCONJ         |\n",
      "| тонн   | NOUN     | SCONJ         |\n",
      "| .      | PUNCT    | SCONJ         |\n",
      "+--------+----------+---------------+\n"
     ]
    },
    {
     "data": {
      "application/vnd.jupyter.widget-view+json": {
       "model_id": "bc37f545190f4158a7b7ab146a0fa013",
       "version_major": 2,
       "version_minor": 0
      },
      "text/plain": [
       "epoch:   0%|          | 0/10 [00:00<?, ?it/s]"
      ]
     },
     "metadata": {},
     "output_type": "display_data"
    },
    {
     "data": {
      "application/vnd.jupyter.widget-view+json": {
       "model_id": "",
       "version_major": 2,
       "version_minor": 0
      },
      "text/plain": [
       "  0%|          | 0/155 [00:00<?, ?it/s]"
      ]
     },
     "metadata": {},
     "output_type": "display_data"
    },
    {
     "data": {
      "application/vnd.jupyter.widget-view+json": {
       "model_id": "",
       "version_major": 2,
       "version_minor": 0
      },
      "text/plain": [
       "  0%|          | 0/155 [00:00<?, ?it/s]"
      ]
     },
     "metadata": {},
     "output_type": "display_data"
    },
    {
     "name": "stdout",
     "output_type": "stream",
     "text": [
      "\t step=300, train_loss=2.203721761703491, val_loss=2.2339455699920654, val_acc=0.26998841762542725\n"
     ]
    },
    {
     "data": {
      "application/vnd.jupyter.widget-view+json": {
       "model_id": "",
       "version_major": 2,
       "version_minor": 0
      },
      "text/plain": [
       "  0%|          | 0/155 [00:00<?, ?it/s]"
      ]
     },
     "metadata": {},
     "output_type": "display_data"
    },
    {
     "data": {
      "application/vnd.jupyter.widget-view+json": {
       "model_id": "",
       "version_major": 2,
       "version_minor": 0
      },
      "text/plain": [
       "  0%|          | 0/155 [00:00<?, ?it/s]"
      ]
     },
     "metadata": {},
     "output_type": "display_data"
    },
    {
     "name": "stdout",
     "output_type": "stream",
     "text": [
      "\t step=600, train_loss=2.150705099105835, val_loss=2.2101818561553954, val_acc=0.26998841762542725\n"
     ]
    },
    {
     "data": {
      "application/vnd.jupyter.widget-view+json": {
       "model_id": "",
       "version_major": 2,
       "version_minor": 0
      },
      "text/plain": [
       "  0%|          | 0/155 [00:00<?, ?it/s]"
      ]
     },
     "metadata": {},
     "output_type": "display_data"
    },
    {
     "data": {
      "application/vnd.jupyter.widget-view+json": {
       "model_id": "",
       "version_major": 2,
       "version_minor": 0
      },
      "text/plain": [
       "  0%|          | 0/155 [00:00<?, ?it/s]"
      ]
     },
     "metadata": {},
     "output_type": "display_data"
    },
    {
     "name": "stdout",
     "output_type": "stream",
     "text": [
      "\t step=900, train_loss=2.175626754760742, val_loss=2.1964842224121095, val_acc=0.2885283827781677\n"
     ]
    },
    {
     "data": {
      "application/vnd.jupyter.widget-view+json": {
       "model_id": "",
       "version_major": 2,
       "version_minor": 0
      },
      "text/plain": [
       "  0%|          | 0/155 [00:00<?, ?it/s]"
      ]
     },
     "metadata": {},
     "output_type": "display_data"
    },
    {
     "data": {
      "application/vnd.jupyter.widget-view+json": {
       "model_id": "",
       "version_major": 2,
       "version_minor": 0
      },
      "text/plain": [
       "  0%|          | 0/155 [00:00<?, ?it/s]"
      ]
     },
     "metadata": {},
     "output_type": "display_data"
    },
    {
     "name": "stdout",
     "output_type": "stream",
     "text": [
      "\t step=1200, train_loss=2.1368587017059326, val_loss=2.1873823261260985, val_acc=0.2885283827781677\n"
     ]
    },
    {
     "data": {
      "application/vnd.jupyter.widget-view+json": {
       "model_id": "",
       "version_major": 2,
       "version_minor": 0
      },
      "text/plain": [
       "  0%|          | 0/155 [00:00<?, ?it/s]"
      ]
     },
     "metadata": {},
     "output_type": "display_data"
    },
    {
     "data": {
      "application/vnd.jupyter.widget-view+json": {
       "model_id": "",
       "version_major": 2,
       "version_minor": 0
      },
      "text/plain": [
       "  0%|          | 0/155 [00:00<?, ?it/s]"
      ]
     },
     "metadata": {},
     "output_type": "display_data"
    },
    {
     "name": "stdout",
     "output_type": "stream",
     "text": [
      "\t step=1500, train_loss=2.181196689605713, val_loss=2.1840294456481932, val_acc=0.2885283827781677\n",
      "loss: 2.182241611480713, acc: 0.2885283827781677\n",
      "+---------------+----------+---------------+\n",
      "| Word          | True tag | Predicted tag |\n",
      "+---------------+----------+---------------+\n",
      "| Ранее         | ADV      | ADP           |\n",
      "| в             | ADP      | NOUN          |\n",
      "| воскресенье   | NOUN     | NOUN          |\n",
      "| ,             | PUNCT    | NOUN          |\n",
      "| 30            | ADJ      | NOUN          |\n",
      "| сентября      | NOUN     | NOUN          |\n",
      "| ,             | PUNCT    | NOUN          |\n",
      "| объявил       | VERB     | NOUN          |\n",
      "| ,             | PUNCT    | NOUN          |\n",
      "| что           | SCONJ    | NOUN          |\n",
      "| у             | ADP      | NOUN          |\n",
      "| ВМС           | PROPN    | NOUN          |\n",
      "| США           | PROPN    | NOUN          |\n",
      "| «             | PUNCT    | NOUN          |\n",
      "| есть          | VERB     | NOUN          |\n",
      "| возможность   | NOUN     | NOUN          |\n",
      "| следить       | VERB     | NOUN          |\n",
      "| за            | ADP      | NOUN          |\n",
      "| тем           | PRON     | NOUN          |\n",
      "| ,             | PUNCT    | NOUN          |\n",
      "| чтобы         | SCONJ    | NOUN          |\n",
      "| морские       | ADJ      | NOUN          |\n",
      "| пути          | NOUN     | NOUN          |\n",
      "| были          | AUX      | NOUN          |\n",
      "| открыты       | VERB     | NOUN          |\n",
      "| и             | CCONJ    | NOUN          |\n",
      "| ,             | PUNCT    | NOUN          |\n",
      "| если          | SCONJ    | NOUN          |\n",
      "| необходимо    | ADJ      | NOUN          |\n",
      "| ,             | PUNCT    | NOUN          |\n",
      "| блокировать   | VERB     | NOUN          |\n",
      "| их            | PRON     | NOUN          |\n",
      "| ,             | PUNCT    | NOUN          |\n",
      "| чтобы         | SCONJ    | NOUN          |\n",
      "| быть          | AUX      | NOUN          |\n",
      "| уверенным     | ADJ      | NOUN          |\n",
      "| ,             | PUNCT    | NOUN          |\n",
      "| что           | SCONJ    | NOUN          |\n",
      "| [             | PUNCT    | NOUN          |\n",
      "| российские    | ADJ      | NOUN          |\n",
      "| ]             | PUNCT    | NOUN          |\n",
      "| энергоресурсы | NOUN     | NOUN          |\n",
      "| не            | PART     | NOUN          |\n",
      "| выйдут        | VERB     | NOUN          |\n",
      "| на            | ADP      | NOUN          |\n",
      "| рынок         | NOUN     | NOUN          |\n",
      "| »             | PUNCT    | NOUN          |\n",
      "| .             | PUNCT    | NOUN          |\n",
      "+---------------+----------+---------------+\n"
     ]
    }
   ],
   "source": [
    "for num_layers in num_layers_params:\n",
    "    print(f'num_layers = {num_layers}')\n",
    "    model = LSTM(vocab_dim=len(word2idx), num_layers=num_layers)\n",
    "    model.to(device)\n",
    "    writer = SummaryWriter(log_dir=f'tensorboard2/num_layers_{num_layers}')\n",
    "    call = callback(writer, test_data, loss_function)\n",
    "    check_model(64, test_data, model, loss_function, idx2word, idx2pos)\n",
    "    trainer(count_of_epoch=10, \n",
    "            batch_size=64, \n",
    "            dataset=train_data,\n",
    "            model=model, \n",
    "            loss_function=loss_function,\n",
    "            optimizer = optimizer,\n",
    "            callback=call)\n",
    "    check_model(64, test_data, model, loss_function, idx2word, idx2pos)"
   ]
  },
  {
   "cell_type": "markdown",
   "id": "954d8c82-1677-4731-8a57-2f4599d7c16d",
   "metadata": {},
   "source": [
    "Увеличивать число слоёв не надо."
   ]
  },
  {
   "cell_type": "markdown",
   "id": "12fa13c1-9702-4284-9b3a-61111bf784ca",
   "metadata": {},
   "source": [
    "Зависимость от dropout:"
   ]
  },
  {
   "cell_type": "code",
   "execution_count": 32,
   "id": "c6de58eb-fd83-4271-b4f1-3c2a364ef061",
   "metadata": {},
   "outputs": [
    {
     "name": "stdout",
     "output_type": "stream",
     "text": [
      "dropout = 0\n",
      "loss: 2.945477523803711, acc: 0.03244495764374733\n",
      "+------------+----------+---------------+\n",
      "| Word       | True tag | Predicted tag |\n",
      "+------------+----------+---------------+\n",
      "| В          | ADP      | PRON          |\n",
      "| нем        | PRON     | PRON          |\n",
      "| они        | PRON     | PRON          |\n",
      "| опровергли | VERB     | PRON          |\n",
      "| информацию | NOUN     | PRON          |\n",
      "| о          | ADP      | PRON          |\n",
      "| связи      | NOUN     | PRON          |\n",
      "| с          | ADP      | PRON          |\n",
      "| российской | ADJ      | PRON          |\n",
      "| разведкой  | NOUN     | PRON          |\n",
      "| и          | CCONJ    | PRON          |\n",
      "| утверждали | VERB     | PRON          |\n",
      "| ,          | PUNCT    | PRON          |\n",
      "| что        | SCONJ    | PRON          |\n",
      "| с          | ADP      | PRON          |\n",
      "| визитом    | NOUN     | PRON          |\n",
      "| и          | CCONJ    | PRON          |\n",
      "| собирались | VERB     | PRON          |\n",
      "| посмотреть | VERB     | PRON          |\n",
      "| на         | ADP      | PRON          |\n",
      "| местный    | ADJ      | PRON          |\n",
      "| собор      | NOUN     | PRON          |\n",
      "| .          | PUNCT    | PRON          |\n",
      "+------------+----------+---------------+\n"
     ]
    },
    {
     "data": {
      "application/vnd.jupyter.widget-view+json": {
       "model_id": "26c788ce295146c5bfeb3719790e867e",
       "version_major": 2,
       "version_minor": 0
      },
      "text/plain": [
       "epoch:   0%|          | 0/10 [00:00<?, ?it/s]"
      ]
     },
     "metadata": {},
     "output_type": "display_data"
    },
    {
     "data": {
      "application/vnd.jupyter.widget-view+json": {
       "model_id": "",
       "version_major": 2,
       "version_minor": 0
      },
      "text/plain": [
       "  0%|          | 0/155 [00:00<?, ?it/s]"
      ]
     },
     "metadata": {},
     "output_type": "display_data"
    },
    {
     "data": {
      "application/vnd.jupyter.widget-view+json": {
       "model_id": "",
       "version_major": 2,
       "version_minor": 0
      },
      "text/plain": [
       "  0%|          | 0/155 [00:00<?, ?it/s]"
      ]
     },
     "metadata": {},
     "output_type": "display_data"
    },
    {
     "name": "stdout",
     "output_type": "stream",
     "text": [
      "\t step=300, train_loss=2.2123637199401855, val_loss=2.2403217792510985, val_acc=0.26998841762542725\n"
     ]
    },
    {
     "data": {
      "application/vnd.jupyter.widget-view+json": {
       "model_id": "",
       "version_major": 2,
       "version_minor": 0
      },
      "text/plain": [
       "  0%|          | 0/155 [00:00<?, ?it/s]"
      ]
     },
     "metadata": {},
     "output_type": "display_data"
    },
    {
     "data": {
      "application/vnd.jupyter.widget-view+json": {
       "model_id": "",
       "version_major": 2,
       "version_minor": 0
      },
      "text/plain": [
       "  0%|          | 0/155 [00:00<?, ?it/s]"
      ]
     },
     "metadata": {},
     "output_type": "display_data"
    },
    {
     "name": "stdout",
     "output_type": "stream",
     "text": [
      "\t step=600, train_loss=2.1260454654693604, val_loss=2.212393674850464, val_acc=0.26998841762542725\n"
     ]
    },
    {
     "data": {
      "application/vnd.jupyter.widget-view+json": {
       "model_id": "",
       "version_major": 2,
       "version_minor": 0
      },
      "text/plain": [
       "  0%|          | 0/155 [00:00<?, ?it/s]"
      ]
     },
     "metadata": {},
     "output_type": "display_data"
    },
    {
     "data": {
      "application/vnd.jupyter.widget-view+json": {
       "model_id": "",
       "version_major": 2,
       "version_minor": 0
      },
      "text/plain": [
       "  0%|          | 0/155 [00:00<?, ?it/s]"
      ]
     },
     "metadata": {},
     "output_type": "display_data"
    },
    {
     "name": "stdout",
     "output_type": "stream",
     "text": [
      "\t step=900, train_loss=2.1005024909973145, val_loss=2.14947811126709, val_acc=0.2960602343082428\n"
     ]
    },
    {
     "data": {
      "application/vnd.jupyter.widget-view+json": {
       "model_id": "",
       "version_major": 2,
       "version_minor": 0
      },
      "text/plain": [
       "  0%|          | 0/155 [00:00<?, ?it/s]"
      ]
     },
     "metadata": {},
     "output_type": "display_data"
    },
    {
     "data": {
      "application/vnd.jupyter.widget-view+json": {
       "model_id": "",
       "version_major": 2,
       "version_minor": 0
      },
      "text/plain": [
       "  0%|          | 0/155 [00:00<?, ?it/s]"
      ]
     },
     "metadata": {},
     "output_type": "display_data"
    },
    {
     "name": "stdout",
     "output_type": "stream",
     "text": [
      "\t step=1200, train_loss=1.8126873970031738, val_loss=1.821110439300537, val_acc=0.45249128341674805\n"
     ]
    },
    {
     "data": {
      "application/vnd.jupyter.widget-view+json": {
       "model_id": "",
       "version_major": 2,
       "version_minor": 0
      },
      "text/plain": [
       "  0%|          | 0/155 [00:00<?, ?it/s]"
      ]
     },
     "metadata": {},
     "output_type": "display_data"
    },
    {
     "data": {
      "application/vnd.jupyter.widget-view+json": {
       "model_id": "",
       "version_major": 2,
       "version_minor": 0
      },
      "text/plain": [
       "  0%|          | 0/155 [00:00<?, ?it/s]"
      ]
     },
     "metadata": {},
     "output_type": "display_data"
    },
    {
     "name": "stdout",
     "output_type": "stream",
     "text": [
      "\t step=1500, train_loss=1.5282050371170044, val_loss=1.5877122211456298, val_acc=0.5428736805915833\n",
      "loss: 1.5314189672470093, acc: 0.5544611811637878\n",
      "+--------------+----------+---------------+\n",
      "| Word         | True tag | Predicted tag |\n",
      "+--------------+----------+---------------+\n",
      "| В            | ADP      | ADP           |\n",
      "| нем          | PRON     | NOUN          |\n",
      "| представлены | VERB     | NOUN          |\n",
      "| сезона       | NOUN     | NOUN          |\n",
      "| :            | PUNCT    | PUNCT         |\n",
      "| для          | ADP      | ADP           |\n",
      "| мужчин       | NOUN     | NOUN          |\n",
      "| и            | CCONJ    | PUNCT         |\n",
      "| женщин       | NOUN     | NOUN          |\n",
      "| и            | CCONJ    | PUNCT         |\n",
      "| кроссовки    | NOUN     | NOUN          |\n",
      "| брендов      | NOUN     | NOUN          |\n",
      "| Balenciaga   | PROPN    | NOUN          |\n",
      "| ,            | PUNCT    | PUNCT         |\n",
      "| ,            | PUNCT    | PUNCT         |\n",
      "| Off-White    | X        | NOUN          |\n",
      "| ,            | PUNCT    | PUNCT         |\n",
      "| ,            | PUNCT    | PUNCT         |\n",
      "| Alexander    | PROPN    | NOUN          |\n",
      "| McQueen      | X        | NOUN          |\n",
      "| ,            | PUNCT    | PUNCT         |\n",
      "| Valentino    | PROPN    | NOUN          |\n",
      "| ,            | PUNCT    | PUNCT         |\n",
      "| ,            | PUNCT    | PUNCT         |\n",
      "| adidas       | PROPN    | NOUN          |\n",
      "| и            | CCONJ    | PUNCT         |\n",
      "| других       | ADJ      | NOUN          |\n",
      "| .            | PUNCT    | PUNCT         |\n",
      "+--------------+----------+---------------+\n",
      "dropout = 0.25\n",
      "loss: 2.9698386573791504, acc: 0.015643104910850525\n",
      "+-------------+----------+---------------+\n",
      "| Word        | True tag | Predicted tag |\n",
      "+-------------+----------+---------------+\n",
      "| Игра        | NOUN     | SCONJ         |\n",
      "| завершилась | VERB     | SCONJ         |\n",
      "| со          | ADP      | SCONJ         |\n",
      "| счетом      | NOUN     | SCONJ         |\n",
      "| 1           | NUM      | SCONJ         |\n",
      "| :           | PUNCT    | SCONJ         |\n",
      "| 1           | NUM      | SCONJ         |\n",
      "| .           | PUNCT    | SCONJ         |\n",
      "+-------------+----------+---------------+\n"
     ]
    },
    {
     "data": {
      "application/vnd.jupyter.widget-view+json": {
       "model_id": "f4861018ace6479ea3dc6b3b8ce8db74",
       "version_major": 2,
       "version_minor": 0
      },
      "text/plain": [
       "epoch:   0%|          | 0/10 [00:00<?, ?it/s]"
      ]
     },
     "metadata": {},
     "output_type": "display_data"
    },
    {
     "data": {
      "application/vnd.jupyter.widget-view+json": {
       "model_id": "",
       "version_major": 2,
       "version_minor": 0
      },
      "text/plain": [
       "  0%|          | 0/155 [00:00<?, ?it/s]"
      ]
     },
     "metadata": {},
     "output_type": "display_data"
    },
    {
     "data": {
      "application/vnd.jupyter.widget-view+json": {
       "model_id": "",
       "version_major": 2,
       "version_minor": 0
      },
      "text/plain": [
       "  0%|          | 0/155 [00:00<?, ?it/s]"
      ]
     },
     "metadata": {},
     "output_type": "display_data"
    },
    {
     "name": "stdout",
     "output_type": "stream",
     "text": [
      "\t step=300, train_loss=2.2276530265808105, val_loss=2.2512574672698973, val_acc=0.26998841762542725\n"
     ]
    },
    {
     "data": {
      "application/vnd.jupyter.widget-view+json": {
       "model_id": "",
       "version_major": 2,
       "version_minor": 0
      },
      "text/plain": [
       "  0%|          | 0/155 [00:00<?, ?it/s]"
      ]
     },
     "metadata": {},
     "output_type": "display_data"
    },
    {
     "data": {
      "application/vnd.jupyter.widget-view+json": {
       "model_id": "",
       "version_major": 2,
       "version_minor": 0
      },
      "text/plain": [
       "  0%|          | 0/155 [00:00<?, ?it/s]"
      ]
     },
     "metadata": {},
     "output_type": "display_data"
    },
    {
     "name": "stdout",
     "output_type": "stream",
     "text": [
      "\t step=600, train_loss=2.0926265716552734, val_loss=2.1488070678710938, val_acc=0.26998841762542725\n"
     ]
    },
    {
     "data": {
      "application/vnd.jupyter.widget-view+json": {
       "model_id": "",
       "version_major": 2,
       "version_minor": 0
      },
      "text/plain": [
       "  0%|          | 0/155 [00:00<?, ?it/s]"
      ]
     },
     "metadata": {},
     "output_type": "display_data"
    },
    {
     "data": {
      "application/vnd.jupyter.widget-view+json": {
       "model_id": "",
       "version_major": 2,
       "version_minor": 0
      },
      "text/plain": [
       "  0%|          | 0/155 [00:00<?, ?it/s]"
      ]
     },
     "metadata": {},
     "output_type": "display_data"
    },
    {
     "name": "stdout",
     "output_type": "stream",
     "text": [
      "\t step=900, train_loss=1.8841774463653564, val_loss=1.8341285467147828, val_acc=0.27636152505874634\n"
     ]
    },
    {
     "data": {
      "application/vnd.jupyter.widget-view+json": {
       "model_id": "",
       "version_major": 2,
       "version_minor": 0
      },
      "text/plain": [
       "  0%|          | 0/155 [00:00<?, ?it/s]"
      ]
     },
     "metadata": {},
     "output_type": "display_data"
    },
    {
     "data": {
      "application/vnd.jupyter.widget-view+json": {
       "model_id": "",
       "version_major": 2,
       "version_minor": 0
      },
      "text/plain": [
       "  0%|          | 0/155 [00:00<?, ?it/s]"
      ]
     },
     "metadata": {},
     "output_type": "display_data"
    },
    {
     "name": "stdout",
     "output_type": "stream",
     "text": [
      "\t step=1200, train_loss=1.5292072296142578, val_loss=1.5010148334503173, val_acc=0.4889918863773346\n"
     ]
    },
    {
     "data": {
      "application/vnd.jupyter.widget-view+json": {
       "model_id": "",
       "version_major": 2,
       "version_minor": 0
      },
      "text/plain": [
       "  0%|          | 0/155 [00:00<?, ?it/s]"
      ]
     },
     "metadata": {},
     "output_type": "display_data"
    },
    {
     "data": {
      "application/vnd.jupyter.widget-view+json": {
       "model_id": "",
       "version_major": 2,
       "version_minor": 0
      },
      "text/plain": [
       "  0%|          | 0/155 [00:00<?, ?it/s]"
      ]
     },
     "metadata": {},
     "output_type": "display_data"
    },
    {
     "name": "stdout",
     "output_type": "stream",
     "text": [
      "\t step=1500, train_loss=1.3980790376663208, val_loss=1.2945236253738404, val_acc=0.5283893346786499\n",
      "loss: 1.2694461011886597, acc: 0.5336036682128906\n",
      "+---------+----------+---------------+\n",
      "| Word    | True tag | Predicted tag |\n",
      "+---------+----------+---------------+\n",
      "| В       | ADP      | PUNCT         |\n",
      "| ответ   | NOUN     | NOUN          |\n",
      "| он      | PRON     | CCONJ         |\n",
      "| :       | PUNCT    | PUNCT         |\n",
      "| «       | PUNCT    | PUNCT         |\n",
      "| быть    | AUX      | CCONJ         |\n",
      "| не      | PART     | PRON          |\n",
      "| стыдно  | ADV      | VERB          |\n",
      "| ,       | PUNCT    | PUNCT         |\n",
      "| стыдно  | ADV      | VERB          |\n",
      "| быть    | AUX      | PRON          |\n",
      "| дешевым | ADJ      | VERB          |\n",
      "| »       | PUNCT    | PUNCT         |\n",
      "| .       | PUNCT    | PUNCT         |\n",
      "+---------+----------+---------------+\n",
      "dropout = 0.5\n",
      "loss: 2.818583927154541, acc: 0.26998841762542725\n",
      "+------------+----------+---------------+\n",
      "| Word       | True tag | Predicted tag |\n",
      "+------------+----------+---------------+\n",
      "| Они        | PRON     | NOUN          |\n",
      "| называют   | VERB     | NOUN          |\n",
      "| их         | PRON     | NOUN          |\n",
      "| «          | PUNCT    | NOUN          |\n",
      "| деревни    | NOUN     | NOUN          |\n",
      "| »          | PUNCT    | NOUN          |\n",
      "| и          | CCONJ    | NOUN          |\n",
      "| утверждают | VERB     | NOUN          |\n",
      "| ,          | PUNCT    | NOUN          |\n",
      "| что        | SCONJ    | NOUN          |\n",
      "| совсем     | ADV      | NOUN          |\n",
      "| не         | PART     | NOUN          |\n",
      "| опасных    | ADJ      | NOUN          |\n",
      "| животных   | NOUN     | NOUN          |\n",
      "| .          | PUNCT    | NOUN          |\n",
      "+------------+----------+---------------+\n"
     ]
    },
    {
     "data": {
      "application/vnd.jupyter.widget-view+json": {
       "model_id": "7bccc5a7b8f041eb944969638d16bc92",
       "version_major": 2,
       "version_minor": 0
      },
      "text/plain": [
       "epoch:   0%|          | 0/10 [00:00<?, ?it/s]"
      ]
     },
     "metadata": {},
     "output_type": "display_data"
    },
    {
     "data": {
      "application/vnd.jupyter.widget-view+json": {
       "model_id": "",
       "version_major": 2,
       "version_minor": 0
      },
      "text/plain": [
       "  0%|          | 0/155 [00:00<?, ?it/s]"
      ]
     },
     "metadata": {},
     "output_type": "display_data"
    },
    {
     "data": {
      "application/vnd.jupyter.widget-view+json": {
       "model_id": "",
       "version_major": 2,
       "version_minor": 0
      },
      "text/plain": [
       "  0%|          | 0/155 [00:00<?, ?it/s]"
      ]
     },
     "metadata": {},
     "output_type": "display_data"
    },
    {
     "name": "stdout",
     "output_type": "stream",
     "text": [
      "\t step=300, train_loss=2.271939277648926, val_loss=2.2395279693603514, val_acc=0.26998841762542725\n"
     ]
    },
    {
     "data": {
      "application/vnd.jupyter.widget-view+json": {
       "model_id": "",
       "version_major": 2,
       "version_minor": 0
      },
      "text/plain": [
       "  0%|          | 0/155 [00:00<?, ?it/s]"
      ]
     },
     "metadata": {},
     "output_type": "display_data"
    },
    {
     "data": {
      "application/vnd.jupyter.widget-view+json": {
       "model_id": "",
       "version_major": 2,
       "version_minor": 0
      },
      "text/plain": [
       "  0%|          | 0/155 [00:00<?, ?it/s]"
      ]
     },
     "metadata": {},
     "output_type": "display_data"
    },
    {
     "name": "stdout",
     "output_type": "stream",
     "text": [
      "\t step=600, train_loss=1.9974396228790283, val_loss=1.9217410564422608, val_acc=0.421205073595047\n"
     ]
    },
    {
     "data": {
      "application/vnd.jupyter.widget-view+json": {
       "model_id": "",
       "version_major": 2,
       "version_minor": 0
      },
      "text/plain": [
       "  0%|          | 0/155 [00:00<?, ?it/s]"
      ]
     },
     "metadata": {},
     "output_type": "display_data"
    },
    {
     "data": {
      "application/vnd.jupyter.widget-view+json": {
       "model_id": "",
       "version_major": 2,
       "version_minor": 0
      },
      "text/plain": [
       "  0%|          | 0/155 [00:00<?, ?it/s]"
      ]
     },
     "metadata": {},
     "output_type": "display_data"
    },
    {
     "name": "stdout",
     "output_type": "stream",
     "text": [
      "\t step=900, train_loss=1.767446756362915, val_loss=1.7335862159729003, val_acc=0.4304750859737396\n"
     ]
    },
    {
     "data": {
      "application/vnd.jupyter.widget-view+json": {
       "model_id": "",
       "version_major": 2,
       "version_minor": 0
      },
      "text/plain": [
       "  0%|          | 0/155 [00:00<?, ?it/s]"
      ]
     },
     "metadata": {},
     "output_type": "display_data"
    },
    {
     "data": {
      "application/vnd.jupyter.widget-view+json": {
       "model_id": "",
       "version_major": 2,
       "version_minor": 0
      },
      "text/plain": [
       "  0%|          | 0/155 [00:00<?, ?it/s]"
      ]
     },
     "metadata": {},
     "output_type": "display_data"
    },
    {
     "name": "stdout",
     "output_type": "stream",
     "text": [
      "\t step=1200, train_loss=1.635204553604126, val_loss=1.6136111688613892, val_acc=0.42989569902420044\n"
     ]
    },
    {
     "data": {
      "application/vnd.jupyter.widget-view+json": {
       "model_id": "",
       "version_major": 2,
       "version_minor": 0
      },
      "text/plain": [
       "  0%|          | 0/155 [00:00<?, ?it/s]"
      ]
     },
     "metadata": {},
     "output_type": "display_data"
    },
    {
     "data": {
      "application/vnd.jupyter.widget-view+json": {
       "model_id": "",
       "version_major": 2,
       "version_minor": 0
      },
      "text/plain": [
       "  0%|          | 0/155 [00:00<?, ?it/s]"
      ]
     },
     "metadata": {},
     "output_type": "display_data"
    },
    {
     "name": "stdout",
     "output_type": "stream",
     "text": [
      "\t step=1500, train_loss=1.5963246822357178, val_loss=1.5101778984069825, val_acc=0.444959431886673\n",
      "loss: 1.4869454336166381, acc: 0.44553881883621216\n",
      "+----------+----------+---------------+\n",
      "| Word     | True tag | Predicted tag |\n",
      "+----------+----------+---------------+\n",
      "| Поставки | NOUN     | NOUN          |\n",
      "| ЗРК      | PROPN    | NOUN          |\n",
      "| начались | VERB     | NOUN          |\n",
      "| в        | ADP      | NOUN          |\n",
      "| конце    | NOUN     | NOUN          |\n",
      "| сентября | NOUN     | NOUN          |\n",
      "| .        | PUNCT    | PUNCT         |\n",
      "+----------+----------+---------------+\n"
     ]
    }
   ],
   "source": [
    "for dropout in dropout_params:\n",
    "    print(f'dropout = {dropout}')\n",
    "    model = LSTM(vocab_dim=len(word2idx), dropout=dropout)\n",
    "    model.to(device)\n",
    "    writer = SummaryWriter(log_dir=f'tensorboard2/dropout_{dropout}')\n",
    "    call = callback(writer, test_data, loss_function)\n",
    "    check_model(64, test_data, model, loss_function, idx2word, idx2pos)\n",
    "    trainer(count_of_epoch=10, \n",
    "            batch_size=64, \n",
    "            dataset=train_data,\n",
    "            model=model, \n",
    "            loss_function=loss_function,\n",
    "            optimizer = optimizer,\n",
    "            callback=call)\n",
    "    check_model(64, test_data, model, loss_function, idx2word, idx2pos)"
   ]
  },
  {
   "cell_type": "markdown",
   "id": "3d9544ba-2abd-45fd-813a-4787ecd08752",
   "metadata": {},
   "source": [
    "Добавление dropout 0.25 заметно уменьшило loss, но также немного упала acc, нужен дополнительный анализ."
   ]
  },
  {
   "cell_type": "markdown",
   "id": "6d032688-9f53-467b-aa50-0310e51c9424",
   "metadata": {},
   "source": [
    "Добавление BatchNorm:"
   ]
  },
  {
   "cell_type": "code",
   "execution_count": 33,
   "id": "bd93e502-04db-4518-9c44-a66680e7bf9c",
   "metadata": {},
   "outputs": [
    {
     "name": "stdout",
     "output_type": "stream",
     "text": [
      "batchnorm = False\n",
      "loss: 2.8802488899230956, acc: 0.09327925741672516\n",
      "+-------------+----------+---------------+\n",
      "| Word        | True tag | Predicted tag |\n",
      "+-------------+----------+---------------+\n",
      "| Он          | PRON     | PROPN         |\n",
      "| подчеркивал | VERB     | PROPN         |\n",
      "| ,           | PUNCT    | PROPN         |\n",
      "| что         | SCONJ    | PROPN         |\n",
      "| весь        | DET      | PROPN         |\n",
      "| план        | NOUN     | PROPN         |\n",
      "| обойдется   | VERB     | PROPN         |\n",
      "| бюджету     | NOUN     | PROPN         |\n",
      "| в           | ADP      | ADP           |\n",
      "| 25          | NUM      | ADP           |\n",
      "| триллионов  | NOUN     | ADP           |\n",
      "| рублей      | NOUN     | PROPN         |\n",
      "| .           | PUNCT    | ADP           |\n",
      "+-------------+----------+---------------+\n"
     ]
    },
    {
     "data": {
      "application/vnd.jupyter.widget-view+json": {
       "model_id": "f8d7b2d26ee84ff2bae4f7428bd819fc",
       "version_major": 2,
       "version_minor": 0
      },
      "text/plain": [
       "epoch:   0%|          | 0/10 [00:00<?, ?it/s]"
      ]
     },
     "metadata": {},
     "output_type": "display_data"
    },
    {
     "data": {
      "application/vnd.jupyter.widget-view+json": {
       "model_id": "",
       "version_major": 2,
       "version_minor": 0
      },
      "text/plain": [
       "  0%|          | 0/155 [00:00<?, ?it/s]"
      ]
     },
     "metadata": {},
     "output_type": "display_data"
    },
    {
     "data": {
      "application/vnd.jupyter.widget-view+json": {
       "model_id": "",
       "version_major": 2,
       "version_minor": 0
      },
      "text/plain": [
       "  0%|          | 0/155 [00:00<?, ?it/s]"
      ]
     },
     "metadata": {},
     "output_type": "display_data"
    },
    {
     "name": "stdout",
     "output_type": "stream",
     "text": [
      "\t step=300, train_loss=2.1776533126831055, val_loss=2.244501762390137, val_acc=0.26998841762542725\n"
     ]
    },
    {
     "data": {
      "application/vnd.jupyter.widget-view+json": {
       "model_id": "",
       "version_major": 2,
       "version_minor": 0
      },
      "text/plain": [
       "  0%|          | 0/155 [00:00<?, ?it/s]"
      ]
     },
     "metadata": {},
     "output_type": "display_data"
    },
    {
     "data": {
      "application/vnd.jupyter.widget-view+json": {
       "model_id": "",
       "version_major": 2,
       "version_minor": 0
      },
      "text/plain": [
       "  0%|          | 0/155 [00:00<?, ?it/s]"
      ]
     },
     "metadata": {},
     "output_type": "display_data"
    },
    {
     "name": "stdout",
     "output_type": "stream",
     "text": [
      "\t step=600, train_loss=2.1664609909057617, val_loss=2.2196861553192138, val_acc=0.26998841762542725\n"
     ]
    },
    {
     "data": {
      "application/vnd.jupyter.widget-view+json": {
       "model_id": "",
       "version_major": 2,
       "version_minor": 0
      },
      "text/plain": [
       "  0%|          | 0/155 [00:00<?, ?it/s]"
      ]
     },
     "metadata": {},
     "output_type": "display_data"
    },
    {
     "data": {
      "application/vnd.jupyter.widget-view+json": {
       "model_id": "",
       "version_major": 2,
       "version_minor": 0
      },
      "text/plain": [
       "  0%|          | 0/155 [00:00<?, ?it/s]"
      ]
     },
     "metadata": {},
     "output_type": "display_data"
    },
    {
     "name": "stdout",
     "output_type": "stream",
     "text": [
      "\t step=900, train_loss=1.9611331224441528, val_loss=2.0332080554962157, val_acc=0.40556198358535767\n"
     ]
    },
    {
     "data": {
      "application/vnd.jupyter.widget-view+json": {
       "model_id": "",
       "version_major": 2,
       "version_minor": 0
      },
      "text/plain": [
       "  0%|          | 0/155 [00:00<?, ?it/s]"
      ]
     },
     "metadata": {},
     "output_type": "display_data"
    },
    {
     "data": {
      "application/vnd.jupyter.widget-view+json": {
       "model_id": "",
       "version_major": 2,
       "version_minor": 0
      },
      "text/plain": [
       "  0%|          | 0/155 [00:00<?, ?it/s]"
      ]
     },
     "metadata": {},
     "output_type": "display_data"
    },
    {
     "name": "stdout",
     "output_type": "stream",
     "text": [
      "\t step=1200, train_loss=1.6694642305374146, val_loss=1.631487078666687, val_acc=0.5521436929702759\n"
     ]
    },
    {
     "data": {
      "application/vnd.jupyter.widget-view+json": {
       "model_id": "",
       "version_major": 2,
       "version_minor": 0
      },
      "text/plain": [
       "  0%|          | 0/155 [00:00<?, ?it/s]"
      ]
     },
     "metadata": {},
     "output_type": "display_data"
    },
    {
     "data": {
      "application/vnd.jupyter.widget-view+json": {
       "model_id": "",
       "version_major": 2,
       "version_minor": 0
      },
      "text/plain": [
       "  0%|          | 0/155 [00:00<?, ?it/s]"
      ]
     },
     "metadata": {},
     "output_type": "display_data"
    },
    {
     "name": "stdout",
     "output_type": "stream",
     "text": [
      "\t step=1500, train_loss=1.3432894945144653, val_loss=1.3564095163345338, val_acc=0.567207396030426\n",
      "loss: 1.3256085062026977, acc: 0.5741599202156067\n",
      "+----------+----------+---------------+\n",
      "| Word     | True tag | Predicted tag |\n",
      "+----------+----------+---------------+\n",
      "| Поставки | NOUN     | NOUN          |\n",
      "| ЗРК      | PROPN    | NOUN          |\n",
      "| начались | VERB     | NOUN          |\n",
      "| в        | ADP      | ADP           |\n",
      "| конце    | NOUN     | NOUN          |\n",
      "| сентября | NOUN     | NOUN          |\n",
      "| .        | PUNCT    | PUNCT         |\n",
      "+----------+----------+---------------+\n",
      "batchnorm = True\n",
      "loss: 2.987369613647461, acc: 0.03244495764374733\n",
      "+--------------+----------+---------------+\n",
      "| Word         | True tag | Predicted tag |\n",
      "+--------------+----------+---------------+\n",
      "| Ему          | PRON     | PRON          |\n",
      "| предъявили   | VERB     | PRON          |\n",
      "| обвинение    | NOUN     | PRON          |\n",
      "| в            | ADP      | PRON          |\n",
      "| хранении     | NOUN     | PRON          |\n",
      "| взрывчатых   | ADJ      | PRON          |\n",
      "| веществ      | NOUN     | PRON          |\n",
      "| и            | CCONJ    | PRON          |\n",
      "| неподобающем | ADJ      | PRON          |\n",
      "| поведении    | NOUN     | PRON          |\n",
      "| в            | ADP      | PRON          |\n",
      "| месте        | NOUN     | PRON          |\n",
      "| ,            | PUNCT    | PRON          |\n",
      "| где          | ADV      | PRON          |\n",
      "| продают      | VERB     | PRON          |\n",
      "| алкоголь     | NOUN     | PRON          |\n",
      "| .            | PUNCT    | PRON          |\n",
      "+--------------+----------+---------------+\n"
     ]
    },
    {
     "data": {
      "application/vnd.jupyter.widget-view+json": {
       "model_id": "126f7bc415764871a36d4dc197cbb65f",
       "version_major": 2,
       "version_minor": 0
      },
      "text/plain": [
       "epoch:   0%|          | 0/10 [00:00<?, ?it/s]"
      ]
     },
     "metadata": {},
     "output_type": "display_data"
    },
    {
     "data": {
      "application/vnd.jupyter.widget-view+json": {
       "model_id": "",
       "version_major": 2,
       "version_minor": 0
      },
      "text/plain": [
       "  0%|          | 0/155 [00:00<?, ?it/s]"
      ]
     },
     "metadata": {},
     "output_type": "display_data"
    },
    {
     "data": {
      "application/vnd.jupyter.widget-view+json": {
       "model_id": "",
       "version_major": 2,
       "version_minor": 0
      },
      "text/plain": [
       "  0%|          | 0/155 [00:00<?, ?it/s]"
      ]
     },
     "metadata": {},
     "output_type": "display_data"
    },
    {
     "name": "stdout",
     "output_type": "stream",
     "text": [
      "\t step=300, train_loss=1.5837328433990479, val_loss=1.5840169477462769, val_acc=0.5301274657249451\n"
     ]
    },
    {
     "data": {
      "application/vnd.jupyter.widget-view+json": {
       "model_id": "",
       "version_major": 2,
       "version_minor": 0
      },
      "text/plain": [
       "  0%|          | 0/155 [00:00<?, ?it/s]"
      ]
     },
     "metadata": {},
     "output_type": "display_data"
    },
    {
     "data": {
      "application/vnd.jupyter.widget-view+json": {
       "model_id": "",
       "version_major": 2,
       "version_minor": 0
      },
      "text/plain": [
       "  0%|          | 0/155 [00:00<?, ?it/s]"
      ]
     },
     "metadata": {},
     "output_type": "display_data"
    },
    {
     "name": "stdout",
     "output_type": "stream",
     "text": [
      "\t step=600, train_loss=1.1960124969482422, val_loss=1.2515284252166747, val_acc=0.5950173735618591\n"
     ]
    },
    {
     "data": {
      "application/vnd.jupyter.widget-view+json": {
       "model_id": "",
       "version_major": 2,
       "version_minor": 0
      },
      "text/plain": [
       "  0%|          | 0/155 [00:00<?, ?it/s]"
      ]
     },
     "metadata": {},
     "output_type": "display_data"
    },
    {
     "data": {
      "application/vnd.jupyter.widget-view+json": {
       "model_id": "",
       "version_major": 2,
       "version_minor": 0
      },
      "text/plain": [
       "  0%|          | 0/155 [00:00<?, ?it/s]"
      ]
     },
     "metadata": {},
     "output_type": "display_data"
    },
    {
     "name": "stdout",
     "output_type": "stream",
     "text": [
      "\t step=900, train_loss=1.044409990310669, val_loss=1.0368707275390625, val_acc=0.6500579118728638\n"
     ]
    },
    {
     "data": {
      "application/vnd.jupyter.widget-view+json": {
       "model_id": "",
       "version_major": 2,
       "version_minor": 0
      },
      "text/plain": [
       "  0%|          | 0/155 [00:00<?, ?it/s]"
      ]
     },
     "metadata": {},
     "output_type": "display_data"
    },
    {
     "data": {
      "application/vnd.jupyter.widget-view+json": {
       "model_id": "",
       "version_major": 2,
       "version_minor": 0
      },
      "text/plain": [
       "  0%|          | 0/155 [00:00<?, ?it/s]"
      ]
     },
     "metadata": {},
     "output_type": "display_data"
    },
    {
     "name": "stdout",
     "output_type": "stream",
     "text": [
      "\t step=1200, train_loss=0.8375889658927917, val_loss=0.8608740854263306, val_acc=0.7097334861755371\n"
     ]
    },
    {
     "data": {
      "application/vnd.jupyter.widget-view+json": {
       "model_id": "",
       "version_major": 2,
       "version_minor": 0
      },
      "text/plain": [
       "  0%|          | 0/155 [00:00<?, ?it/s]"
      ]
     },
     "metadata": {},
     "output_type": "display_data"
    },
    {
     "data": {
      "application/vnd.jupyter.widget-view+json": {
       "model_id": "",
       "version_major": 2,
       "version_minor": 0
      },
      "text/plain": [
       "  0%|          | 0/155 [00:00<?, ?it/s]"
      ]
     },
     "metadata": {},
     "output_type": "display_data"
    },
    {
     "name": "stdout",
     "output_type": "stream",
     "text": [
      "\t step=1500, train_loss=0.6483244895935059, val_loss=0.7195430016517639, val_acc=0.764194667339325\n",
      "loss: 0.7100648617744446, acc: 0.7711471319198608\n",
      "+-------------+----------+---------------+\n",
      "| Word        | True tag | Predicted tag |\n",
      "+-------------+----------+---------------+\n",
      "| Украинская  | ADJ      | ADJ           |\n",
      "| компания    | NOUN     | NOUN          |\n",
      "| добивается  | VERB     | VERB          |\n",
      "| ареста      | NOUN     | VERB          |\n",
      "| европейских | ADJ      | VERB          |\n",
      "| активов     | NOUN     | NOUN          |\n",
      "| в           | ADP      | ADP           |\n",
      "| целях       | NOUN     | NOUN          |\n",
      "| .           | PUNCT    | PUNCT         |\n",
      "+-------------+----------+---------------+\n"
     ]
    }
   ],
   "source": [
    "for batch_norm in batch_norm_params:\n",
    "    print(f'batchnorm = {batch_norm}')\n",
    "    model = LSTM(vocab_dim=len(word2idx), batch_norm=batch_norm)\n",
    "    model.to(device)\n",
    "    writer = SummaryWriter(log_dir=f'tensorboard2/batch_norm_{batch_norm}')\n",
    "    call = callback(writer, test_data, loss_function)\n",
    "    check_model(64, test_data, model, loss_function, idx2word, idx2pos)\n",
    "    trainer(count_of_epoch=10, \n",
    "            batch_size=64, \n",
    "            dataset=train_data,\n",
    "            model=model, \n",
    "            loss_function=loss_function,\n",
    "            optimizer = optimizer,\n",
    "            callback=call)\n",
    "    check_model(64, test_data, model, loss_function, idx2word, idx2pos)"
   ]
  },
  {
   "cell_type": "markdown",
   "id": "785b4e96-8bc8-4475-9a86-e19475fe4716",
   "metadata": {},
   "source": [
    "Очевидно, что добавление BatchNorm значительно улучшило модель."
   ]
  },
  {
   "cell_type": "markdown",
   "id": "981695ff-5a5c-4fc5-81cb-e4ff7bb2d0d5",
   "metadata": {},
   "source": [
    "Разные размеры словаря:"
   ]
  },
  {
   "cell_type": "code",
   "execution_count": 34,
   "id": "2128ee4a-9572-478e-bca0-5661604aebc6",
   "metadata": {},
   "outputs": [
    {
     "name": "stdout",
     "output_type": "stream",
     "text": [
      "len_dict = 10000\n"
     ]
    },
    {
     "data": {
      "application/vnd.jupyter.widget-view+json": {
       "model_id": "66c96740c4d94fa7822e59af68343b8e",
       "version_major": 2,
       "version_minor": 0
      },
      "text/plain": [
       "0it [00:00, ?it/s]"
      ]
     },
     "metadata": {},
     "output_type": "display_data"
    },
    {
     "name": "stdout",
     "output_type": "stream",
     "text": [
      "loss: 2.895909643173218, acc: 0.06179473549127579\n",
      "+------------+----------+---------------+\n",
      "| Word       | True tag | Predicted tag |\n",
      "+------------+----------+---------------+\n",
      "| В          | ADP      | PROPN         |\n",
      "| ноябре     | NOUN     | PROPN         |\n",
      "| 2017       | ADJ      | PROPN         |\n",
      "| года       | NOUN     | PROPN         |\n",
      "| героев     | NOUN     | PROPN         |\n",
      "| фото       | NOUN     | PROPN         |\n",
      "| обнаружили | VERB     | PROPN         |\n",
      "| и          | PART     | PROPN         |\n",
      "| на         | ADP      | PROPN         |\n",
      "| других     | ADJ      | PROPN         |\n",
      "| снимках    | NOUN     | PROPN         |\n",
      "| из         | ADP      | PROPN         |\n",
      "| фотобанка  | NOUN     | PROPN         |\n",
      "| ,          | PUNCT    | PROPN         |\n",
      "| составив   | VERB     | PROPN         |\n",
      "| из         | ADP      | PROPN         |\n",
      "| них        | PRON     | PROPN         |\n",
      "| «          | PUNCT    | PROPN         |\n",
      "| и          | CCONJ    | PROPN         |\n",
      "| »          | PUNCT    | PROPN         |\n",
      "| .          | PUNCT    | PROPN         |\n",
      "+------------+----------+---------------+\n"
     ]
    },
    {
     "data": {
      "application/vnd.jupyter.widget-view+json": {
       "model_id": "40d669503d334cafbe1b5f41292aba00",
       "version_major": 2,
       "version_minor": 0
      },
      "text/plain": [
       "epoch:   0%|          | 0/10 [00:00<?, ?it/s]"
      ]
     },
     "metadata": {},
     "output_type": "display_data"
    },
    {
     "data": {
      "application/vnd.jupyter.widget-view+json": {
       "model_id": "",
       "version_major": 2,
       "version_minor": 0
      },
      "text/plain": [
       "  0%|          | 0/155 [00:00<?, ?it/s]"
      ]
     },
     "metadata": {},
     "output_type": "display_data"
    },
    {
     "data": {
      "application/vnd.jupyter.widget-view+json": {
       "model_id": "",
       "version_major": 2,
       "version_minor": 0
      },
      "text/plain": [
       "  0%|          | 0/155 [00:00<?, ?it/s]"
      ]
     },
     "metadata": {},
     "output_type": "display_data"
    },
    {
     "name": "stdout",
     "output_type": "stream",
     "text": [
      "\t step=300, train_loss=2.2059757709503174, val_loss=2.1390775871276855, val_acc=0.31058570742607117\n"
     ]
    },
    {
     "data": {
      "application/vnd.jupyter.widget-view+json": {
       "model_id": "",
       "version_major": 2,
       "version_minor": 0
      },
      "text/plain": [
       "  0%|          | 0/155 [00:00<?, ?it/s]"
      ]
     },
     "metadata": {},
     "output_type": "display_data"
    },
    {
     "data": {
      "application/vnd.jupyter.widget-view+json": {
       "model_id": "",
       "version_major": 2,
       "version_minor": 0
      },
      "text/plain": [
       "  0%|          | 0/155 [00:00<?, ?it/s]"
      ]
     },
     "metadata": {},
     "output_type": "display_data"
    },
    {
     "name": "stdout",
     "output_type": "stream",
     "text": [
      "\t step=600, train_loss=2.161630153656006, val_loss=2.104987907409668, val_acc=0.31058570742607117\n"
     ]
    },
    {
     "data": {
      "application/vnd.jupyter.widget-view+json": {
       "model_id": "",
       "version_major": 2,
       "version_minor": 0
      },
      "text/plain": [
       "  0%|          | 0/155 [00:00<?, ?it/s]"
      ]
     },
     "metadata": {},
     "output_type": "display_data"
    },
    {
     "data": {
      "application/vnd.jupyter.widget-view+json": {
       "model_id": "",
       "version_major": 2,
       "version_minor": 0
      },
      "text/plain": [
       "  0%|          | 0/155 [00:00<?, ?it/s]"
      ]
     },
     "metadata": {},
     "output_type": "display_data"
    },
    {
     "name": "stdout",
     "output_type": "stream",
     "text": [
      "\t step=900, train_loss=1.9814646244049072, val_loss=1.8798828172683715, val_acc=0.43578723073005676\n"
     ]
    },
    {
     "data": {
      "application/vnd.jupyter.widget-view+json": {
       "model_id": "",
       "version_major": 2,
       "version_minor": 0
      },
      "text/plain": [
       "  0%|          | 0/155 [00:00<?, ?it/s]"
      ]
     },
     "metadata": {},
     "output_type": "display_data"
    },
    {
     "data": {
      "application/vnd.jupyter.widget-view+json": {
       "model_id": "",
       "version_major": 2,
       "version_minor": 0
      },
      "text/plain": [
       "  0%|          | 0/155 [00:00<?, ?it/s]"
      ]
     },
     "metadata": {},
     "output_type": "display_data"
    },
    {
     "name": "stdout",
     "output_type": "stream",
     "text": [
      "\t step=1200, train_loss=1.7002915143966675, val_loss=1.6306676816940309, val_acc=0.4551316797733307\n"
     ]
    },
    {
     "data": {
      "application/vnd.jupyter.widget-view+json": {
       "model_id": "",
       "version_major": 2,
       "version_minor": 0
      },
      "text/plain": [
       "  0%|          | 0/155 [00:00<?, ?it/s]"
      ]
     },
     "metadata": {},
     "output_type": "display_data"
    },
    {
     "data": {
      "application/vnd.jupyter.widget-view+json": {
       "model_id": "",
       "version_major": 2,
       "version_minor": 0
      },
      "text/plain": [
       "  0%|          | 0/155 [00:00<?, ?it/s]"
      ]
     },
     "metadata": {},
     "output_type": "display_data"
    },
    {
     "name": "stdout",
     "output_type": "stream",
     "text": [
      "\t step=1500, train_loss=1.5539114475250244, val_loss=1.4484354782104492, val_acc=0.48522302508354187\n",
      "loss: 1.413751630783081, acc: 0.5024181008338928\n",
      "+--------------+----------+---------------+\n",
      "| Word         | True tag | Predicted tag |\n",
      "+--------------+----------+---------------+\n",
      "| якобы        | ADV      | PUNCT         |\n",
      "| для          | ADP      | NOUN          |\n",
      "| осмотра      | NOUN     | NOUN          |\n",
      "| недвижимости | NOUN     | NOUN          |\n",
      "| ,            | PUNCT    | PUNCT         |\n",
      "| приставы     | NOUN     | NOUN          |\n",
      "| арестовали   | VERB     | NOUN          |\n",
      "| имущество    | NOUN     | NOUN          |\n",
      "| мужчины      | NOUN     | NOUN          |\n",
      "| .            | PUNCT    | PUNCT         |\n",
      "+--------------+----------+---------------+\n",
      "len_dict = 25000\n"
     ]
    },
    {
     "data": {
      "application/vnd.jupyter.widget-view+json": {
       "model_id": "d8f648426c7c4d689d650d640fdc1fb0",
       "version_major": 2,
       "version_minor": 0
      },
      "text/plain": [
       "0it [00:00, ?it/s]"
      ]
     },
     "metadata": {},
     "output_type": "display_data"
    },
    {
     "name": "stdout",
     "output_type": "stream",
     "text": [
      "loss: 2.9200546550750732, acc: 0.012364760041236877\n",
      "+---------------+----------+---------------+\n",
      "| Word          | True tag | Predicted tag |\n",
      "+---------------+----------+---------------+\n",
      "| Керимов       | PROPN    | CCONJ         |\n",
      "| останется     | VERB     | SCONJ         |\n",
      "| во            | ADP      | SCONJ         |\n",
      "| Франции       | PROPN    | SCONJ         |\n",
      "| до            | ADP      | SCONJ         |\n",
      "| конца         | NOUN     | SCONJ         |\n",
      "| расследования | NOUN     | SCONJ         |\n",
      "| ,             | PUNCT    | SCONJ         |\n",
      "| ему           | PRON     | SCONJ         |\n",
      "| необходимо    | ADJ      | SCONJ         |\n",
      "| несколько     | NUM      | SCONJ         |\n",
      "| раз           | NOUN     | SCONJ         |\n",
      "| в             | ADP      | SCONJ         |\n",
      "| неделю        | NOUN     | SCONJ         |\n",
      "| приходить     | VERB     | SCONJ         |\n",
      "| в             | ADP      | SCONJ         |\n",
      "| полицию       | NOUN     | SCONJ         |\n",
      "| и             | CCONJ    | SCONJ         |\n",
      "| сдать         | VERB     | SCONJ         |\n",
      "| паспорт       | NOUN     | SCONJ         |\n",
      "| .             | PUNCT    | SCONJ         |\n",
      "+---------------+----------+---------------+\n"
     ]
    },
    {
     "data": {
      "application/vnd.jupyter.widget-view+json": {
       "model_id": "949a6debfbbc4ad79f5090a24172cab8",
       "version_major": 2,
       "version_minor": 0
      },
      "text/plain": [
       "epoch:   0%|          | 0/10 [00:00<?, ?it/s]"
      ]
     },
     "metadata": {},
     "output_type": "display_data"
    },
    {
     "data": {
      "application/vnd.jupyter.widget-view+json": {
       "model_id": "",
       "version_major": 2,
       "version_minor": 0
      },
      "text/plain": [
       "  0%|          | 0/390 [00:00<?, ?it/s]"
      ]
     },
     "metadata": {},
     "output_type": "display_data"
    },
    {
     "name": "stdout",
     "output_type": "stream",
     "text": [
      "\t step=300, train_loss=2.205266237258911, val_loss=2.2072782039642336, val_acc=0.2797527015209198\n"
     ]
    },
    {
     "data": {
      "application/vnd.jupyter.widget-view+json": {
       "model_id": "",
       "version_major": 2,
       "version_minor": 0
      },
      "text/plain": [
       "  0%|          | 0/390 [00:00<?, ?it/s]"
      ]
     },
     "metadata": {},
     "output_type": "display_data"
    },
    {
     "name": "stdout",
     "output_type": "stream",
     "text": [
      "\t step=600, train_loss=2.0017404556274414, val_loss=2.0153594493865965, val_acc=0.4131890535354614\n"
     ]
    },
    {
     "data": {
      "application/vnd.jupyter.widget-view+json": {
       "model_id": "",
       "version_major": 2,
       "version_minor": 0
      },
      "text/plain": [
       "  0%|          | 0/390 [00:00<?, ?it/s]"
      ]
     },
     "metadata": {},
     "output_type": "display_data"
    },
    {
     "name": "stdout",
     "output_type": "stream",
     "text": [
      "\t step=900, train_loss=1.7597544193267822, val_loss=1.7773166704177856, val_acc=0.4322513937950134\n"
     ]
    },
    {
     "data": {
      "application/vnd.jupyter.widget-view+json": {
       "model_id": "",
       "version_major": 2,
       "version_minor": 0
      },
      "text/plain": [
       "  0%|          | 0/390 [00:00<?, ?it/s]"
      ]
     },
     "metadata": {},
     "output_type": "display_data"
    },
    {
     "name": "stdout",
     "output_type": "stream",
     "text": [
      "\t step=1200, train_loss=1.7158104181289673, val_loss=1.6910619926452637, val_acc=0.433281809091568\n",
      "\t step=1500, train_loss=1.5986260175704956, val_loss=1.6188884782791138, val_acc=0.4451313614845276\n"
     ]
    },
    {
     "data": {
      "application/vnd.jupyter.widget-view+json": {
       "model_id": "",
       "version_major": 2,
       "version_minor": 0
      },
      "text/plain": [
       "  0%|          | 0/390 [00:00<?, ?it/s]"
      ]
     },
     "metadata": {},
     "output_type": "display_data"
    },
    {
     "name": "stdout",
     "output_type": "stream",
     "text": [
      "\t step=1800, train_loss=1.3853150606155396, val_loss=1.4687671041488648, val_acc=0.4832560420036316\n"
     ]
    },
    {
     "data": {
      "application/vnd.jupyter.widget-view+json": {
       "model_id": "",
       "version_major": 2,
       "version_minor": 0
      },
      "text/plain": [
       "  0%|          | 0/390 [00:00<?, ?it/s]"
      ]
     },
     "metadata": {},
     "output_type": "display_data"
    },
    {
     "name": "stdout",
     "output_type": "stream",
     "text": [
      "\t step=2100, train_loss=1.2064175605773926, val_loss=1.228657946586609, val_acc=0.6084492206573486\n"
     ]
    },
    {
     "data": {
      "application/vnd.jupyter.widget-view+json": {
       "model_id": "",
       "version_major": 2,
       "version_minor": 0
      },
      "text/plain": [
       "  0%|          | 0/390 [00:00<?, ?it/s]"
      ]
     },
     "metadata": {},
     "output_type": "display_data"
    },
    {
     "name": "stdout",
     "output_type": "stream",
     "text": [
      "\t step=2400, train_loss=1.0198686122894287, val_loss=1.0842780733108521, val_acc=0.645028293132782\n",
      "\t step=2700, train_loss=0.9949629902839661, val_loss=0.9655955195426941, val_acc=0.6960329413414001\n"
     ]
    },
    {
     "data": {
      "application/vnd.jupyter.widget-view+json": {
       "model_id": "",
       "version_major": 2,
       "version_minor": 0
      },
      "text/plain": [
       "  0%|          | 0/390 [00:00<?, ?it/s]"
      ]
     },
     "metadata": {},
     "output_type": "display_data"
    },
    {
     "name": "stdout",
     "output_type": "stream",
     "text": [
      "\t step=3000, train_loss=0.7577994465827942, val_loss=0.8733797526359558, val_acc=0.743946373462677\n"
     ]
    },
    {
     "data": {
      "application/vnd.jupyter.widget-view+json": {
       "model_id": "",
       "version_major": 2,
       "version_minor": 0
      },
      "text/plain": [
       "  0%|          | 0/390 [00:00<?, ?it/s]"
      ]
     },
     "metadata": {},
     "output_type": "display_data"
    },
    {
     "name": "stdout",
     "output_type": "stream",
     "text": [
      "\t step=3300, train_loss=0.7671045660972595, val_loss=0.8103506684303283, val_acc=0.7789798974990845\n"
     ]
    },
    {
     "data": {
      "application/vnd.jupyter.widget-view+json": {
       "model_id": "",
       "version_major": 2,
       "version_minor": 0
      },
      "text/plain": [
       "  0%|          | 0/390 [00:00<?, ?it/s]"
      ]
     },
     "metadata": {},
     "output_type": "display_data"
    },
    {
     "name": "stdout",
     "output_type": "stream",
     "text": [
      "\t step=3600, train_loss=0.6736979484558105, val_loss=0.7596487665176391, val_acc=0.7934054136276245\n",
      "\t step=3900, train_loss=0.6595547795295715, val_loss=0.7044067120552063, val_acc=0.81658935546875\n",
      "loss: 0.7044067120552063, acc: 0.81658935546875\n",
      "+--------------+----------+---------------+\n",
      "| Word         | True tag | Predicted tag |\n",
      "+--------------+----------+---------------+\n",
      "| Они          | PRON     | PRON          |\n",
      "| окружили     | VERB     | VERB          |\n",
      "| микроавтобус | NOUN     | NOUN          |\n",
      "| ,            | PUNCT    | PUNCT         |\n",
      "| в            | ADP      | ADP           |\n",
      "| котором      | PRON     | PRON          |\n",
      "| находился    | VERB     | VERB          |\n",
      "| политик      | NOUN     | NOUN          |\n",
      "| ,            | PUNCT    | PUNCT         |\n",
      "| и            | CCONJ    | CCONJ         |\n",
      "| взломали     | VERB     | VERB          |\n",
      "| дверь        | NOUN     | NOUN          |\n",
      "| машины       | NOUN     | NOUN          |\n",
      "| ,            | PUNCT    | PUNCT         |\n",
      "| после        | ADP      | ADP           |\n",
      "| чего         | PRON     | PRON          |\n",
      "| вызволили    | VERB     | VERB          |\n",
      "| бывшего      | ADJ      | ADJ           |\n",
      "| грузинского  | ADJ      | ADJ           |\n",
      "| президента   | NOUN     | NOUN          |\n",
      "| .            | PUNCT    | PUNCT         |\n",
      "+--------------+----------+---------------+\n",
      "len_dict = 50000\n"
     ]
    },
    {
     "data": {
      "application/vnd.jupyter.widget-view+json": {
       "model_id": "1837442a60954faab9e24750b1253671",
       "version_major": 2,
       "version_minor": 0
      },
      "text/plain": [
       "0it [00:00, ?it/s]"
      ]
     },
     "metadata": {},
     "output_type": "display_data"
    },
    {
     "name": "stdout",
     "output_type": "stream",
     "text": [
      "loss: 2.8644146633148195, acc: 0.012960082851350307\n",
      "+---------------+----------+---------------+\n",
      "| Word          | True tag | Predicted tag |\n",
      "+---------------+----------+---------------+\n",
      "| Аналитики     | NOUN     | SCONJ         |\n",
      "| Российского   | ADJ      | SCONJ         |\n",
      "| национального | ADJ      | SCONJ         |\n",
      "| коммерческого | ADJ      | SCONJ         |\n",
      "| банка         | NOUN     | SCONJ         |\n",
      "| (             | PUNCT    | SCONJ         |\n",
      "| РНКБ          | PROPN    | SCONJ         |\n",
      "| )             | PUNCT    | SCONJ         |\n",
      "| полагают      | VERB     | SCONJ         |\n",
      "| ,             | PUNCT    | SCONJ         |\n",
      "| что           | SCONJ    | SCONJ         |\n",
      "| в             | ADP      | SCONJ         |\n",
      "| ближайшие     | ADJ      | SCONJ         |\n",
      "| пять          | NUM      | SCONJ         |\n",
      "| лет           | NOUN     | SCONJ         |\n",
      "| более         | ADV      | SCONJ         |\n",
      "| 150           | NUM      | SCONJ         |\n",
      "| тысяч         | NOUN     | SCONJ         |\n",
      "| жителей       | NOUN     | SCONJ         |\n",
      "| Крыма         | PROPN    | SCONJ         |\n",
      "| свои          | DET      | SCONJ         |\n",
      "| жилищные      | ADJ      | SCONJ         |\n",
      "| условия       | NOUN     | SCONJ         |\n",
      "| за            | ADP      | SCONJ         |\n",
      "| счет          | NOUN     | SCONJ         |\n",
      "| покупки       | NOUN     | SCONJ         |\n",
      "| жилья         | NOUN     | SCONJ         |\n",
      "| в             | ADP      | SCONJ         |\n",
      "| кредит        | NOUN     | SCONJ         |\n",
      "| .             | PUNCT    | SCONJ         |\n",
      "+---------------+----------+---------------+\n"
     ]
    },
    {
     "data": {
      "application/vnd.jupyter.widget-view+json": {
       "model_id": "25ad5fcfae9a4fc2a5cf06f44f909946",
       "version_major": 2,
       "version_minor": 0
      },
      "text/plain": [
       "epoch:   0%|          | 0/10 [00:00<?, ?it/s]"
      ]
     },
     "metadata": {},
     "output_type": "display_data"
    },
    {
     "data": {
      "application/vnd.jupyter.widget-view+json": {
       "model_id": "",
       "version_major": 2,
       "version_minor": 0
      },
      "text/plain": [
       "  0%|          | 0/780 [00:00<?, ?it/s]"
      ]
     },
     "metadata": {},
     "output_type": "display_data"
    },
    {
     "name": "stdout",
     "output_type": "stream",
     "text": [
      "\t step=300, train_loss=2.183155059814453, val_loss=2.1786864757537843, val_acc=0.27216172218322754\n",
      "\t step=600, train_loss=2.1767117977142334, val_loss=2.1505710601806642, val_acc=0.27216172218322754\n"
     ]
    },
    {
     "data": {
      "application/vnd.jupyter.widget-view+json": {
       "model_id": "",
       "version_major": 2,
       "version_minor": 0
      },
      "text/plain": [
       "  0%|          | 0/780 [00:00<?, ?it/s]"
      ]
     },
     "metadata": {},
     "output_type": "display_data"
    },
    {
     "name": "stdout",
     "output_type": "stream",
     "text": [
      "\t step=900, train_loss=2.0083038806915283, val_loss=2.025839018821716, val_acc=0.28201138973236084\n",
      "\t step=1200, train_loss=1.629385232925415, val_loss=1.58397611618042, val_acc=0.4815966784954071\n",
      "\t step=1500, train_loss=1.351584553718567, val_loss=1.284998745918274, val_acc=0.5624675750732422\n"
     ]
    },
    {
     "data": {
      "application/vnd.jupyter.widget-view+json": {
       "model_id": "",
       "version_major": 2,
       "version_minor": 0
      },
      "text/plain": [
       "  0%|          | 0/780 [00:00<?, ?it/s]"
      ]
     },
     "metadata": {},
     "output_type": "display_data"
    },
    {
     "name": "stdout",
     "output_type": "stream",
     "text": [
      "\t step=1800, train_loss=1.093247890472412, val_loss=1.0852915096282958, val_acc=0.6448937058448792\n",
      "\t step=2100, train_loss=0.9666929841041565, val_loss=0.9442495131492614, val_acc=0.7065836787223816\n"
     ]
    },
    {
     "data": {
      "application/vnd.jupyter.widget-view+json": {
       "model_id": "b6a887035e52461299a8ecb600d301ec",
       "version_major": 2,
       "version_minor": 0
      },
      "text/plain": [
       "  0%|          | 0/780 [00:00<?, ?it/s]"
      ]
     },
     "metadata": {},
     "output_type": "display_data"
    },
    {
     "name": "stdout",
     "output_type": "stream",
     "text": [
      "\t step=2400, train_loss=0.8726097941398621, val_loss=0.8348084139823914, val_acc=0.766200065612793\n",
      "\t step=2700, train_loss=0.7366381287574768, val_loss=0.7355703711509705, val_acc=0.8035251498222351\n",
      "\t step=3000, train_loss=0.7304397821426392, val_loss=0.6573810315132141, val_acc=0.8211508393287659\n"
     ]
    },
    {
     "data": {
      "application/vnd.jupyter.widget-view+json": {
       "model_id": "cbb85566ee6d46ea89ad171d72b1e22f",
       "version_major": 2,
       "version_minor": 0
      },
      "text/plain": [
       "  0%|          | 0/780 [00:00<?, ?it/s]"
      ]
     },
     "metadata": {},
     "output_type": "display_data"
    },
    {
     "name": "stdout",
     "output_type": "stream",
     "text": [
      "\t step=3300, train_loss=0.6169717907905579, val_loss=0.5969770193099976, val_acc=0.8320373296737671\n",
      "\t step=3600, train_loss=0.6138284206390381, val_loss=0.5502880692481995, val_acc=0.8382581472396851\n",
      "\t step=3900, train_loss=0.514554500579834, val_loss=0.5130831575393677, val_acc=0.8460341691970825\n"
     ]
    },
    {
     "data": {
      "application/vnd.jupyter.widget-view+json": {
       "model_id": "f8b89a15483c4e21b665d0a2daf97a94",
       "version_major": 2,
       "version_minor": 0
      },
      "text/plain": [
       "  0%|          | 0/780 [00:00<?, ?it/s]"
      ]
     },
     "metadata": {},
     "output_type": "display_data"
    },
    {
     "name": "stdout",
     "output_type": "stream",
     "text": [
      "\t step=4200, train_loss=0.4656292796134949, val_loss=0.4799578404426575, val_acc=0.8584758639335632\n",
      "\t step=4500, train_loss=0.5110749006271362, val_loss=0.4557966780662537, val_acc=0.8636599183082581\n"
     ]
    },
    {
     "data": {
      "application/vnd.jupyter.widget-view+json": {
       "model_id": "2223fcc401524964bd598ee2cad3fddf",
       "version_major": 2,
       "version_minor": 0
      },
      "text/plain": [
       "  0%|          | 0/780 [00:00<?, ?it/s]"
      ]
     },
     "metadata": {},
     "output_type": "display_data"
    },
    {
     "name": "stdout",
     "output_type": "stream",
     "text": [
      "\t step=4800, train_loss=0.4479440450668335, val_loss=0.4349083018302917, val_acc=0.8683255314826965\n",
      "\t step=5100, train_loss=0.4324362277984619, val_loss=0.41828259110450744, val_acc=0.8786935806274414\n",
      "\t step=5400, train_loss=0.3968941867351532, val_loss=0.39643168926239014, val_acc=0.8875064849853516\n"
     ]
    },
    {
     "data": {
      "application/vnd.jupyter.widget-view+json": {
       "model_id": "a752a4b46ecd44f08f028e6313e4f652",
       "version_major": 2,
       "version_minor": 0
      },
      "text/plain": [
       "  0%|          | 0/780 [00:00<?, ?it/s]"
      ]
     },
     "metadata": {},
     "output_type": "display_data"
    },
    {
     "name": "stdout",
     "output_type": "stream",
     "text": [
      "\t step=5700, train_loss=0.4182208180427551, val_loss=0.37907384753227236, val_acc=0.89217209815979\n",
      "\t step=6000, train_loss=0.3642757534980774, val_loss=0.36859025597572326, val_acc=0.89217209815979\n"
     ]
    },
    {
     "data": {
      "application/vnd.jupyter.widget-view+json": {
       "model_id": "19cb5f1fd7e14a2eb0ee5452678dac9a",
       "version_major": 2,
       "version_minor": 0
      },
      "text/plain": [
       "  0%|          | 0/780 [00:00<?, ?it/s]"
      ]
     },
     "metadata": {},
     "output_type": "display_data"
    },
    {
     "name": "stdout",
     "output_type": "stream",
     "text": [
      "\t step=6300, train_loss=0.33775076270103455, val_loss=0.3574409854412079, val_acc=0.8958008885383606\n",
      "\t step=6600, train_loss=0.32299473881721497, val_loss=0.3458834254741669, val_acc=0.8994297385215759\n",
      "\t step=6900, train_loss=0.31413009762763977, val_loss=0.3321727848052978, val_acc=0.9004665613174438\n"
     ]
    },
    {
     "data": {
      "application/vnd.jupyter.widget-view+json": {
       "model_id": "91577729699e4523963e600c0d6f1eb1",
       "version_major": 2,
       "version_minor": 0
      },
      "text/plain": [
       "  0%|          | 0/780 [00:00<?, ?it/s]"
      ]
     },
     "metadata": {},
     "output_type": "display_data"
    },
    {
     "name": "stdout",
     "output_type": "stream",
     "text": [
      "\t step=7200, train_loss=0.32618218660354614, val_loss=0.3247833800315857, val_acc=0.9035769701004028\n",
      "\t step=7500, train_loss=0.25204774737358093, val_loss=0.3175006139278412, val_acc=0.9051321744918823\n",
      "\t step=7800, train_loss=0.2642120122909546, val_loss=0.30874947071075437, val_acc=0.9051321744918823\n",
      "loss: 0.30874947071075437, acc: 0.9051321744918823\n",
      "+--------------+----------+---------------+\n",
      "| Word         | True tag | Predicted tag |\n",
      "+--------------+----------+---------------+\n",
      "| Когда        | SCONJ    | NUM           |\n",
      "| он           | PRON     | PRON          |\n",
      "| у            | ADP      | ADP           |\n",
      "| вас          | PRON     | ADV           |\n",
      "| в            | ADP      | ADP           |\n",
      "| следственном | ADJ      | ADJ           |\n",
      "| изоляторе    | NOUN     | NOUN          |\n",
      "| ,            | PUNCT    | PUNCT         |\n",
      "| тогда        | ADV      | ADV           |\n",
      "| он           | PRON     | PRON          |\n",
      "| будет        | AUX      | AUX           |\n",
      "| давать       | VERB     | VERB          |\n",
      "| себе         | PRON     | PRON          |\n",
      "| отчет        | NOUN     | NOUN          |\n",
      "| ,            | PUNCT    | PUNCT         |\n",
      "| что          | SCONJ    | SCONJ         |\n",
      "| он           | PRON     | PRON          |\n",
      "| »            | PUNCT    | PUNCT         |\n",
      "| ,            | PUNCT    | PUNCT         |\n",
      "| —            | PUNCT    | PUNCT         |\n",
      "| добавил      | VERB     | VERB          |\n",
      "| глава        | NOUN     | NOUN          |\n",
      "| республики   | NOUN     | NOUN          |\n",
      "| .            | PUNCT    | PUNCT         |\n",
      "+--------------+----------+---------------+\n"
     ]
    }
   ],
   "source": [
    "for len_dict in len_dict_params:\n",
    "    print(f'len_dict = {len_dict}')\n",
    "    list_of_sent, list_of_tags = get_sent_tags(docs, len_dict)\n",
    "    pos2idx, idx2pos = pos_dict(list_of_tags)\n",
    "    word2idx, idx2word = word_dict(list_of_sent)\n",
    "    train_data = NerusDataset(list_of_sent, list_of_tags, word2idx, pos2idx, train=True)\n",
    "    test_data = NerusDataset(list_of_sent, list_of_tags, word2idx, pos2idx, train=False)\n",
    "    model = LSTM(vocab_dim=len(word2idx))\n",
    "    model.to(device)\n",
    "    writer = SummaryWriter(log_dir=f'tensorboard2/len_dict_{len_dict}')\n",
    "    call = callback(writer, test_data, loss_function)\n",
    "    check_model(64, test_data, model, loss_function, idx2word, idx2pos)\n",
    "    trainer(count_of_epoch=10, \n",
    "            batch_size=64, \n",
    "            dataset=train_data,\n",
    "            model=model, \n",
    "            loss_function=loss_function,\n",
    "            optimizer = optimizer,\n",
    "            callback=call)\n",
    "    check_model(64, test_data, model, loss_function, idx2word, idx2pos)"
   ]
  },
  {
   "cell_type": "markdown",
   "id": "95f74e8a-1129-4e46-9804-959a330f033e",
   "metadata": {},
   "source": [
    "Логично, что при большем количестве данных модель лучше, но дольше обучается."
   ]
  },
  {
   "cell_type": "markdown",
   "id": "5264248b-9d8c-44aa-bb05-8048db1f1121",
   "metadata": {},
   "source": [
    "## Выводы"
   ]
  },
  {
   "cell_type": "markdown",
   "id": "7bd1077f-157a-4f93-807f-5875045f0f52",
   "metadata": {},
   "source": [
    "Явный положительный эффект дало увеличение размера слоя, добавление BatchNorm и увеличение размера словаря.\n",
    "\n",
    "Число слоёв, скорее всего, надо было увеличивать пропорционально росту размеров каждого слоя. А также пробовать комбинировать с другими улучшениями. Ведь в эксперименте был зафиксирован размер слоя 10, что, возможно, было слишком малым для числа слоёв 5 и 7. Либо маленького размера обучающей выборки не хватило для обучения более сложной модели.\n",
    "\n",
    "При добавлении dropout, видимо, надо было дольше обучать модель (увеличить размер словаря или даже число эпох)."
   ]
  },
  {
   "cell_type": "markdown",
   "id": "d03e0959-e6b6-4d29-8763-6da8e726fa2c",
   "metadata": {},
   "source": [
    "### Дополнительные выводы после просмотра tensorboard"
   ]
  },
  {
   "cell_type": "markdown",
   "id": "d8b6d66e-66a3-4e92-8bac-71f8535e4f40",
   "metadata": {},
   "source": [
    "BatchNorm заметно ускоряет обучение; увеличение размера слоя однозначно улучшает модель; dropout 0.5 слишком большой, 0.25 уменьшает loss, но почти не меняет acc, если зафиксировать размер выборки и число эпох обучения; увеличение размера словаря безоговорочно важно для качественного обучения модели; увеличение количества слоёв сильно усложняет модель, что ведёт к необходимости более долгого обучения (ближе к концу обучения модель с 5 слоями резко начала улучшаться, хотя до этого была похожа на модель с 7 слоями, а сначала даже модель с 3 слоями по графику loss на train не отличалась от 5 и 7 слоёв)."
   ]
  },
  {
   "cell_type": "code",
   "execution_count": null,
   "id": "6dd65c17-4cb4-4001-bd44-b01156ee8622",
   "metadata": {},
   "outputs": [],
   "source": []
  }
 ],
 "metadata": {
  "kernelspec": {
   "display_name": "Python 3 (ipykernel)",
   "language": "python",
   "name": "python3"
  },
  "language_info": {
   "codemirror_mode": {
    "name": "ipython",
    "version": 3
   },
   "file_extension": ".py",
   "mimetype": "text/x-python",
   "name": "python",
   "nbconvert_exporter": "python",
   "pygments_lexer": "ipython3",
   "version": "3.12.6"
  }
 },
 "nbformat": 4,
 "nbformat_minor": 5
}
