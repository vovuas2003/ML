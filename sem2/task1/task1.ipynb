{
 "cells": [
  {
   "cell_type": "markdown",
   "id": "073e736e-9273-49ee-855c-0596007f0430",
   "metadata": {},
   "source": [
    "# Наумкин Владимир, С01-119."
   ]
  },
  {
   "cell_type": "markdown",
   "id": "808ffdec-8925-410d-bf68-4ca9c21c411d",
   "metadata": {},
   "source": [
    "## Задача 1. Анализ модели CNN."
   ]
  },
  {
   "cell_type": "markdown",
   "id": "444037b9-4060-4cc1-9453-961672fa34b8",
   "metadata": {},
   "source": [
    "### Подключим библиотеки"
   ]
  },
  {
   "cell_type": "code",
   "execution_count": 1,
   "id": "99baac56-0df4-464e-b086-307a00d0165d",
   "metadata": {},
   "outputs": [],
   "source": [
    "from tqdm.notebook import tqdm\n",
    "import numpy as np\n",
    "import torch\n",
    "from sklearn.metrics import classification_report\n",
    "from torch.utils.tensorboard import SummaryWriter\n",
    "from torchvision import datasets, transforms"
   ]
  },
  {
   "cell_type": "markdown",
   "id": "c29140b7-55ee-4cd4-8465-49c0ce633e69",
   "metadata": {},
   "source": [
    "### Уберём предупреждения"
   ]
  },
  {
   "cell_type": "code",
   "execution_count": 2,
   "id": "1bd63fe4-3b34-4832-b826-d346c5526944",
   "metadata": {},
   "outputs": [],
   "source": [
    "import warnings\n",
    "warnings.filterwarnings(\"ignore\")"
   ]
  },
  {
   "cell_type": "markdown",
   "id": "54f88e1a-fc6b-4b8b-8ed2-7790f16a3855",
   "metadata": {},
   "source": [
    "### Зададим устройство исполнения кода (вычисления провожу на своём ПК)"
   ]
  },
  {
   "cell_type": "code",
   "execution_count": 3,
   "id": "a90bc785-5f8d-41d4-82c5-85b3840886b7",
   "metadata": {},
   "outputs": [
    {
     "data": {
      "text/plain": [
       "device(type='cpu')"
      ]
     },
     "execution_count": 3,
     "metadata": {},
     "output_type": "execute_result"
    }
   ],
   "source": [
    "device = torch.device(\"cuda\" if torch.cuda.is_available() else \"cpu\")\n",
    "device"
   ]
  },
  {
   "cell_type": "markdown",
   "id": "aba49398-5d23-494e-ab10-991773e4d950",
   "metadata": {},
   "source": [
    "### Возьмём код из 15 семинара для обучения модели"
   ]
  },
  {
   "cell_type": "code",
   "execution_count": 4,
   "id": "60b483f4-6b44-4c31-be79-bc4683f1e606",
   "metadata": {},
   "outputs": [],
   "source": [
    "def train_on_batch(model, x_batch, y_batch, optimizer, loss_function):\n",
    "    model.train()\n",
    "    model.zero_grad()\n",
    "\n",
    "    output = model(x_batch.to(device))\n",
    "\n",
    "    loss = loss_function(output, y_batch.to(device))\n",
    "    loss.backward()\n",
    "\n",
    "    optimizer.step()\n",
    "    return loss.cpu().item()"
   ]
  },
  {
   "cell_type": "code",
   "execution_count": 5,
   "id": "b87b6481-4ee5-4341-b31f-9994a5d30394",
   "metadata": {},
   "outputs": [],
   "source": [
    "def train_epoch(train_generator, model, loss_function, optimizer, callback = None):\n",
    "    epoch_loss = 0\n",
    "    total = 0\n",
    "    for it, (batch_of_x, batch_of_y) in enumerate(train_generator):\n",
    "        batch_loss = train_on_batch(model, batch_of_x.to(device), batch_of_y.to(device), optimizer, loss_function)\n",
    "\n",
    "        if callback is not None:\n",
    "            callback(model, batch_loss)\n",
    "\n",
    "        epoch_loss += batch_loss*len(batch_of_x)\n",
    "        total += len(batch_of_x)\n",
    "\n",
    "    return epoch_loss/total"
   ]
  },
  {
   "cell_type": "code",
   "execution_count": 6,
   "id": "dce08f9f-b234-42c3-8c5f-3f1a0ed29120",
   "metadata": {},
   "outputs": [],
   "source": [
    "def trainer(count_of_epoch,\n",
    "            batch_size,\n",
    "            dataset,\n",
    "            model,\n",
    "            loss_function,\n",
    "            optimizer,\n",
    "            lr = 0.001,\n",
    "            callback = None):\n",
    "\n",
    "    optima = optimizer(model.parameters(), lr=lr)\n",
    "\n",
    "    iterations = tqdm(range(count_of_epoch), desc='epoch')\n",
    "    iterations.set_postfix({'train epoch loss': np.nan})\n",
    "    for it in iterations:\n",
    "        batch_generator = tqdm(\n",
    "            torch.utils.data.DataLoader(dataset=dataset, batch_size=batch_size, shuffle=True),\n",
    "            leave=False, total=len(dataset)//batch_size+(len(dataset)%batch_size> 0))\n",
    "\n",
    "        epoch_loss = train_epoch(train_generator=batch_generator,\n",
    "                    model=model,\n",
    "                    loss_function=loss_function,\n",
    "                    optimizer=optima,\n",
    "                    callback=callback)\n",
    "\n",
    "        iterations.set_postfix({'train epoch loss': epoch_loss})"
   ]
  },
  {
   "cell_type": "markdown",
   "id": "e03d4019-7513-41ee-bea1-66e49c7eeccd",
   "metadata": {},
   "source": [
    "### И вынесем код из 15 семинара для проверки качества в отдельную функцию\n",
    "Не забыв исправить недочёты, обсуждаемые в видеозаписи 1 семинара 2 семестра 2021-2022 года. А именно, добавим eval и no_grad."
   ]
  },
  {
   "cell_type": "code",
   "execution_count": 7,
   "id": "bbc9d9b4-aef9-4540-9e0c-45991ea00066",
   "metadata": {},
   "outputs": [],
   "source": [
    "def check_model(batch_size, dataset, model, loss_function):\n",
    "    model.eval()\n",
    "\n",
    "    batch_generator = torch.utils.data.DataLoader(dataset = dataset, batch_size=batch_size)\n",
    "            \n",
    "    pred = []\n",
    "    real = []\n",
    "    test_loss = 0\n",
    "    for it, (x_batch, y_batch) in enumerate(batch_generator):\n",
    "        x_batch = x_batch.to(device)\n",
    "        y_batch = y_batch.to(device)\n",
    "\n",
    "        with torch.no_grad():\n",
    "            output = model(x_batch)\n",
    "\n",
    "        test_loss += loss_function(output, y_batch).cpu().item()*len(x_batch)\n",
    "\n",
    "        pred.extend(torch.argmax(output, dim=-1).cpu().numpy().tolist())\n",
    "        real.extend(y_batch.cpu().numpy().tolist())\n",
    "\n",
    "    test_loss /= len(dataset)\n",
    "\n",
    "    print('loss: {}'.format(test_loss))\n",
    "    return test_loss"
   ]
  },
  {
   "cell_type": "markdown",
   "id": "b0f375be-3536-4c8e-b234-5db461b8ddb6",
   "metadata": {},
   "source": [
    "### Аналогично возьмём код для отслеживания обучения модели"
   ]
  },
  {
   "cell_type": "code",
   "execution_count": 8,
   "id": "6e26c26e-8f00-4895-9d97-44521c632ebe",
   "metadata": {},
   "outputs": [],
   "source": [
    "class callback():\n",
    "    def __init__(self, writer, dataset, loss_function, delimeter = 100, batch_size=64):\n",
    "        self.step = 0\n",
    "        self.writer = writer\n",
    "        self.delimeter = delimeter\n",
    "        self.loss_function = loss_function\n",
    "        self.batch_size = batch_size\n",
    "\n",
    "        self.dataset = dataset\n",
    "\n",
    "    def forward(self, model, loss):\n",
    "        self.step += 1\n",
    "        self.writer.add_scalar('LOSS/train', loss, self.step)\n",
    "        \n",
    "        if self.step % self.delimeter == 0:\n",
    "            model.eval()\n",
    "            \n",
    "            self.writer.add_graph(model, self.dataset[0][0].view(1,1,28,28).to(model.device))\n",
    "            \n",
    "            batch_generator = torch.utils.data.DataLoader(dataset = self.dataset, \n",
    "                                                          batch_size=self.batch_size)\n",
    "            \n",
    "            pred = []\n",
    "            real = []\n",
    "            test_loss = 0\n",
    "            for it, (x_batch, y_batch) in enumerate(batch_generator):\n",
    "                x_batch = x_batch.to(model.device)\n",
    "                y_batch = y_batch.to(model.device)\n",
    "\n",
    "                with torch.no_grad():\n",
    "                    output = model(x_batch)\n",
    "\n",
    "                test_loss += self.loss_function(output, y_batch).cpu().item()*len(x_batch)\n",
    "\n",
    "                pred.extend(torch.argmax(output, dim=-1).cpu().numpy().tolist())\n",
    "                real.extend(y_batch.cpu().numpy().tolist())\n",
    "            \n",
    "            test_loss /= len(self.dataset)\n",
    "            \n",
    "            self.writer.add_scalar('LOSS/test', test_loss, self.step)\n",
    "            self.writer.add_text('REPORT/test', str(classification_report(real, pred)), self.step)\n",
    "          \n",
    "    def __call__(self, model, loss):\n",
    "        return self.forward(model, loss)"
   ]
  },
  {
   "cell_type": "markdown",
   "id": "edcb026b-915d-463e-9d75-3330e7c9fb5d",
   "metadata": {},
   "source": [
    "## Итак, приступим к построению разных вариантов модели CNN"
   ]
  },
  {
   "cell_type": "markdown",
   "id": "ecdb1215-7b2f-4aee-b933-a2905926d9b2",
   "metadata": {},
   "source": [
    "Упрощение модели из семинара 15"
   ]
  },
  {
   "cell_type": "code",
   "execution_count": 9,
   "id": "06883422-9922-4fc4-9410-abb379baf241",
   "metadata": {},
   "outputs": [],
   "source": [
    "class CNN_simple(torch.nn.Module):\n",
    "    @property\n",
    "    def device(self):\n",
    "        for p in self.parameters():\n",
    "            return p.device\n",
    "        \n",
    "    def __init__(self):\n",
    "        super(CNN_simple, self).__init__()\n",
    "        \n",
    "        self.layers = torch.nn.Sequential() #MNIST image 28x28 monochrome pixels\n",
    "        self.layers.add_module('conv1', torch.nn.Conv2d(1, 1*6, kernel_size = 3)) #28 - 2 = 26\n",
    "        self.layers.add_module('relu1', torch.nn.ReLU())\n",
    "        self.layers.add_module('conv2', torch.nn.Conv2d(1*6, 1*16, kernel_size = 3)) #26 - 2 = 24\n",
    "        self.layers.add_module('relu2', torch.nn.ReLU())\n",
    "        self.layers.add_module('flatten', torch.nn.Flatten())\n",
    "        self.layers.add_module('linear1', torch.nn.Linear(16*24*24, 120))\n",
    "        self.layers.add_module('relu3', torch.nn.ReLU())\n",
    "        self.layers.add_module('linear2', torch.nn.Linear(120, 10))\n",
    "\n",
    "    def forward(self, input):\n",
    "        return self.layers(input)"
   ]
  },
  {
   "cell_type": "markdown",
   "id": "505d9e7b-625e-4607-945d-1393854f315d",
   "metadata": {},
   "source": [
    "Увеличение размера ядра"
   ]
  },
  {
   "cell_type": "code",
   "execution_count": 10,
   "id": "6ee0c8e0-79a8-4782-a815-c71a9eeb2580",
   "metadata": {},
   "outputs": [],
   "source": [
    "class CNN_kernel(torch.nn.Module):\n",
    "    @property\n",
    "    def device(self):\n",
    "        for p in self.parameters():\n",
    "            return p.device\n",
    "        \n",
    "    def __init__(self):\n",
    "        super(CNN_kernel, self).__init__()\n",
    "        \n",
    "        self.layers = torch.nn.Sequential() #28\n",
    "        self.layers.add_module('conv1', torch.nn.Conv2d(1, 1*6, kernel_size = 5)) #28 - 4 = 24\n",
    "        self.layers.add_module('relu1', torch.nn.ReLU())\n",
    "        self.layers.add_module('conv2', torch.nn.Conv2d(1*6, 1*16, kernel_size = 5)) #24 - 4 = 20\n",
    "        self.layers.add_module('relu2', torch.nn.ReLU())\n",
    "        self.layers.add_module('flatten', torch.nn.Flatten())\n",
    "        self.layers.add_module('linear1', torch.nn.Linear(16*20*20, 120))\n",
    "        self.layers.add_module('relu3', torch.nn.ReLU())\n",
    "        self.layers.add_module('linear2', torch.nn.Linear(120, 10))\n",
    "\n",
    "    def forward(self, input):\n",
    "        return self.layers(input)"
   ]
  },
  {
   "cell_type": "markdown",
   "id": "2a798932-8fa0-457a-a8fe-7547c5f849b2",
   "metadata": {},
   "source": [
    "Увеличение числа слоёв"
   ]
  },
  {
   "cell_type": "code",
   "execution_count": 11,
   "id": "6c658a13-8f06-4e74-bb34-0c86135ae927",
   "metadata": {},
   "outputs": [],
   "source": [
    "class CNN_layers(torch.nn.Module):\n",
    "    @property\n",
    "    def device(self):\n",
    "        for p in self.parameters():\n",
    "            return p.device\n",
    "        \n",
    "    def __init__(self):\n",
    "        super(CNN_layers, self).__init__()\n",
    "        \n",
    "        self.layers = torch.nn.Sequential() #28x28\n",
    "        self.layers.add_module('conv1', torch.nn.Conv2d(1, 1*6, kernel_size = 3)) #28 - 2 = 26\n",
    "        self.layers.add_module('relu1', torch.nn.ReLU())\n",
    "        self.layers.add_module('conv2', torch.nn.Conv2d(1*6, 1*16, kernel_size = 3)) #26 - 2 = 24\n",
    "        self.layers.add_module('relu2', torch.nn.ReLU())\n",
    "        self.layers.add_module('flatten', torch.nn.Flatten())\n",
    "        self.layers.add_module('linear1', torch.nn.Linear(16*24*24, 120))\n",
    "        self.layers.add_module('relu3', torch.nn.ReLU())\n",
    "        self.layers.add_module('linear2', torch.nn.Linear(120, 84))\n",
    "        self.layers.add_module('relu4', torch.nn.ReLU())\n",
    "        self.layers.add_module('linear3', torch.nn.Linear(84, 10))\n",
    "\n",
    "    def forward(self, input):\n",
    "        return self.layers(input)"
   ]
  },
  {
   "cell_type": "markdown",
   "id": "d42c7e5c-cec1-427a-bbf5-09f8959eb2e0",
   "metadata": {},
   "source": [
    "Добавление пулинга"
   ]
  },
  {
   "cell_type": "code",
   "execution_count": 12,
   "id": "f2561c6b-1d9d-462c-925f-d49b805d6de7",
   "metadata": {},
   "outputs": [],
   "source": [
    "class CNN_pooling(torch.nn.Module):\n",
    "    @property\n",
    "    def device(self):\n",
    "        for p in self.parameters():\n",
    "            return p.device\n",
    "        \n",
    "    def __init__(self):\n",
    "        super(CNN_pooling, self).__init__()\n",
    "        \n",
    "        self.layers = torch.nn.Sequential() #28x28\n",
    "        self.layers.add_module('conv1', torch.nn.Conv2d(1, 1*6, kernel_size = 3)) #28 - 2 = 26\n",
    "        self.layers.add_module('relu1', torch.nn.ReLU())\n",
    "        self.layers.add_module('pool1', torch.nn.MaxPool2d(kernel_size = 2)) #26 // 2 = 13\n",
    "        self.layers.add_module('conv2', torch.nn.Conv2d(1*6, 1*16, kernel_size = 3)) #13 - 2 = 11\n",
    "        self.layers.add_module('relu2', torch.nn.ReLU())\n",
    "        self.layers.add_module('pool2', torch.nn.MaxPool2d(kernel_size = 2)) #11 // 2 = 5\n",
    "        self.layers.add_module('flatten', torch.nn.Flatten())\n",
    "        self.layers.add_module('linear1', torch.nn.Linear(16*5*5, 120))\n",
    "        self.layers.add_module('relu3', torch.nn.ReLU())\n",
    "        self.layers.add_module('linear2', torch.nn.Linear(120, 10))\n",
    "\n",
    "    def forward(self, input):\n",
    "        return self.layers(input)"
   ]
  },
  {
   "cell_type": "markdown",
   "id": "18a8dde0-fa2b-493a-abb7-d26afc1c4b0f",
   "metadata": {},
   "source": [
    "Добавление BatchNorm"
   ]
  },
  {
   "cell_type": "code",
   "execution_count": 13,
   "id": "41999515-cffe-4416-be0b-5d80a49a120a",
   "metadata": {},
   "outputs": [],
   "source": [
    "class CNN_batchnorm(torch.nn.Module):\n",
    "    @property\n",
    "    def device(self):\n",
    "        for p in self.parameters():\n",
    "            return p.device\n",
    "        \n",
    "    def __init__(self):\n",
    "        super(CNN_batchnorm, self).__init__()\n",
    "        \n",
    "        self.layers = torch.nn.Sequential() #28x28\n",
    "        self.layers.add_module('conv1', torch.nn.Conv2d(1, 1*6, kernel_size = 3)) #28 - 2 = 26\n",
    "        self.layers.add_module('batchnorm1', torch.nn.BatchNorm2d(1*6))\n",
    "        self.layers.add_module('relu1', torch.nn.ReLU())\n",
    "        self.layers.add_module('conv2', torch.nn.Conv2d(1*6, 1*16, kernel_size = 3)) #26 - 2 = 24\n",
    "        self.layers.add_module('batchnorm2', torch.nn.BatchNorm2d(1*16))\n",
    "        self.layers.add_module('relu2', torch.nn.ReLU())\n",
    "        self.layers.add_module('flatten', torch.nn.Flatten())\n",
    "        self.layers.add_module('batchnorm3', torch.nn.BatchNorm1d(16*24*24))\n",
    "        self.layers.add_module('linear1', torch.nn.Linear(16*24*24, 120))\n",
    "        self.layers.add_module('relu3', torch.nn.ReLU())\n",
    "        self.layers.add_module('batchnorm4', torch.nn.BatchNorm1d(120))\n",
    "        self.layers.add_module('linear2', torch.nn.Linear(120, 10))\n",
    "\n",
    "    def forward(self, input):\n",
    "        return self.layers(input)"
   ]
  },
  {
   "cell_type": "markdown",
   "id": "74625c2c-f0e2-452d-882c-4c651eb30336",
   "metadata": {},
   "source": [
    "Добавление dropout"
   ]
  },
  {
   "cell_type": "code",
   "execution_count": 45,
   "id": "171a6a00-1b0d-4d2f-8680-117b2ac8c83f",
   "metadata": {},
   "outputs": [],
   "source": [
    "class CNN_dropout(torch.nn.Module):\n",
    "    @property\n",
    "    def device(self):\n",
    "        for p in self.parameters():\n",
    "            return p.device\n",
    "        \n",
    "    def __init__(self):\n",
    "        super(CNN_dropout, self).__init__()\n",
    "        \n",
    "        self.layers = torch.nn.Sequential() #28x28\n",
    "        self.layers.add_module('conv1', torch.nn.Conv2d(1, 1*6, kernel_size = 3)) #28 - 2 = 26\n",
    "        self.layers.add_module('relu1', torch.nn.ReLU())\n",
    "        self.layers.add_module('dropout1', torch.nn.Dropout(p=0.1))\n",
    "        self.layers.add_module('conv2', torch.nn.Conv2d(1*6, 1*16, kernel_size = 3)) #26 - 2 = 24\n",
    "        self.layers.add_module('relu2', torch.nn.ReLU())\n",
    "        self.layers.add_module('dropout2', torch.nn.Dropout(p=0.1))\n",
    "        self.layers.add_module('flatten', torch.nn.Flatten())\n",
    "        self.layers.add_module('linear1', torch.nn.Linear(16*24*24, 120))\n",
    "        self.layers.add_module('dropout3', torch.nn.Dropout(p=0.5))\n",
    "        self.layers.add_module('relu3', torch.nn.ReLU())\n",
    "        self.layers.add_module('linear2', torch.nn.Linear(120, 10))\n",
    "\n",
    "    def forward(self, input):\n",
    "        return self.layers(input)"
   ]
  },
  {
   "cell_type": "markdown",
   "id": "6896ec93-431e-4169-87e6-45674440c339",
   "metadata": {},
   "source": [
    "## Скачаем датасет FashionMNIST"
   ]
  },
  {
   "cell_type": "code",
   "execution_count": 16,
   "id": "b8d592bd-65af-4b2b-96ea-d688b4fbf0f5",
   "metadata": {},
   "outputs": [],
   "source": [
    "FashionMNIST_train = datasets.FashionMNIST('./FashionMNIST', train=True, download=True, transform=transforms.ToTensor())\n",
    "FashionMNIST_test = datasets.FashionMNIST('./FashionMNIST', train=False, download=True, transform=transforms.ToTensor())"
   ]
  },
  {
   "cell_type": "markdown",
   "id": "51705669-f10b-4661-9bfa-965d3c88a951",
   "metadata": {},
   "source": [
    "## Проводим обучение моделей"
   ]
  },
  {
   "cell_type": "code",
   "execution_count": 17,
   "id": "4ee9cc06-7c3d-42cc-941f-42d07ff52c0b",
   "metadata": {},
   "outputs": [],
   "source": [
    "loss_function = torch.nn.CrossEntropyLoss()\n",
    "optimizer = torch.optim.Adam"
   ]
  },
  {
   "cell_type": "markdown",
   "id": "b5c8bbde-d979-4f6d-a686-a7150dee5e55",
   "metadata": {},
   "source": [
    "Упрощённая модель"
   ]
  },
  {
   "cell_type": "code",
   "execution_count": 20,
   "id": "6499b41e-80c0-406c-84a6-de76b6247bd8",
   "metadata": {},
   "outputs": [],
   "source": [
    "model = CNN_simple()\n",
    "model.to(device)\n",
    "writer = SummaryWriter(log_dir = 'tensorboard1/CNN_simple')\n",
    "call = callback(writer, FashionMNIST_test, loss_function, delimeter = 10)"
   ]
  },
  {
   "cell_type": "code",
   "execution_count": 28,
   "id": "a22e10bf-5bfc-4b87-ab40-cb1616f206bb",
   "metadata": {},
   "outputs": [
    {
     "data": {
      "text/plain": [
       "CNN_simple(\n",
       "  (layers): Sequential(\n",
       "    (conv1): Conv2d(1, 6, kernel_size=(3, 3), stride=(1, 1))\n",
       "    (relu1): ReLU()\n",
       "    (conv2): Conv2d(6, 16, kernel_size=(3, 3), stride=(1, 1))\n",
       "    (relu2): ReLU()\n",
       "    (flatten): Flatten(start_dim=1, end_dim=-1)\n",
       "    (linear1): Linear(in_features=9216, out_features=120, bias=True)\n",
       "    (relu3): ReLU()\n",
       "    (linear2): Linear(in_features=120, out_features=10, bias=True)\n",
       "  )\n",
       ")"
      ]
     },
     "execution_count": 28,
     "metadata": {},
     "output_type": "execute_result"
    }
   ],
   "source": [
    "model #проверка структуры (для дальнейших моделей убрана из финального отчёта)"
   ]
  },
  {
   "cell_type": "markdown",
   "id": "83be21f4-6b51-42a3-b8b7-0d01d5ac16a8",
   "metadata": {},
   "source": [
    "До обучения"
   ]
  },
  {
   "cell_type": "code",
   "execution_count": 30,
   "id": "4a72fdad-9746-4fbb-b2c6-82cd512b9fbf",
   "metadata": {},
   "outputs": [
    {
     "name": "stdout",
     "output_type": "stream",
     "text": [
      "loss: 2.302855361175537\n"
     ]
    },
    {
     "data": {
      "text/plain": [
       "2.302855361175537"
      ]
     },
     "execution_count": 30,
     "metadata": {},
     "output_type": "execute_result"
    }
   ],
   "source": [
    "check_model(64, FashionMNIST_test, model, loss_function)"
   ]
  },
  {
   "cell_type": "markdown",
   "id": "ac650fcd-a6b2-4fc3-8d15-0be07bde438c",
   "metadata": {},
   "source": [
    "Обучение"
   ]
  },
  {
   "cell_type": "code",
   "execution_count": 31,
   "id": "28fed404-b91e-4a08-b03f-cf5370af73ca",
   "metadata": {},
   "outputs": [
    {
     "data": {
      "application/vnd.jupyter.widget-view+json": {
       "model_id": "35ffb3cb571f47a3b76c6a1f75f086a8",
       "version_major": 2,
       "version_minor": 0
      },
      "text/plain": [
       "epoch:   0%|          | 0/5 [00:00<?, ?it/s]"
      ]
     },
     "metadata": {},
     "output_type": "display_data"
    },
    {
     "data": {
      "application/vnd.jupyter.widget-view+json": {
       "model_id": "",
       "version_major": 2,
       "version_minor": 0
      },
      "text/plain": [
       "  0%|          | 0/938 [00:00<?, ?it/s]"
      ]
     },
     "metadata": {},
     "output_type": "display_data"
    },
    {
     "data": {
      "application/vnd.jupyter.widget-view+json": {
       "model_id": "",
       "version_major": 2,
       "version_minor": 0
      },
      "text/plain": [
       "  0%|          | 0/938 [00:00<?, ?it/s]"
      ]
     },
     "metadata": {},
     "output_type": "display_data"
    },
    {
     "data": {
      "application/vnd.jupyter.widget-view+json": {
       "model_id": "",
       "version_major": 2,
       "version_minor": 0
      },
      "text/plain": [
       "  0%|          | 0/938 [00:00<?, ?it/s]"
      ]
     },
     "metadata": {},
     "output_type": "display_data"
    },
    {
     "data": {
      "application/vnd.jupyter.widget-view+json": {
       "model_id": "",
       "version_major": 2,
       "version_minor": 0
      },
      "text/plain": [
       "  0%|          | 0/938 [00:00<?, ?it/s]"
      ]
     },
     "metadata": {},
     "output_type": "display_data"
    },
    {
     "data": {
      "application/vnd.jupyter.widget-view+json": {
       "model_id": "",
       "version_major": 2,
       "version_minor": 0
      },
      "text/plain": [
       "  0%|          | 0/938 [00:00<?, ?it/s]"
      ]
     },
     "metadata": {},
     "output_type": "display_data"
    }
   ],
   "source": [
    "trainer(count_of_epoch = 5,\n",
    "        batch_size = 64,\n",
    "        dataset = FashionMNIST_train,\n",
    "        model = model,\n",
    "        loss_function = loss_function,\n",
    "        optimizer = optimizer,\n",
    "        lr = 0.001,\n",
    "        callback = call)"
   ]
  },
  {
   "cell_type": "markdown",
   "id": "a8aa5175-50fa-4ebc-a34d-135c69435e80",
   "metadata": {},
   "source": [
    "После обучения"
   ]
  },
  {
   "cell_type": "code",
   "execution_count": 32,
   "id": "a61d3801-3eba-467b-b163-897019b2de5d",
   "metadata": {},
   "outputs": [
    {
     "name": "stdout",
     "output_type": "stream",
     "text": [
      "loss: 0.2769430208683014\n"
     ]
    },
    {
     "data": {
      "text/plain": [
       "0.2769430208683014"
      ]
     },
     "execution_count": 32,
     "metadata": {},
     "output_type": "execute_result"
    }
   ],
   "source": [
    "check_model(64, FashionMNIST_test, model, loss_function)"
   ]
  },
  {
   "cell_type": "markdown",
   "id": "83dbe63a-add6-48bd-962d-193f65955e60",
   "metadata": {},
   "source": [
    "### Аналогично все другие модели (поменьше текста)"
   ]
  },
  {
   "cell_type": "code",
   "execution_count": 33,
   "id": "d8b12f6b-c701-4183-ad2c-295202df1d60",
   "metadata": {},
   "outputs": [],
   "source": [
    "model1 = CNN_kernel()\n",
    "model1.to(device)\n",
    "writer1 = SummaryWriter(log_dir = 'tensorboard1/CNN_kernel')\n",
    "call1 = callback(writer1, FashionMNIST_test, loss_function, delimeter = 10)"
   ]
  },
  {
   "cell_type": "code",
   "execution_count": 34,
   "id": "ed826b92-7f0d-42e3-bfe9-68d3c66345d8",
   "metadata": {},
   "outputs": [
    {
     "name": "stdout",
     "output_type": "stream",
     "text": [
      "loss: 2.3055130191802977\n"
     ]
    },
    {
     "data": {
      "text/plain": [
       "2.3055130191802977"
      ]
     },
     "execution_count": 34,
     "metadata": {},
     "output_type": "execute_result"
    }
   ],
   "source": [
    "check_model(64, FashionMNIST_test, model1, loss_function)"
   ]
  },
  {
   "cell_type": "code",
   "execution_count": 35,
   "id": "baec7862-7157-4b58-8e66-6d040fc3161d",
   "metadata": {},
   "outputs": [
    {
     "data": {
      "application/vnd.jupyter.widget-view+json": {
       "model_id": "ca4e5059a11c41b5afc78a1c8f40c79e",
       "version_major": 2,
       "version_minor": 0
      },
      "text/plain": [
       "epoch:   0%|          | 0/5 [00:00<?, ?it/s]"
      ]
     },
     "metadata": {},
     "output_type": "display_data"
    },
    {
     "data": {
      "application/vnd.jupyter.widget-view+json": {
       "model_id": "",
       "version_major": 2,
       "version_minor": 0
      },
      "text/plain": [
       "  0%|          | 0/938 [00:00<?, ?it/s]"
      ]
     },
     "metadata": {},
     "output_type": "display_data"
    },
    {
     "data": {
      "application/vnd.jupyter.widget-view+json": {
       "model_id": "",
       "version_major": 2,
       "version_minor": 0
      },
      "text/plain": [
       "  0%|          | 0/938 [00:00<?, ?it/s]"
      ]
     },
     "metadata": {},
     "output_type": "display_data"
    },
    {
     "data": {
      "application/vnd.jupyter.widget-view+json": {
       "model_id": "",
       "version_major": 2,
       "version_minor": 0
      },
      "text/plain": [
       "  0%|          | 0/938 [00:00<?, ?it/s]"
      ]
     },
     "metadata": {},
     "output_type": "display_data"
    },
    {
     "data": {
      "application/vnd.jupyter.widget-view+json": {
       "model_id": "",
       "version_major": 2,
       "version_minor": 0
      },
      "text/plain": [
       "  0%|          | 0/938 [00:00<?, ?it/s]"
      ]
     },
     "metadata": {},
     "output_type": "display_data"
    },
    {
     "data": {
      "application/vnd.jupyter.widget-view+json": {
       "model_id": "",
       "version_major": 2,
       "version_minor": 0
      },
      "text/plain": [
       "  0%|          | 0/938 [00:00<?, ?it/s]"
      ]
     },
     "metadata": {},
     "output_type": "display_data"
    }
   ],
   "source": [
    "trainer(count_of_epoch = 5, batch_size = 64, dataset = FashionMNIST_train, model = model1, loss_function = loss_function, optimizer = optimizer, lr = 0.001, callback = call1)"
   ]
  },
  {
   "cell_type": "code",
   "execution_count": 36,
   "id": "49f4b434-b267-4c61-8bd2-0d9dd8df93d5",
   "metadata": {},
   "outputs": [
    {
     "name": "stdout",
     "output_type": "stream",
     "text": [
      "loss: 0.2823917105436325\n"
     ]
    },
    {
     "data": {
      "text/plain": [
       "0.2823917105436325"
      ]
     },
     "execution_count": 36,
     "metadata": {},
     "output_type": "execute_result"
    }
   ],
   "source": [
    "check_model(64, FashionMNIST_test, model1, loss_function)"
   ]
  },
  {
   "cell_type": "markdown",
   "id": "bf26084a-8a07-4d38-be44-e30bac051762",
   "metadata": {},
   "source": [
    "Увеличение размера ядра ухудшило результат."
   ]
  },
  {
   "cell_type": "code",
   "execution_count": 37,
   "id": "de7b2663-2f93-43b5-92f0-4f420737b0e9",
   "metadata": {},
   "outputs": [],
   "source": [
    "model2 = CNN_layers()\n",
    "model2.to(device)\n",
    "writer2 = SummaryWriter(log_dir = 'tensorboard1/CNN_layers')\n",
    "call2 = callback(writer2, FashionMNIST_test, loss_function, delimeter = 10)"
   ]
  },
  {
   "cell_type": "code",
   "execution_count": 38,
   "id": "87f53534-38f3-4b95-b8de-14bb57e40e38",
   "metadata": {},
   "outputs": [
    {
     "name": "stdout",
     "output_type": "stream",
     "text": [
      "loss: 2.304488439178467\n"
     ]
    },
    {
     "data": {
      "text/plain": [
       "2.304488439178467"
      ]
     },
     "execution_count": 38,
     "metadata": {},
     "output_type": "execute_result"
    }
   ],
   "source": [
    "check_model(64, FashionMNIST_test, model2, loss_function)"
   ]
  },
  {
   "cell_type": "code",
   "execution_count": 39,
   "id": "f321655f-644c-4970-961e-6abdc8dd9404",
   "metadata": {},
   "outputs": [
    {
     "data": {
      "application/vnd.jupyter.widget-view+json": {
       "model_id": "309b2d8fe0d64f61a76e78f807f3235f",
       "version_major": 2,
       "version_minor": 0
      },
      "text/plain": [
       "epoch:   0%|          | 0/5 [00:00<?, ?it/s]"
      ]
     },
     "metadata": {},
     "output_type": "display_data"
    },
    {
     "data": {
      "application/vnd.jupyter.widget-view+json": {
       "model_id": "",
       "version_major": 2,
       "version_minor": 0
      },
      "text/plain": [
       "  0%|          | 0/938 [00:00<?, ?it/s]"
      ]
     },
     "metadata": {},
     "output_type": "display_data"
    },
    {
     "data": {
      "application/vnd.jupyter.widget-view+json": {
       "model_id": "",
       "version_major": 2,
       "version_minor": 0
      },
      "text/plain": [
       "  0%|          | 0/938 [00:00<?, ?it/s]"
      ]
     },
     "metadata": {},
     "output_type": "display_data"
    },
    {
     "data": {
      "application/vnd.jupyter.widget-view+json": {
       "model_id": "",
       "version_major": 2,
       "version_minor": 0
      },
      "text/plain": [
       "  0%|          | 0/938 [00:00<?, ?it/s]"
      ]
     },
     "metadata": {},
     "output_type": "display_data"
    },
    {
     "data": {
      "application/vnd.jupyter.widget-view+json": {
       "model_id": "",
       "version_major": 2,
       "version_minor": 0
      },
      "text/plain": [
       "  0%|          | 0/938 [00:00<?, ?it/s]"
      ]
     },
     "metadata": {},
     "output_type": "display_data"
    },
    {
     "data": {
      "application/vnd.jupyter.widget-view+json": {
       "model_id": "",
       "version_major": 2,
       "version_minor": 0
      },
      "text/plain": [
       "  0%|          | 0/938 [00:00<?, ?it/s]"
      ]
     },
     "metadata": {},
     "output_type": "display_data"
    }
   ],
   "source": [
    "trainer(count_of_epoch = 5, batch_size = 64, dataset = FashionMNIST_train, model = model2, loss_function = loss_function, optimizer = optimizer, lr = 0.001, callback = call2)"
   ]
  },
  {
   "cell_type": "code",
   "execution_count": 40,
   "id": "45c17910-fdbf-40d1-82c8-9529a988f87a",
   "metadata": {},
   "outputs": [
    {
     "name": "stdout",
     "output_type": "stream",
     "text": [
      "loss: 0.2868716926336288\n"
     ]
    },
    {
     "data": {
      "text/plain": [
       "0.2868716926336288"
      ]
     },
     "execution_count": 40,
     "metadata": {},
     "output_type": "execute_result"
    }
   ],
   "source": [
    "check_model(64, FashionMNIST_test, model2, loss_function)"
   ]
  },
  {
   "cell_type": "markdown",
   "id": "fc62c6a1-f413-4d13-88c1-2206c85de429",
   "metadata": {},
   "source": [
    "Увеличение числа слоёв ухудшило результат."
   ]
  },
  {
   "cell_type": "code",
   "execution_count": 41,
   "id": "138582df-c1f3-493a-a57b-4cfbb4b67f83",
   "metadata": {},
   "outputs": [],
   "source": [
    "model3 = CNN_pooling()\n",
    "model3.to(device)\n",
    "writer3 = SummaryWriter(log_dir = 'tensorboard1/CNN_pooling')\n",
    "call3 = callback(writer3, FashionMNIST_test, loss_function, delimeter = 10)"
   ]
  },
  {
   "cell_type": "code",
   "execution_count": 42,
   "id": "ff9d5569-a81c-43f8-9f81-c6a97bdd8695",
   "metadata": {},
   "outputs": [
    {
     "name": "stdout",
     "output_type": "stream",
     "text": [
      "loss: 2.303406509399414\n"
     ]
    },
    {
     "data": {
      "text/plain": [
       "2.303406509399414"
      ]
     },
     "execution_count": 42,
     "metadata": {},
     "output_type": "execute_result"
    }
   ],
   "source": [
    "check_model(64, FashionMNIST_test, model3, loss_function)"
   ]
  },
  {
   "cell_type": "code",
   "execution_count": 43,
   "id": "6d34ee28-a645-4298-9712-098f2094bda3",
   "metadata": {},
   "outputs": [
    {
     "data": {
      "application/vnd.jupyter.widget-view+json": {
       "model_id": "5651dbf8e6b74c759d4f70566cee842a",
       "version_major": 2,
       "version_minor": 0
      },
      "text/plain": [
       "epoch:   0%|          | 0/5 [00:00<?, ?it/s]"
      ]
     },
     "metadata": {},
     "output_type": "display_data"
    },
    {
     "data": {
      "application/vnd.jupyter.widget-view+json": {
       "model_id": "",
       "version_major": 2,
       "version_minor": 0
      },
      "text/plain": [
       "  0%|          | 0/938 [00:00<?, ?it/s]"
      ]
     },
     "metadata": {},
     "output_type": "display_data"
    },
    {
     "data": {
      "application/vnd.jupyter.widget-view+json": {
       "model_id": "",
       "version_major": 2,
       "version_minor": 0
      },
      "text/plain": [
       "  0%|          | 0/938 [00:00<?, ?it/s]"
      ]
     },
     "metadata": {},
     "output_type": "display_data"
    },
    {
     "data": {
      "application/vnd.jupyter.widget-view+json": {
       "model_id": "",
       "version_major": 2,
       "version_minor": 0
      },
      "text/plain": [
       "  0%|          | 0/938 [00:00<?, ?it/s]"
      ]
     },
     "metadata": {},
     "output_type": "display_data"
    },
    {
     "data": {
      "application/vnd.jupyter.widget-view+json": {
       "model_id": "",
       "version_major": 2,
       "version_minor": 0
      },
      "text/plain": [
       "  0%|          | 0/938 [00:00<?, ?it/s]"
      ]
     },
     "metadata": {},
     "output_type": "display_data"
    },
    {
     "data": {
      "application/vnd.jupyter.widget-view+json": {
       "model_id": "",
       "version_major": 2,
       "version_minor": 0
      },
      "text/plain": [
       "  0%|          | 0/938 [00:00<?, ?it/s]"
      ]
     },
     "metadata": {},
     "output_type": "display_data"
    }
   ],
   "source": [
    "trainer(count_of_epoch = 5, batch_size = 64, dataset = FashionMNIST_train, model = model3, loss_function = loss_function, optimizer = optimizer, lr = 0.001, callback = call3)"
   ]
  },
  {
   "cell_type": "code",
   "execution_count": 44,
   "id": "c134f6b9-4554-4191-8228-ad88362e493c",
   "metadata": {},
   "outputs": [
    {
     "name": "stdout",
     "output_type": "stream",
     "text": [
      "loss: 0.3431677439928055\n"
     ]
    },
    {
     "data": {
      "text/plain": [
       "0.3431677439928055"
      ]
     },
     "execution_count": 44,
     "metadata": {},
     "output_type": "execute_result"
    }
   ],
   "source": [
    "check_model(64, FashionMNIST_test, model3, loss_function)"
   ]
  },
  {
   "cell_type": "markdown",
   "id": "47724187-19bb-4d1f-bf71-7a9b126ec8f4",
   "metadata": {},
   "source": [
    "Добавление пулинга значительно ухудшило результат."
   ]
  },
  {
   "cell_type": "code",
   "execution_count": 46,
   "id": "f2232278-ed31-4848-86d1-cc93c4332c76",
   "metadata": {},
   "outputs": [],
   "source": [
    "model4 = CNN_batchnorm()\n",
    "model4.to(device)\n",
    "writer4 = SummaryWriter(log_dir = 'tensorboard1/CNN_batchnorm')\n",
    "call4 = callback(writer4, FashionMNIST_test, loss_function, delimeter = 10)"
   ]
  },
  {
   "cell_type": "code",
   "execution_count": 47,
   "id": "0db0f79a-6be6-45d7-8d7c-fb9830483763",
   "metadata": {},
   "outputs": [
    {
     "name": "stdout",
     "output_type": "stream",
     "text": [
      "loss: 2.3043930114746094\n"
     ]
    },
    {
     "data": {
      "text/plain": [
       "2.3043930114746094"
      ]
     },
     "execution_count": 47,
     "metadata": {},
     "output_type": "execute_result"
    }
   ],
   "source": [
    "check_model(64, FashionMNIST_test, model4, loss_function)"
   ]
  },
  {
   "cell_type": "code",
   "execution_count": 48,
   "id": "098cdd1a-370b-4cbe-a74b-3c514b44bdb1",
   "metadata": {},
   "outputs": [
    {
     "data": {
      "application/vnd.jupyter.widget-view+json": {
       "model_id": "b782d54d5e1b43089c3888db6ad8fdb1",
       "version_major": 2,
       "version_minor": 0
      },
      "text/plain": [
       "epoch:   0%|          | 0/5 [00:00<?, ?it/s]"
      ]
     },
     "metadata": {},
     "output_type": "display_data"
    },
    {
     "data": {
      "application/vnd.jupyter.widget-view+json": {
       "model_id": "",
       "version_major": 2,
       "version_minor": 0
      },
      "text/plain": [
       "  0%|          | 0/938 [00:00<?, ?it/s]"
      ]
     },
     "metadata": {},
     "output_type": "display_data"
    },
    {
     "data": {
      "application/vnd.jupyter.widget-view+json": {
       "model_id": "",
       "version_major": 2,
       "version_minor": 0
      },
      "text/plain": [
       "  0%|          | 0/938 [00:00<?, ?it/s]"
      ]
     },
     "metadata": {},
     "output_type": "display_data"
    },
    {
     "data": {
      "application/vnd.jupyter.widget-view+json": {
       "model_id": "",
       "version_major": 2,
       "version_minor": 0
      },
      "text/plain": [
       "  0%|          | 0/938 [00:00<?, ?it/s]"
      ]
     },
     "metadata": {},
     "output_type": "display_data"
    },
    {
     "data": {
      "application/vnd.jupyter.widget-view+json": {
       "model_id": "",
       "version_major": 2,
       "version_minor": 0
      },
      "text/plain": [
       "  0%|          | 0/938 [00:00<?, ?it/s]"
      ]
     },
     "metadata": {},
     "output_type": "display_data"
    },
    {
     "data": {
      "application/vnd.jupyter.widget-view+json": {
       "model_id": "",
       "version_major": 2,
       "version_minor": 0
      },
      "text/plain": [
       "  0%|          | 0/938 [00:00<?, ?it/s]"
      ]
     },
     "metadata": {},
     "output_type": "display_data"
    }
   ],
   "source": [
    "trainer(count_of_epoch = 5, batch_size = 64, dataset = FashionMNIST_train, model = model4, loss_function = loss_function, optimizer = optimizer, lr = 0.001, callback = call4)"
   ]
  },
  {
   "cell_type": "code",
   "execution_count": 49,
   "id": "9801ab94-2e52-4b08-8199-fc4001bd8dbf",
   "metadata": {},
   "outputs": [
    {
     "name": "stdout",
     "output_type": "stream",
     "text": [
      "loss: 0.31530283238887785\n"
     ]
    },
    {
     "data": {
      "text/plain": [
       "0.31530283238887785"
      ]
     },
     "execution_count": 49,
     "metadata": {},
     "output_type": "execute_result"
    }
   ],
   "source": [
    "check_model(64, FashionMNIST_test, model4, loss_function)"
   ]
  },
  {
   "cell_type": "markdown",
   "id": "632268d3-2b4d-416b-8f2b-316652237c4d",
   "metadata": {},
   "source": [
    "Добавление BatchNorm тоже достаточно сильно ухудшило результат."
   ]
  },
  {
   "cell_type": "code",
   "execution_count": 50,
   "id": "5eff91b5-09df-4e70-b019-6927233b33f6",
   "metadata": {},
   "outputs": [],
   "source": [
    "model5 = CNN_dropout()\n",
    "model5.to(device)\n",
    "writer5 = SummaryWriter(log_dir = 'tensorboard1/CNN_dropout')\n",
    "call5 = callback(writer5, FashionMNIST_test, loss_function, delimeter = 10)"
   ]
  },
  {
   "cell_type": "code",
   "execution_count": 51,
   "id": "ff43649b-6dc1-4958-afaa-5bf4b6321d55",
   "metadata": {},
   "outputs": [
    {
     "name": "stdout",
     "output_type": "stream",
     "text": [
      "loss: 2.300823692703247\n"
     ]
    },
    {
     "data": {
      "text/plain": [
       "2.300823692703247"
      ]
     },
     "execution_count": 51,
     "metadata": {},
     "output_type": "execute_result"
    }
   ],
   "source": [
    "check_model(64, FashionMNIST_test, model5, loss_function)"
   ]
  },
  {
   "cell_type": "code",
   "execution_count": 52,
   "id": "c40be425-f23f-4449-a89a-addeaf285435",
   "metadata": {},
   "outputs": [
    {
     "data": {
      "application/vnd.jupyter.widget-view+json": {
       "model_id": "a988783502ed4eefacc52abbb637be4a",
       "version_major": 2,
       "version_minor": 0
      },
      "text/plain": [
       "epoch:   0%|          | 0/5 [00:00<?, ?it/s]"
      ]
     },
     "metadata": {},
     "output_type": "display_data"
    },
    {
     "data": {
      "application/vnd.jupyter.widget-view+json": {
       "model_id": "",
       "version_major": 2,
       "version_minor": 0
      },
      "text/plain": [
       "  0%|          | 0/938 [00:00<?, ?it/s]"
      ]
     },
     "metadata": {},
     "output_type": "display_data"
    },
    {
     "data": {
      "application/vnd.jupyter.widget-view+json": {
       "model_id": "",
       "version_major": 2,
       "version_minor": 0
      },
      "text/plain": [
       "  0%|          | 0/938 [00:00<?, ?it/s]"
      ]
     },
     "metadata": {},
     "output_type": "display_data"
    },
    {
     "data": {
      "application/vnd.jupyter.widget-view+json": {
       "model_id": "",
       "version_major": 2,
       "version_minor": 0
      },
      "text/plain": [
       "  0%|          | 0/938 [00:00<?, ?it/s]"
      ]
     },
     "metadata": {},
     "output_type": "display_data"
    },
    {
     "data": {
      "application/vnd.jupyter.widget-view+json": {
       "model_id": "",
       "version_major": 2,
       "version_minor": 0
      },
      "text/plain": [
       "  0%|          | 0/938 [00:00<?, ?it/s]"
      ]
     },
     "metadata": {},
     "output_type": "display_data"
    },
    {
     "data": {
      "application/vnd.jupyter.widget-view+json": {
       "model_id": "",
       "version_major": 2,
       "version_minor": 0
      },
      "text/plain": [
       "  0%|          | 0/938 [00:00<?, ?it/s]"
      ]
     },
     "metadata": {},
     "output_type": "display_data"
    }
   ],
   "source": [
    "trainer(count_of_epoch = 5, batch_size = 64, dataset = FashionMNIST_train, model = model5, loss_function = loss_function, optimizer = optimizer, lr = 0.001, callback = call5)"
   ]
  },
  {
   "cell_type": "code",
   "execution_count": 53,
   "id": "7a72e6ac-8880-4ebf-b681-ffc343458d2b",
   "metadata": {},
   "outputs": [
    {
     "name": "stdout",
     "output_type": "stream",
     "text": [
      "loss: 0.30473360900878904\n"
     ]
    },
    {
     "data": {
      "text/plain": [
       "0.30473360900878904"
      ]
     },
     "execution_count": 53,
     "metadata": {},
     "output_type": "execute_result"
    }
   ],
   "source": [
    "check_model(64, FashionMNIST_test, model5, loss_function)"
   ]
  },
  {
   "cell_type": "markdown",
   "id": "3b51d267-ea70-43ee-b2b9-3a14e26f92fa",
   "metadata": {},
   "source": [
    "Добавление dropout тоже ухудшило модель."
   ]
  },
  {
   "cell_type": "markdown",
   "id": "c33df920-4fd6-4c61-80c8-f093a0855f68",
   "metadata": {},
   "source": [
    "## Выводы"
   ]
  },
  {
   "cell_type": "markdown",
   "id": "d304c03e-0510-40c2-b0b6-346c7dc6d177",
   "metadata": {},
   "source": [
    "Как ни странно, самая простая модель дала наилучший результат. Увеличение размера ядра свёртки или количества линейных слоёв лишь немного ухудшило результат. Более сильный негативный эффект был при добавлении dropout или BatchNorm. Пулинг сделал ещё хуже.\n",
    "\n",
    "Стоит отметить, что все изменения вносились в простую модель, а параметры не перебирались. То есть при комбинировании усложнений модели и подборе параметров возможно получилось бы улучшить качество аппроксимации выборки."
   ]
  },
  {
   "cell_type": "markdown",
   "id": "44ef2d25-f479-46dd-b769-f5ce21ed4e22",
   "metadata": {},
   "source": [
    "Результаты отслеживания обучения модели я смотрю так:\n",
    "\n",
    "1 Запускаем cmd в папке task1 и исполняем команду\n",
    "\n",
    "tensorboard --logdir tensorboard1\n",
    "\n",
    "2 В браузере переходим по адресу\n",
    "\n",
    "localhost:6006"
   ]
  },
  {
   "cell_type": "markdown",
   "id": "4defb585-e1d2-48e1-b7f8-046de95b27d5",
   "metadata": {},
   "source": [
    "### После просмотра графиков tensorboard можно дополнить выводы:\n",
    "\n",
    "loss модели с BatchNorm начал расти к концу обучения, а в первой половине был ощутимо ниже, чем у остальных моделей. То есть модель переобучилась. Аналогично можно сказать про сравнение исходной модели и модели с увеличенным количеством слоёв: в первой половине процесса обучения это изменение планомерно улучшало модель, но потом loss изменённой модели стал периодически достигать loss исходной модели (хорошо видно при smoothing 0.88 если оставить 2 графика).\n",
    "\n",
    "Также если посмотреть classification_report в разделе text, то можно сравнить accuracy моделей. Выпишу сюда:\n",
    "\n",
    "simple, kernel, layers - 0.90\n",
    "\n",
    "pooling - 0.88 (причём долго было 0.87)\n",
    "\n",
    "batchnorm - 0.91 (было достигнуто практически сразу, иногда менялось на 0.90)\n",
    "\n",
    "dropout - 0.89 (постепенно увеличивается 0.87 -> 0.88 -> 0.89)"
   ]
  },
  {
   "cell_type": "markdown",
   "id": "9d4b40f3-7788-454b-acee-367d6e0ac566",
   "metadata": {},
   "source": [
    "#### Ещё одним признаком переобучения модели с batchnorm является стабильное уменьшение loss на train (при начавшемся увеличении на test)\n",
    "\n",
    "В общем, если пытаться улучшить базовую модель, то вероятно лучше всего добавить BatchNorm (но, возможно, не во всех 4 местах) и dropout (тоже подумать, где и с каким p будет оптимально вставить в структуру модели), а также попробовать подобрать размер дополнительного линейного слоя. Предложенная комбинация BatchNorm и dropout, по моему мнению, позволит избавиться от отдельных недостатков этих изменений. А именно, избежать переобучения, но ускорить обучение (то есть ускорить dropout через BatchNorm, сохранив качество работы на неизвестных данных)."
   ]
  },
  {
   "cell_type": "code",
   "execution_count": null,
   "id": "bf9b5128-371a-41d6-b819-2e930f3f86f2",
   "metadata": {},
   "outputs": [],
   "source": []
  }
 ],
 "metadata": {
  "kernelspec": {
   "display_name": "Python 3 (ipykernel)",
   "language": "python",
   "name": "python3"
  },
  "language_info": {
   "codemirror_mode": {
    "name": "ipython",
    "version": 3
   },
   "file_extension": ".py",
   "mimetype": "text/x-python",
   "name": "python",
   "nbconvert_exporter": "python",
   "pygments_lexer": "ipython3",
   "version": "3.12.6"
  }
 },
 "nbformat": 4,
 "nbformat_minor": 5
}
