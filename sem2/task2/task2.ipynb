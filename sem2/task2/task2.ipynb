{
 "cells": [
  {
   "cell_type": "markdown",
   "id": "9abc084a-c610-4839-b163-53d87dad1a5a",
   "metadata": {},
   "source": [
    "# Наумкин Владимир, С01-119."
   ]
  },
  {
   "cell_type": "markdown",
   "id": "607d4175-eb83-4cd7-88db-094f7161ffeb",
   "metadata": {},
   "source": [
    "## Задача 2. Классификация даты документа."
   ]
  },
  {
   "cell_type": "markdown",
   "id": "eb66631d-b167-43f0-b170-f8b83a3877ef",
   "metadata": {},
   "source": [
    "### Подключим библиотеки"
   ]
  },
  {
   "cell_type": "code",
   "execution_count": 1,
   "id": "d2b33778-e488-43c0-b965-074f21764ee8",
   "metadata": {},
   "outputs": [],
   "source": [
    "import artm"
   ]
  },
  {
   "cell_type": "markdown",
   "id": "cca3b535-6dea-4573-911d-9cc959875230",
   "metadata": {},
   "source": [
    "Отдельный комментарий про artm для винды:\n",
    "\n",
    "1 Скачиваем архив https://github.com/bigartm/bigartm/releases/download/v0.9.0/BigARTM_v0.9.0_win64.7z.\n",
    "\n",
    "2 Распакуем архив в папку bigartm, запускаем jupyter с помощью bat скрипта (обязательно выходим из cmd после выполнения, если запускаем не двойным кликом, т.к. set работает в текущей консоли и при перезапуске задублирует ещё раз из-за %, кстати, после % по идее надо бы добавить знак ; но у меня и так он ставится автоматически, можно проверить ячейкой !path):\n",
    "\n",
    "set PATH=%PATH%C:\\full\\path\\to\\bigartm\\bin\n",
    "\n",
    "set PYTHONPATH=%PYTHONPATH%C:\\full\\path\\to\\bigartm\\python\n",
    "\n",
    "set PROTOCOL_BUFFERS_PYTHON_IMPLEMENTATION=python\n",
    "\n",
    "jupyter notebook\n",
    "\n",
    "3 В функции fit online (вроде так называлась, надо сделать в двух файлах) переименовываем параметр async на assync.\n",
    "\n",
    "4 Также в комментариях убираем плохие символы.\n",
    "\n",
    "5 Пункты 3 и 4 очевидны по ошибкам при попытке import artm.\n",
    "\n",
    "6 Радуемся, что вроде смогли исправить исходники и всё же подключить либу.\n",
    "\n",
    "7 ??? Profit!))\n",
    "\n",
    "8 Всё равно artm.dll из bigartm\\bin не видно (например, в ячейке при создании vocab), причём ищет по пути bigartm\\python\\artm (с заходом во wrapper и ..). Ну что же, тупо скопируем dll в это место."
   ]
  },
  {
   "cell_type": "code",
   "execution_count": 2,
   "id": "ac216bfd-a5e1-44ba-a9f9-6207bf0485ce",
   "metadata": {},
   "outputs": [],
   "source": [
    "import pandas as pd\n",
    "import re\n",
    "from tqdm.notebook import tqdm\n",
    "import matplotlib.pyplot as plt\n",
    "import numpy as np\n",
    "from sklearn.utils import shuffle\n",
    "from sklearn.ensemble import RandomForestClassifier\n",
    "from sklearn.metrics import classification_report"
   ]
  },
  {
   "cell_type": "markdown",
   "id": "0711fc27-e56c-44bf-9f1f-89ff242e3652",
   "metadata": {},
   "source": [
    "### Уберём предупреждения"
   ]
  },
  {
   "cell_type": "code",
   "execution_count": 3,
   "id": "fb18f8b0-cceb-402d-afcd-523b14163295",
   "metadata": {},
   "outputs": [],
   "source": [
    "import warnings\n",
    "warnings.filterwarnings(\"ignore\")"
   ]
  },
  {
   "cell_type": "markdown",
   "id": "79d681a7-eb09-4788-ab7b-6fd724e58fb8",
   "metadata": {},
   "source": [
    "### Датасет\n",
    "Скачаем предобработанные данные (формы слов нормализованы) по ссылке https://disk.yandex.ru/d/bwUVH8hR1MRNrg."
   ]
  },
  {
   "cell_type": "code",
   "execution_count": 4,
   "id": "fbd4695c-eb10-45d6-b29e-02c8eec6c2ca",
   "metadata": {},
   "outputs": [
    {
     "data": {
      "text/html": [
       "<div>\n",
       "<style scoped>\n",
       "    .dataframe tbody tr th:only-of-type {\n",
       "        vertical-align: middle;\n",
       "    }\n",
       "\n",
       "    .dataframe tbody tr th {\n",
       "        vertical-align: top;\n",
       "    }\n",
       "\n",
       "    .dataframe thead th {\n",
       "        text-align: right;\n",
       "    }\n",
       "</style>\n",
       "<table border=\"1\" class=\"dataframe\">\n",
       "  <thead>\n",
       "    <tr style=\"text-align: right;\">\n",
       "      <th></th>\n",
       "      <th>text</th>\n",
       "      <th>tags</th>\n",
       "      <th>len</th>\n",
       "      <th>date</th>\n",
       "    </tr>\n",
       "  </thead>\n",
       "  <tbody>\n",
       "    <tr>\n",
       "      <th>0</th>\n",
       "      <td>1 сентябрь весь территория россия вводиться но...</td>\n",
       "      <td>Все</td>\n",
       "      <td>1654</td>\n",
       "      <td>31-08-1999</td>\n",
       "    </tr>\n",
       "    <tr>\n",
       "      <th>1</th>\n",
       "      <td>сведение миссия оон , передаваемый риа \" новос...</td>\n",
       "      <td>Все</td>\n",
       "      <td>1086</td>\n",
       "      <td>31-08-1999</td>\n",
       "    </tr>\n",
       "    <tr>\n",
       "      <th>2</th>\n",
       "      <td>15 представитель национал - большевистский пар...</td>\n",
       "      <td>Все</td>\n",
       "      <td>1219</td>\n",
       "      <td>31-08-1999</td>\n",
       "    </tr>\n",
       "    <tr>\n",
       "      <th>3</th>\n",
       "      <td>наметить сегодняшний день церемония вступление...</td>\n",
       "      <td>Все</td>\n",
       "      <td>3094</td>\n",
       "      <td>31-08-1999</td>\n",
       "    </tr>\n",
       "    <tr>\n",
       "      <th>4</th>\n",
       "      <td>юг киргизия , именно баткенский чон - алайском...</td>\n",
       "      <td>Все</td>\n",
       "      <td>1354</td>\n",
       "      <td>31-08-1999</td>\n",
       "    </tr>\n",
       "    <tr>\n",
       "      <th>...</th>\n",
       "      <td>...</td>\n",
       "      <td>...</td>\n",
       "      <td>...</td>\n",
       "      <td>...</td>\n",
       "    </tr>\n",
       "    <tr>\n",
       "      <th>863280</th>\n",
       "      <td>популярный место среди турист мурманский облас...</td>\n",
       "      <td>Россия</td>\n",
       "      <td>1231</td>\n",
       "      <td>11-09-2020</td>\n",
       "    </tr>\n",
       "    <tr>\n",
       "      <th>863281</th>\n",
       "      <td>рейтинг международный рейтинговый агентство s ...</td>\n",
       "      <td>NaN</td>\n",
       "      <td>1425</td>\n",
       "      <td>11-09-2020</td>\n",
       "    </tr>\n",
       "    <tr>\n",
       "      <th>863282</th>\n",
       "      <td>российский учёный найти якутия новый подвид ар...</td>\n",
       "      <td>События</td>\n",
       "      <td>1299</td>\n",
       "      <td>11-09-2020</td>\n",
       "    </tr>\n",
       "    <tr>\n",
       "      <th>863283</th>\n",
       "      <td>указание коронавирус причина смерть человек не...</td>\n",
       "      <td>Общество</td>\n",
       "      <td>2061</td>\n",
       "      <td>11-09-2020</td>\n",
       "    </tr>\n",
       "    <tr>\n",
       "      <th>863284</th>\n",
       "      <td>президент сша дональд трамп стать посредник но...</td>\n",
       "      <td>Политика</td>\n",
       "      <td>1020</td>\n",
       "      <td>11-09-2020</td>\n",
       "    </tr>\n",
       "  </tbody>\n",
       "</table>\n",
       "<p>863285 rows × 4 columns</p>\n",
       "</div>"
      ],
      "text/plain": [
       "                                                     text      tags   len  \\\n",
       "0       1 сентябрь весь территория россия вводиться но...       Все  1654   \n",
       "1       сведение миссия оон , передаваемый риа \" новос...       Все  1086   \n",
       "2       15 представитель национал - большевистский пар...       Все  1219   \n",
       "3       наметить сегодняшний день церемония вступление...       Все  3094   \n",
       "4       юг киргизия , именно баткенский чон - алайском...       Все  1354   \n",
       "...                                                   ...       ...   ...   \n",
       "863280  популярный место среди турист мурманский облас...    Россия  1231   \n",
       "863281  рейтинг международный рейтинговый агентство s ...       NaN  1425   \n",
       "863282  российский учёный найти якутия новый подвид ар...   События  1299   \n",
       "863283  указание коронавирус причина смерть человек не...  Общество  2061   \n",
       "863284  президент сша дональд трамп стать посредник но...  Политика  1020   \n",
       "\n",
       "              date  \n",
       "0       31-08-1999  \n",
       "1       31-08-1999  \n",
       "2       31-08-1999  \n",
       "3       31-08-1999  \n",
       "4       31-08-1999  \n",
       "...            ...  \n",
       "863280  11-09-2020  \n",
       "863281  11-09-2020  \n",
       "863282  11-09-2020  \n",
       "863283  11-09-2020  \n",
       "863284  11-09-2020  \n",
       "\n",
       "[863285 rows x 4 columns]"
      ]
     },
     "execution_count": 4,
     "metadata": {},
     "output_type": "execute_result"
    }
   ],
   "source": [
    "df = pd.read_csv('lenta-ru-proccess.csv')\n",
    "df"
   ]
  },
  {
   "cell_type": "markdown",
   "id": "a6b42fbe-1a12-404b-836e-4d71e64603f8",
   "metadata": {},
   "source": [
    "Перевод в формат для bigartm"
   ]
  },
  {
   "cell_type": "code",
   "execution_count": 5,
   "id": "f17e42ec-c581-4b97-9161-75d8d2f39a52",
   "metadata": {},
   "outputs": [],
   "source": [
    "f_valid = ('valid.vw.txt')\n",
    "f_train = ('train.vw.txt')"
   ]
  },
  {
   "cell_type": "code",
   "execution_count": 7,
   "id": "741dfa04-17e2-4ba6-ae16-5a0519403c66",
   "metadata": {},
   "outputs": [
    {
     "data": {
      "application/vnd.jupyter.widget-view+json": {
       "model_id": "bc974d1fc2fc4c46aaf6885b33c52520",
       "version_major": 2,
       "version_minor": 0
      },
      "text/plain": [
       "  0%|          | 0/863285 [00:00<?, ?it/s]"
      ]
     },
     "metadata": {},
     "output_type": "display_data"
    }
   ],
   "source": [
    "if True: # если надо сделать новые txt из csv\n",
    "    train_count = 0\n",
    "    valid_count = 0\n",
    "    train_labels = []\n",
    "    valid_labels = []\n",
    "    non_word_char_removal = re.compile(r'\\W+')\n",
    "    with open(f_valid, 'w', encoding='utf-8') as validation_file, open(f_train, 'w', encoding='utf-8') as training_file:\n",
    "        for index in tqdm(range(len(df))):\n",
    "            processed_text = non_word_char_removal.sub(' ', df.loc[index, 'text']).strip().split()\n",
    "            month = df.loc[index, 'date'].split('-')[1]\n",
    "            year = df.loc[index, 'date'].split('-')[2]\n",
    "            tag = df.loc[index, 'tags']\n",
    "            if pd.isna(tag):\n",
    "                tag = 'unknown'  # замена NaN тега\n",
    "            else:\n",
    "                tag = tag.lower().strip()\n",
    "            if len(processed_text) > 100:\n",
    "                if (index + 1) % 100 == 0:\n",
    "                    validation_file.write(f'doc_{valid_count} {\" \".join(processed_text)} |@tag class_{tag} |@month class_{month}\\n')\n",
    "                    valid_count += 1\n",
    "                    valid_labels.append(year)\n",
    "                else:\n",
    "                    training_file.write(f'doc_{train_count} {\" \".join(processed_text)} |@tag class_{tag} |@month class_{month} |@year class_{year}\\n')\n",
    "                    train_count += 1\n",
    "                    train_labels.append(year)\n",
    "    with open('validation_labels.vw.txt', 'w', encoding='utf-8') as file:\n",
    "        file.write('\\n'.join(valid_labels))\n",
    "    with open('training_labels.vw.txt', 'w', encoding='utf-8') as file:\n",
    "        file.write('\\n'.join(train_labels))\n",
    "else: # если уже сделали этот этап ранее\n",
    "    with open('validation_labels.vw.txt', 'r', encoding='utf-8') as file:\n",
    "        valid_labels = file.read().split('\\n')\n",
    "    with open('training_labels.vw.txt', 'r', encoding='utf-8') as file:\n",
    "        train_labels = file.read().split('\\n')"
   ]
  },
  {
   "cell_type": "markdown",
   "id": "8f2c13b3-772f-411b-93c5-5cf6fe56233d",
   "metadata": {},
   "source": [
    "Создаём батчи"
   ]
  },
  {
   "cell_type": "code",
   "execution_count": 9,
   "id": "9a33e355-56b7-449f-baaf-21bba1b68a5d",
   "metadata": {},
   "outputs": [],
   "source": [
    "if True:\n",
    "    batch_vectorizer_train = artm.BatchVectorizer(\n",
    "        data_path=f_train, data_format='vowpal_wabbit', batch_size=10000, \n",
    "        target_folder='training_batches')\n",
    "    batch_vectorizer_validation = artm.BatchVectorizer(\n",
    "        data_path=f_valid, data_format='vowpal_wabbit', batch_size=10000, \n",
    "        target_folder='validation_batches')\n",
    "else:\n",
    "    batch_vectorizer_train = artm.BatchVectorizer(data_path='training_batches',\n",
    "                                                  data_format='batches')\n",
    "    batch_vectorizer_validation = artm.BatchVectorizer(data_path='validation_batches',\n",
    "                                                       data_format='batches')"
   ]
  },
  {
   "cell_type": "markdown",
   "id": "38d7a069-9562-4bff-9417-722801e45867",
   "metadata": {},
   "source": [
    "Создаём словарь"
   ]
  },
  {
   "cell_type": "code",
   "execution_count": 10,
   "id": "948bb06f-cca8-4c4c-b6ac-48ed8b25212b",
   "metadata": {},
   "outputs": [
    {
     "data": {
      "text/plain": [
       "artm.Dictionary(name=59fdff35-0f78-41ea-8388-9943d0ec1ed2, num_entries=571174)"
      ]
     },
     "execution_count": 10,
     "metadata": {},
     "output_type": "execute_result"
    }
   ],
   "source": [
    "vocab = artm.Dictionary()\n",
    "vocab.gather(data_path='training_batches')\n",
    "vocab"
   ]
  },
  {
   "cell_type": "markdown",
   "id": "c3a417b0-ab07-45a9-9ddb-b17cfe1a7c9b",
   "metadata": {},
   "source": [
    "### Дефолтная модель"
   ]
  },
  {
   "cell_type": "code",
   "execution_count": 11,
   "id": "e791b040-413a-4444-8774-86aef817a27c",
   "metadata": {},
   "outputs": [
    {
     "data": {
      "application/vnd.jupyter.widget-view+json": {
       "model_id": "7764f429970146d1adb312ff252369f5",
       "version_major": 2,
       "version_minor": 0
      },
      "text/plain": [
       "  0%|          | 0/10 [00:00<?, ?it/s]"
      ]
     },
     "metadata": {},
     "output_type": "display_data"
    }
   ],
   "source": [
    "if True:\n",
    "    model = artm.ARTM(num_topics=200,\n",
    "                  dictionary=vocab, \n",
    "                  class_ids={'@default_class': 1.0})\n",
    "    model.scores.add(artm.PerplexityScore(name='perplexity', dictionary=vocab))\n",
    "    model.scores.add(artm.TopTokensScore(name='top-tokens', num_tokens=10))\n",
    "    iterator = tqdm(range(10))\n",
    "    for i in iterator:\n",
    "        model.fit_offline(batch_vectorizer_train, num_collection_passes=1)\n",
    "        iterator.set_postfix({'perplexity': model.score_tracker['perplexity'].value[-1]})\n",
    "    model.dump_artm_model('model_default')\n",
    "else:\n",
    "    model = artm.load_artm_model('model_default')\n",
    "    model.scores.add(artm.PerplexityScore(name='perplexity', dictionary=vocab), overwrite=True)\n",
    "    model.scores.add(artm.TopTokensScore(name='top-tokens', num_tokens=10), overwrite=True)"
   ]
  },
  {
   "cell_type": "code",
   "execution_count": 12,
   "id": "5f6efbe3-ab33-4056-b252-51fb3b363a51",
   "metadata": {},
   "outputs": [
    {
     "data": {
      "image/png": "[encoded data removed]",
      "text/plain": [
       "<Figure size 640x480 with 1 Axes>"
      ]
     },
     "metadata": {},
     "output_type": "display_data"
    }
   ],
   "source": [
    "plt.plot(model.score_tracker['perplexity'].value, label = 'perplexity')\n",
    "plt.legend(loc = 'best')\n",
    "plt.xlabel('iteration')\n",
    "plt.ylabel('score')\n",
    "plt.yscale('log')\n",
    "plt.show()"
   ]
  },
  {
   "cell_type": "code",
   "execution_count": 13,
   "id": "75aba6da-a753-4f2c-b7fb-7b0211145d5e",
   "metadata": {},
   "outputs": [
    {
     "name": "stdout",
     "output_type": "stream",
     "text": [
      "['учёный', 'исследование', 'исследователь', 'который', 'это', 'клетка', 'анализ', 'человек', 'результат', 'мочь']\n",
      "['английский', 'реал', 'барселона', 'англия', 'клуб', 'манчестер', 'челси', 'футболист', 'лондонский', 'испанский']\n",
      "['германия', 'немецкий', 'который', 'фрг', 'свой', 'еда', 'канцлер', 'меркель', 'ангел', 'кот']\n",
      "['министерство', 'база', 'конференция', 'зона', 'предложение', 'создание', 'который', 'инициатива', 'ведомство', 'российский']\n",
      "['документ', 'срок', 'запрет', 'принять', 'правительство', 'введение', 'решение', 'должный', 'год', 'ввести']\n",
      "['россия', 'российский', 'мид', 'наш', 'это', 'москва', 'заявить', 'рф', 'украина', 'страна']\n",
      "['министр', 'внутренний', 'анатолий', 'ведомство', 'дело', 'оборона', 'минобороны', 'подпись', 'глава', 'который']\n",
      "['деятельность', 'государственный', 'контроль', 'журналист', 'служба', 'власть', 'паспорт', 'сми', 'это', 'год']\n",
      "['директор', 'генеральный', 'аэрофлот', 'год', 'вино', 'культура', 'который', 'новосибирский', 'гендиректор', 'российский']\n",
      "['индия', 'немецкий', 'индийский', 'послание', 'берлин', 'который', 'германия', 'архив', 'зелёный', 'год']\n"
     ]
    }
   ],
   "source": [
    "top_tokens = model.score_tracker['top-tokens'].last_tokens\n",
    "for topic_name in model.topic_names[:10]:\n",
    "    print(top_tokens[topic_name])"
   ]
  },
  {
   "cell_type": "markdown",
   "id": "f084a76b-8ecd-476b-a4ba-cbcd560e6496",
   "metadata": {},
   "source": [
    "### Классификация"
   ]
  },
  {
   "cell_type": "code",
   "execution_count": 14,
   "id": "6f2784c2-af6c-49a9-a072-8e319999d92d",
   "metadata": {},
   "outputs": [
    {
     "data": {
      "application/vnd.jupyter.widget-view+json": {
       "model_id": "e7385142dd3d4a86bad97f555664c48e",
       "version_major": 2,
       "version_minor": 0
      },
      "text/plain": [
       "  0%|          | 0/653795 [00:00<?, ?it/s]"
      ]
     },
     "metadata": {},
     "output_type": "display_data"
    },
    {
     "data": {
      "application/vnd.jupyter.widget-view+json": {
       "model_id": "7445b8cf9ebf4f67bd37c76e2745dcdb",
       "version_major": 2,
       "version_minor": 0
      },
      "text/plain": [
       "  0%|          | 0/6604 [00:00<?, ?it/s]"
      ]
     },
     "metadata": {},
     "output_type": "display_data"
    }
   ],
   "source": [
    "X_train_pd = model.transform(batch_vectorizer_train)\n",
    "X_train = []\n",
    "for i in tqdm(range(len(train_labels))):\n",
    "    X_train.append(X_train_pd[i].values)\n",
    "X_train_np = np.array(X_train)\n",
    "y_train_np = np.array(train_labels)\n",
    "X_train_np, y_train_np = shuffle(X_train_np, y_train_np,random_state=42)\n",
    "X_valid_pd = model.transform(batch_vectorizer_validation)\n",
    "X_valid = []\n",
    "for i in tqdm(range(len(valid_labels))):\n",
    "    X_valid.append(X_valid_pd[i].values)"
   ]
  },
  {
   "cell_type": "code",
   "execution_count": 15,
   "id": "9e4efa20-0b13-42b6-a74f-0ccc3d3f936a",
   "metadata": {},
   "outputs": [
    {
     "name": "stdout",
     "output_type": "stream",
     "text": [
      "              precision    recall  f1-score   support\n",
      "\n",
      "        1999       0.17      0.05      0.08        19\n",
      "        2000       0.07      0.03      0.04        69\n",
      "        2001       0.10      0.05      0.07        96\n",
      "        2002       0.19      0.14      0.16       143\n",
      "        2003       0.17      0.15      0.16       134\n",
      "        2004       0.14      0.12      0.13       183\n",
      "        2005       0.15      0.16      0.15       240\n",
      "        2006       0.13      0.12      0.13       256\n",
      "        2007       0.09      0.06      0.07       236\n",
      "        2008       0.13      0.16      0.14       332\n",
      "        2009       0.18      0.23      0.20       423\n",
      "        2010       0.14      0.16      0.15       375\n",
      "        2011       0.18      0.20      0.19       384\n",
      "        2012       0.17      0.19      0.18       427\n",
      "        2013       0.15      0.13      0.14       387\n",
      "        2014       0.22      0.16      0.18       309\n",
      "        2015       0.20      0.20      0.20       387\n",
      "        2016       0.25      0.31      0.28       504\n",
      "        2017       0.21      0.18      0.19       414\n",
      "        2018       0.19      0.14      0.16       340\n",
      "        2019       0.28      0.34      0.31       495\n",
      "        2020       0.55      0.49      0.52       451\n",
      "\n",
      "    accuracy                           0.21      6604\n",
      "   macro avg       0.18      0.17      0.17      6604\n",
      "weighted avg       0.21      0.21      0.21      6604\n",
      "\n"
     ]
    }
   ],
   "source": [
    "clf = RandomForestClassifier(n_estimators=20)\n",
    "clf.fit(X_train_np, y_train_np)\n",
    "pred = clf.predict(X_valid)\n",
    "print(classification_report(valid_labels, pred, zero_division=1))"
   ]
  },
  {
   "cell_type": "markdown",
   "id": "12c6dfe4-d163-4452-a826-c54fc6b199d3",
   "metadata": {},
   "source": [
    "### Добавление модальностей (обучение новых моделей снова с нуля)"
   ]
  },
  {
   "cell_type": "markdown",
   "id": "f59483f1-cec0-4164-93c7-e8a680365950",
   "metadata": {},
   "source": [
    "Добавление месяца"
   ]
  },
  {
   "cell_type": "code",
   "execution_count": 16,
   "id": "a2a59a44-7c6b-46c7-989f-1e56e2aded5d",
   "metadata": {},
   "outputs": [
    {
     "data": {
      "application/vnd.jupyter.widget-view+json": {
       "model_id": "f9466f719f7044cc88a9ccc737149579",
       "version_major": 2,
       "version_minor": 0
      },
      "text/plain": [
       "  0%|          | 0/10 [00:00<?, ?it/s]"
      ]
     },
     "metadata": {},
     "output_type": "display_data"
    }
   ],
   "source": [
    "if True:\n",
    "    model = artm.ARTM(num_topics=200,\n",
    "                  dictionary=vocab, \n",
    "                  class_ids={'@default_class': 1.0,\n",
    "                             '@month': 1.0})\n",
    "    model.scores.add(artm.PerplexityScore(name='perplexity', dictionary=vocab))\n",
    "    model.scores.add(artm.TopTokensScore(name='top-tokens', num_tokens=10))\n",
    "    model.scores.add(artm.SparsityPhiScore(name='sparsity_month', class_id='@month'))\n",
    "    iterator = tqdm(range(10))\n",
    "    for i in iterator:\n",
    "        model.fit_offline(batch_vectorizer_train, num_collection_passes=1)\n",
    "        iterator.set_postfix({'perplexity': model.score_tracker['perplexity'].value[-1],\n",
    "                              'sparsity_month': model.score_tracker['sparsity_month'].value[-1]})\n",
    "    model.dump_artm_model('model_month')\n",
    "else:\n",
    "    model = artm.load_artm_model('model_month')\n",
    "    model.scores.add(artm.PerplexityScore(name='perplexity', dictionary=vocab), overwrite=True)\n",
    "    model.scores.add(artm.TopTokensScore(name='top-tokens', num_tokens=10), overwrite=True)\n",
    "    model.scores.add(artm.SparsityPhiScore(name='sparsity_month', class_id='@month'), overwrite=True)"
   ]
  },
  {
   "cell_type": "code",
   "execution_count": 17,
   "id": "1bdaf28e-1086-47c4-941e-caddf677bc3c",
   "metadata": {},
   "outputs": [
    {
     "data": {
      "image/png": "[encoded data removed]",
      "text/plain": [
       "<Figure size 640x480 with 1 Axes>"
      ]
     },
     "metadata": {},
     "output_type": "display_data"
    }
   ],
   "source": [
    "plt.plot(model.score_tracker['perplexity'].value, label = 'perplexity')\n",
    "plt.legend(loc = 'best')\n",
    "plt.xlabel('iteration')\n",
    "plt.ylabel('score')\n",
    "plt.yscale('log')\n",
    "plt.show()"
   ]
  },
  {
   "cell_type": "code",
   "execution_count": 18,
   "id": "d3aa3b95-521f-4e59-8b2e-9e04c8d3834c",
   "metadata": {},
   "outputs": [
    {
     "data": {
      "image/png": "[encoded data removed]",
      "text/plain": [
       "<Figure size 640x480 with 1 Axes>"
      ]
     },
     "metadata": {},
     "output_type": "display_data"
    }
   ],
   "source": [
    "plt.plot(model.score_tracker['sparsity_month'].value, label = 'sparsity_month')\n",
    "plt.legend(loc = 'best')\n",
    "plt.xlabel('iteration')\n",
    "plt.ylabel('score')\n",
    "plt.show()"
   ]
  },
  {
   "cell_type": "code",
   "execution_count": 19,
   "id": "d049aae5-0b8d-4fb5-a868-1293ea8982d0",
   "metadata": {},
   "outputs": [
    {
     "name": "stdout",
     "output_type": "stream",
     "text": [
      "['учёный', 'исследование', 'исследователь', 'который', 'это', 'клетка', 'анализ', 'человек', 'результат', 'мочь']\n",
      "['английский', 'барселона', 'реал', 'англия', 'клуб', 'манчестер', 'челси', 'испанский', 'футболист', 'лондонский']\n",
      "['германия', 'который', 'свой', 'фрг', 'еда', 'канцлер', 'меркель', 'немецкий', 'ангел', 'кот']\n",
      "['министерство', 'база', 'конференция', 'предложение', 'зона', 'создание', 'который', 'инициатива', 'ведомство', 'российский']\n",
      "['документ', 'срок', 'запрет', 'правительство', 'принять', 'введение', 'ввести', 'решение', 'год', 'должный']\n",
      "['россия', 'российский', 'мид', 'это', 'наш', 'москва', 'заявить', 'рф', 'украина', 'отношение']\n",
      "['министр', 'внутренний', 'анатолий', 'ведомство', 'дело', 'оборона', 'минобороны', 'генерал', 'глава', 'который']\n",
      "['деятельность', 'государственный', 'контроль', 'журналист', 'служба', 'власть', 'паспорт', 'сми', 'это', 'год']\n",
      "['директор', 'генеральный', 'аэрофлот', 'год', 'вино', 'культура', 'забастовка', 'который', 'новосибирский', 'российский']\n",
      "['немецкий', 'индия', 'индийский', 'германия', 'послание', 'берлин', 'который', 'зелёный', 'архив', 'год']\n"
     ]
    }
   ],
   "source": [
    "top_tokens = model.score_tracker['top-tokens'].last_tokens\n",
    "for topic_name in model.topic_names[:10]:\n",
    "    print(top_tokens[topic_name])"
   ]
  },
  {
   "cell_type": "code",
   "execution_count": 20,
   "id": "37f3f445-1370-4978-a852-a3aa40a1c7ef",
   "metadata": {},
   "outputs": [
    {
     "data": {
      "application/vnd.jupyter.widget-view+json": {
       "model_id": "11d2f19757e8408d81832ca9483b65a8",
       "version_major": 2,
       "version_minor": 0
      },
      "text/plain": [
       "  0%|          | 0/653795 [00:00<?, ?it/s]"
      ]
     },
     "metadata": {},
     "output_type": "display_data"
    },
    {
     "data": {
      "application/vnd.jupyter.widget-view+json": {
       "model_id": "c99462c5242e419cad756e16011cffd8",
       "version_major": 2,
       "version_minor": 0
      },
      "text/plain": [
       "  0%|          | 0/6604 [00:00<?, ?it/s]"
      ]
     },
     "metadata": {},
     "output_type": "display_data"
    }
   ],
   "source": [
    "X_train_pd = model.transform(batch_vectorizer_train)\n",
    "X_train = []\n",
    "for i in tqdm(range(len(train_labels))):\n",
    "    X_train.append(X_train_pd[i].values)\n",
    "X_train_np = np.array(X_train)\n",
    "y_train_np = np.array(train_labels)\n",
    "X_train_np, y_train_np = shuffle(X_train_np, y_train_np,random_state=42)\n",
    "X_valid_pd = model.transform(batch_vectorizer_validation)\n",
    "X_valid = []\n",
    "for i in tqdm(range(len(valid_labels))):\n",
    "    X_valid.append(X_valid_pd[i].values)"
   ]
  },
  {
   "cell_type": "code",
   "execution_count": 21,
   "id": "783fd86c-6a10-4f18-9d32-3896f3e3db3c",
   "metadata": {},
   "outputs": [
    {
     "name": "stdout",
     "output_type": "stream",
     "text": [
      "              precision    recall  f1-score   support\n",
      "\n",
      "        1999       0.25      0.05      0.09        19\n",
      "        2000       0.17      0.07      0.10        69\n",
      "        2001       0.12      0.07      0.09        96\n",
      "        2002       0.17      0.10      0.13       143\n",
      "        2003       0.16      0.14      0.15       134\n",
      "        2004       0.15      0.14      0.14       183\n",
      "        2005       0.13      0.15      0.14       240\n",
      "        2006       0.11      0.10      0.11       256\n",
      "        2007       0.09      0.07      0.08       236\n",
      "        2008       0.15      0.18      0.16       332\n",
      "        2009       0.16      0.21      0.18       423\n",
      "        2010       0.17      0.20      0.18       375\n",
      "        2011       0.16      0.17      0.17       384\n",
      "        2012       0.19      0.17      0.18       427\n",
      "        2013       0.13      0.12      0.13       387\n",
      "        2014       0.22      0.17      0.19       309\n",
      "        2015       0.23      0.21      0.22       387\n",
      "        2016       0.25      0.31      0.27       504\n",
      "        2017       0.22      0.23      0.22       414\n",
      "        2018       0.22      0.15      0.18       340\n",
      "        2019       0.31      0.33      0.32       495\n",
      "        2020       0.56      0.52      0.54       451\n",
      "\n",
      "    accuracy                           0.21      6604\n",
      "   macro avg       0.20      0.18      0.18      6604\n",
      "weighted avg       0.21      0.21      0.21      6604\n",
      "\n"
     ]
    }
   ],
   "source": [
    "clf = RandomForestClassifier(n_estimators=20)\n",
    "clf.fit(X_train_np, y_train_np)\n",
    "pred = clf.predict(X_valid)\n",
    "print(classification_report(valid_labels, pred, zero_division=1))"
   ]
  },
  {
   "cell_type": "markdown",
   "id": "7154e636-dfde-4d6d-ad88-a125b5e6ada3",
   "metadata": {},
   "source": [
    "Качество, можно сказать, не улучшилось, но при классификации по годам месяц действительно не важен.\n",
    "\n",
    "Уменьшим вес месяца и введём повышенный вес тега (темы)"
   ]
  },
  {
   "cell_type": "code",
   "execution_count": 22,
   "id": "9264634b-e014-4aaf-9c95-f7999eb3bb36",
   "metadata": {},
   "outputs": [
    {
     "data": {
      "application/vnd.jupyter.widget-view+json": {
       "model_id": "cc00205c877d4602a874bf0df9820e0d",
       "version_major": 2,
       "version_minor": 0
      },
      "text/plain": [
       "  0%|          | 0/10 [00:00<?, ?it/s]"
      ]
     },
     "metadata": {},
     "output_type": "display_data"
    }
   ],
   "source": [
    "if True:\n",
    "    model = artm.ARTM(num_topics=200,\n",
    "                  dictionary=vocab, \n",
    "                  class_ids={'@default_class': 1.0,\n",
    "                             '@month': 0.5,\n",
    "                             '@tag': 5.0})\n",
    "    model.scores.add(artm.PerplexityScore(name='perplexity', dictionary=vocab))\n",
    "    model.scores.add(artm.TopTokensScore(name='top-tokens', num_tokens=10))\n",
    "    model.scores.add(artm.SparsityPhiScore(name='sparsity_month', class_id='@month'))\n",
    "    model.scores.add(artm.SparsityPhiScore(name='sparsity_tag', class_id='@tag'))\n",
    "    iterator = tqdm(range(10))\n",
    "    for i in iterator:\n",
    "        model.fit_offline(batch_vectorizer_train, num_collection_passes=1)\n",
    "        iterator.set_postfix({'perplexity': model.score_tracker['perplexity'].value[-1],\n",
    "                              'sparsity_month': model.score_tracker['sparsity_month'].value[-1],\n",
    "                              'sparsity_tag': model.score_tracker['sparsity_tag'].value[-1]})\n",
    "    model.dump_artm_model('model_month_tag')\n",
    "else:\n",
    "    model = artm.load_artm_model('model_month_tag')\n",
    "    model.scores.add(artm.PerplexityScore(name='perplexity', dictionary=vocab), overwrite=True)\n",
    "    model.scores.add(artm.TopTokensScore(name='top-tokens', num_tokens=10), overwrite=True)\n",
    "    model.scores.add(artm.SparsityPhiScore(name='sparsity_month', class_id='@month'), overwrite=True)\n",
    "    model.scores.add(artm.SparsityPhiScore(name='sparsity_tag', class_id='@tag'), overwrite=True)"
   ]
  },
  {
   "cell_type": "code",
   "execution_count": 23,
   "id": "099abbdf-88aa-43aa-ab16-3f5f47ae64a1",
   "metadata": {},
   "outputs": [
    {
     "data": {
      "image/png": "[encoded data removed]",
      "text/plain": [
       "<Figure size 640x480 with 1 Axes>"
      ]
     },
     "metadata": {},
     "output_type": "display_data"
    }
   ],
   "source": [
    "plt.plot(model.score_tracker['perplexity'].value, label = 'perplexity')\n",
    "plt.legend(loc = 'best')\n",
    "plt.xlabel('iteration')\n",
    "plt.ylabel('score')\n",
    "plt.yscale('log')\n",
    "plt.show()"
   ]
  },
  {
   "cell_type": "code",
   "execution_count": 24,
   "id": "3ab22425-e42a-4064-85a2-069aca522f05",
   "metadata": {},
   "outputs": [
    {
     "data": {
      "image/png": "[encoded data removed]",
      "text/plain": [
       "<Figure size 640x480 with 1 Axes>"
      ]
     },
     "metadata": {},
     "output_type": "display_data"
    }
   ],
   "source": [
    "plt.plot(model.score_tracker['sparsity_month'].value, label = 'sparsity_month')\n",
    "plt.plot(model.score_tracker['sparsity_tag'].value, label = 'sparsity_tag')\n",
    "plt.legend(loc = 'best')\n",
    "plt.xlabel('iteration')\n",
    "plt.ylabel('score')\n",
    "plt.show()"
   ]
  },
  {
   "cell_type": "code",
   "execution_count": 25,
   "id": "2f766bb7-fe9f-47c4-86af-745398a38c53",
   "metadata": {},
   "outputs": [
    {
     "name": "stdout",
     "output_type": "stream",
     "text": [
      "['финансовый', 'алкоголь', 'минфин', 'это', 'год', 'мочь', 'россия', 'облигация', 'пиво', 'напиток']\n",
      "['клуб', 'год', 'английский', 'контракт', 'перейти', 'испанский', 'переход', 'лондонский', 'манчестер', 'англия']\n",
      "['ресторан', 'собака', 'питание', 'который', 'еда', 'хозяин', 'кошка', 'кот', 'свой', 'заведение']\n",
      "['церковь', 'религиозный', 'православный', 'храм', 'академия', 'рана', 'кирилл', 'собор', 'патриарх', 'это']\n",
      "['документ', 'запрет', 'ввести', 'введение', 'ограничение', 'запретить', 'случай', 'это', 'соответствующий', 'должный']\n",
      "['южный', 'северный', 'корея', 'мид', 'визит', 'сотрудничество', 'россия', 'кндр', 'рф', 'отношение']\n",
      "['министр', 'правительство', 'премьер', 'пост', 'отставка', 'глава', 'который', 'новый', 'кабинет', 'премьера']\n",
      "['турист', 'поездка', 'отель', 'россиянин', 'это', 'отдых', 'туристический', 'курорт', 'путешествие', 'российский']\n",
      "['директор', 'газета', 'год', 'совет', 'генеральный', 'коммерсант', 'писать', '2006', 'издание', '2008']\n",
      "['германия', 'немецкий', 'индия', 'индийский', 'который', 'фрг', 'берлин', 'канцлер', 'меркель', 'год']\n"
     ]
    }
   ],
   "source": [
    "top_tokens = model.score_tracker['top-tokens'].last_tokens\n",
    "for topic_name in model.topic_names[:10]:\n",
    "    print(top_tokens[topic_name])"
   ]
  },
  {
   "cell_type": "code",
   "execution_count": 26,
   "id": "816947cc-7e7a-45bd-b4cf-defc781dac85",
   "metadata": {},
   "outputs": [
    {
     "data": {
      "application/vnd.jupyter.widget-view+json": {
       "model_id": "5cc976599bf147b2abdb40d4d4410668",
       "version_major": 2,
       "version_minor": 0
      },
      "text/plain": [
       "  0%|          | 0/653795 [00:00<?, ?it/s]"
      ]
     },
     "metadata": {},
     "output_type": "display_data"
    },
    {
     "data": {
      "application/vnd.jupyter.widget-view+json": {
       "model_id": "9756d7527acb4e3ca16338506e9b119d",
       "version_major": 2,
       "version_minor": 0
      },
      "text/plain": [
       "  0%|          | 0/6604 [00:00<?, ?it/s]"
      ]
     },
     "metadata": {},
     "output_type": "display_data"
    }
   ],
   "source": [
    "X_train_pd = model.transform(batch_vectorizer_train)\n",
    "X_train = []\n",
    "for i in tqdm(range(len(train_labels))):\n",
    "    X_train.append(X_train_pd[i].values)\n",
    "X_train_np = np.array(X_train)\n",
    "y_train_np = np.array(train_labels)\n",
    "X_train_np, y_train_np = shuffle(X_train_np, y_train_np,random_state=42)\n",
    "X_valid_pd = model.transform(batch_vectorizer_validation)\n",
    "X_valid = []\n",
    "for i in tqdm(range(len(valid_labels))):\n",
    "    X_valid.append(X_valid_pd[i].values)"
   ]
  },
  {
   "cell_type": "code",
   "execution_count": 27,
   "id": "2fe10be1-7006-4de5-ba08-6823d3bd274d",
   "metadata": {},
   "outputs": [
    {
     "name": "stdout",
     "output_type": "stream",
     "text": [
      "              precision    recall  f1-score   support\n",
      "\n",
      "        1999       0.12      0.05      0.07        19\n",
      "        2000       0.17      0.12      0.14        69\n",
      "        2001       0.07      0.04      0.05        96\n",
      "        2002       0.12      0.11      0.12       143\n",
      "        2003       0.13      0.10      0.12       134\n",
      "        2004       0.18      0.18      0.18       183\n",
      "        2005       0.15      0.17      0.16       240\n",
      "        2006       0.12      0.13      0.13       256\n",
      "        2007       0.13      0.11      0.12       236\n",
      "        2008       0.14      0.19      0.16       332\n",
      "        2009       0.23      0.27      0.25       423\n",
      "        2010       0.16      0.19      0.18       375\n",
      "        2011       0.19      0.22      0.20       384\n",
      "        2012       0.21      0.19      0.20       427\n",
      "        2013       0.35      0.32      0.33       387\n",
      "        2014       0.25      0.17      0.21       309\n",
      "        2015       0.24      0.21      0.22       387\n",
      "        2016       0.28      0.36      0.31       504\n",
      "        2017       0.25      0.24      0.25       414\n",
      "        2018       0.23      0.15      0.18       340\n",
      "        2019       0.30      0.30      0.30       495\n",
      "        2020       0.55      0.47      0.51       451\n",
      "\n",
      "    accuracy                           0.23      6604\n",
      "   macro avg       0.21      0.20      0.20      6604\n",
      "weighted avg       0.24      0.23      0.23      6604\n",
      "\n"
     ]
    }
   ],
   "source": [
    "clf = RandomForestClassifier(n_estimators=20)\n",
    "clf.fit(X_train_np, y_train_np)\n",
    "pred = clf.predict(X_valid)\n",
    "print(classification_report(valid_labels, pred, zero_division=1))"
   ]
  },
  {
   "cell_type": "markdown",
   "id": "80bbbcd7-f9ee-4728-ae0b-c3b33c1d6138",
   "metadata": {},
   "source": [
    "Видно, что качество немного улучшилось, но модель лучше бы обучить подольше (см. sparsity_tag). К чему мы и переходим."
   ]
  },
  {
   "cell_type": "markdown",
   "id": "1c6e314f-603a-47a9-a4ff-f8818fac823b",
   "metadata": {},
   "source": [
    "### Добавление регуляризаторов к наилучшей предобученной модели"
   ]
  },
  {
   "cell_type": "code",
   "execution_count": 28,
   "id": "dae4ec3a-d49e-464d-84c2-d9122f22b92a",
   "metadata": {},
   "outputs": [],
   "source": [
    "model = artm.load_artm_model('model_month_tag')\n",
    "model.scores.add(artm.PerplexityScore(name='perplexity', dictionary=vocab), overwrite=True)\n",
    "model.scores.add(artm.TopTokensScore(name='top-tokens', num_tokens=10), overwrite=True)\n",
    "model.scores.add(artm.SparsityPhiScore(name='sparsity_month', class_id='@month'), overwrite=True)\n",
    "model.scores.add(artm.SparsityPhiScore(name='sparsity_tag', class_id='@tag'), overwrite=True)"
   ]
  },
  {
   "cell_type": "code",
   "execution_count": 29,
   "id": "9386905a-2290-4788-9731-58fec5a73232",
   "metadata": {},
   "outputs": [],
   "source": [
    "model.regularizers.add(artm.SmoothSparsePhiRegularizer(name='smooth',\n",
    "                                                      tau=10,\n",
    "                                                      class_ids=['@default_class']))"
   ]
  },
  {
   "cell_type": "code",
   "execution_count": 30,
   "id": "2bb7cbdc-0c6b-469a-8ff4-1c80ddb28ace",
   "metadata": {},
   "outputs": [
    {
     "data": {
      "application/vnd.jupyter.widget-view+json": {
       "model_id": "3645cf813fcb48ea86bc29a4ceb719e2",
       "version_major": 2,
       "version_minor": 0
      },
      "text/plain": [
       "  0%|          | 0/5 [00:00<?, ?it/s]"
      ]
     },
     "metadata": {},
     "output_type": "display_data"
    }
   ],
   "source": [
    "iterator = tqdm(range(5))\n",
    "for i in iterator:\n",
    "    model.fit_offline(batch_vectorizer_train, num_collection_passes=1)\n",
    "    iterator.set_postfix({'perplexity': model.score_tracker['perplexity'].value[-1],\n",
    "                          'sparsity_month': model.score_tracker['sparsity_month'].value[-1],\n",
    "                          'sparsity_tag': model.score_tracker['sparsity_tag'].value[-1]})\n",
    "model.dump_artm_model('model_month_tag_smooth')"
   ]
  },
  {
   "cell_type": "code",
   "execution_count": 31,
   "id": "8e196dbf-ee16-4b27-a671-704dac59c987",
   "metadata": {},
   "outputs": [
    {
     "data": {
      "image/png": "[encoded data removed]",
      "text/plain": [
       "<Figure size 640x480 with 1 Axes>"
      ]
     },
     "metadata": {},
     "output_type": "display_data"
    }
   ],
   "source": [
    "plt.plot(model.score_tracker['perplexity'].value, label = 'perplexity')\n",
    "plt.legend(loc = 'best')\n",
    "plt.xlabel('iteration')\n",
    "plt.ylabel('score')\n",
    "plt.yscale('log')\n",
    "plt.show()"
   ]
  },
  {
   "cell_type": "code",
   "execution_count": 32,
   "id": "268ee697-a899-48aa-bb12-8623c4a13da1",
   "metadata": {},
   "outputs": [
    {
     "data": {
      "image/png": "[encoded data removed]",
      "text/plain": [
       "<Figure size 640x480 with 1 Axes>"
      ]
     },
     "metadata": {},
     "output_type": "display_data"
    }
   ],
   "source": [
    "plt.plot(model.score_tracker['sparsity_month'].value, label = 'sparsity_month')\n",
    "plt.plot(model.score_tracker['sparsity_tag'].value, label = 'sparsity_tag')\n",
    "plt.legend(loc = 'best')\n",
    "plt.xlabel('iteration')\n",
    "plt.ylabel('score')\n",
    "plt.show()"
   ]
  },
  {
   "cell_type": "code",
   "execution_count": 33,
   "id": "cc7d0d11-95de-4abf-8fd9-007da1228402",
   "metadata": {},
   "outputs": [
    {
     "name": "stdout",
     "output_type": "stream",
     "text": [
      "['алкоголь', 'пиво', 'напиток', 'водка', 'алкогольный', 'спирт', 'спиртное', 'егаиса', 'литр', 'бутылка']\n",
      "['испанский', 'манчестер', 'челси', 'английский', 'англия', 'юнайтед', 'клуб', 'испания', 'лондонский', 'контракт']\n",
      "['ресторан', 'блюдо', 'макдоналдс', 'питание', 'заведение', 'кот', 'повар', 'меню', 'бургера', 'пицца']\n",
      "['церковь', 'православный', 'храм', 'собор', 'патриарх', 'рпц', 'священник', 'монастырь', 'патриархат', 'святой']\n",
      "['документ', 'ввести', 'запрет', 'запретить', 'ограничение', 'введение', 'законопроект', 'разрешить', 'паспорт', 'принятие']\n",
      "['южный', 'корея', 'северный', 'кндр', 'пхеньян', 'северокорейский', 'южнокорейский', 'корейский', 'сеул', 'ядерный']\n",
      "['министр', 'правительство', 'пост', 'премьер', 'отставка', 'премьера', 'кабинет', 'должность', 'финансы', 'вица']\n",
      "['турист', 'туристический', 'путешественник', 'курорт', 'отель', 'отдых', 'туроператор', 'туризм', 'путешествие', 'тур']\n",
      "['газета', 'директор', 'коммерсант', 'генеральный', 'совет', 'издание', 'косово', 'писать', 'исполнительный', 'гендиректор']\n",
      "['германия', 'немецкий', 'индия', 'индийский', 'фрг', 'меркель', 'канцлер', 'берлин', 'ангел', 'бундестаг']\n"
     ]
    }
   ],
   "source": [
    "top_tokens = model.score_tracker['top-tokens'].last_tokens\n",
    "for topic_name in model.topic_names[:10]:\n",
    "    print(top_tokens[topic_name])"
   ]
  },
  {
   "cell_type": "code",
   "execution_count": 34,
   "id": "89b74ae4-21c1-4a24-ad3b-060e308e4150",
   "metadata": {},
   "outputs": [
    {
     "data": {
      "application/vnd.jupyter.widget-view+json": {
       "model_id": "ec9869cabc9242b9a13df6435f7675f5",
       "version_major": 2,
       "version_minor": 0
      },
      "text/plain": [
       "  0%|          | 0/653795 [00:00<?, ?it/s]"
      ]
     },
     "metadata": {},
     "output_type": "display_data"
    },
    {
     "data": {
      "application/vnd.jupyter.widget-view+json": {
       "model_id": "6a81cc106a4c43619c63b1ab5b48cd6c",
       "version_major": 2,
       "version_minor": 0
      },
      "text/plain": [
       "  0%|          | 0/6604 [00:00<?, ?it/s]"
      ]
     },
     "metadata": {},
     "output_type": "display_data"
    }
   ],
   "source": [
    "X_train_pd = model.transform(batch_vectorizer_train)\n",
    "X_train = []\n",
    "for i in tqdm(range(len(train_labels))):\n",
    "    X_train.append(X_train_pd[i].values)\n",
    "X_train_np = np.array(X_train)\n",
    "y_train_np = np.array(train_labels)\n",
    "X_train_np, y_train_np = shuffle(X_train_np, y_train_np,random_state=42)\n",
    "X_valid_pd = model.transform(batch_vectorizer_validation)\n",
    "X_valid = []\n",
    "for i in tqdm(range(len(valid_labels))):\n",
    "    X_valid.append(X_valid_pd[i].values)"
   ]
  },
  {
   "cell_type": "code",
   "execution_count": 35,
   "id": "f0e9aba6-1840-4fbc-a059-0e1210a3f0ba",
   "metadata": {},
   "outputs": [
    {
     "name": "stdout",
     "output_type": "stream",
     "text": [
      "              precision    recall  f1-score   support\n",
      "\n",
      "        1999       0.00      0.00      0.00        19\n",
      "        2000       0.17      0.13      0.15        69\n",
      "        2001       0.17      0.12      0.14        96\n",
      "        2002       0.20      0.15      0.17       143\n",
      "        2003       0.24      0.21      0.22       134\n",
      "        2004       0.24      0.22      0.23       183\n",
      "        2005       0.22      0.26      0.23       240\n",
      "        2006       0.22      0.20      0.21       256\n",
      "        2007       0.18      0.14      0.16       236\n",
      "        2008       0.17      0.21      0.19       332\n",
      "        2009       0.24      0.34      0.28       423\n",
      "        2010       0.17      0.18      0.18       375\n",
      "        2011       0.24      0.25      0.24       384\n",
      "        2012       0.26      0.28      0.27       427\n",
      "        2013       0.38      0.42      0.40       387\n",
      "        2014       0.30      0.20      0.24       309\n",
      "        2015       0.29      0.25      0.27       387\n",
      "        2016       0.31      0.36      0.33       504\n",
      "        2017       0.31      0.29      0.30       414\n",
      "        2018       0.30      0.19      0.23       340\n",
      "        2019       0.34      0.38      0.36       495\n",
      "        2020       0.58      0.54      0.56       451\n",
      "\n",
      "    accuracy                           0.28      6604\n",
      "   macro avg       0.25      0.24      0.24      6604\n",
      "weighted avg       0.28      0.28      0.28      6604\n",
      "\n"
     ]
    }
   ],
   "source": [
    "clf = RandomForestClassifier(n_estimators=20)\n",
    "clf.fit(X_train_np, y_train_np)\n",
    "pred = clf.predict(X_valid)\n",
    "print(classification_report(valid_labels, pred, zero_division=1))"
   ]
  },
  {
   "cell_type": "markdown",
   "id": "55ed707c-f54a-4ea6-ad4f-b85baefbff02",
   "metadata": {},
   "source": [
    "Как видим, accuracy ещё подросло.\n",
    "\n",
    "Попробуем другой регуляризатор"
   ]
  },
  {
   "cell_type": "code",
   "execution_count": 36,
   "id": "e9b1b858-d6ff-4acf-a2af-d29c70e557bd",
   "metadata": {},
   "outputs": [],
   "source": [
    "model = artm.load_artm_model('model_month_tag')\n",
    "model.scores.add(artm.PerplexityScore(name='perplexity', dictionary=vocab), overwrite=True)\n",
    "model.scores.add(artm.TopTokensScore(name='top-tokens', num_tokens=10), overwrite=True)\n",
    "model.scores.add(artm.SparsityPhiScore(name='sparsity_month', class_id='@month'), overwrite=True)\n",
    "model.scores.add(artm.SparsityPhiScore(name='sparsity_tag', class_id='@tag'), overwrite=True)"
   ]
  },
  {
   "cell_type": "code",
   "execution_count": 37,
   "id": "57dda75a-f8b4-4756-9e2e-fa49c67f4868",
   "metadata": {},
   "outputs": [],
   "source": [
    "model.regularizers.add(artm.DecorrelatorPhiRegularizer(name='decorr',\n",
    "                                                       tau=10000,\n",
    "                                                       class_ids=['@tag']))"
   ]
  },
  {
   "cell_type": "code",
   "execution_count": 38,
   "id": "3f8147a3-a3d4-4340-b52d-e32229569f34",
   "metadata": {},
   "outputs": [
    {
     "data": {
      "application/vnd.jupyter.widget-view+json": {
       "model_id": "8e2e8ee977e94b6eafc51634b25c9d5b",
       "version_major": 2,
       "version_minor": 0
      },
      "text/plain": [
       "  0%|          | 0/5 [00:00<?, ?it/s]"
      ]
     },
     "metadata": {},
     "output_type": "display_data"
    }
   ],
   "source": [
    "iterator = tqdm(range(5))\n",
    "for i in iterator:\n",
    "    model.fit_offline(batch_vectorizer_train, num_collection_passes=1)\n",
    "    iterator.set_postfix({'perplexity': model.score_tracker['perplexity'].value[-1],\n",
    "                          'sparsity_month': model.score_tracker['sparsity_month'].value[-1],\n",
    "                          'sparsity_tag': model.score_tracker['sparsity_tag'].value[-1]})\n",
    "model.dump_artm_model('model_month_tag_decorr')"
   ]
  },
  {
   "cell_type": "code",
   "execution_count": 39,
   "id": "df0299fa-f927-4b5d-8ad5-181636e46786",
   "metadata": {},
   "outputs": [
    {
     "data": {
      "image/png": "[encoded data removed]",
      "text/plain": [
       "<Figure size 640x480 with 1 Axes>"
      ]
     },
     "metadata": {},
     "output_type": "display_data"
    }
   ],
   "source": [
    "plt.plot(model.score_tracker['perplexity'].value, label = 'perplexity')\n",
    "plt.legend(loc = 'best')\n",
    "plt.xlabel('iteration')\n",
    "plt.ylabel('score')\n",
    "plt.yscale('log')\n",
    "plt.show()"
   ]
  },
  {
   "cell_type": "code",
   "execution_count": 40,
   "id": "984b3993-bfd5-4aca-8d0a-9fdbdf063e98",
   "metadata": {},
   "outputs": [
    {
     "data": {
      "image/png": "[encoded data removed]",
      "text/plain": [
       "<Figure size 640x480 with 1 Axes>"
      ]
     },
     "metadata": {},
     "output_type": "display_data"
    }
   ],
   "source": [
    "plt.plot(model.score_tracker['sparsity_month'].value, label = 'sparsity_month')\n",
    "plt.plot(model.score_tracker['sparsity_tag'].value, label = 'sparsity_tag')\n",
    "plt.legend(loc = 'best')\n",
    "plt.xlabel('iteration')\n",
    "plt.ylabel('score')\n",
    "plt.show()"
   ]
  },
  {
   "cell_type": "code",
   "execution_count": 41,
   "id": "541791d5-1a13-4afe-b15d-cde591642f69",
   "metadata": {},
   "outputs": [
    {
     "name": "stdout",
     "output_type": "stream",
     "text": [
      "['финансовый', 'алкоголь', 'это', 'минфин', 'внешний', 'мочь', 'облигация', 'напиток', 'пиво', 'россия']\n",
      "['клуб', 'контракт', 'английский', 'перейти', 'переход', 'испанский', 'сезон', 'год', 'манчестер', 'челси']\n",
      "['ресторан', 'собака', 'питание', 'еда', 'заведение', 'который', 'хозяин', 'кафе', 'килограмм', 'кот']\n",
      "['церковь', 'религиозный', 'храм', 'православный', 'рана', 'академия', 'кирилл', 'собор', 'патриарх', 'рпц']\n",
      "['документ', 'запрет', 'запретить', 'соответствующий', 'ограничение', 'ввести', 'должный', 'случай', 'введение', 'разрешить']\n",
      "['южный', 'северный', 'корея', 'сотрудничество', 'визит', 'кндр', 'совместный', 'мид', 'иванов', 'делегация']\n",
      "['министр', 'правительство', 'премьер', 'пост', 'отставка', 'премьера', 'который', 'глава', 'кабинет', 'уйти']\n",
      "['турист', 'россиянин', 'поездка', 'отель', 'посетить', 'отдых', 'туристический', 'гостиница', 'это', 'праздник']\n",
      "['газета', 'директор', 'писать', 'совет', '2006', 'генеральный', 'коммерсант', 'год', '2008', 'издание']\n",
      "['германия', 'немецкий', 'индия', 'индийский', 'берлин', 'фрг', 'который', 'меркель', 'канцлер', 'зелёный']\n"
     ]
    }
   ],
   "source": [
    "top_tokens = model.score_tracker['top-tokens'].last_tokens\n",
    "for topic_name in model.topic_names[:10]:\n",
    "    print(top_tokens[topic_name])"
   ]
  },
  {
   "cell_type": "code",
   "execution_count": 42,
   "id": "8c4400e2-4440-48b6-97d2-4457c755df61",
   "metadata": {},
   "outputs": [
    {
     "data": {
      "application/vnd.jupyter.widget-view+json": {
       "model_id": "940b87198435402c9e5ad81bf34243ee",
       "version_major": 2,
       "version_minor": 0
      },
      "text/plain": [
       "  0%|          | 0/653795 [00:00<?, ?it/s]"
      ]
     },
     "metadata": {},
     "output_type": "display_data"
    },
    {
     "data": {
      "application/vnd.jupyter.widget-view+json": {
       "model_id": "af3cf3bfe97b4f6fbd101bd2900b716c",
       "version_major": 2,
       "version_minor": 0
      },
      "text/plain": [
       "  0%|          | 0/6604 [00:00<?, ?it/s]"
      ]
     },
     "metadata": {},
     "output_type": "display_data"
    }
   ],
   "source": [
    "X_train_pd = model.transform(batch_vectorizer_train)\n",
    "X_train = []\n",
    "for i in tqdm(range(len(train_labels))):\n",
    "    X_train.append(X_train_pd[i].values)\n",
    "X_train_np = np.array(X_train)\n",
    "y_train_np = np.array(train_labels)\n",
    "X_train_np, y_train_np = shuffle(X_train_np, y_train_np,random_state=42)\n",
    "X_valid_pd = model.transform(batch_vectorizer_validation)\n",
    "X_valid = []\n",
    "for i in tqdm(range(len(valid_labels))):\n",
    "    X_valid.append(X_valid_pd[i].values)"
   ]
  },
  {
   "cell_type": "code",
   "execution_count": 43,
   "id": "66495c13-74e4-4576-ad53-5b9b06efcf20",
   "metadata": {},
   "outputs": [
    {
     "name": "stdout",
     "output_type": "stream",
     "text": [
      "              precision    recall  f1-score   support\n",
      "\n",
      "        1999       0.00      0.00      0.00        19\n",
      "        2000       0.16      0.13      0.15        69\n",
      "        2001       0.09      0.07      0.08        96\n",
      "        2002       0.14      0.10      0.12       143\n",
      "        2003       0.16      0.13      0.14       134\n",
      "        2004       0.12      0.12      0.12       183\n",
      "        2005       0.14      0.18      0.16       240\n",
      "        2006       0.17      0.21      0.19       256\n",
      "        2007       0.14      0.13      0.13       236\n",
      "        2008       0.19      0.24      0.21       332\n",
      "        2009       0.19      0.23      0.21       423\n",
      "        2010       0.18      0.19      0.19       375\n",
      "        2011       0.18      0.20      0.19       384\n",
      "        2012       0.22      0.22      0.22       427\n",
      "        2013       0.20      0.16      0.18       387\n",
      "        2014       0.23      0.16      0.19       309\n",
      "        2015       0.26      0.24      0.25       387\n",
      "        2016       0.27      0.33      0.30       504\n",
      "        2017       0.26      0.27      0.26       414\n",
      "        2018       0.24      0.17      0.20       340\n",
      "        2019       0.31      0.33      0.32       495\n",
      "        2020       0.57      0.47      0.51       451\n",
      "\n",
      "    accuracy                           0.23      6604\n",
      "   macro avg       0.20      0.19      0.20      6604\n",
      "weighted avg       0.24      0.23      0.23      6604\n",
      "\n"
     ]
    }
   ],
   "source": [
    "clf = RandomForestClassifier(n_estimators=20)\n",
    "clf.fit(X_train_np, y_train_np)\n",
    "pred = clf.predict(X_valid)\n",
    "print(classification_report(valid_labels, pred, zero_division=1))"
   ]
  },
  {
   "cell_type": "markdown",
   "id": "9d43c827-035b-427a-81ad-df6b8559bc07",
   "metadata": {},
   "source": [
    "Как будто бы результат даже стал капельку хуже, но всё равно добавим этот регуляризатор в финальную модель ради эксперимента."
   ]
  },
  {
   "cell_type": "markdown",
   "id": "ac85a189-d6cb-435a-8ab1-6d96769cd237",
   "metadata": {},
   "source": [
    "### Финальная модель с нуля по лучшим результатам, добавляем также год как модальность"
   ]
  },
  {
   "cell_type": "code",
   "execution_count": 44,
   "id": "7be0c306-5760-409c-894c-0b16645790c5",
   "metadata": {},
   "outputs": [
    {
     "data": {
      "application/vnd.jupyter.widget-view+json": {
       "model_id": "7c4cca0578b14116b593e0cbb7c1beac",
       "version_major": 2,
       "version_minor": 0
      },
      "text/plain": [
       "  0%|          | 0/10 [00:00<?, ?it/s]"
      ]
     },
     "metadata": {},
     "output_type": "display_data"
    },
    {
     "data": {
      "application/vnd.jupyter.widget-view+json": {
       "model_id": "8afd9939fe9646558438644bae01fbb9",
       "version_major": 2,
       "version_minor": 0
      },
      "text/plain": [
       "  0%|          | 0/5 [00:00<?, ?it/s]"
      ]
     },
     "metadata": {},
     "output_type": "display_data"
    },
    {
     "data": {
      "application/vnd.jupyter.widget-view+json": {
       "model_id": "b5373965a1c042a8a91851366bed4d90",
       "version_major": 2,
       "version_minor": 0
      },
      "text/plain": [
       "  0%|          | 0/5 [00:00<?, ?it/s]"
      ]
     },
     "metadata": {},
     "output_type": "display_data"
    }
   ],
   "source": [
    "if True:\n",
    "    model = artm.ARTM(num_topics=200,\n",
    "                  dictionary=vocab, \n",
    "                  class_ids={'@default_class': 1.0,\n",
    "                             '@month': 0.5,\n",
    "                             '@tag': 5.0,\n",
    "                             '@year': 10.0})\n",
    "    model.scores.add(artm.PerplexityScore(name='perplexity', dictionary=vocab))\n",
    "    model.scores.add(artm.TopTokensScore(name='top-tokens', num_tokens=10))\n",
    "    model.scores.add(artm.SparsityPhiScore(name='sparsity_month', class_id='@month'))\n",
    "    model.scores.add(artm.SparsityPhiScore(name='sparsity_tag', class_id='@tag'))\n",
    "    model.scores.add(artm.SparsityPhiScore(name='sparsity_year', class_id='@year'))\n",
    "    # 10 эпох без регуляризаторов\n",
    "    iterator = tqdm(range(10))\n",
    "    for i in iterator:\n",
    "        model.fit_offline(batch_vectorizer_train, num_collection_passes=1)\n",
    "        iterator.set_postfix({'perplexity': model.score_tracker['perplexity'].value[-1],\n",
    "                              'sparsity_month': model.score_tracker['sparsity_month'].value[-1],\n",
    "                              'sparsity_tag': model.score_tracker['sparsity_tag'].value[-1],\n",
    "                              'sparsity_year': model.score_tracker['sparsity_year'].value[-1]})\n",
    "    # на 5 эпох добавляем smooth\n",
    "    model.regularizers.add(artm.SmoothSparsePhiRegularizer(name='smooth',\n",
    "                                                           tau=10,\n",
    "                                                           class_ids=['@default_class', '@year']))\n",
    "    iterator = tqdm(range(5))\n",
    "    for i in iterator:\n",
    "        model.fit_offline(batch_vectorizer_train, num_collection_passes=1)\n",
    "        iterator.set_postfix({'perplexity': model.score_tracker['perplexity'].value[-1],\n",
    "                              'sparsity_month': model.score_tracker['sparsity_month'].value[-1],\n",
    "                              'sparsity_tag': model.score_tracker['sparsity_tag'].value[-1],\n",
    "                              'sparsity_year': model.score_tracker['sparsity_year'].value[-1]})\n",
    "    # на 5 эпох ещё добавляем decorr\n",
    "    model.regularizers.add(artm.DecorrelatorPhiRegularizer(name='decorr',\n",
    "                                                           tau=10000,\n",
    "                                                           class_ids=['@tag', '@year']))\n",
    "    iterator = tqdm(range(5))\n",
    "    for i in iterator:\n",
    "        model.fit_offline(batch_vectorizer_train, num_collection_passes=1)\n",
    "        iterator.set_postfix({'perplexity': model.score_tracker['perplexity'].value[-1],\n",
    "                              'sparsity_month': model.score_tracker['sparsity_month'].value[-1],\n",
    "                              'sparsity_tag': model.score_tracker['sparsity_tag'].value[-1],\n",
    "                              'sparsity_year': model.score_tracker['sparsity_year'].value[-1]})\n",
    "    model.dump_artm_model('model_final')\n",
    "else:\n",
    "    model = artm.load_artm_model('model_final')\n",
    "    model.scores.add(artm.PerplexityScore(name='perplexity', dictionary=vocab), overwrite=True)\n",
    "    model.scores.add(artm.TopTokensScore(name='top-tokens', num_tokens=10), overwrite=True)\n",
    "    model.scores.add(artm.SparsityPhiScore(name='sparsity_month', class_id='@month'), overwrite=True)\n",
    "    model.scores.add(artm.SparsityPhiScore(name='sparsity_tag', class_id='@tag'), overwrite=True)\n",
    "    model.scores.add(artm.SparsityPhiScore(name='sparsity_year', class_id='@year'), overwrite=True)"
   ]
  },
  {
   "cell_type": "code",
   "execution_count": 45,
   "id": "4d7bffb4-27fc-4880-89b3-81ca8a0df77d",
   "metadata": {},
   "outputs": [
    {
     "data": {
      "image/png": "[encoded data removed]",
      "text/plain": [
       "<Figure size 640x480 with 1 Axes>"
      ]
     },
     "metadata": {},
     "output_type": "display_data"
    }
   ],
   "source": [
    "plt.plot(model.score_tracker['perplexity'].value, label = 'perplexity')\n",
    "plt.legend(loc = 'best')\n",
    "plt.xlabel('iteration')\n",
    "plt.ylabel('score')\n",
    "plt.yscale('log')\n",
    "plt.show()"
   ]
  },
  {
   "cell_type": "code",
   "execution_count": 46,
   "id": "382d0986-3bb2-4070-b015-9cb5a56642b2",
   "metadata": {},
   "outputs": [
    {
     "data": {
      "image/png": "[encoded data removed]",
      "text/plain": [
       "<Figure size 640x480 with 1 Axes>"
      ]
     },
     "metadata": {},
     "output_type": "display_data"
    }
   ],
   "source": [
    "plt.plot(model.score_tracker['sparsity_month'].value, label = 'sparsity_month')\n",
    "plt.plot(model.score_tracker['sparsity_tag'].value, label = 'sparsity_tag')\n",
    "plt.plot(model.score_tracker['sparsity_year'].value, label = 'sparsity_year')\n",
    "plt.legend(loc = 'best')\n",
    "plt.xlabel('iteration')\n",
    "plt.ylabel('score')\n",
    "plt.show()"
   ]
  },
  {
   "cell_type": "code",
   "execution_count": 47,
   "id": "ed5173db-bcb0-4e65-b087-5ad40575799a",
   "metadata": {},
   "outputs": [
    {
     "name": "stdout",
     "output_type": "stream",
     "text": [
      "['тоббин', 'тетовый', 'скляров', 'ленск', 'кондит', 'глак', 'штыров', 'гончарик', 'биггз', 'радуев']\n",
      "['шоумар', 'парпий', 'halfhalftravel', 'цлоо', 'косиков', 'комё', 'тодать', 'дзи', 'азимджон', 'гайрат']\n",
      "['блюдо', 'плов', 'брюква', 'noma', 'соус', 'диетолог', 'болтунья', 'яичница', 'десерт', 'окрошка']\n",
      "['церковь', 'православный', 'патриархат', 'патриарх', 'рпц', 'митрополит', 'упц', 'епархия', 'церковный', 'синод']\n",
      "['байра', 'руаялить', 'бердымухаммед', 'поносов', 'аймас', 'сеголен', 'рудда', 'мастроджакомый', 'telegraf', 'южкузбассуголь']\n",
      "['фортауна', 'andersen', 'славнефть', 'голдовский', 'биаджи', 'фортаун', 'турмонд', 'enron', 'ntvru', 'пим']\n",
      "['тоббин', 'тетовый', 'скляров', 'ленск', 'гончарик', 'кондит', 'глак', 'штыров', 'биггз', 'радуев']\n",
      "['туроператор', 'атор', 'турист', 'ломидзе', 'ростуризм', 'путешественник', 'курорт', 'туриндустрия', 'волченко', 'рст']\n",
      "['гидроагрегат', 'саять', 'шушенский', 'гэс', 'водосброс', 'гидроэнергоремонт', 'кутьин', 'байра', 'руаялить', 'кярь']\n",
      "['воллебек', 'кириличев', 'якушкин', 'ндр', 'чабанмах', 'mabetex', 'newsbytes', 'овр', 'elf', 'тетовый']\n"
     ]
    }
   ],
   "source": [
    "top_tokens = model.score_tracker['top-tokens'].last_tokens\n",
    "for topic_name in model.topic_names[:10]:\n",
    "    print(top_tokens[topic_name])"
   ]
  },
  {
   "cell_type": "code",
   "execution_count": 48,
   "id": "89750407-fe11-4213-8326-6ba1441ae868",
   "metadata": {},
   "outputs": [
    {
     "data": {
      "application/vnd.jupyter.widget-view+json": {
       "model_id": "47af08a8eb694262bb02408fbe2dbd7b",
       "version_major": 2,
       "version_minor": 0
      },
      "text/plain": [
       "  0%|          | 0/653795 [00:00<?, ?it/s]"
      ]
     },
     "metadata": {},
     "output_type": "display_data"
    },
    {
     "data": {
      "application/vnd.jupyter.widget-view+json": {
       "model_id": "26b185eabb694d26b5003cf0ec405293",
       "version_major": 2,
       "version_minor": 0
      },
      "text/plain": [
       "  0%|          | 0/6604 [00:00<?, ?it/s]"
      ]
     },
     "metadata": {},
     "output_type": "display_data"
    }
   ],
   "source": [
    "X_train_pd = model.transform(batch_vectorizer_train)\n",
    "X_train = []\n",
    "for i in tqdm(range(len(train_labels))):\n",
    "    X_train.append(X_train_pd[i].values)\n",
    "X_train_np = np.array(X_train)\n",
    "y_train_np = np.array(train_labels)\n",
    "X_train_np, y_train_np = shuffle(X_train_np, y_train_np,random_state=42)\n",
    "X_valid_pd = model.transform(batch_vectorizer_validation)\n",
    "X_valid = []\n",
    "for i in tqdm(range(len(valid_labels))):\n",
    "    X_valid.append(X_valid_pd[i].values)"
   ]
  },
  {
   "cell_type": "code",
   "execution_count": 49,
   "id": "d74444fc-3d37-4538-94cd-6b54def6388e",
   "metadata": {},
   "outputs": [
    {
     "name": "stdout",
     "output_type": "stream",
     "text": [
      "              precision    recall  f1-score   support\n",
      "\n",
      "        1999       1.00      0.00      0.00        19\n",
      "        2000       0.00      0.00      0.00        69\n",
      "        2001       1.00      0.00      0.00        96\n",
      "        2002       1.00      0.00      0.00       143\n",
      "        2003       0.06      0.01      0.01       134\n",
      "        2004       0.16      0.30      0.21       183\n",
      "        2005       1.00      0.00      0.00       240\n",
      "        2006       1.00      0.00      0.00       256\n",
      "        2007       0.08      0.08      0.08       236\n",
      "        2008       0.09      0.05      0.06       332\n",
      "        2009       0.14      0.29      0.19       423\n",
      "        2010       0.13      0.20      0.15       375\n",
      "        2011       0.17      0.01      0.02       384\n",
      "        2012       0.12      0.23      0.15       427\n",
      "        2013       0.17      0.27      0.21       387\n",
      "        2014       0.02      0.00      0.01       309\n",
      "        2015       0.16      0.22      0.18       387\n",
      "        2016       0.19      0.35      0.24       504\n",
      "        2017       0.36      0.06      0.10       414\n",
      "        2018       0.07      0.05      0.06       340\n",
      "        2019       0.22      0.37      0.27       495\n",
      "        2020       0.70      0.30      0.42       451\n",
      "\n",
      "    accuracy                           0.17      6604\n",
      "   macro avg       0.36      0.13      0.11      6604\n",
      "weighted avg       0.29      0.17      0.15      6604\n",
      "\n"
     ]
    }
   ],
   "source": [
    "clf = RandomForestClassifier(n_estimators=20)\n",
    "clf.fit(X_train_np, y_train_np)\n",
    "pred = clf.predict(X_valid)\n",
    "print(classification_report(valid_labels, pred, zero_division=1))"
   ]
  },
  {
   "cell_type": "markdown",
   "id": "76edca34-4df9-4a53-908b-e2436dc737ea",
   "metadata": {},
   "source": [
    "По результатам можно сказать, что такая комбинация параметров оказалась неудачной.\n",
    "\n",
    "Попробуем оставить один регуляризатор и уравнять вклад года и тега."
   ]
  },
  {
   "cell_type": "code",
   "execution_count": 53,
   "id": "54ce7e75-c1a4-4e02-91f5-7686a89810e6",
   "metadata": {},
   "outputs": [
    {
     "data": {
      "application/vnd.jupyter.widget-view+json": {
       "model_id": "5400139fbfda44ceb013a0ec5793fd55",
       "version_major": 2,
       "version_minor": 0
      },
      "text/plain": [
       "  0%|          | 0/10 [00:00<?, ?it/s]"
      ]
     },
     "metadata": {},
     "output_type": "display_data"
    },
    {
     "data": {
      "application/vnd.jupyter.widget-view+json": {
       "model_id": "d2b2721ae8fd4b5dab3e03e02527f25f",
       "version_major": 2,
       "version_minor": 0
      },
      "text/plain": [
       "  0%|          | 0/5 [00:00<?, ?it/s]"
      ]
     },
     "metadata": {},
     "output_type": "display_data"
    }
   ],
   "source": [
    "if True:\n",
    "    model = artm.ARTM(num_topics=200,\n",
    "                  dictionary=vocab, \n",
    "                  class_ids={'@default_class': 1.0,\n",
    "                             '@tag': 5.0,\n",
    "                             '@year': 5.0})\n",
    "    model.scores.add(artm.PerplexityScore(name='perplexity', dictionary=vocab))\n",
    "    model.scores.add(artm.TopTokensScore(name='top-tokens', num_tokens=10))\n",
    "    model.scores.add(artm.SparsityPhiScore(name='sparsity_tag', class_id='@tag'))\n",
    "    model.scores.add(artm.SparsityPhiScore(name='sparsity_year', class_id='@year'))\n",
    "    # 10 эпох без регуляризаторов\n",
    "    iterator = tqdm(range(10))\n",
    "    for i in iterator:\n",
    "        model.fit_offline(batch_vectorizer_train, num_collection_passes=1)\n",
    "        iterator.set_postfix({'perplexity': model.score_tracker['perplexity'].value[-1],\n",
    "                              'sparsity_tag': model.score_tracker['sparsity_tag'].value[-1],\n",
    "                              'sparsity_year': model.score_tracker['sparsity_year'].value[-1]})\n",
    "    # на 5 эпох добавляем smooth\n",
    "    model.regularizers.add(artm.SmoothSparsePhiRegularizer(name='smooth',\n",
    "                                                           tau=10,\n",
    "                                                           class_ids=['@default_class', '@year']))\n",
    "    iterator = tqdm(range(5))\n",
    "    for i in iterator:\n",
    "        model.fit_offline(batch_vectorizer_train, num_collection_passes=1)\n",
    "        iterator.set_postfix({'perplexity': model.score_tracker['perplexity'].value[-1],\n",
    "                              'sparsity_tag': model.score_tracker['sparsity_tag'].value[-1],\n",
    "                              'sparsity_year': model.score_tracker['sparsity_year'].value[-1]})\n",
    "    model.dump_artm_model('model_final_2')\n",
    "else:\n",
    "    model = artm.load_artm_model('model_final_2')\n",
    "    model.scores.add(artm.PerplexityScore(name='perplexity', dictionary=vocab), overwrite=True)\n",
    "    model.scores.add(artm.TopTokensScore(name='top-tokens', num_tokens=10), overwrite=True)\n",
    "    model.scores.add(artm.SparsityPhiScore(name='sparsity_tag', class_id='@tag'), overwrite=True)\n",
    "    model.scores.add(artm.SparsityPhiScore(name='sparsity_year', class_id='@year'), overwrite=True)"
   ]
  },
  {
   "cell_type": "code",
   "execution_count": 54,
   "id": "a99301e4-3f83-4621-8743-ff1cad9125db",
   "metadata": {},
   "outputs": [
    {
     "data": {
      "image/png": "[encoded data removed]",
      "text/plain": [
       "<Figure size 640x480 with 1 Axes>"
      ]
     },
     "metadata": {},
     "output_type": "display_data"
    }
   ],
   "source": [
    "plt.plot(model.score_tracker['perplexity'].value, label = 'perplexity')\n",
    "plt.legend(loc = 'best')\n",
    "plt.xlabel('iteration')\n",
    "plt.ylabel('score')\n",
    "plt.yscale('log')\n",
    "plt.show()"
   ]
  },
  {
   "cell_type": "code",
   "execution_count": 55,
   "id": "003c574a-0581-46f4-80de-96844e66b029",
   "metadata": {},
   "outputs": [
    {
     "data": {
      "image/png": "[encoded data removed]",
      "text/plain": [
       "<Figure size 640x480 with 1 Axes>"
      ]
     },
     "metadata": {},
     "output_type": "display_data"
    }
   ],
   "source": [
    "plt.plot(model.score_tracker['sparsity_tag'].value, label = 'sparsity_tag')\n",
    "plt.plot(model.score_tracker['sparsity_year'].value, label = 'sparsity_year')\n",
    "plt.legend(loc = 'best')\n",
    "plt.xlabel('iteration')\n",
    "plt.ylabel('score')\n",
    "plt.show()"
   ]
  },
  {
   "cell_type": "code",
   "execution_count": 56,
   "id": "a6056c52-103e-4298-b994-a4eb164e8194",
   "metadata": {},
   "outputs": [
    {
     "name": "stdout",
     "output_type": "stream",
     "text": [
      "['алкоголь', 'пиво', 'напиток', 'водка', 'алкогольный', 'спирт', 'спиртное', 'литр', 'бутылка', 'егаиса']\n",
      "['англия', 'английский', 'манчестер', 'челси', 'лондонский', 'юнайтед', 'бекхэма', 'клуб', 'абрам', 'мю']\n",
      "['ресторан', 'блюдо', 'кот', 'питание', 'макдоналдс', 'заведение', 'кошка', 'повар', 'меню', 'еда']\n",
      "['церковь', 'православный', 'храм', 'собор', 'патриарх', 'священник', 'рпц', 'монастырь', 'религиозный', 'патриархат']\n",
      "['документ', 'ввести', 'запрет', 'ограничение', 'введение', 'запретить', 'принятие', 'паспорт', 'законопроект', 'правительство']\n",
      "['мид', 'посольство', 'договор', 'визит', 'дипломат', 'сотрудничество', 'посол', 'иванов', 'иностранный', 'рф']\n",
      "['реклама', 'рекламный', 'кампания', 'наружный', 'рекламодатель', 'васильев', 'asa', 'outdoor', 'перетяжка', 'рекламировать']\n",
      "['турист', 'отель', 'туристический', 'путешественник', 'курорт', 'отдых', 'туроператор', 'путешествие', 'туризм', 'гостиница']\n",
      "['газета', 'писать', '2009', '2008', 'издание', 'директор', 'коммерсант', 'источник', 'совет', 'ведомость']\n",
      "['германия', 'немецкий', 'индия', 'индийский', 'фрг', 'берлин', 'бундестаг', 'spiegel', 'хдс', 'ямадаев']\n"
     ]
    }
   ],
   "source": [
    "top_tokens = model.score_tracker['top-tokens'].last_tokens\n",
    "for topic_name in model.topic_names[:10]:\n",
    "    print(top_tokens[topic_name])"
   ]
  },
  {
   "cell_type": "code",
   "execution_count": 57,
   "id": "8e48ef4b-4e4c-4442-987f-45234154cb96",
   "metadata": {},
   "outputs": [
    {
     "data": {
      "application/vnd.jupyter.widget-view+json": {
       "model_id": "da781aee6af44cf29b890c525b37a5bb",
       "version_major": 2,
       "version_minor": 0
      },
      "text/plain": [
       "  0%|          | 0/653795 [00:00<?, ?it/s]"
      ]
     },
     "metadata": {},
     "output_type": "display_data"
    },
    {
     "data": {
      "application/vnd.jupyter.widget-view+json": {
       "model_id": "0e3a0ebe503b4e469f872bc48847daf5",
       "version_major": 2,
       "version_minor": 0
      },
      "text/plain": [
       "  0%|          | 0/6604 [00:00<?, ?it/s]"
      ]
     },
     "metadata": {},
     "output_type": "display_data"
    }
   ],
   "source": [
    "X_train_pd = model.transform(batch_vectorizer_train)\n",
    "X_train = []\n",
    "for i in tqdm(range(len(train_labels))):\n",
    "    X_train.append(X_train_pd[i].values)\n",
    "X_train_np = np.array(X_train)\n",
    "y_train_np = np.array(train_labels)\n",
    "X_train_np, y_train_np = shuffle(X_train_np, y_train_np,random_state=42)\n",
    "X_valid_pd = model.transform(batch_vectorizer_validation)\n",
    "X_valid = []\n",
    "for i in tqdm(range(len(valid_labels))):\n",
    "    X_valid.append(X_valid_pd[i].values)"
   ]
  },
  {
   "cell_type": "code",
   "execution_count": 58,
   "id": "194a4448-1233-4468-b53f-ef93e3c084cf",
   "metadata": {},
   "outputs": [
    {
     "name": "stdout",
     "output_type": "stream",
     "text": [
      "              precision    recall  f1-score   support\n",
      "\n",
      "        1999       0.01      0.05      0.02        19\n",
      "        2000       0.00      0.00      0.00        69\n",
      "        2001       0.08      0.04      0.05        96\n",
      "        2002       0.15      0.01      0.03       143\n",
      "        2003       0.00      0.00      0.00       134\n",
      "        2004       0.00      0.00      0.00       183\n",
      "        2005       0.20      0.01      0.02       240\n",
      "        2006       0.44      0.03      0.05       256\n",
      "        2007       0.14      0.00      0.01       236\n",
      "        2008       0.19      0.09      0.12       332\n",
      "        2009       0.32      0.09      0.14       423\n",
      "        2010       0.18      0.03      0.06       375\n",
      "        2011       0.52      0.04      0.07       384\n",
      "        2012       0.15      0.31      0.20       427\n",
      "        2013       0.17      0.22      0.19       387\n",
      "        2014       0.12      0.33      0.17       309\n",
      "        2015       0.25      0.14      0.18       387\n",
      "        2016       0.30      0.19      0.23       504\n",
      "        2017       0.34      0.10      0.16       414\n",
      "        2018       0.29      0.01      0.03       340\n",
      "        2019       0.13      0.75      0.22       495\n",
      "        2020       0.68      0.33      0.45       451\n",
      "\n",
      "    accuracy                           0.17      6604\n",
      "   macro avg       0.21      0.13      0.11      6604\n",
      "weighted avg       0.26      0.17      0.15      6604\n",
      "\n"
     ]
    }
   ],
   "source": [
    "clf = RandomForestClassifier(n_estimators=20)\n",
    "clf.fit(X_train_np, y_train_np)\n",
    "pred = clf.predict(X_valid)\n",
    "print(classification_report(valid_labels, pred, zero_division=1))"
   ]
  },
  {
   "cell_type": "markdown",
   "id": "7abf6eb2-04ac-48af-a499-ad3183f88fc7",
   "metadata": {},
   "source": [
    "Такое изменение ни к чему не привело.\n",
    "\n",
    "Попробуем убрать регуляризацию года и увеличить число эпох без регуляризаторов до 15"
   ]
  },
  {
   "cell_type": "code",
   "execution_count": 75,
   "id": "abb430a8-bdb7-4cd9-b47c-6efbc2a0c56f",
   "metadata": {},
   "outputs": [
    {
     "data": {
      "application/vnd.jupyter.widget-view+json": {
       "model_id": "115a62c48cf044b28d99757031f064db",
       "version_major": 2,
       "version_minor": 0
      },
      "text/plain": [
       "  0%|          | 0/15 [00:00<?, ?it/s]"
      ]
     },
     "metadata": {},
     "output_type": "display_data"
    },
    {
     "data": {
      "application/vnd.jupyter.widget-view+json": {
       "model_id": "e604a5ad0345445db3e2b359a8f342f7",
       "version_major": 2,
       "version_minor": 0
      },
      "text/plain": [
       "  0%|          | 0/5 [00:00<?, ?it/s]"
      ]
     },
     "metadata": {},
     "output_type": "display_data"
    }
   ],
   "source": [
    "if True:\n",
    "    model = artm.ARTM(num_topics=200,\n",
    "                  dictionary=vocab, \n",
    "                  class_ids={'@default_class': 1.0,\n",
    "                             '@tag': 5.0,\n",
    "                             '@year': 5.0})\n",
    "    model.scores.add(artm.PerplexityScore(name='perplexity', dictionary=vocab))\n",
    "    model.scores.add(artm.TopTokensScore(name='top-tokens', num_tokens=10))\n",
    "    model.scores.add(artm.SparsityPhiScore(name='sparsity_tag', class_id='@tag'))\n",
    "    model.scores.add(artm.SparsityPhiScore(name='sparsity_year', class_id='@year'))\n",
    "    # 15 эпох без регуляризаторов\n",
    "    iterator = tqdm(range(15))\n",
    "    for i in iterator:\n",
    "        model.fit_offline(batch_vectorizer_train, num_collection_passes=1)\n",
    "        iterator.set_postfix({'perplexity': model.score_tracker['perplexity'].value[-1],\n",
    "                              'sparsity_tag': model.score_tracker['sparsity_tag'].value[-1],\n",
    "                              'sparsity_year': model.score_tracker['sparsity_year'].value[-1]})\n",
    "    # на 5 эпох добавляем smooth\n",
    "    model.regularizers.add(artm.SmoothSparsePhiRegularizer(name='smooth',\n",
    "                                                           tau=10,\n",
    "                                                           class_ids=['@default_class']))\n",
    "    iterator = tqdm(range(5))\n",
    "    for i in iterator:\n",
    "        model.fit_offline(batch_vectorizer_train, num_collection_passes=1)\n",
    "        iterator.set_postfix({'perplexity': model.score_tracker['perplexity'].value[-1],\n",
    "                              'sparsity_tag': model.score_tracker['sparsity_tag'].value[-1],\n",
    "                              'sparsity_year': model.score_tracker['sparsity_year'].value[-1]})\n",
    "    model.dump_artm_model('model_final_3')\n",
    "else:\n",
    "    model = artm.load_artm_model('model_final_3')\n",
    "    model.scores.add(artm.PerplexityScore(name='perplexity', dictionary=vocab), overwrite=True)\n",
    "    model.scores.add(artm.TopTokensScore(name='top-tokens', num_tokens=10), overwrite=True)\n",
    "    model.scores.add(artm.SparsityPhiScore(name='sparsity_tag', class_id='@tag'), overwrite=True)\n",
    "    model.scores.add(artm.SparsityPhiScore(name='sparsity_year', class_id='@year'), overwrite=True)"
   ]
  },
  {
   "cell_type": "code",
   "execution_count": 76,
   "id": "cb7e3d4d-525b-418d-917e-108dc56b2316",
   "metadata": {},
   "outputs": [
    {
     "data": {
      "image/png": "[encoded data removed]",
      "text/plain": [
       "<Figure size 640x480 with 1 Axes>"
      ]
     },
     "metadata": {},
     "output_type": "display_data"
    }
   ],
   "source": [
    "plt.plot(model.score_tracker['perplexity'].value, label = 'perplexity')\n",
    "plt.legend(loc = 'best')\n",
    "plt.xlabel('iteration')\n",
    "plt.ylabel('score')\n",
    "plt.yscale('log')\n",
    "plt.show()"
   ]
  },
  {
   "cell_type": "code",
   "execution_count": 77,
   "id": "38115acf-f464-45d9-9726-945a81e33818",
   "metadata": {},
   "outputs": [
    {
     "data": {
      "image/png": "[encoded data removed]",
      "text/plain": [
       "<Figure size 640x480 with 1 Axes>"
      ]
     },
     "metadata": {},
     "output_type": "display_data"
    }
   ],
   "source": [
    "plt.plot(model.score_tracker['sparsity_tag'].value, label = 'sparsity_tag')\n",
    "plt.plot(model.score_tracker['sparsity_year'].value, label = 'sparsity_year')\n",
    "plt.legend(loc = 'best')\n",
    "plt.xlabel('iteration')\n",
    "plt.ylabel('score')\n",
    "plt.show()"
   ]
  },
  {
   "cell_type": "code",
   "execution_count": 78,
   "id": "f720f2f6-2f97-4f0d-85ac-ff00363840ee",
   "metadata": {},
   "outputs": [
    {
     "name": "stdout",
     "output_type": "stream",
     "text": [
      "['алкоголь', 'напиток', 'пиво', 'алкогольный', 'водка', 'спиртное', 'спирт', 'бутылка', 'литр', 'акциз']\n",
      "['английский', 'англия', 'манчестер', 'челси', 'лондонский', 'юнайтед', 'клуб', 'арсенал', 'бекхэма', 'ливерпуль']\n",
      "['собака', 'ресторан', 'кошка', 'кот', 'блюдо', 'питание', 'питомец', 'пёс', 'еда', 'килограмм']\n",
      "['церковь', 'православный', 'храм', 'религиозный', 'собор', 'священник', 'патриарх', 'рпц', 'монастырь', 'патриархат']\n",
      "['документ', 'ввести', 'запрет', 'запретить', 'ограничение', 'введение', 'разрешить', 'паспорт', 'гражданин', 'разрешение']\n",
      "['мид', 'сотрудничество', 'визит', 'рф', 'договор', 'российский', 'иванов', 'иностранный', 'совместный', 'лавров']\n",
      "['реклама', 'рекламный', 'кампания', 'васильев', 'рекламодатель', 'министерство', 'наружный', 'оборонсервис', 'размещение', 'outdoor']\n",
      "['турист', 'отель', 'туристический', 'курорт', 'путешественник', 'отдых', 'гостиница', 'туроператор', 'туризм', 'путешествие']\n",
      "['газета', 'писать', 'издание', '2008', '2009', 'директор', 'коммерсант', 'ведомость', 'источник', 'известие']\n",
      "['германия', 'немецкий', 'индия', 'индийский', 'фрг', 'берлин', 'канцлер', 'меркель', 'бундестаг', 'spiegel']\n"
     ]
    }
   ],
   "source": [
    "top_tokens = model.score_tracker['top-tokens'].last_tokens\n",
    "for topic_name in model.topic_names[:10]:\n",
    "    print(top_tokens[topic_name])"
   ]
  },
  {
   "cell_type": "code",
   "execution_count": 79,
   "id": "ad1a9964-0741-48da-92ef-b6817661dfe0",
   "metadata": {},
   "outputs": [
    {
     "data": {
      "application/vnd.jupyter.widget-view+json": {
       "model_id": "6cdcfee0d6ba4d1582344829668478f2",
       "version_major": 2,
       "version_minor": 0
      },
      "text/plain": [
       "  0%|          | 0/653795 [00:00<?, ?it/s]"
      ]
     },
     "metadata": {},
     "output_type": "display_data"
    },
    {
     "data": {
      "application/vnd.jupyter.widget-view+json": {
       "model_id": "7fcd0d80d34c404ebbdcbd2efdb98377",
       "version_major": 2,
       "version_minor": 0
      },
      "text/plain": [
       "  0%|          | 0/6604 [00:00<?, ?it/s]"
      ]
     },
     "metadata": {},
     "output_type": "display_data"
    }
   ],
   "source": [
    "X_train_pd = model.transform(batch_vectorizer_train)\n",
    "X_train = []\n",
    "for i in tqdm(range(len(train_labels))):\n",
    "    X_train.append(X_train_pd[i].values)\n",
    "X_train_np = np.array(X_train)\n",
    "y_train_np = np.array(train_labels)\n",
    "X_train_np, y_train_np = shuffle(X_train_np, y_train_np,random_state=42)\n",
    "X_valid_pd = model.transform(batch_vectorizer_validation)\n",
    "X_valid = []\n",
    "for i in tqdm(range(len(valid_labels))):\n",
    "    X_valid.append(X_valid_pd[i].values)"
   ]
  },
  {
   "cell_type": "code",
   "execution_count": 80,
   "id": "1a7f6242-23a4-41b8-8a66-5269f40547af",
   "metadata": {},
   "outputs": [
    {
     "name": "stdout",
     "output_type": "stream",
     "text": [
      "              precision    recall  f1-score   support\n",
      "\n",
      "        1999       0.02      0.05      0.03        19\n",
      "        2000       0.00      0.00      0.00        69\n",
      "        2001       0.14      0.03      0.05        96\n",
      "        2002       0.17      0.08      0.11       143\n",
      "        2003       0.05      0.02      0.03       134\n",
      "        2004       0.10      0.01      0.02       183\n",
      "        2005       0.33      0.02      0.03       240\n",
      "        2006       0.33      0.00      0.01       256\n",
      "        2007       0.14      0.02      0.04       236\n",
      "        2008       0.19      0.05      0.08       332\n",
      "        2009       0.33      0.07      0.12       423\n",
      "        2010       0.27      0.01      0.02       375\n",
      "        2011       0.13      0.63      0.21       384\n",
      "        2012       0.13      0.12      0.12       427\n",
      "        2013       0.34      0.19      0.25       387\n",
      "        2014       0.12      0.23      0.15       309\n",
      "        2015       0.33      0.09      0.14       387\n",
      "        2016       0.37      0.21      0.27       504\n",
      "        2017       0.38      0.08      0.13       414\n",
      "        2018       0.50      0.01      0.03       340\n",
      "        2019       0.16      0.75      0.26       495\n",
      "        2020       0.78      0.29      0.42       451\n",
      "\n",
      "    accuracy                           0.18      6604\n",
      "   macro avg       0.24      0.14      0.11      6604\n",
      "weighted avg       0.29      0.18      0.15      6604\n",
      "\n"
     ]
    }
   ],
   "source": [
    "clf = RandomForestClassifier(n_estimators=20)\n",
    "clf.fit(X_train_np, y_train_np)\n",
    "pred = clf.predict(X_valid)\n",
    "print(classification_report(valid_labels, pred, zero_division=1))"
   ]
  },
  {
   "cell_type": "markdown",
   "id": "8a5c1b3c-707b-484b-a294-37cbbb22b3ee",
   "metadata": {},
   "source": [
    "## Классификация с помощью bigartm"
   ]
  },
  {
   "cell_type": "code",
   "execution_count": 99,
   "id": "46907afb-f9e6-4344-a096-20eebe3a89f5",
   "metadata": {},
   "outputs": [],
   "source": [
    "model = artm.load_artm_model('model_final')\n",
    "model.scores.add(artm.PerplexityScore(name='perplexity', dictionary=vocab), overwrite=True)\n",
    "model.scores.add(artm.TopTokensScore(name='top-tokens', num_tokens=10), overwrite=True)\n",
    "model.scores.add(artm.SparsityPhiScore(name='sparsity_month', class_id='@month'), overwrite=True)\n",
    "model.scores.add(artm.SparsityPhiScore(name='sparsity_tag', class_id='@tag'), overwrite=True)\n",
    "model.scores.add(artm.SparsityPhiScore(name='sparsity_year', class_id='@year'), overwrite=True)"
   ]
  },
  {
   "cell_type": "code",
   "execution_count": 100,
   "id": "894e2a72-19e3-4399-badd-d5a52568dc50",
   "metadata": {},
   "outputs": [
    {
     "name": "stdout",
     "output_type": "stream",
     "text": [
      "              precision    recall  f1-score   support\n",
      "\n",
      "        1914       0.00      1.00      0.00         0\n",
      "        1999       0.00      0.00      0.00        19\n",
      "        2000       1.00      0.00      0.00        69\n",
      "        2001       0.00      0.00      0.00        96\n",
      "        2002       1.00      0.00      0.00       143\n",
      "        2003       0.00      0.00      0.00       134\n",
      "        2004       1.00      0.00      0.00       183\n",
      "        2005       1.00      0.00      0.00       240\n",
      "        2006       1.00      0.00      0.00       256\n",
      "        2007       1.00      0.00      0.00       236\n",
      "        2008       0.02      0.00      0.01       332\n",
      "        2009       1.00      0.00      0.00       423\n",
      "        2010       1.00      0.00      0.00       375\n",
      "        2011       0.09      0.07      0.08       384\n",
      "        2012       0.07      0.22      0.11       427\n",
      "        2013       1.00      0.00      0.00       387\n",
      "        2014       0.00      0.00      0.00       309\n",
      "        2015       0.06      0.02      0.02       387\n",
      "        2016       0.07      0.25      0.11       504\n",
      "        2017       1.00      0.00      0.00       414\n",
      "        2018       0.05      0.06      0.06       340\n",
      "        2019       0.09      0.41      0.15       495\n",
      "        2020       0.84      0.21      0.33       451\n",
      "\n",
      "    accuracy                           0.09      6604\n",
      "   macro avg       0.49      0.10      0.04      6604\n",
      "weighted avg       0.50      0.09      0.06      6604\n",
      "\n"
     ]
    }
   ],
   "source": [
    "test_probs = model.transform(batch_vectorizer=batch_vectorizer_validation, predict_class_id='@year')\n",
    "preds = np.argmax(test_probs.to_numpy(), axis=0)\n",
    "years = test_probs.index.values\n",
    "y_pred = [years[idx][6:] for idx in preds] # убираем class_ (6 символов)\n",
    "print(classification_report(valid_labels, y_pred, zero_division=1))"
   ]
  },
  {
   "cell_type": "code",
   "execution_count": 101,
   "id": "f02ab196-13d8-4843-b7fd-d1a21cd38335",
   "metadata": {},
   "outputs": [],
   "source": [
    "model = artm.load_artm_model('model_final_2')\n",
    "model.scores.add(artm.PerplexityScore(name='perplexity', dictionary=vocab), overwrite=True)\n",
    "model.scores.add(artm.TopTokensScore(name='top-tokens', num_tokens=10), overwrite=True)\n",
    "model.scores.add(artm.SparsityPhiScore(name='sparsity_month', class_id='@month'), overwrite=True)\n",
    "model.scores.add(artm.SparsityPhiScore(name='sparsity_tag', class_id='@tag'), overwrite=True)\n",
    "model.scores.add(artm.SparsityPhiScore(name='sparsity_year', class_id='@year'), overwrite=True)"
   ]
  },
  {
   "cell_type": "code",
   "execution_count": 102,
   "id": "2841d723-0591-4cd9-86b1-464f42560c23",
   "metadata": {},
   "outputs": [
    {
     "name": "stdout",
     "output_type": "stream",
     "text": [
      "              precision    recall  f1-score   support\n",
      "\n",
      "        1999       1.00      0.00      0.00        19\n",
      "        2000       1.00      0.00      0.00        69\n",
      "        2001       0.00      0.00      0.00        96\n",
      "        2002       1.00      0.00      0.00       143\n",
      "        2003       1.00      0.00      0.00       134\n",
      "        2004       1.00      0.00      0.00       183\n",
      "        2005       0.00      0.00      0.00       240\n",
      "        2006       1.00      0.00      0.00       256\n",
      "        2007       1.00      0.00      0.00       236\n",
      "        2008       0.10      0.01      0.01       332\n",
      "        2009       0.18      0.01      0.02       423\n",
      "        2010       0.08      0.01      0.02       375\n",
      "        2011       1.00      0.00      0.00       384\n",
      "        2012       0.09      0.14      0.11       427\n",
      "        2013       0.04      0.01      0.01       387\n",
      "        2014       0.06      0.14      0.08       309\n",
      "        2015       0.09      0.02      0.03       387\n",
      "        2016       0.14      0.02      0.03       504\n",
      "        2017       0.28      0.02      0.04       414\n",
      "        2018       0.00      0.00      0.00       340\n",
      "        2019       0.08      0.77      0.14       495\n",
      "        2020       0.75      0.12      0.21       451\n",
      "\n",
      "    accuracy                           0.09      6604\n",
      "   macro avg       0.45      0.06      0.03      6604\n",
      "weighted avg       0.34      0.09      0.05      6604\n",
      "\n"
     ]
    }
   ],
   "source": [
    "test_probs = model.transform(batch_vectorizer=batch_vectorizer_validation, predict_class_id='@year')\n",
    "preds = np.argmax(test_probs.to_numpy(), axis=0)\n",
    "years = test_probs.index.values\n",
    "y_pred = [years[idx][6:] for idx in preds] # убираем class_ (6 символов)\n",
    "print(classification_report(valid_labels, y_pred, zero_division=1))"
   ]
  },
  {
   "cell_type": "code",
   "execution_count": 103,
   "id": "4bd45faf-47ba-4ed4-8548-6a90a73ad675",
   "metadata": {},
   "outputs": [],
   "source": [
    "model = artm.load_artm_model('model_final_3')\n",
    "model.scores.add(artm.PerplexityScore(name='perplexity', dictionary=vocab), overwrite=True)\n",
    "model.scores.add(artm.TopTokensScore(name='top-tokens', num_tokens=10), overwrite=True)\n",
    "model.scores.add(artm.SparsityPhiScore(name='sparsity_month', class_id='@month'), overwrite=True)\n",
    "model.scores.add(artm.SparsityPhiScore(name='sparsity_tag', class_id='@tag'), overwrite=True)\n",
    "model.scores.add(artm.SparsityPhiScore(name='sparsity_year', class_id='@year'), overwrite=True)"
   ]
  },
  {
   "cell_type": "code",
   "execution_count": 104,
   "id": "8212612c-a860-4366-95a1-020305e3f486",
   "metadata": {},
   "outputs": [
    {
     "name": "stdout",
     "output_type": "stream",
     "text": [
      "              precision    recall  f1-score   support\n",
      "\n",
      "        1999       1.00      0.00      0.00        19\n",
      "        2000       1.00      0.00      0.00        69\n",
      "        2001       0.00      0.00      0.00        96\n",
      "        2002       1.00      0.00      0.00       143\n",
      "        2003       1.00      0.00      0.00       134\n",
      "        2004       1.00      0.00      0.00       183\n",
      "        2005       0.00      0.00      0.00       240\n",
      "        2006       1.00      0.00      0.00       256\n",
      "        2007       0.00      0.00      0.00       236\n",
      "        2008       0.13      0.02      0.04       332\n",
      "        2009       0.33      0.01      0.01       423\n",
      "        2010       0.00      0.00      0.00       375\n",
      "        2011       0.11      0.37      0.17       384\n",
      "        2012       0.07      0.06      0.06       427\n",
      "        2013       0.03      0.00      0.00       387\n",
      "        2014       0.07      0.11      0.08       309\n",
      "        2015       0.22      0.01      0.02       387\n",
      "        2016       0.09      0.01      0.01       504\n",
      "        2017       0.30      0.02      0.04       414\n",
      "        2018       0.50      0.00      0.01       340\n",
      "        2019       0.09      0.77      0.16       495\n",
      "        2020       0.93      0.12      0.21       451\n",
      "\n",
      "    accuracy                           0.10      6604\n",
      "   macro avg       0.40      0.07      0.04      6604\n",
      "weighted avg       0.30      0.10      0.05      6604\n",
      "\n"
     ]
    }
   ],
   "source": [
    "test_probs = model.transform(batch_vectorizer=batch_vectorizer_validation, predict_class_id='@year')\n",
    "preds = np.argmax(test_probs.to_numpy(), axis=0)\n",
    "years = test_probs.index.values\n",
    "y_pred = [years[idx][6:] for idx in preds] # убираем class_ (6 символов)\n",
    "print(classification_report(valid_labels, y_pred, zero_division=1))"
   ]
  },
  {
   "cell_type": "markdown",
   "id": "fc176b2b-94a2-4f84-ad37-898a79a0056f",
   "metadata": {},
   "source": [
    "# Выводы"
   ]
  },
  {
   "cell_type": "markdown",
   "id": "60cb37b4-7ada-42f5-8c1d-7bd000dfc04d",
   "metadata": {},
   "source": [
    "Классификация с помощью bigartm дала accuracy в 2 раза меньше. Но всё равно это лучше случайного выбора в 2 раза (1/22 = 0.05). Если же использовать внешний классификатор, то наилучший результат дала модель с сильным влиянием модальности темы (тега) без добавления модальности года (а небольшой учёт модальности месяца наверное лучше было бы вообще убрать) и включенным на последние 5 эпох SmoothSparsePhiRegularizer для текстов."
   ]
  },
  {
   "cell_type": "code",
   "execution_count": null,
   "id": "529143e2-981c-44ae-9a04-13b8765dbed7",
   "metadata": {},
   "outputs": [],
   "source": []
  }
 ],
 "metadata": {
  "kernelspec": {
   "display_name": "Python 3 (ipykernel)",
   "language": "python",
   "name": "python3"
  },
  "language_info": {
   "codemirror_mode": {
    "name": "ipython",
    "version": 3
   },
   "file_extension": ".py",
   "mimetype": "text/x-python",
   "name": "python",
   "nbconvert_exporter": "python",
   "pygments_lexer": "ipython3",
   "version": "3.12.6"
  }
 },
 "nbformat": 4,
 "nbformat_minor": 5
}
